{
 "cells": [
  {
   "cell_type": "markdown",
   "id": "a8606b10",
   "metadata": {},
   "source": [
    "# Homework 05 | WEEK 05 (04.10-10.10.2022) | Machine Learning Zoomcamp"
   ]
  },
  {
   "cell_type": "code",
   "execution_count": null,
   "id": "6b249548",
   "metadata": {},
   "outputs": [],
   "source": []
  },
  {
   "cell_type": "markdown",
   "id": "0e8e747a",
   "metadata": {},
   "source": [
    "Link to the homework [here](https://github.com/alexeygrigorev/mlbookcamp-code/blob/master/course-zoomcamp/cohorts/2022/05-deployment/homework.md)"
   ]
  },
  {
   "cell_type": "markdown",
   "id": "c41a5b09",
   "metadata": {},
   "source": [
    "In this homework, we'll use credit card data from the [previous homework](https://github.com/alexeygrigorev/mlbookcamp-code/blob/master/course-zoomcamp/cohorts/2022/04-evaluation/homework.md)"
   ]
  },
  {
   "cell_type": "markdown",
   "id": "1db17f5b",
   "metadata": {},
   "source": [
    "## Question 1\n",
    "* Install Pipeenv\n",
    "* What's the version of pipenv you installed?\n",
    "* Use --version to find out"
   ]
  },
  {
   "cell_type": "code",
   "execution_count": null,
   "id": "4a67cfc8",
   "metadata": {},
   "outputs": [],
   "source": []
  },
  {
   "cell_type": "markdown",
   "id": "b6d3c9ab",
   "metadata": {},
   "source": [
    "## Question 2\n",
    "\n",
    "* Use Pipenv to install Scikit-Learn version 1.0.2\n",
    "* What's the first hash for scikit-learn you get in Pipfile.lock?\n",
    "\n",
    "Note: you should create an empty folder for homework and do it there."
   ]
  },
  {
   "cell_type": "code",
   "execution_count": null,
   "id": "24054984",
   "metadata": {},
   "outputs": [],
   "source": []
  }
 ],
 "metadata": {
  "kernelspec": {
   "display_name": "Python 3",
   "language": "python",
   "name": "python3"
  },
  "language_info": {
   "codemirror_mode": {
    "name": "ipython",
    "version": 3
   },
   "file_extension": ".py",
   "mimetype": "text/x-python",
   "name": "python",
   "nbconvert_exporter": "python",
   "pygments_lexer": "ipython3",
   "version": "3.9.13"
  }
 },
 "nbformat": 4,
 "nbformat_minor": 5
}
