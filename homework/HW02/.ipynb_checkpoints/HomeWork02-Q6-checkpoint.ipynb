{
 "cells": [
  {
   "cell_type": "markdown",
   "id": "93255e86",
   "metadata": {},
   "source": [
    "## Question number 6: \n",
    "### Homework 02 | WEEK 02 (13.09-19.09.2022) | Machine Learning Zoomcamp\n",
    "\n",
    "\n",
    "* Split the dataset like previously, use seed 9.\n",
    "* Combine train and validation datasets.\n",
    "* Fill the missing values with 0 and train a model with r=0.001.\n",
    "* What's the RMSE on the test dataset?\n",
    "\n",
    "Options:\n",
    "\n",
    "    0.35\n",
    "    0.135\n",
    "    0.450\n",
    "    0.245"
   ]
  },
  {
   "cell_type": "code",
   "execution_count": 38,
   "id": "f4982495",
   "metadata": {},
   "outputs": [],
   "source": [
    "import numpy as np\n",
    "import pandas as pd\n",
    "\n",
    "import matplotlib.pyplot as plt\n",
    "import seaborn as sns\n",
    "\n",
    "%matplotlib inline  \n",
    "# above line is needed so that all the plots can be displayed on notebook"
   ]
  },
  {
   "cell_type": "code",
   "execution_count": 39,
   "id": "b57708f3",
   "metadata": {},
   "outputs": [],
   "source": [
    "df = pd.read_csv('housing.csv') #housing.csv is already downloaded on my local directory"
   ]
  },
  {
   "cell_type": "code",
   "execution_count": 40,
   "id": "b955417d",
   "metadata": {},
   "outputs": [
    {
     "data": {
      "text/plain": [
       "(20640, 10)"
      ]
     },
     "execution_count": 40,
     "metadata": {},
     "output_type": "execute_result"
    }
   ],
   "source": [
    "df.shape"
   ]
  },
  {
   "cell_type": "code",
   "execution_count": 41,
   "id": "8eaf3edd",
   "metadata": {},
   "outputs": [],
   "source": [
    "features = ['longitude', 'latitude', 'housing_median_age', 'total_rooms', 'total_bedrooms', 'population', 'households', 'median_income', 'median_house_value']\n",
    "df=df[features]"
   ]
  },
  {
   "cell_type": "code",
   "execution_count": 42,
   "id": "ecdf9103",
   "metadata": {},
   "outputs": [],
   "source": [
    "n = len(df)\n",
    "n_val = int(n*0.2)  # n_val is length of validation data set\n",
    "n_test = int(n*0.2)\n",
    "n_train = n - n_val - n_test\n",
    "\n",
    "idx = np.arange(n)"
   ]
  },
  {
   "cell_type": "code",
   "execution_count": 43,
   "id": "de2fba84",
   "metadata": {},
   "outputs": [],
   "source": [
    "def train_linear_regression_reg(X,y, r = 0.001):\n",
    "    ones = np.ones(X.shape[0])\n",
    "    X = np.column_stack([ones, X])\n",
    "    XT = X.T\n",
    "    XTX = XT.dot(X)\n",
    "    XTX = XTX + r* np.eye(XTX.shape[0])\n",
    "    XTX_inv = np.linalg.inv(XTX)\n",
    "    w_full = XTX_inv.dot(X.T).dot(y)\n",
    "    return w_full[0], w_full[1:]"
   ]
  },
  {
   "cell_type": "code",
   "execution_count": 44,
   "id": "5307859e",
   "metadata": {},
   "outputs": [],
   "source": [
    "def rmse(y, y_pred):\n",
    "    se = (y - y_pred)**2  #squared error\n",
    "    mse = se.mean()\n",
    "    return round(np.sqrt(mse),2)"
   ]
  },
  {
   "cell_type": "code",
   "execution_count": 45,
   "id": "6a3b2e1a",
   "metadata": {},
   "outputs": [
    {
     "name": "stdout",
     "output_type": "stream",
     "text": [
      "9 0.35\n"
     ]
    }
   ],
   "source": [
    "seed = 9\n",
    "np.random.seed(seed)\n",
    "np.random.shuffle(idx)\n",
    "    \n",
    "df_train = df.iloc[idx[:n_train]]\n",
    "df_val = df.iloc[idx[n_train:n_train+n_val]]\n",
    "df_test = df.iloc[idx[n_train+n_val:]]\n",
    "\n",
    "    \n",
    "df_train = df_train.reset_index(drop=True)\n",
    "df_val = df_val.reset_index(drop=True)\n",
    "df_test = df_test.reset_index(drop=True)\n",
    "\n",
    "y_train = np.log1p(df_train.median_house_value.values) \n",
    "y_val = np.log1p(df_val.median_house_value.values)\n",
    "y_test = np.log1p(df_test.median_house_value.values)\n",
    "\n",
    "\n",
    "    \n",
    "del df_train['median_house_value']  \n",
    "del df_val['median_house_value']\n",
    "del df_test['median_house_value']\n",
    "    \n",
    "df_train_full = pd.concat([df_train, df_val])\n",
    "df_train_full.reset_index(drop = True)\n",
    "df_train_full.fillna(0, inplace = True) \n",
    "df_test.fillna(0, inplace = True)\n",
    "\n",
    "y_train_full = np.concatenate([y_train, y_val])\n",
    "    \n",
    "X_train_full = df_train_full.values\n",
    "X_test = df_test.values\n",
    "    \n",
    "    \n",
    "w0, w = train_linear_regression_reg(X_train_full,y_train_full, r=0.001)\n",
    "y_pred = w0 + X_test.dot(w)\n",
    "score=rmse(y_test, y_pred)\n",
    "print(seed, score)"
   ]
  },
  {
   "cell_type": "markdown",
   "id": "a70ebbfc",
   "metadata": {},
   "source": [
    "### Answer to question number 6 is 0.35"
   ]
  }
 ],
 "metadata": {
  "kernelspec": {
   "display_name": "Python 3",
   "language": "python",
   "name": "python3"
  },
  "language_info": {
   "codemirror_mode": {
    "name": "ipython",
    "version": 3
   },
   "file_extension": ".py",
   "mimetype": "text/x-python",
   "name": "python",
   "nbconvert_exporter": "python",
   "pygments_lexer": "ipython3",
   "version": "3.9.13"
  }
 },
 "nbformat": 4,
 "nbformat_minor": 5
}
