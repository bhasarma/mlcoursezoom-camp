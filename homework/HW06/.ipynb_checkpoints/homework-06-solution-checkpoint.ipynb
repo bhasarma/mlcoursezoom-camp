{
 "cells": [
  {
   "cell_type": "markdown",
   "id": "b5886799",
   "metadata": {},
   "source": [
    "# Homework 06 | WEEK 04 (11.10-17.10.2022) | Machine Learning Zoomcamp"
   ]
  },
  {
   "cell_type": "markdown",
   "id": "3b191a51",
   "metadata": {},
   "source": [
    "Link to the homework: [here](https://github.com/alexeygrigorev/mlbookcamp-code/blob/master/course-zoomcamp/cohorts/2022/06-trees/homework.md)"
   ]
  },
  {
   "cell_type": "markdown",
   "id": "e1f896e7",
   "metadata": {},
   "source": [
    "The goal of this homework is to create a regression model for predicting housing prices (column 'median_house_value')."
   ]
  },
  {
   "cell_type": "markdown",
   "id": "c616d1ff",
   "metadata": {},
   "source": [
    "In this homework we'll again use the California Housing Prices dataset - the same one we used in homework 2 and 3."
   ]
  },
  {
   "cell_type": "markdown",
   "id": "a997b6dc",
   "metadata": {},
   "source": [
    "You can take it from [Kaggle](https://www.kaggle.com/datasets/camnugent/california-housing-prices) or download using wget link mentioned below:"
   ]
  },
  {
   "cell_type": "markdown",
   "id": "e0cfc558",
   "metadata": {},
   "source": [
    "```\n",
    "wget https://raw.githubusercontent.com/alexeygrigorev/datasets/master/housing.csv\n",
    "\n",
    "```"
   ]
  },
  {
   "cell_type": "markdown",
   "id": "8c6bec60",
   "metadata": {},
   "source": [
    "> Note: sometimes your answer doesn't match one of the options exactly. That's fine. Select the option that's closest to your solution."
   ]
  },
  {
   "cell_type": "markdown",
   "id": "ed7471b9",
   "metadata": {},
   "source": [
    "### Loading the data\n",
    "\n",
    "Use only the following columns:  \n",
    "* `'latitude'`,\n",
    "\n",
    "* `'longitude'`,\n",
    "\n",
    "* `'housing_median_age'`,\n",
    "\n",
    "* `'total_rooms'`,\n",
    "\n",
    "* `'total_bedrooms'`,\n",
    "\n",
    "* `'population'`,\n",
    "\n",
    "* `'households'`,\n",
    "\n",
    "* `'median_income'`,\n",
    "\n",
    "* `'median_house_value'`,\n",
    "\n",
    "* `'ocean_proximity'`  \n"
   ]
  },
  {
   "cell_type": "code",
   "execution_count": 1,
   "id": "a6742e75",
   "metadata": {},
   "outputs": [],
   "source": [
    "#data ='https://raw.githubusercontent.com/alexeygrigorev/datasets/master/housing.csv'"
   ]
  },
  {
   "cell_type": "code",
   "execution_count": 2,
   "id": "b1dad4b0",
   "metadata": {},
   "outputs": [],
   "source": [
    "#!wget $data -O data-homework-6.csv"
   ]
  },
  {
   "cell_type": "code",
   "execution_count": 3,
   "id": "64a90721",
   "metadata": {},
   "outputs": [
    {
     "name": "stdout",
     "output_type": "stream",
     "text": [
      "data-homework-6.csv  homework-06-solution.ipynb\r\n"
     ]
    }
   ],
   "source": [
    "ls"
   ]
  },
  {
   "cell_type": "markdown",
   "id": "83ca1288",
   "metadata": {},
   "source": [
    "### importing libraries"
   ]
  },
  {
   "cell_type": "code",
   "execution_count": 4,
   "id": "af85656c",
   "metadata": {},
   "outputs": [],
   "source": [
    "import pandas as pd\n",
    "import numpy as np\n",
    "\n",
    "import seaborn as sns\n",
    "from matplotlib import pyplot as plt\n",
    "%matplotlib inline"
   ]
  },
  {
   "cell_type": "markdown",
   "id": "483043f5",
   "metadata": {},
   "source": [
    "### reading with pandas"
   ]
  },
  {
   "cell_type": "code",
   "execution_count": 8,
   "id": "760dc053",
   "metadata": {},
   "outputs": [
    {
     "data": {
      "text/html": [
       "<div>\n",
       "<style scoped>\n",
       "    .dataframe tbody tr th:only-of-type {\n",
       "        vertical-align: middle;\n",
       "    }\n",
       "\n",
       "    .dataframe tbody tr th {\n",
       "        vertical-align: top;\n",
       "    }\n",
       "\n",
       "    .dataframe thead th {\n",
       "        text-align: right;\n",
       "    }\n",
       "</style>\n",
       "<table border=\"1\" class=\"dataframe\">\n",
       "  <thead>\n",
       "    <tr style=\"text-align: right;\">\n",
       "      <th></th>\n",
       "      <th>longitude</th>\n",
       "      <th>latitude</th>\n",
       "      <th>housing_median_age</th>\n",
       "      <th>total_rooms</th>\n",
       "      <th>total_bedrooms</th>\n",
       "      <th>population</th>\n",
       "      <th>households</th>\n",
       "      <th>median_income</th>\n",
       "      <th>median_house_value</th>\n",
       "      <th>ocean_proximity</th>\n",
       "    </tr>\n",
       "  </thead>\n",
       "  <tbody>\n",
       "    <tr>\n",
       "      <th>0</th>\n",
       "      <td>-122.23</td>\n",
       "      <td>37.88</td>\n",
       "      <td>41.0</td>\n",
       "      <td>880.0</td>\n",
       "      <td>129.0</td>\n",
       "      <td>322.0</td>\n",
       "      <td>126.0</td>\n",
       "      <td>8.3252</td>\n",
       "      <td>452600.0</td>\n",
       "      <td>NEAR BAY</td>\n",
       "    </tr>\n",
       "    <tr>\n",
       "      <th>1</th>\n",
       "      <td>-122.22</td>\n",
       "      <td>37.86</td>\n",
       "      <td>21.0</td>\n",
       "      <td>7099.0</td>\n",
       "      <td>1106.0</td>\n",
       "      <td>2401.0</td>\n",
       "      <td>1138.0</td>\n",
       "      <td>8.3014</td>\n",
       "      <td>358500.0</td>\n",
       "      <td>NEAR BAY</td>\n",
       "    </tr>\n",
       "    <tr>\n",
       "      <th>2</th>\n",
       "      <td>-122.24</td>\n",
       "      <td>37.85</td>\n",
       "      <td>52.0</td>\n",
       "      <td>1467.0</td>\n",
       "      <td>190.0</td>\n",
       "      <td>496.0</td>\n",
       "      <td>177.0</td>\n",
       "      <td>7.2574</td>\n",
       "      <td>352100.0</td>\n",
       "      <td>NEAR BAY</td>\n",
       "    </tr>\n",
       "    <tr>\n",
       "      <th>3</th>\n",
       "      <td>-122.25</td>\n",
       "      <td>37.85</td>\n",
       "      <td>52.0</td>\n",
       "      <td>1274.0</td>\n",
       "      <td>235.0</td>\n",
       "      <td>558.0</td>\n",
       "      <td>219.0</td>\n",
       "      <td>5.6431</td>\n",
       "      <td>341300.0</td>\n",
       "      <td>NEAR BAY</td>\n",
       "    </tr>\n",
       "    <tr>\n",
       "      <th>4</th>\n",
       "      <td>-122.25</td>\n",
       "      <td>37.85</td>\n",
       "      <td>52.0</td>\n",
       "      <td>1627.0</td>\n",
       "      <td>280.0</td>\n",
       "      <td>565.0</td>\n",
       "      <td>259.0</td>\n",
       "      <td>3.8462</td>\n",
       "      <td>342200.0</td>\n",
       "      <td>NEAR BAY</td>\n",
       "    </tr>\n",
       "  </tbody>\n",
       "</table>\n",
       "</div>"
      ],
      "text/plain": [
       "   longitude  latitude  housing_median_age  total_rooms  total_bedrooms  \\\n",
       "0    -122.23     37.88                41.0        880.0           129.0   \n",
       "1    -122.22     37.86                21.0       7099.0          1106.0   \n",
       "2    -122.24     37.85                52.0       1467.0           190.0   \n",
       "3    -122.25     37.85                52.0       1274.0           235.0   \n",
       "4    -122.25     37.85                52.0       1627.0           280.0   \n",
       "\n",
       "   population  households  median_income  median_house_value ocean_proximity  \n",
       "0       322.0       126.0         8.3252            452600.0        NEAR BAY  \n",
       "1      2401.0      1138.0         8.3014            358500.0        NEAR BAY  \n",
       "2       496.0       177.0         7.2574            352100.0        NEAR BAY  \n",
       "3       558.0       219.0         5.6431            341300.0        NEAR BAY  \n",
       "4       565.0       259.0         3.8462            342200.0        NEAR BAY  "
      ]
     },
     "execution_count": 8,
     "metadata": {},
     "output_type": "execute_result"
    }
   ],
   "source": [
    "features = [\n",
    "    'latitude',\n",
    "    'longitude',\n",
    "    'housing_median_age',\n",
    "    'total_rooms',\n",
    "    'total_bedrooms',\n",
    "    'population',\n",
    "    'households',\n",
    "    'median_income',\n",
    "    'median_house_value',\n",
    "    'ocean_proximity'\n",
    "]\n",
    "df = pd.read_csv('data-homework-6.csv', usecols=features)\n",
    "df.head()"
   ]
  },
  {
   "cell_type": "markdown",
   "id": "1131e97d",
   "metadata": {},
   "source": [
    "### checking number of missing valus"
   ]
  },
  {
   "cell_type": "code",
   "execution_count": 7,
   "id": "c887a74e",
   "metadata": {},
   "outputs": [
    {
     "data": {
      "text/plain": [
       "longitude               0\n",
       "latitude                0\n",
       "housing_median_age      0\n",
       "total_rooms             0\n",
       "total_bedrooms        207\n",
       "population              0\n",
       "households              0\n",
       "median_income           0\n",
       "median_house_value      0\n",
       "ocean_proximity         0\n",
       "dtype: int64"
      ]
     },
     "execution_count": 7,
     "metadata": {},
     "output_type": "execute_result"
    }
   ],
   "source": [
    "df.isnull().sum()"
   ]
  },
  {
   "cell_type": "markdown",
   "id": "fc8123a6",
   "metadata": {},
   "source": [
    "**Now:**\n",
    "\n",
    "* Fill NAs with 0.\n",
    "* Apply the log tranform to `median_house_value`.\n",
    "* Do train/validation/test split with 60%/20%/20% distribution. \n",
    "* Use the `train_test_split` function and set the `random_state` parameter to 1.\n",
    "* Use `DictVectorizer` to turn the dataframe into matrices."
   ]
  },
  {
   "cell_type": "code",
   "execution_count": 11,
   "id": "afb100a0",
   "metadata": {},
   "outputs": [],
   "source": [
    "# fill missing values with 0\n",
    "df['total_bedrooms'].fillna(0, inplace = True) "
   ]
  },
  {
   "cell_type": "code",
   "execution_count": 12,
   "id": "0a9a49df",
   "metadata": {},
   "outputs": [
    {
     "data": {
      "text/plain": [
       "longitude             0\n",
       "latitude              0\n",
       "housing_median_age    0\n",
       "total_rooms           0\n",
       "total_bedrooms        0\n",
       "population            0\n",
       "households            0\n",
       "median_income         0\n",
       "median_house_value    0\n",
       "ocean_proximity       0\n",
       "dtype: int64"
      ]
     },
     "execution_count": 12,
     "metadata": {},
     "output_type": "execute_result"
    }
   ],
   "source": [
    "# check number of missing values after filling\n",
    "df.isna().sum()"
   ]
  },
  {
   "cell_type": "code",
   "execution_count": 13,
   "id": "ff5c209d",
   "metadata": {},
   "outputs": [
    {
     "data": {
      "text/html": [
       "<div>\n",
       "<style scoped>\n",
       "    .dataframe tbody tr th:only-of-type {\n",
       "        vertical-align: middle;\n",
       "    }\n",
       "\n",
       "    .dataframe tbody tr th {\n",
       "        vertical-align: top;\n",
       "    }\n",
       "\n",
       "    .dataframe thead th {\n",
       "        text-align: right;\n",
       "    }\n",
       "</style>\n",
       "<table border=\"1\" class=\"dataframe\">\n",
       "  <thead>\n",
       "    <tr style=\"text-align: right;\">\n",
       "      <th></th>\n",
       "      <th>longitude</th>\n",
       "      <th>latitude</th>\n",
       "      <th>housing_median_age</th>\n",
       "      <th>total_rooms</th>\n",
       "      <th>total_bedrooms</th>\n",
       "      <th>population</th>\n",
       "      <th>households</th>\n",
       "      <th>median_income</th>\n",
       "      <th>median_house_value</th>\n",
       "      <th>ocean_proximity</th>\n",
       "    </tr>\n",
       "  </thead>\n",
       "  <tbody>\n",
       "    <tr>\n",
       "      <th>0</th>\n",
       "      <td>-122.23</td>\n",
       "      <td>37.88</td>\n",
       "      <td>41.0</td>\n",
       "      <td>880.0</td>\n",
       "      <td>129.0</td>\n",
       "      <td>322.0</td>\n",
       "      <td>126.0</td>\n",
       "      <td>8.3252</td>\n",
       "      <td>13.022766</td>\n",
       "      <td>NEAR BAY</td>\n",
       "    </tr>\n",
       "    <tr>\n",
       "      <th>1</th>\n",
       "      <td>-122.22</td>\n",
       "      <td>37.86</td>\n",
       "      <td>21.0</td>\n",
       "      <td>7099.0</td>\n",
       "      <td>1106.0</td>\n",
       "      <td>2401.0</td>\n",
       "      <td>1138.0</td>\n",
       "      <td>8.3014</td>\n",
       "      <td>12.789687</td>\n",
       "      <td>NEAR BAY</td>\n",
       "    </tr>\n",
       "    <tr>\n",
       "      <th>2</th>\n",
       "      <td>-122.24</td>\n",
       "      <td>37.85</td>\n",
       "      <td>52.0</td>\n",
       "      <td>1467.0</td>\n",
       "      <td>190.0</td>\n",
       "      <td>496.0</td>\n",
       "      <td>177.0</td>\n",
       "      <td>7.2574</td>\n",
       "      <td>12.771673</td>\n",
       "      <td>NEAR BAY</td>\n",
       "    </tr>\n",
       "    <tr>\n",
       "      <th>3</th>\n",
       "      <td>-122.25</td>\n",
       "      <td>37.85</td>\n",
       "      <td>52.0</td>\n",
       "      <td>1274.0</td>\n",
       "      <td>235.0</td>\n",
       "      <td>558.0</td>\n",
       "      <td>219.0</td>\n",
       "      <td>5.6431</td>\n",
       "      <td>12.740520</td>\n",
       "      <td>NEAR BAY</td>\n",
       "    </tr>\n",
       "    <tr>\n",
       "      <th>4</th>\n",
       "      <td>-122.25</td>\n",
       "      <td>37.85</td>\n",
       "      <td>52.0</td>\n",
       "      <td>1627.0</td>\n",
       "      <td>280.0</td>\n",
       "      <td>565.0</td>\n",
       "      <td>259.0</td>\n",
       "      <td>3.8462</td>\n",
       "      <td>12.743154</td>\n",
       "      <td>NEAR BAY</td>\n",
       "    </tr>\n",
       "  </tbody>\n",
       "</table>\n",
       "</div>"
      ],
      "text/plain": [
       "   longitude  latitude  housing_median_age  total_rooms  total_bedrooms  \\\n",
       "0    -122.23     37.88                41.0        880.0           129.0   \n",
       "1    -122.22     37.86                21.0       7099.0          1106.0   \n",
       "2    -122.24     37.85                52.0       1467.0           190.0   \n",
       "3    -122.25     37.85                52.0       1274.0           235.0   \n",
       "4    -122.25     37.85                52.0       1627.0           280.0   \n",
       "\n",
       "   population  households  median_income  median_house_value ocean_proximity  \n",
       "0       322.0       126.0         8.3252           13.022766        NEAR BAY  \n",
       "1      2401.0      1138.0         8.3014           12.789687        NEAR BAY  \n",
       "2       496.0       177.0         7.2574           12.771673        NEAR BAY  \n",
       "3       558.0       219.0         5.6431           12.740520        NEAR BAY  \n",
       "4       565.0       259.0         3.8462           12.743154        NEAR BAY  "
      ]
     },
     "execution_count": 13,
     "metadata": {},
     "output_type": "execute_result"
    }
   ],
   "source": [
    "# log transformation for median_house_value variable\n",
    "df['median_house_value'] = np.log1p(df['median_house_value'].values)  \n",
    "df.head()"
   ]
  },
  {
   "cell_type": "markdown",
   "id": "c11591d4",
   "metadata": {},
   "source": [
    "### splitting the dataset"
   ]
  },
  {
   "cell_type": "code",
   "execution_count": 14,
   "id": "a164366a",
   "metadata": {},
   "outputs": [],
   "source": [
    "from sklearn.model_selection import train_test_split\n",
    "\n",
    "df_full_train, df_test = train_test_split(df, test_size = 0.2, random_state = 1)\n",
    "df_train, df_val = train_test_split(df_full_train, test_size = 0.25, random_state = 1)\n",
    "\n",
    "df_train = df_train.reset_index(drop = True)\n",
    "df_val   = df_val.reset_index(drop = True)\n",
    "df_test = df_test.reset_index(drop = True)\n",
    "df_full_train = df_full_train.reset_index(drop = True)\n",
    "\n",
    "y_train = df_train.median_house_value\n",
    "y_val = df_val.median_house_value\n",
    "y_test = df_test.median_house_value\n",
    "\n",
    "del df_train['median_house_value']\n",
    "del df_val['median_house_value']\n",
    "del df_test['median_house_value']"
   ]
  },
  {
   "cell_type": "markdown",
   "id": "55dbb652",
   "metadata": {},
   "source": [
    "### turing dataframe into matrices with DictVectorizer"
   ]
  },
  {
   "cell_type": "code",
   "execution_count": 16,
   "id": "811fc527",
   "metadata": {},
   "outputs": [],
   "source": [
    "from sklearn.feature_extraction import DictVectorizer"
   ]
  },
  {
   "cell_type": "code",
   "execution_count": 17,
   "id": "71129523",
   "metadata": {},
   "outputs": [],
   "source": [
    "train_dicts = df_train.to_dict(orient='records')\n",
    "dv = DictVectorizer(sparse=False)\n",
    "X_train = dv.fit_transform(train_dicts)\n",
    "\n",
    "val_dicts = df_val.to_dict(orient='records')\n",
    "X_val = dv.transform(val_dicts)"
   ]
  },
  {
   "cell_type": "markdown",
   "id": "95b0ba60",
   "metadata": {},
   "source": [
    "\n",
    "## Question 1\n",
    "\n",
    "Let's train a decision tree regressor to predict the `median_house_value` variable. \n",
    "\n",
    "* Train a model with `max_depth=1`.\n",
    "\n",
    "\n",
    "Which feature is used for splitting the data?\n",
    "\n",
    "* `ocean_proximity=INLAND`\n",
    "* `total_rooms`\n",
    "* `latitude`\n",
    "* `population`"
   ]
  },
  {
   "cell_type": "code",
   "execution_count": 18,
   "id": "a8a209c0",
   "metadata": {},
   "outputs": [],
   "source": [
    "from sklearn.tree import DecisionTreeRegressor"
   ]
  },
  {
   "cell_type": "code",
   "execution_count": 19,
   "id": "63e695e7",
   "metadata": {},
   "outputs": [
    {
     "data": {
      "text/html": [
       "<style>#sk-container-id-1 {color: black;background-color: white;}#sk-container-id-1 pre{padding: 0;}#sk-container-id-1 div.sk-toggleable {background-color: white;}#sk-container-id-1 label.sk-toggleable__label {cursor: pointer;display: block;width: 100%;margin-bottom: 0;padding: 0.3em;box-sizing: border-box;text-align: center;}#sk-container-id-1 label.sk-toggleable__label-arrow:before {content: \"▸\";float: left;margin-right: 0.25em;color: #696969;}#sk-container-id-1 label.sk-toggleable__label-arrow:hover:before {color: black;}#sk-container-id-1 div.sk-estimator:hover label.sk-toggleable__label-arrow:before {color: black;}#sk-container-id-1 div.sk-toggleable__content {max-height: 0;max-width: 0;overflow: hidden;text-align: left;background-color: #f0f8ff;}#sk-container-id-1 div.sk-toggleable__content pre {margin: 0.2em;color: black;border-radius: 0.25em;background-color: #f0f8ff;}#sk-container-id-1 input.sk-toggleable__control:checked~div.sk-toggleable__content {max-height: 200px;max-width: 100%;overflow: auto;}#sk-container-id-1 input.sk-toggleable__control:checked~label.sk-toggleable__label-arrow:before {content: \"▾\";}#sk-container-id-1 div.sk-estimator input.sk-toggleable__control:checked~label.sk-toggleable__label {background-color: #d4ebff;}#sk-container-id-1 div.sk-label input.sk-toggleable__control:checked~label.sk-toggleable__label {background-color: #d4ebff;}#sk-container-id-1 input.sk-hidden--visually {border: 0;clip: rect(1px 1px 1px 1px);clip: rect(1px, 1px, 1px, 1px);height: 1px;margin: -1px;overflow: hidden;padding: 0;position: absolute;width: 1px;}#sk-container-id-1 div.sk-estimator {font-family: monospace;background-color: #f0f8ff;border: 1px dotted black;border-radius: 0.25em;box-sizing: border-box;margin-bottom: 0.5em;}#sk-container-id-1 div.sk-estimator:hover {background-color: #d4ebff;}#sk-container-id-1 div.sk-parallel-item::after {content: \"\";width: 100%;border-bottom: 1px solid gray;flex-grow: 1;}#sk-container-id-1 div.sk-label:hover label.sk-toggleable__label {background-color: #d4ebff;}#sk-container-id-1 div.sk-serial::before {content: \"\";position: absolute;border-left: 1px solid gray;box-sizing: border-box;top: 0;bottom: 0;left: 50%;z-index: 0;}#sk-container-id-1 div.sk-serial {display: flex;flex-direction: column;align-items: center;background-color: white;padding-right: 0.2em;padding-left: 0.2em;position: relative;}#sk-container-id-1 div.sk-item {position: relative;z-index: 1;}#sk-container-id-1 div.sk-parallel {display: flex;align-items: stretch;justify-content: center;background-color: white;position: relative;}#sk-container-id-1 div.sk-item::before, #sk-container-id-1 div.sk-parallel-item::before {content: \"\";position: absolute;border-left: 1px solid gray;box-sizing: border-box;top: 0;bottom: 0;left: 50%;z-index: -1;}#sk-container-id-1 div.sk-parallel-item {display: flex;flex-direction: column;z-index: 1;position: relative;background-color: white;}#sk-container-id-1 div.sk-parallel-item:first-child::after {align-self: flex-end;width: 50%;}#sk-container-id-1 div.sk-parallel-item:last-child::after {align-self: flex-start;width: 50%;}#sk-container-id-1 div.sk-parallel-item:only-child::after {width: 0;}#sk-container-id-1 div.sk-dashed-wrapped {border: 1px dashed gray;margin: 0 0.4em 0.5em 0.4em;box-sizing: border-box;padding-bottom: 0.4em;background-color: white;}#sk-container-id-1 div.sk-label label {font-family: monospace;font-weight: bold;display: inline-block;line-height: 1.2em;}#sk-container-id-1 div.sk-label-container {text-align: center;}#sk-container-id-1 div.sk-container {/* jupyter's `normalize.less` sets `[hidden] { display: none; }` but bootstrap.min.css set `[hidden] { display: none !important; }` so we also need the `!important` here to be able to override the default hidden behavior on the sphinx rendered scikit-learn.org. See: https://github.com/scikit-learn/scikit-learn/issues/21755 */display: inline-block !important;position: relative;}#sk-container-id-1 div.sk-text-repr-fallback {display: none;}</style><div id=\"sk-container-id-1\" class=\"sk-top-container\"><div class=\"sk-text-repr-fallback\"><pre>DecisionTreeRegressor(max_depth=1)</pre><b>In a Jupyter environment, please rerun this cell to show the HTML representation or trust the notebook. <br />On GitHub, the HTML representation is unable to render, please try loading this page with nbviewer.org.</b></div><div class=\"sk-container\" hidden><div class=\"sk-item\"><div class=\"sk-estimator sk-toggleable\"><input class=\"sk-toggleable__control sk-hidden--visually\" id=\"sk-estimator-id-1\" type=\"checkbox\" checked><label for=\"sk-estimator-id-1\" class=\"sk-toggleable__label sk-toggleable__label-arrow\">DecisionTreeRegressor</label><div class=\"sk-toggleable__content\"><pre>DecisionTreeRegressor(max_depth=1)</pre></div></div></div></div></div>"
      ],
      "text/plain": [
       "DecisionTreeRegressor(max_depth=1)"
      ]
     },
     "execution_count": 19,
     "metadata": {},
     "output_type": "execute_result"
    }
   ],
   "source": [
    "dt = DecisionTreeRegressor(max_depth=1)\n",
    "dt.fit(X_train, y_train)"
   ]
  },
  {
   "cell_type": "code",
   "execution_count": 20,
   "id": "79b3a67b",
   "metadata": {},
   "outputs": [
    {
     "name": "stdout",
     "output_type": "stream",
     "text": [
      "|--- ocean_proximity=INLAND <= 0.50\n",
      "|   |--- value: [12.31]\n",
      "|--- ocean_proximity=INLAND >  0.50\n",
      "|   |--- value: [11.61]\n",
      "\n"
     ]
    },
    {
     "name": "stderr",
     "output_type": "stream",
     "text": [
      "/home/bsarma/anaconda3/envs/ml-zoomcamp/lib/python3.9/site-packages/sklearn/utils/deprecation.py:87: FutureWarning: Function get_feature_names is deprecated; get_feature_names is deprecated in 1.0 and will be removed in 1.2. Please use get_feature_names_out instead.\n",
      "  warnings.warn(msg, category=FutureWarning)\n"
     ]
    }
   ],
   "source": [
    "from sklearn.tree import export_text\n",
    "   \n",
    "print(export_text(dt, feature_names=dv.get_feature_names()))"
   ]
  },
  {
   "cell_type": "markdown",
   "id": "88443108",
   "metadata": {},
   "source": [
    "**Answer to question 1:**\n",
    "\n",
    "`ocean_proximity=INLAND` is used for data splitting.\n",
    "\n",
    "****"
   ]
  },
  {
   "cell_type": "markdown",
   "id": "022ca407",
   "metadata": {},
   "source": [
    "## Question 2\n",
    "\n",
    "Train a random forest model with these parameters:\n",
    "\n",
    "* `n_estimators=10`\n",
    "* `random_state=1`\n",
    "* `n_jobs=-1`  (optional - to make training faster)\n",
    "\n",
    "\n",
    "What's the RMSE of this model on validation?\n",
    "\n",
    "* 0.05\n",
    "* 0.25\n",
    "* 0.55\n",
    "* 0.85"
   ]
  },
  {
   "cell_type": "code",
   "execution_count": 21,
   "id": "eea413ed",
   "metadata": {},
   "outputs": [],
   "source": [
    "from sklearn.ensemble import RandomForestRegressor"
   ]
  },
  {
   "cell_type": "code",
   "execution_count": 22,
   "id": "7ed91b75",
   "metadata": {},
   "outputs": [
    {
     "data": {
      "text/html": [
       "<style>#sk-container-id-2 {color: black;background-color: white;}#sk-container-id-2 pre{padding: 0;}#sk-container-id-2 div.sk-toggleable {background-color: white;}#sk-container-id-2 label.sk-toggleable__label {cursor: pointer;display: block;width: 100%;margin-bottom: 0;padding: 0.3em;box-sizing: border-box;text-align: center;}#sk-container-id-2 label.sk-toggleable__label-arrow:before {content: \"▸\";float: left;margin-right: 0.25em;color: #696969;}#sk-container-id-2 label.sk-toggleable__label-arrow:hover:before {color: black;}#sk-container-id-2 div.sk-estimator:hover label.sk-toggleable__label-arrow:before {color: black;}#sk-container-id-2 div.sk-toggleable__content {max-height: 0;max-width: 0;overflow: hidden;text-align: left;background-color: #f0f8ff;}#sk-container-id-2 div.sk-toggleable__content pre {margin: 0.2em;color: black;border-radius: 0.25em;background-color: #f0f8ff;}#sk-container-id-2 input.sk-toggleable__control:checked~div.sk-toggleable__content {max-height: 200px;max-width: 100%;overflow: auto;}#sk-container-id-2 input.sk-toggleable__control:checked~label.sk-toggleable__label-arrow:before {content: \"▾\";}#sk-container-id-2 div.sk-estimator input.sk-toggleable__control:checked~label.sk-toggleable__label {background-color: #d4ebff;}#sk-container-id-2 div.sk-label input.sk-toggleable__control:checked~label.sk-toggleable__label {background-color: #d4ebff;}#sk-container-id-2 input.sk-hidden--visually {border: 0;clip: rect(1px 1px 1px 1px);clip: rect(1px, 1px, 1px, 1px);height: 1px;margin: -1px;overflow: hidden;padding: 0;position: absolute;width: 1px;}#sk-container-id-2 div.sk-estimator {font-family: monospace;background-color: #f0f8ff;border: 1px dotted black;border-radius: 0.25em;box-sizing: border-box;margin-bottom: 0.5em;}#sk-container-id-2 div.sk-estimator:hover {background-color: #d4ebff;}#sk-container-id-2 div.sk-parallel-item::after {content: \"\";width: 100%;border-bottom: 1px solid gray;flex-grow: 1;}#sk-container-id-2 div.sk-label:hover label.sk-toggleable__label {background-color: #d4ebff;}#sk-container-id-2 div.sk-serial::before {content: \"\";position: absolute;border-left: 1px solid gray;box-sizing: border-box;top: 0;bottom: 0;left: 50%;z-index: 0;}#sk-container-id-2 div.sk-serial {display: flex;flex-direction: column;align-items: center;background-color: white;padding-right: 0.2em;padding-left: 0.2em;position: relative;}#sk-container-id-2 div.sk-item {position: relative;z-index: 1;}#sk-container-id-2 div.sk-parallel {display: flex;align-items: stretch;justify-content: center;background-color: white;position: relative;}#sk-container-id-2 div.sk-item::before, #sk-container-id-2 div.sk-parallel-item::before {content: \"\";position: absolute;border-left: 1px solid gray;box-sizing: border-box;top: 0;bottom: 0;left: 50%;z-index: -1;}#sk-container-id-2 div.sk-parallel-item {display: flex;flex-direction: column;z-index: 1;position: relative;background-color: white;}#sk-container-id-2 div.sk-parallel-item:first-child::after {align-self: flex-end;width: 50%;}#sk-container-id-2 div.sk-parallel-item:last-child::after {align-self: flex-start;width: 50%;}#sk-container-id-2 div.sk-parallel-item:only-child::after {width: 0;}#sk-container-id-2 div.sk-dashed-wrapped {border: 1px dashed gray;margin: 0 0.4em 0.5em 0.4em;box-sizing: border-box;padding-bottom: 0.4em;background-color: white;}#sk-container-id-2 div.sk-label label {font-family: monospace;font-weight: bold;display: inline-block;line-height: 1.2em;}#sk-container-id-2 div.sk-label-container {text-align: center;}#sk-container-id-2 div.sk-container {/* jupyter's `normalize.less` sets `[hidden] { display: none; }` but bootstrap.min.css set `[hidden] { display: none !important; }` so we also need the `!important` here to be able to override the default hidden behavior on the sphinx rendered scikit-learn.org. See: https://github.com/scikit-learn/scikit-learn/issues/21755 */display: inline-block !important;position: relative;}#sk-container-id-2 div.sk-text-repr-fallback {display: none;}</style><div id=\"sk-container-id-2\" class=\"sk-top-container\"><div class=\"sk-text-repr-fallback\"><pre>RandomForestRegressor(n_estimators=10, n_jobs=-1, random_state=1)</pre><b>In a Jupyter environment, please rerun this cell to show the HTML representation or trust the notebook. <br />On GitHub, the HTML representation is unable to render, please try loading this page with nbviewer.org.</b></div><div class=\"sk-container\" hidden><div class=\"sk-item\"><div class=\"sk-estimator sk-toggleable\"><input class=\"sk-toggleable__control sk-hidden--visually\" id=\"sk-estimator-id-2\" type=\"checkbox\" checked><label for=\"sk-estimator-id-2\" class=\"sk-toggleable__label sk-toggleable__label-arrow\">RandomForestRegressor</label><div class=\"sk-toggleable__content\"><pre>RandomForestRegressor(n_estimators=10, n_jobs=-1, random_state=1)</pre></div></div></div></div></div>"
      ],
      "text/plain": [
       "RandomForestRegressor(n_estimators=10, n_jobs=-1, random_state=1)"
      ]
     },
     "execution_count": 22,
     "metadata": {},
     "output_type": "execute_result"
    }
   ],
   "source": [
    "rf = RandomForestRegressor(n_estimators=10, random_state=1,n_jobs=-1)\n",
    "rf.fit(X_train, y_train)"
   ]
  },
  {
   "cell_type": "code",
   "execution_count": 23,
   "id": "921998bc",
   "metadata": {},
   "outputs": [],
   "source": [
    "y_pred = rf.predict(X_val)"
   ]
  },
  {
   "cell_type": "code",
   "execution_count": 24,
   "id": "0be6f1af",
   "metadata": {},
   "outputs": [],
   "source": [
    "from sklearn.metrics import mean_squared_error"
   ]
  },
  {
   "cell_type": "code",
   "execution_count": 25,
   "id": "5fe744f2",
   "metadata": {},
   "outputs": [
    {
     "data": {
      "text/plain": [
       "0.25"
      ]
     },
     "execution_count": 25,
     "metadata": {},
     "output_type": "execute_result"
    }
   ],
   "source": [
    "mean_squared_error(y_pred, y_val, squared=False).round(2)"
   ]
  },
  {
   "cell_type": "markdown",
   "id": "050c6b8e",
   "metadata": {},
   "source": [
    "**Answer to question 2:**\n",
    "\n",
    "`0.25`\n",
    "\n",
    "****"
   ]
  },
  {
   "cell_type": "markdown",
   "id": "11e64f1a",
   "metadata": {},
   "source": [
    "## Question 3\n",
    "\n",
    "Now let's experiment with the `n_estimators` parameter\n",
    "\n",
    "* Try different values of this parameter from 10 to 200 with step 10.\n",
    "* Set `random_state` to `1`.\n",
    "* Evaluate the model on the validation dataset.\n",
    "\n",
    "\n",
    "After which value of `n_estimators` does RMSE stop improving?\n",
    "\n",
    "- 10\n",
    "- 50\n",
    "- 70\n",
    "- 150"
   ]
  },
  {
   "cell_type": "code",
   "execution_count": 26,
   "id": "0ba36949",
   "metadata": {},
   "outputs": [],
   "source": [
    "scores = []\n",
    "\n",
    "for n in range(10, 201, 10):\n",
    "    rf = RandomForestRegressor(n_estimators=n, random_state=1, n_jobs=-1)\n",
    "    rf.fit(X_train, y_train)\n",
    "\n",
    "    y_pred = rf.predict(X_val)\n",
    "    rmse = mean_squared_error(y_val, y_pred, squared=False)\n",
    "    \n",
    "    scores.append((n, rmse))"
   ]
  },
  {
   "cell_type": "code",
   "execution_count": 27,
   "id": "6c5a25af",
   "metadata": {},
   "outputs": [
    {
     "data": {
      "text/plain": [
       "[(10, 0.2456601287532493),\n",
       " (20, 0.238831005084315),\n",
       " (30, 0.23533513359926883),\n",
       " (40, 0.23425705015789772),\n",
       " (50, 0.23299051006423965),\n",
       " (60, 0.23276663500988132),\n",
       " (70, 0.23233674302516488),\n",
       " (80, 0.2324032922144551),\n",
       " (90, 0.23210724563250076),\n",
       " (100, 0.23192762024978072),\n",
       " (110, 0.23147508640653833),\n",
       " (120, 0.2315285334021738),\n",
       " (130, 0.23163264491363297),\n",
       " (140, 0.23160551396177226),\n",
       " (150, 0.23160365347894826),\n",
       " (160, 0.23154043638797991),\n",
       " (170, 0.23143152802305048),\n",
       " (180, 0.23163349793869303),\n",
       " (190, 0.2316204868851748),\n",
       " (200, 0.23151712261805216)]"
      ]
     },
     "execution_count": 27,
     "metadata": {},
     "output_type": "execute_result"
    }
   ],
   "source": [
    "scores"
   ]
  },
  {
   "cell_type": "code",
   "execution_count": 28,
   "id": "786e3a81",
   "metadata": {},
   "outputs": [
    {
     "data": {
      "text/html": [
       "<div>\n",
       "<style scoped>\n",
       "    .dataframe tbody tr th:only-of-type {\n",
       "        vertical-align: middle;\n",
       "    }\n",
       "\n",
       "    .dataframe tbody tr th {\n",
       "        vertical-align: top;\n",
       "    }\n",
       "\n",
       "    .dataframe thead th {\n",
       "        text-align: right;\n",
       "    }\n",
       "</style>\n",
       "<table border=\"1\" class=\"dataframe\">\n",
       "  <thead>\n",
       "    <tr style=\"text-align: right;\">\n",
       "      <th></th>\n",
       "      <th>n_estimators</th>\n",
       "      <th>rmse</th>\n",
       "    </tr>\n",
       "  </thead>\n",
       "  <tbody>\n",
       "    <tr>\n",
       "      <th>0</th>\n",
       "      <td>10</td>\n",
       "      <td>0.245660</td>\n",
       "    </tr>\n",
       "    <tr>\n",
       "      <th>1</th>\n",
       "      <td>20</td>\n",
       "      <td>0.238831</td>\n",
       "    </tr>\n",
       "    <tr>\n",
       "      <th>2</th>\n",
       "      <td>30</td>\n",
       "      <td>0.235335</td>\n",
       "    </tr>\n",
       "    <tr>\n",
       "      <th>3</th>\n",
       "      <td>40</td>\n",
       "      <td>0.234257</td>\n",
       "    </tr>\n",
       "    <tr>\n",
       "      <th>4</th>\n",
       "      <td>50</td>\n",
       "      <td>0.232991</td>\n",
       "    </tr>\n",
       "    <tr>\n",
       "      <th>5</th>\n",
       "      <td>60</td>\n",
       "      <td>0.232767</td>\n",
       "    </tr>\n",
       "    <tr>\n",
       "      <th>6</th>\n",
       "      <td>70</td>\n",
       "      <td>0.232337</td>\n",
       "    </tr>\n",
       "    <tr>\n",
       "      <th>7</th>\n",
       "      <td>80</td>\n",
       "      <td>0.232403</td>\n",
       "    </tr>\n",
       "    <tr>\n",
       "      <th>8</th>\n",
       "      <td>90</td>\n",
       "      <td>0.232107</td>\n",
       "    </tr>\n",
       "    <tr>\n",
       "      <th>9</th>\n",
       "      <td>100</td>\n",
       "      <td>0.231928</td>\n",
       "    </tr>\n",
       "    <tr>\n",
       "      <th>10</th>\n",
       "      <td>110</td>\n",
       "      <td>0.231475</td>\n",
       "    </tr>\n",
       "    <tr>\n",
       "      <th>11</th>\n",
       "      <td>120</td>\n",
       "      <td>0.231529</td>\n",
       "    </tr>\n",
       "    <tr>\n",
       "      <th>12</th>\n",
       "      <td>130</td>\n",
       "      <td>0.231633</td>\n",
       "    </tr>\n",
       "    <tr>\n",
       "      <th>13</th>\n",
       "      <td>140</td>\n",
       "      <td>0.231606</td>\n",
       "    </tr>\n",
       "    <tr>\n",
       "      <th>14</th>\n",
       "      <td>150</td>\n",
       "      <td>0.231604</td>\n",
       "    </tr>\n",
       "    <tr>\n",
       "      <th>15</th>\n",
       "      <td>160</td>\n",
       "      <td>0.231540</td>\n",
       "    </tr>\n",
       "    <tr>\n",
       "      <th>16</th>\n",
       "      <td>170</td>\n",
       "      <td>0.231432</td>\n",
       "    </tr>\n",
       "    <tr>\n",
       "      <th>17</th>\n",
       "      <td>180</td>\n",
       "      <td>0.231633</td>\n",
       "    </tr>\n",
       "    <tr>\n",
       "      <th>18</th>\n",
       "      <td>190</td>\n",
       "      <td>0.231620</td>\n",
       "    </tr>\n",
       "    <tr>\n",
       "      <th>19</th>\n",
       "      <td>200</td>\n",
       "      <td>0.231517</td>\n",
       "    </tr>\n",
       "  </tbody>\n",
       "</table>\n",
       "</div>"
      ],
      "text/plain": [
       "    n_estimators      rmse\n",
       "0             10  0.245660\n",
       "1             20  0.238831\n",
       "2             30  0.235335\n",
       "3             40  0.234257\n",
       "4             50  0.232991\n",
       "5             60  0.232767\n",
       "6             70  0.232337\n",
       "7             80  0.232403\n",
       "8             90  0.232107\n",
       "9            100  0.231928\n",
       "10           110  0.231475\n",
       "11           120  0.231529\n",
       "12           130  0.231633\n",
       "13           140  0.231606\n",
       "14           150  0.231604\n",
       "15           160  0.231540\n",
       "16           170  0.231432\n",
       "17           180  0.231633\n",
       "18           190  0.231620\n",
       "19           200  0.231517"
      ]
     },
     "execution_count": 28,
     "metadata": {},
     "output_type": "execute_result"
    }
   ],
   "source": [
    "df_scores = pd.DataFrame(scores, columns=['n_estimators', 'rmse'])\n",
    "df_scores"
   ]
  },
  {
   "cell_type": "code",
   "execution_count": 29,
   "id": "026adc62",
   "metadata": {},
   "outputs": [
    {
     "data": {
      "image/png": "[encoded data removed]",
      "text/plain": [
       "<Figure size 640x480 with 1 Axes>"
      ]
     },
     "metadata": {},
     "output_type": "display_data"
    }
   ],
   "source": [
    "plt.plot(df_scores.n_estimators, df_scores.rmse)\n",
    "plt.xlabel('number of trees in the forest')\n",
    "plt.ylabel('rmse')\n",
    "plt.show()"
   ]
  },
  {
   "cell_type": "markdown",
   "id": "cc297ff7",
   "metadata": {},
   "source": [
    "Thus out of the options: 10, 50, 70 and 150, rmse stops improving after 150."
   ]
  },
  {
   "cell_type": "markdown",
   "id": "24359469",
   "metadata": {},
   "source": [
    "**Answer to question 3:**\n",
    "\n",
    "`150`\n",
    "\n",
    "****"
   ]
  },
  {
   "cell_type": "markdown",
   "id": "49608f31",
   "metadata": {},
   "source": [
    "## Question 4\n",
    "\n",
    "Let's select the best `max_depth`:\n",
    "\n",
    "* Try different values of `max_depth`: `[10, 15, 20, 25]`\n",
    "* For each of these values, try different values of `n_estimators` from 10 till 200 (with step 10)\n",
    "* Fix the random seed: `random_state=1`\n",
    "\n",
    "\n",
    "What's the best `max_depth`:\n",
    "\n",
    "* 10\n",
    "* 15\n",
    "* 20\n",
    "* 25"
   ]
  },
  {
   "cell_type": "code",
   "execution_count": 30,
   "id": "dad10ffd",
   "metadata": {},
   "outputs": [],
   "source": [
    "scores = []\n",
    "\n",
    "for d in [10, 15, 20, 25]:\n",
    "    for n in range(10, 201, 10):\n",
    "        rf = RandomForestRegressor(n_estimators = n, \n",
    "                                   max_depth = d, \n",
    "                                   random_state = 1, \n",
    "                                   n_jobs=-1)\n",
    "        rf.fit(X_train, y_train)\n",
    "\n",
    "        y_pred = rf.predict(X_val)\n",
    "        rmse = mean_squared_error(y_val, y_pred, squared=False)\n",
    "\n",
    "        scores.append((d, n, rmse))"
   ]
  },
  {
   "cell_type": "code",
   "execution_count": 31,
   "id": "8e36e48d",
   "metadata": {},
   "outputs": [
    {
     "data": {
      "text/html": [
       "<div>\n",
       "<style scoped>\n",
       "    .dataframe tbody tr th:only-of-type {\n",
       "        vertical-align: middle;\n",
       "    }\n",
       "\n",
       "    .dataframe tbody tr th {\n",
       "        vertical-align: top;\n",
       "    }\n",
       "\n",
       "    .dataframe thead th {\n",
       "        text-align: right;\n",
       "    }\n",
       "</style>\n",
       "<table border=\"1\" class=\"dataframe\">\n",
       "  <thead>\n",
       "    <tr style=\"text-align: right;\">\n",
       "      <th></th>\n",
       "      <th>max_depth</th>\n",
       "      <th>n_estimators</th>\n",
       "      <th>rmse</th>\n",
       "    </tr>\n",
       "  </thead>\n",
       "  <tbody>\n",
       "    <tr>\n",
       "      <th>0</th>\n",
       "      <td>10</td>\n",
       "      <td>10</td>\n",
       "      <td>0.254599</td>\n",
       "    </tr>\n",
       "    <tr>\n",
       "      <th>1</th>\n",
       "      <td>10</td>\n",
       "      <td>20</td>\n",
       "      <td>0.252577</td>\n",
       "    </tr>\n",
       "    <tr>\n",
       "      <th>2</th>\n",
       "      <td>10</td>\n",
       "      <td>30</td>\n",
       "      <td>0.251463</td>\n",
       "    </tr>\n",
       "    <tr>\n",
       "      <th>3</th>\n",
       "      <td>10</td>\n",
       "      <td>40</td>\n",
       "      <td>0.250919</td>\n",
       "    </tr>\n",
       "    <tr>\n",
       "      <th>4</th>\n",
       "      <td>10</td>\n",
       "      <td>50</td>\n",
       "      <td>0.250069</td>\n",
       "    </tr>\n",
       "    <tr>\n",
       "      <th>...</th>\n",
       "      <td>...</td>\n",
       "      <td>...</td>\n",
       "      <td>...</td>\n",
       "    </tr>\n",
       "    <tr>\n",
       "      <th>75</th>\n",
       "      <td>25</td>\n",
       "      <td>160</td>\n",
       "      <td>0.231485</td>\n",
       "    </tr>\n",
       "    <tr>\n",
       "      <th>76</th>\n",
       "      <td>25</td>\n",
       "      <td>170</td>\n",
       "      <td>0.231436</td>\n",
       "    </tr>\n",
       "    <tr>\n",
       "      <th>77</th>\n",
       "      <td>25</td>\n",
       "      <td>180</td>\n",
       "      <td>0.231552</td>\n",
       "    </tr>\n",
       "    <tr>\n",
       "      <th>78</th>\n",
       "      <td>25</td>\n",
       "      <td>190</td>\n",
       "      <td>0.231530</td>\n",
       "    </tr>\n",
       "    <tr>\n",
       "      <th>79</th>\n",
       "      <td>25</td>\n",
       "      <td>200</td>\n",
       "      <td>0.231417</td>\n",
       "    </tr>\n",
       "  </tbody>\n",
       "</table>\n",
       "<p>80 rows × 3 columns</p>\n",
       "</div>"
      ],
      "text/plain": [
       "    max_depth  n_estimators      rmse\n",
       "0          10            10  0.254599\n",
       "1          10            20  0.252577\n",
       "2          10            30  0.251463\n",
       "3          10            40  0.250919\n",
       "4          10            50  0.250069\n",
       "..        ...           ...       ...\n",
       "75         25           160  0.231485\n",
       "76         25           170  0.231436\n",
       "77         25           180  0.231552\n",
       "78         25           190  0.231530\n",
       "79         25           200  0.231417\n",
       "\n",
       "[80 rows x 3 columns]"
      ]
     },
     "execution_count": 31,
     "metadata": {},
     "output_type": "execute_result"
    }
   ],
   "source": [
    "columns = ['max_depth', 'n_estimators', 'rmse']\n",
    "df_scores = pd.DataFrame(scores, columns=columns)\n",
    "df_scores"
   ]
  },
  {
   "cell_type": "code",
   "execution_count": 32,
   "id": "0e309126",
   "metadata": {},
   "outputs": [
    {
     "data": {
      "image/png": "[encoded data removed]",
      "text/plain": [
       "<Figure size 640x480 with 1 Axes>"
      ]
     },
     "metadata": {},
     "output_type": "display_data"
    }
   ],
   "source": [
    "for d in [10, 15, 20, 25]:\n",
    "    df_subset = df_scores[df_scores.max_depth == d]\n",
    "    \n",
    "    plt.plot(df_subset.n_estimators, df_subset.rmse,\n",
    "             label='max_depth=%d' % d)\n",
    "\n",
    "\n",
    "plt.legend()\n",
    "plt.xlabel('number of trees')\n",
    "plt.ylabel('rmse')\n",
    "plt.show()"
   ]
  },
  {
   "cell_type": "markdown",
   "id": "82f736dc",
   "metadata": {},
   "source": [
    "**Answer to question 4:**\n",
    "\n",
    "Best `max_depth` is `25` , as with `25` we achieve the lowest rmse.\n",
    "\n",
    "***"
   ]
  },
  {
   "cell_type": "markdown",
   "id": "29c275a4",
   "metadata": {},
   "source": [
    "# Question 5\n",
    "\n",
    "We can extract feature importance information from tree-based models. \n",
    "\n",
    "At each step of the decision tree learning algorith, it finds the best split. \n",
    "When doint it, we can calculate \"gain\" - the reduction in impurity before and after the split. \n",
    "This gain is quite useful in understanding what are the imporatant features \n",
    "for tree-based models.\n",
    "\n",
    "In Scikit-Learn, tree-based models contain this information in the\n",
    "[`feature_importances_`](https://scikit-learn.org/stable/modules/generated/sklearn.ensemble.RandomForestRegressor.html#sklearn.ensemble.RandomForestRegressor.feature_importances_)\n",
    "field. \n",
    "\n",
    "For this homework question, we'll find the most important feature:\n",
    "\n",
    "* Train the model with these parametes:\n",
    "    * `n_estimators=10`,\n",
    "    * `max_depth=20`,\n",
    "    * `random_state=1`,\n",
    "    * `n_jobs=-1` (optional)\n",
    "* Get the feature importance information from this model\n",
    "\n",
    "\n",
    "What's the most important feature? \n",
    "\n",
    "* `total_rooms`\n",
    "* `median_income`\t\n",
    "* `total_bedrooms`\n",
    "* `longitude`"
   ]
  },
  {
   "cell_type": "code",
   "execution_count": 33,
   "id": "185d0321",
   "metadata": {},
   "outputs": [
    {
     "data": {
      "text/html": [
       "<style>#sk-container-id-3 {color: black;background-color: white;}#sk-container-id-3 pre{padding: 0;}#sk-container-id-3 div.sk-toggleable {background-color: white;}#sk-container-id-3 label.sk-toggleable__label {cursor: pointer;display: block;width: 100%;margin-bottom: 0;padding: 0.3em;box-sizing: border-box;text-align: center;}#sk-container-id-3 label.sk-toggleable__label-arrow:before {content: \"▸\";float: left;margin-right: 0.25em;color: #696969;}#sk-container-id-3 label.sk-toggleable__label-arrow:hover:before {color: black;}#sk-container-id-3 div.sk-estimator:hover label.sk-toggleable__label-arrow:before {color: black;}#sk-container-id-3 div.sk-toggleable__content {max-height: 0;max-width: 0;overflow: hidden;text-align: left;background-color: #f0f8ff;}#sk-container-id-3 div.sk-toggleable__content pre {margin: 0.2em;color: black;border-radius: 0.25em;background-color: #f0f8ff;}#sk-container-id-3 input.sk-toggleable__control:checked~div.sk-toggleable__content {max-height: 200px;max-width: 100%;overflow: auto;}#sk-container-id-3 input.sk-toggleable__control:checked~label.sk-toggleable__label-arrow:before {content: \"▾\";}#sk-container-id-3 div.sk-estimator input.sk-toggleable__control:checked~label.sk-toggleable__label {background-color: #d4ebff;}#sk-container-id-3 div.sk-label input.sk-toggleable__control:checked~label.sk-toggleable__label {background-color: #d4ebff;}#sk-container-id-3 input.sk-hidden--visually {border: 0;clip: rect(1px 1px 1px 1px);clip: rect(1px, 1px, 1px, 1px);height: 1px;margin: -1px;overflow: hidden;padding: 0;position: absolute;width: 1px;}#sk-container-id-3 div.sk-estimator {font-family: monospace;background-color: #f0f8ff;border: 1px dotted black;border-radius: 0.25em;box-sizing: border-box;margin-bottom: 0.5em;}#sk-container-id-3 div.sk-estimator:hover {background-color: #d4ebff;}#sk-container-id-3 div.sk-parallel-item::after {content: \"\";width: 100%;border-bottom: 1px solid gray;flex-grow: 1;}#sk-container-id-3 div.sk-label:hover label.sk-toggleable__label {background-color: #d4ebff;}#sk-container-id-3 div.sk-serial::before {content: \"\";position: absolute;border-left: 1px solid gray;box-sizing: border-box;top: 0;bottom: 0;left: 50%;z-index: 0;}#sk-container-id-3 div.sk-serial {display: flex;flex-direction: column;align-items: center;background-color: white;padding-right: 0.2em;padding-left: 0.2em;position: relative;}#sk-container-id-3 div.sk-item {position: relative;z-index: 1;}#sk-container-id-3 div.sk-parallel {display: flex;align-items: stretch;justify-content: center;background-color: white;position: relative;}#sk-container-id-3 div.sk-item::before, #sk-container-id-3 div.sk-parallel-item::before {content: \"\";position: absolute;border-left: 1px solid gray;box-sizing: border-box;top: 0;bottom: 0;left: 50%;z-index: -1;}#sk-container-id-3 div.sk-parallel-item {display: flex;flex-direction: column;z-index: 1;position: relative;background-color: white;}#sk-container-id-3 div.sk-parallel-item:first-child::after {align-self: flex-end;width: 50%;}#sk-container-id-3 div.sk-parallel-item:last-child::after {align-self: flex-start;width: 50%;}#sk-container-id-3 div.sk-parallel-item:only-child::after {width: 0;}#sk-container-id-3 div.sk-dashed-wrapped {border: 1px dashed gray;margin: 0 0.4em 0.5em 0.4em;box-sizing: border-box;padding-bottom: 0.4em;background-color: white;}#sk-container-id-3 div.sk-label label {font-family: monospace;font-weight: bold;display: inline-block;line-height: 1.2em;}#sk-container-id-3 div.sk-label-container {text-align: center;}#sk-container-id-3 div.sk-container {/* jupyter's `normalize.less` sets `[hidden] { display: none; }` but bootstrap.min.css set `[hidden] { display: none !important; }` so we also need the `!important` here to be able to override the default hidden behavior on the sphinx rendered scikit-learn.org. See: https://github.com/scikit-learn/scikit-learn/issues/21755 */display: inline-block !important;position: relative;}#sk-container-id-3 div.sk-text-repr-fallback {display: none;}</style><div id=\"sk-container-id-3\" class=\"sk-top-container\"><div class=\"sk-text-repr-fallback\"><pre>RandomForestRegressor(max_depth=20, n_estimators=10, n_jobs=-1, random_state=1)</pre><b>In a Jupyter environment, please rerun this cell to show the HTML representation or trust the notebook. <br />On GitHub, the HTML representation is unable to render, please try loading this page with nbviewer.org.</b></div><div class=\"sk-container\" hidden><div class=\"sk-item\"><div class=\"sk-estimator sk-toggleable\"><input class=\"sk-toggleable__control sk-hidden--visually\" id=\"sk-estimator-id-3\" type=\"checkbox\" checked><label for=\"sk-estimator-id-3\" class=\"sk-toggleable__label sk-toggleable__label-arrow\">RandomForestRegressor</label><div class=\"sk-toggleable__content\"><pre>RandomForestRegressor(max_depth=20, n_estimators=10, n_jobs=-1, random_state=1)</pre></div></div></div></div></div>"
      ],
      "text/plain": [
       "RandomForestRegressor(max_depth=20, n_estimators=10, n_jobs=-1, random_state=1)"
      ]
     },
     "execution_count": 33,
     "metadata": {},
     "output_type": "execute_result"
    }
   ],
   "source": [
    "rf = RandomForestRegressor(n_estimators = 10,\n",
    "                           max_depth = 20,\n",
    "                           random_state = 1,\n",
    "                           n_jobs=-1)\n",
    "\n",
    "rf.fit(X_train, y_train)"
   ]
  },
  {
   "cell_type": "code",
   "execution_count": 34,
   "id": "f1a549ca",
   "metadata": {},
   "outputs": [
    {
     "data": {
      "text/plain": [
       "array([1.63873827e-02, 3.31454580e-02, 1.01255849e-01, 9.64702137e-02,\n",
       "       3.63325843e-01, 2.48880276e-03, 3.10900842e-01, 3.56806263e-04,\n",
       "       4.80369796e-04, 4.69876693e-03, 3.07769212e-02, 1.91716318e-02,\n",
       "       2.05411131e-02])"
      ]
     },
     "execution_count": 34,
     "metadata": {},
     "output_type": "execute_result"
    }
   ],
   "source": [
    "rf.feature_importances_"
   ]
  },
  {
   "cell_type": "code",
   "execution_count": 35,
   "id": "3d9f5459",
   "metadata": {},
   "outputs": [
    {
     "data": {
      "text/html": [
       "<div>\n",
       "<style scoped>\n",
       "    .dataframe tbody tr th:only-of-type {\n",
       "        vertical-align: middle;\n",
       "    }\n",
       "\n",
       "    .dataframe tbody tr th {\n",
       "        vertical-align: top;\n",
       "    }\n",
       "\n",
       "    .dataframe thead th {\n",
       "        text-align: right;\n",
       "    }\n",
       "</style>\n",
       "<table border=\"1\" class=\"dataframe\">\n",
       "  <thead>\n",
       "    <tr style=\"text-align: right;\">\n",
       "      <th></th>\n",
       "      <th>feature</th>\n",
       "      <th>importance</th>\n",
       "    </tr>\n",
       "  </thead>\n",
       "  <tbody>\n",
       "    <tr>\n",
       "      <th>0</th>\n",
       "      <td>households</td>\n",
       "      <td>0.016387</td>\n",
       "    </tr>\n",
       "    <tr>\n",
       "      <th>1</th>\n",
       "      <td>housing_median_age</td>\n",
       "      <td>0.033145</td>\n",
       "    </tr>\n",
       "    <tr>\n",
       "      <th>2</th>\n",
       "      <td>latitude</td>\n",
       "      <td>0.101256</td>\n",
       "    </tr>\n",
       "    <tr>\n",
       "      <th>3</th>\n",
       "      <td>longitude</td>\n",
       "      <td>0.096470</td>\n",
       "    </tr>\n",
       "    <tr>\n",
       "      <th>4</th>\n",
       "      <td>median_income</td>\n",
       "      <td>0.363326</td>\n",
       "    </tr>\n",
       "    <tr>\n",
       "      <th>5</th>\n",
       "      <td>ocean_proximity=&lt;1H OCEAN</td>\n",
       "      <td>0.002489</td>\n",
       "    </tr>\n",
       "    <tr>\n",
       "      <th>6</th>\n",
       "      <td>ocean_proximity=INLAND</td>\n",
       "      <td>0.310901</td>\n",
       "    </tr>\n",
       "    <tr>\n",
       "      <th>7</th>\n",
       "      <td>ocean_proximity=ISLAND</td>\n",
       "      <td>0.000357</td>\n",
       "    </tr>\n",
       "    <tr>\n",
       "      <th>8</th>\n",
       "      <td>ocean_proximity=NEAR BAY</td>\n",
       "      <td>0.000480</td>\n",
       "    </tr>\n",
       "    <tr>\n",
       "      <th>9</th>\n",
       "      <td>ocean_proximity=NEAR OCEAN</td>\n",
       "      <td>0.004699</td>\n",
       "    </tr>\n",
       "    <tr>\n",
       "      <th>10</th>\n",
       "      <td>population</td>\n",
       "      <td>0.030777</td>\n",
       "    </tr>\n",
       "    <tr>\n",
       "      <th>11</th>\n",
       "      <td>total_bedrooms</td>\n",
       "      <td>0.019172</td>\n",
       "    </tr>\n",
       "    <tr>\n",
       "      <th>12</th>\n",
       "      <td>total_rooms</td>\n",
       "      <td>0.020541</td>\n",
       "    </tr>\n",
       "  </tbody>\n",
       "</table>\n",
       "</div>"
      ],
      "text/plain": [
       "                       feature  importance\n",
       "0                   households    0.016387\n",
       "1           housing_median_age    0.033145\n",
       "2                     latitude    0.101256\n",
       "3                    longitude    0.096470\n",
       "4                median_income    0.363326\n",
       "5    ocean_proximity=<1H OCEAN    0.002489\n",
       "6       ocean_proximity=INLAND    0.310901\n",
       "7       ocean_proximity=ISLAND    0.000357\n",
       "8     ocean_proximity=NEAR BAY    0.000480\n",
       "9   ocean_proximity=NEAR OCEAN    0.004699\n",
       "10                  population    0.030777\n",
       "11              total_bedrooms    0.019172\n",
       "12                 total_rooms    0.020541"
      ]
     },
     "execution_count": 35,
     "metadata": {},
     "output_type": "execute_result"
    }
   ],
   "source": [
    "df_importances = pd.DataFrame()\n",
    "df_importances['feature'] = dv.get_feature_names_out()\n",
    "df_importances['importance'] = rf.feature_importances_\n",
    "df_importances"
   ]
  },
  {
   "cell_type": "code",
   "execution_count": 36,
   "id": "7f683ac6",
   "metadata": {},
   "outputs": [
    {
     "data": {
      "text/html": [
       "<div>\n",
       "<style scoped>\n",
       "    .dataframe tbody tr th:only-of-type {\n",
       "        vertical-align: middle;\n",
       "    }\n",
       "\n",
       "    .dataframe tbody tr th {\n",
       "        vertical-align: top;\n",
       "    }\n",
       "\n",
       "    .dataframe thead th {\n",
       "        text-align: right;\n",
       "    }\n",
       "</style>\n",
       "<table border=\"1\" class=\"dataframe\">\n",
       "  <thead>\n",
       "    <tr style=\"text-align: right;\">\n",
       "      <th></th>\n",
       "      <th>feature</th>\n",
       "      <th>importance</th>\n",
       "    </tr>\n",
       "  </thead>\n",
       "  <tbody>\n",
       "    <tr>\n",
       "      <th>4</th>\n",
       "      <td>median_income</td>\n",
       "      <td>0.363326</td>\n",
       "    </tr>\n",
       "    <tr>\n",
       "      <th>6</th>\n",
       "      <td>ocean_proximity=INLAND</td>\n",
       "      <td>0.310901</td>\n",
       "    </tr>\n",
       "    <tr>\n",
       "      <th>2</th>\n",
       "      <td>latitude</td>\n",
       "      <td>0.101256</td>\n",
       "    </tr>\n",
       "    <tr>\n",
       "      <th>3</th>\n",
       "      <td>longitude</td>\n",
       "      <td>0.096470</td>\n",
       "    </tr>\n",
       "    <tr>\n",
       "      <th>1</th>\n",
       "      <td>housing_median_age</td>\n",
       "      <td>0.033145</td>\n",
       "    </tr>\n",
       "    <tr>\n",
       "      <th>10</th>\n",
       "      <td>population</td>\n",
       "      <td>0.030777</td>\n",
       "    </tr>\n",
       "    <tr>\n",
       "      <th>12</th>\n",
       "      <td>total_rooms</td>\n",
       "      <td>0.020541</td>\n",
       "    </tr>\n",
       "    <tr>\n",
       "      <th>11</th>\n",
       "      <td>total_bedrooms</td>\n",
       "      <td>0.019172</td>\n",
       "    </tr>\n",
       "    <tr>\n",
       "      <th>0</th>\n",
       "      <td>households</td>\n",
       "      <td>0.016387</td>\n",
       "    </tr>\n",
       "    <tr>\n",
       "      <th>9</th>\n",
       "      <td>ocean_proximity=NEAR OCEAN</td>\n",
       "      <td>0.004699</td>\n",
       "    </tr>\n",
       "    <tr>\n",
       "      <th>5</th>\n",
       "      <td>ocean_proximity=&lt;1H OCEAN</td>\n",
       "      <td>0.002489</td>\n",
       "    </tr>\n",
       "    <tr>\n",
       "      <th>8</th>\n",
       "      <td>ocean_proximity=NEAR BAY</td>\n",
       "      <td>0.000480</td>\n",
       "    </tr>\n",
       "    <tr>\n",
       "      <th>7</th>\n",
       "      <td>ocean_proximity=ISLAND</td>\n",
       "      <td>0.000357</td>\n",
       "    </tr>\n",
       "  </tbody>\n",
       "</table>\n",
       "</div>"
      ],
      "text/plain": [
       "                       feature  importance\n",
       "4                median_income    0.363326\n",
       "6       ocean_proximity=INLAND    0.310901\n",
       "2                     latitude    0.101256\n",
       "3                    longitude    0.096470\n",
       "1           housing_median_age    0.033145\n",
       "10                  population    0.030777\n",
       "12                 total_rooms    0.020541\n",
       "11              total_bedrooms    0.019172\n",
       "0                   households    0.016387\n",
       "9   ocean_proximity=NEAR OCEAN    0.004699\n",
       "5    ocean_proximity=<1H OCEAN    0.002489\n",
       "8     ocean_proximity=NEAR BAY    0.000480\n",
       "7       ocean_proximity=ISLAND    0.000357"
      ]
     },
     "execution_count": 36,
     "metadata": {},
     "output_type": "execute_result"
    }
   ],
   "source": [
    "df_importances.sort_values(by='importance', ascending=False)"
   ]
  },
  {
   "cell_type": "code",
   "execution_count": 37,
   "id": "1d608163",
   "metadata": {},
   "outputs": [
    {
     "data": {
      "text/plain": [
       "pandas.core.series.Series"
      ]
     },
     "execution_count": 37,
     "metadata": {},
     "output_type": "execute_result"
    }
   ],
   "source": [
    "type(df_importances.feature)"
   ]
  },
  {
   "cell_type": "code",
   "execution_count": 43,
   "id": "3118042a",
   "metadata": {},
   "outputs": [
    {
     "data": {
      "text/plain": [
       "Text(0.5, 0, 'Random Forest Feature Importance')"
      ]
     },
     "execution_count": 43,
     "metadata": {},
     "output_type": "execute_result"
    },
    {
     "data": {
      "image/png": "[encoded data removed]",
      "text/plain": [
       "<Figure size 640x480 with 1 Axes>"
      ]
     },
     "metadata": {},
     "output_type": "display_data"
    }
   ],
   "source": [
    "plt.barh(df_importances.feature, df_importances.importance, color = 'green')\n",
    "plt.xlabel(\"Random Forest Feature Importance\")"
   ]
  },
  {
   "cell_type": "markdown",
   "id": "0a4d4bca",
   "metadata": {},
   "source": [
    "**Answer to question 5:**\n",
    "    \n",
    "`median_income` is the most important feature.\n",
    "\n",
    "***"
   ]
  },
  {
   "cell_type": "markdown",
   "id": "aa95b900",
   "metadata": {},
   "source": [
    "## Question 6\n",
    "\n",
    "Now let's train an XGBoost model! For this question, we'll tune the `eta` parameter:\n",
    "\n",
    "* Install XGBoost\n",
    "* Create DMatrix for train and validation\n",
    "* Create a watchlist\n",
    "* Train a model with these parameters for 100 rounds:\n",
    "\n",
    "```\n",
    "xgb_params = {\n",
    "    'eta': 0.3, \n",
    "    'max_depth': 6,\n",
    "    'min_child_weight': 1,\n",
    "    \n",
    "    'objective': 'reg:squarederror',\n",
    "    'nthread': 8,\n",
    "    \n",
    "    'seed': 1,\n",
    "    'verbosity': 1,\n",
    "}\n",
    "```\n",
    "\n",
    "Now change `eta` from `0.3` to `0.1`.\n",
    "\n",
    "Which eta leads to the best RMSE score on the validation dataset?\n",
    "\n",
    "* 0.3\n",
    "* 0.1\n",
    "* Both gives same"
   ]
  },
  {
   "cell_type": "code",
   "execution_count": 48,
   "id": "4ad39aff",
   "metadata": {},
   "outputs": [
    {
     "name": "stdout",
     "output_type": "stream",
     "text": [
      "Requirement already satisfied: xgboost in /home/bsarma/anaconda3/envs/ml-zoomcamp/lib/python3.9/site-packages (1.6.2)\r\n",
      "Requirement already satisfied: numpy in /home/bsarma/anaconda3/envs/ml-zoomcamp/lib/python3.9/site-packages (from xgboost) (1.21.5)\r\n",
      "Requirement already satisfied: scipy in /home/bsarma/anaconda3/envs/ml-zoomcamp/lib/python3.9/site-packages (from xgboost) (1.7.3)\r\n"
     ]
    }
   ],
   "source": [
    "!pip install xgboost"
   ]
  },
  {
   "cell_type": "code",
   "execution_count": 49,
   "id": "7a89cb75",
   "metadata": {},
   "outputs": [],
   "source": [
    "import xgboost as xgb"
   ]
  },
  {
   "cell_type": "code",
   "execution_count": 50,
   "id": "af622519",
   "metadata": {},
   "outputs": [
    {
     "data": {
      "text/plain": [
       "array(['households', 'housing_median_age', 'latitude', 'longitude',\n",
       "       'median_income', 'ocean_proximity=<1H OCEAN',\n",
       "       'ocean_proximity=INLAND', 'ocean_proximity=ISLAND',\n",
       "       'ocean_proximity=NEAR BAY', 'ocean_proximity=NEAR OCEAN',\n",
       "       'population', 'total_bedrooms', 'total_rooms'], dtype=object)"
      ]
     },
     "execution_count": 50,
     "metadata": {},
     "output_type": "execute_result"
    }
   ],
   "source": [
    "features = dv.get_feature_names_out()\n",
    "features "
   ]
  },
  {
   "cell_type": "code",
   "execution_count": 51,
   "id": "a1606b7c",
   "metadata": {},
   "outputs": [
    {
     "ename": "ValueError",
     "evalue": "feature_names must be string, and may not contain [, ] or <",
     "output_type": "error",
     "traceback": [
      "\u001b[0;31m---------------------------------------------------------------------------\u001b[0m",
      "\u001b[0;31mValueError\u001b[0m                                Traceback (most recent call last)",
      "Input \u001b[0;32mIn [51]\u001b[0m, in \u001b[0;36m<cell line: 1>\u001b[0;34m()\u001b[0m\n\u001b[0;32m----> 1\u001b[0m dtrain \u001b[38;5;241m=\u001b[39m \u001b[43mxgb\u001b[49m\u001b[38;5;241;43m.\u001b[39;49m\u001b[43mDMatrix\u001b[49m\u001b[43m(\u001b[49m\u001b[43mX_train\u001b[49m\u001b[43m,\u001b[49m\u001b[43m \u001b[49m\u001b[43mlabel\u001b[49m\u001b[38;5;241;43m=\u001b[39;49m\u001b[43my_train\u001b[49m\u001b[43m,\u001b[49m\u001b[43m \u001b[49m\u001b[43mfeature_names\u001b[49m\u001b[38;5;241;43m=\u001b[39;49m\u001b[43mfeatures\u001b[49m\u001b[43m)\u001b[49m\n\u001b[1;32m      2\u001b[0m dval \u001b[38;5;241m=\u001b[39m xgb\u001b[38;5;241m.\u001b[39mDMatrix(X_val, label\u001b[38;5;241m=\u001b[39my_val, feature_names\u001b[38;5;241m=\u001b[39mfeatures)\n",
      "File \u001b[0;32m~/anaconda3/envs/ml-zoomcamp/lib/python3.9/site-packages/xgboost/core.py:575\u001b[0m, in \u001b[0;36m_deprecate_positional_args.<locals>.inner_f\u001b[0;34m(*args, **kwargs)\u001b[0m\n\u001b[1;32m    573\u001b[0m \u001b[38;5;28;01mfor\u001b[39;00m k, arg \u001b[38;5;129;01min\u001b[39;00m \u001b[38;5;28mzip\u001b[39m(sig\u001b[38;5;241m.\u001b[39mparameters, args):\n\u001b[1;32m    574\u001b[0m     kwargs[k] \u001b[38;5;241m=\u001b[39m arg\n\u001b[0;32m--> 575\u001b[0m \u001b[38;5;28;01mreturn\u001b[39;00m \u001b[43mf\u001b[49m\u001b[43m(\u001b[49m\u001b[38;5;241;43m*\u001b[39;49m\u001b[38;5;241;43m*\u001b[39;49m\u001b[43mkwargs\u001b[49m\u001b[43m)\u001b[49m\n",
      "File \u001b[0;32m~/anaconda3/envs/ml-zoomcamp/lib/python3.9/site-packages/xgboost/core.py:709\u001b[0m, in \u001b[0;36mDMatrix.__init__\u001b[0;34m(self, data, label, weight, base_margin, missing, silent, feature_names, feature_types, nthread, group, qid, label_lower_bound, label_upper_bound, feature_weights, enable_categorical)\u001b[0m\n\u001b[1;32m    697\u001b[0m \u001b[38;5;28mself\u001b[39m\u001b[38;5;241m.\u001b[39mset_info(\n\u001b[1;32m    698\u001b[0m     label\u001b[38;5;241m=\u001b[39mlabel,\n\u001b[1;32m    699\u001b[0m     weight\u001b[38;5;241m=\u001b[39mweight,\n\u001b[0;32m   (...)\u001b[0m\n\u001b[1;32m    705\u001b[0m     feature_weights\u001b[38;5;241m=\u001b[39mfeature_weights,\n\u001b[1;32m    706\u001b[0m )\n\u001b[1;32m    708\u001b[0m \u001b[38;5;28;01mif\u001b[39;00m feature_names \u001b[38;5;129;01mis\u001b[39;00m \u001b[38;5;129;01mnot\u001b[39;00m \u001b[38;5;28;01mNone\u001b[39;00m:\n\u001b[0;32m--> 709\u001b[0m     \u001b[38;5;28mself\u001b[39m\u001b[38;5;241m.\u001b[39mfeature_names \u001b[38;5;241m=\u001b[39m feature_names\n\u001b[1;32m    710\u001b[0m \u001b[38;5;28;01mif\u001b[39;00m feature_types \u001b[38;5;129;01mis\u001b[39;00m \u001b[38;5;129;01mnot\u001b[39;00m \u001b[38;5;28;01mNone\u001b[39;00m:\n\u001b[1;32m    711\u001b[0m     \u001b[38;5;28mself\u001b[39m\u001b[38;5;241m.\u001b[39mfeature_types \u001b[38;5;241m=\u001b[39m feature_types\n",
      "File \u001b[0;32m~/anaconda3/envs/ml-zoomcamp/lib/python3.9/site-packages/xgboost/core.py:1087\u001b[0m, in \u001b[0;36mDMatrix.feature_names\u001b[0;34m(self, feature_names)\u001b[0m\n\u001b[1;32m   1083\u001b[0m \u001b[38;5;66;03m# prohibit to use symbols may affect to parse. e.g. []<\u001b[39;00m\n\u001b[1;32m   1084\u001b[0m \u001b[38;5;28;01mif\u001b[39;00m \u001b[38;5;129;01mnot\u001b[39;00m \u001b[38;5;28mall\u001b[39m(\u001b[38;5;28misinstance\u001b[39m(f, \u001b[38;5;28mstr\u001b[39m) \u001b[38;5;129;01mand\u001b[39;00m\n\u001b[1;32m   1085\u001b[0m            \u001b[38;5;129;01mnot\u001b[39;00m \u001b[38;5;28many\u001b[39m(x \u001b[38;5;129;01min\u001b[39;00m f \u001b[38;5;28;01mfor\u001b[39;00m x \u001b[38;5;129;01min\u001b[39;00m \u001b[38;5;28mset\u001b[39m((\u001b[38;5;124m'\u001b[39m\u001b[38;5;124m[\u001b[39m\u001b[38;5;124m'\u001b[39m, \u001b[38;5;124m'\u001b[39m\u001b[38;5;124m]\u001b[39m\u001b[38;5;124m'\u001b[39m, \u001b[38;5;124m'\u001b[39m\u001b[38;5;124m<\u001b[39m\u001b[38;5;124m'\u001b[39m)))\n\u001b[1;32m   1086\u001b[0m            \u001b[38;5;28;01mfor\u001b[39;00m f \u001b[38;5;129;01min\u001b[39;00m feature_names):\n\u001b[0;32m-> 1087\u001b[0m     \u001b[38;5;28;01mraise\u001b[39;00m \u001b[38;5;167;01mValueError\u001b[39;00m(\u001b[38;5;124m'\u001b[39m\u001b[38;5;124mfeature_names must be string, and may not contain [, ] or <\u001b[39m\u001b[38;5;124m'\u001b[39m)\n\u001b[1;32m   1088\u001b[0m feature_names_bytes \u001b[38;5;241m=\u001b[39m [\u001b[38;5;28mbytes\u001b[39m(f, encoding\u001b[38;5;241m=\u001b[39m\u001b[38;5;124m'\u001b[39m\u001b[38;5;124mutf-8\u001b[39m\u001b[38;5;124m'\u001b[39m) \u001b[38;5;28;01mfor\u001b[39;00m f \u001b[38;5;129;01min\u001b[39;00m feature_names]\n\u001b[1;32m   1089\u001b[0m c_feature_names \u001b[38;5;241m=\u001b[39m (ctypes\u001b[38;5;241m.\u001b[39mc_char_p \u001b[38;5;241m*\u001b[39m\n\u001b[1;32m   1090\u001b[0m                    \u001b[38;5;28mlen\u001b[39m(feature_names_bytes))(\u001b[38;5;241m*\u001b[39mfeature_names_bytes)\n",
      "\u001b[0;31mValueError\u001b[0m: feature_names must be string, and may not contain [, ] or <"
     ]
    }
   ],
   "source": [
    "dtrain = xgb.DMatrix(X_train, label=y_train, feature_names=features)\n",
    "dval = xgb.DMatrix(X_val, label=y_val, feature_names=features)"
   ]
  },
  {
   "cell_type": "markdown",
   "id": "fb2bcb34",
   "metadata": {},
   "source": [
    "We need to remove the above error:"
   ]
  },
  {
   "cell_type": "code",
   "execution_count": 52,
   "id": "f453a648",
   "metadata": {},
   "outputs": [
    {
     "data": {
      "text/plain": [
       "['households',\n",
       " 'housing_median_age',\n",
       " 'latitude',\n",
       " 'longitude',\n",
       " 'median_income',\n",
       " 'ocean_proximity_1H OCEAN',\n",
       " 'ocean_proximity_INLAND',\n",
       " 'ocean_proximity_ISLAND',\n",
       " 'ocean_proximity_NEAR BAY',\n",
       " 'ocean_proximity_NEAR OCEAN',\n",
       " 'population',\n",
       " 'total_bedrooms',\n",
       " 'total_rooms']"
      ]
     },
     "execution_count": 52,
     "metadata": {},
     "output_type": "execute_result"
    }
   ],
   "source": [
    "features= [i.replace(\"=<\", \"_\").replace(\"=\",\"_\") for i in features]  #thanks FAQ and slack\n",
    "features"
   ]
  },
  {
   "cell_type": "code",
   "execution_count": 53,
   "id": "3e204013",
   "metadata": {},
   "outputs": [],
   "source": [
    "dtrain = xgb.DMatrix(X_train, label=y_train, feature_names=features)\n",
    "dval = xgb.DMatrix(X_val, label=y_val, feature_names=features)"
   ]
  },
  {
   "cell_type": "code",
   "execution_count": 54,
   "id": "07728e1b",
   "metadata": {},
   "outputs": [],
   "source": [
    "watchlist = [(dtrain, 'train'), (dval, 'val')]"
   ]
  },
  {
   "cell_type": "code",
   "execution_count": 55,
   "id": "10508766",
   "metadata": {},
   "outputs": [],
   "source": [
    "scores = {}"
   ]
  },
  {
   "cell_type": "code",
   "execution_count": 56,
   "id": "3b816027",
   "metadata": {},
   "outputs": [],
   "source": [
    "%%capture output\n",
    "\n",
    "xgb_params = {\n",
    "    'eta': 0.3, \n",
    "    'max_depth': 6,\n",
    "    'min_child_weight': 1,\n",
    "\n",
    "    'objective': 'reg:squarederror',    \n",
    "    'nthread': 8,\n",
    "\n",
    "    'seed': 1,\n",
    "    'verbosity': 1,\n",
    "}\n",
    "model = xgb.train(xgb_params, dtrain, num_boost_round=100, evals=watchlist)"
   ]
  },
  {
   "cell_type": "code",
   "execution_count": 76,
   "id": "0e641e72",
   "metadata": {},
   "outputs": [
    {
     "name": "stdout",
     "output_type": "stream",
     "text": [
      "[0]\ttrain-rmse:10.44372\tval-rmse:10.44938\n",
      "[1]\ttrain-rmse:9.40118\tval-rmse:9.40684\n",
      "[2]\ttrain-rmse:8.46290\tval-rmse:8.46831\n",
      "[3]\ttrain-rmse:7.61859\tval-rmse:7.62391\n",
      "[4]\ttrain-rmse:6.85878\tval-rmse:6.86368\n",
      "[5]\ttrain-rmse:6.17513\tval-rmse:6.17987\n",
      "[6]\ttrain-rmse:5.55994\tval-rmse:5.56437\n",
      "[7]\ttrain-rmse:5.00643\tval-rmse:5.01061\n",
      "[8]\ttrain-rmse:4.50846\tval-rmse:4.51264\n",
      "[9]\ttrain-rmse:4.06043\tval-rmse:4.06461\n",
      "[10]\ttrain-rmse:3.65741\tval-rmse:3.66135\n",
      "[11]\ttrain-rmse:3.29492\tval-rmse:3.29877\n",
      "[12]\ttrain-rmse:2.96894\tval-rmse:2.97284\n",
      "[13]\ttrain-rmse:2.67573\tval-rmse:2.67979\n",
      "[14]\ttrain-rmse:2.41195\tval-rmse:2.41587\n",
      "[15]\ttrain-rmse:2.17500\tval-rmse:2.17928\n",
      "[16]\ttrain-rmse:1.96214\tval-rmse:1.96662\n",
      "[17]\ttrain-rmse:1.77065\tval-rmse:1.77536\n",
      "[18]\ttrain-rmse:1.59880\tval-rmse:1.60396\n",
      "[19]\ttrain-rmse:1.44376\tval-rmse:1.44910\n",
      "[20]\ttrain-rmse:1.30499\tval-rmse:1.31054\n",
      "[21]\ttrain-rmse:1.18080\tval-rmse:1.18646\n",
      "[22]\ttrain-rmse:1.06879\tval-rmse:1.07469\n",
      "[23]\ttrain-rmse:0.96912\tval-rmse:0.97546\n",
      "[24]\ttrain-rmse:0.87914\tval-rmse:0.88576\n",
      "[25]\ttrain-rmse:0.79933\tval-rmse:0.80657\n",
      "[26]\ttrain-rmse:0.72790\tval-rmse:0.73566\n",
      "[27]\ttrain-rmse:0.66451\tval-rmse:0.67282\n",
      "[28]\ttrain-rmse:0.60723\tval-rmse:0.61618\n",
      "[29]\ttrain-rmse:0.55636\tval-rmse:0.56601\n",
      "[30]\ttrain-rmse:0.51144\tval-rmse:0.52189\n",
      "[31]\ttrain-rmse:0.47189\tval-rmse:0.48338\n",
      "[32]\ttrain-rmse:0.43732\tval-rmse:0.44960\n",
      "[33]\ttrain-rmse:0.40669\tval-rmse:0.41992\n",
      "[34]\ttrain-rmse:0.38017\tval-rmse:0.39439\n",
      "[35]\ttrain-rmse:0.35700\tval-rmse:0.37264\n",
      "[36]\ttrain-rmse:0.33733\tval-rmse:0.35398\n",
      "[37]\ttrain-rmse:0.31985\tval-rmse:0.33778\n",
      "[38]\ttrain-rmse:0.30449\tval-rmse:0.32340\n",
      "[39]\ttrain-rmse:0.29115\tval-rmse:0.31104\n",
      "[40]\ttrain-rmse:0.27984\tval-rmse:0.30053\n",
      "[41]\ttrain-rmse:0.27067\tval-rmse:0.29195\n",
      "[42]\ttrain-rmse:0.26257\tval-rmse:0.28468\n",
      "[43]\ttrain-rmse:0.25532\tval-rmse:0.27832\n",
      "[44]\ttrain-rmse:0.24897\tval-rmse:0.27269\n",
      "[45]\ttrain-rmse:0.24350\tval-rmse:0.26829\n",
      "[46]\ttrain-rmse:0.23912\tval-rmse:0.26437\n",
      "[47]\ttrain-rmse:0.23532\tval-rmse:0.26091\n",
      "[48]\ttrain-rmse:0.23170\tval-rmse:0.25803\n",
      "[49]\ttrain-rmse:0.22852\tval-rmse:0.25521\n",
      "[50]\ttrain-rmse:0.22614\tval-rmse:0.25334\n",
      "[51]\ttrain-rmse:0.22366\tval-rmse:0.25115\n",
      "[52]\ttrain-rmse:0.22167\tval-rmse:0.24976\n",
      "[53]\ttrain-rmse:0.22027\tval-rmse:0.24876\n",
      "[54]\ttrain-rmse:0.21843\tval-rmse:0.24751\n",
      "[55]\ttrain-rmse:0.21695\tval-rmse:0.24657\n",
      "[56]\ttrain-rmse:0.21568\tval-rmse:0.24560\n",
      "[57]\ttrain-rmse:0.21454\tval-rmse:0.24480\n",
      "[58]\ttrain-rmse:0.21336\tval-rmse:0.24411\n",
      "[59]\ttrain-rmse:0.21237\tval-rmse:0.24341\n",
      "[60]\ttrain-rmse:0.21035\tval-rmse:0.24189\n",
      "[61]\ttrain-rmse:0.20927\tval-rmse:0.24115\n",
      "[62]\ttrain-rmse:0.20870\tval-rmse:0.24089\n",
      "[63]\ttrain-rmse:0.20760\tval-rmse:0.24046\n",
      "[64]\ttrain-rmse:0.20723\tval-rmse:0.24036\n",
      "[65]\ttrain-rmse:0.20579\tval-rmse:0.23943\n",
      "[66]\ttrain-rmse:0.20510\tval-rmse:0.23908\n",
      "[67]\ttrain-rmse:0.20389\tval-rmse:0.23836\n",
      "[68]\ttrain-rmse:0.20302\tval-rmse:0.23798\n",
      "[69]\ttrain-rmse:0.20189\tval-rmse:0.23725\n",
      "[70]\ttrain-rmse:0.20116\tval-rmse:0.23684\n",
      "[71]\ttrain-rmse:0.20053\tval-rmse:0.23649\n",
      "[72]\ttrain-rmse:0.19928\tval-rmse:0.23587\n",
      "[73]\ttrain-rmse:0.19856\tval-rmse:0.23550\n",
      "[74]\ttrain-rmse:0.19760\tval-rmse:0.23523\n",
      "[75]\ttrain-rmse:0.19680\tval-rmse:0.23507\n",
      "[76]\ttrain-rmse:0.19636\tval-rmse:0.23491\n",
      "[77]\ttrain-rmse:0.19561\tval-rmse:0.23446\n",
      "[78]\ttrain-rmse:0.19482\tval-rmse:0.23427\n",
      "[79]\ttrain-rmse:0.19438\tval-rmse:0.23423\n",
      "[80]\ttrain-rmse:0.19384\tval-rmse:0.23398\n",
      "[81]\ttrain-rmse:0.19334\tval-rmse:0.23392\n",
      "[82]\ttrain-rmse:0.19266\tval-rmse:0.23364\n",
      "[83]\ttrain-rmse:0.19212\tval-rmse:0.23330\n",
      "[84]\ttrain-rmse:0.19129\tval-rmse:0.23289\n",
      "[85]\ttrain-rmse:0.19085\tval-rmse:0.23275\n",
      "[86]\ttrain-rmse:0.19008\tval-rmse:0.23266\n",
      "[87]\ttrain-rmse:0.18941\tval-rmse:0.23230\n",
      "[88]\ttrain-rmse:0.18903\tval-rmse:0.23228\n",
      "[89]\ttrain-rmse:0.18855\tval-rmse:0.23220\n",
      "[90]\ttrain-rmse:0.18794\tval-rmse:0.23206\n",
      "[91]\ttrain-rmse:0.18728\tval-rmse:0.23167\n",
      "[92]\ttrain-rmse:0.18691\tval-rmse:0.23162\n",
      "[93]\ttrain-rmse:0.18620\tval-rmse:0.23117\n",
      "[94]\ttrain-rmse:0.18586\tval-rmse:0.23104\n",
      "[95]\ttrain-rmse:0.18541\tval-rmse:0.23106\n",
      "[96]\ttrain-rmse:0.18470\tval-rmse:0.23089\n",
      "[97]\ttrain-rmse:0.18405\tval-rmse:0.23067\n",
      "[98]\ttrain-rmse:0.18385\tval-rmse:0.23057\n",
      "[99]\ttrain-rmse:0.18329\tval-rmse:0.23054\n",
      "\n"
     ]
    }
   ],
   "source": [
    "print(output.stdout)"
   ]
  },
  {
   "cell_type": "code",
   "execution_count": 77,
   "id": "584875ec",
   "metadata": {},
   "outputs": [],
   "source": [
    "def parse_xgb_output(output):\n",
    "    results = []\n",
    "\n",
    "    for line in output.stdout.strip().split('\\n'):\n",
    "        it_line, train_line, val_line = line.split('\\t')\n",
    "\n",
    "        it = int(it_line.strip('[]'))\n",
    "        train = float(train_line.split(':')[1])\n",
    "        val = float(val_line.split(':')[1])\n",
    "\n",
    "        results.append((it, train, val))\n",
    "    \n",
    "    columns = ['num_iter', 'train_rmse', 'val_rmse']\n",
    "    df_results = pd.DataFrame(results, columns=columns)\n",
    "    return df_results"
   ]
  },
  {
   "cell_type": "code",
   "execution_count": 78,
   "id": "a8be4c00",
   "metadata": {},
   "outputs": [],
   "source": [
    "scores['eta=0.3'] = parse_xgb_output(output)"
   ]
  },
  {
   "cell_type": "code",
   "execution_count": 79,
   "id": "e2a61c4a",
   "metadata": {},
   "outputs": [
    {
     "data": {
      "text/plain": [
       "{'eta=0.3':     num_iter  train_rmse  val_rmse\n",
       " 0          0    10.44372  10.44938\n",
       " 1          1     9.40118   9.40684\n",
       " 2          2     8.46290   8.46831\n",
       " 3          3     7.61859   7.62391\n",
       " 4          4     6.85878   6.86368\n",
       " ..       ...         ...       ...\n",
       " 95        95     0.18541   0.23106\n",
       " 96        96     0.18470   0.23089\n",
       " 97        97     0.18405   0.23067\n",
       " 98        98     0.18385   0.23057\n",
       " 99        99     0.18329   0.23054\n",
       " \n",
       " [100 rows x 3 columns],\n",
       " 'eta=0.1':     num_iter  train_auc   val_auc\n",
       " 0          0   10.44372  10.44938\n",
       " 1          1    9.40118   9.40684\n",
       " 2          2    8.46290   8.46831\n",
       " 3          3    7.61859   7.62391\n",
       " 4          4    6.85878   6.86368\n",
       " ..       ...        ...       ...\n",
       " 95        95    0.18541   0.23106\n",
       " 96        96    0.18470   0.23089\n",
       " 97        97    0.18405   0.23067\n",
       " 98        98    0.18385   0.23057\n",
       " 99        99    0.18329   0.23054\n",
       " \n",
       " [100 rows x 3 columns]}"
      ]
     },
     "execution_count": 79,
     "metadata": {},
     "output_type": "execute_result"
    }
   ],
   "source": [
    "scores"
   ]
  },
  {
   "cell_type": "markdown",
   "id": "22b40a8d",
   "metadata": {},
   "source": [
    "Now with `eta = 0.1`"
   ]
  },
  {
   "cell_type": "code",
   "execution_count": 80,
   "id": "6a32b902",
   "metadata": {},
   "outputs": [],
   "source": [
    "%%capture output\n",
    "\n",
    "xgb_params = {\n",
    "    'eta': 0.1, \n",
    "    'max_depth': 6,\n",
    "    'min_child_weight': 1,\n",
    "\n",
    "    'objective': 'reg:squarederror',    \n",
    "    'nthread': 8,\n",
    "\n",
    "    'seed': 1,\n",
    "    'verbosity': 1,\n",
    "}\n",
    "model = xgb.train(xgb_params, dtrain, num_boost_round=100, evals=watchlist)"
   ]
  },
  {
   "cell_type": "code",
   "execution_count": 81,
   "id": "fb9a5e2a",
   "metadata": {},
   "outputs": [],
   "source": [
    "scores['eta=0.1'] = parse_xgb_output(output)"
   ]
  },
  {
   "cell_type": "code",
   "execution_count": 82,
   "id": "760a4c5e",
   "metadata": {},
   "outputs": [
    {
     "data": {
      "text/plain": [
       "{'eta=0.3':     num_iter  train_rmse  val_rmse\n",
       " 0          0    10.44372  10.44938\n",
       " 1          1     9.40118   9.40684\n",
       " 2          2     8.46290   8.46831\n",
       " 3          3     7.61859   7.62391\n",
       " 4          4     6.85878   6.86368\n",
       " ..       ...         ...       ...\n",
       " 95        95     0.18541   0.23106\n",
       " 96        96     0.18470   0.23089\n",
       " 97        97     0.18405   0.23067\n",
       " 98        98     0.18385   0.23057\n",
       " 99        99     0.18329   0.23054\n",
       " \n",
       " [100 rows x 3 columns],\n",
       " 'eta=0.1':     num_iter  train_rmse  val_rmse\n",
       " 0          0    10.44372  10.44938\n",
       " 1          1     9.40118   9.40684\n",
       " 2          2     8.46290   8.46831\n",
       " 3          3     7.61859   7.62391\n",
       " 4          4     6.85878   6.86368\n",
       " ..       ...         ...       ...\n",
       " 95        95     0.18541   0.23106\n",
       " 96        96     0.18470   0.23089\n",
       " 97        97     0.18405   0.23067\n",
       " 98        98     0.18385   0.23057\n",
       " 99        99     0.18329   0.23054\n",
       " \n",
       " [100 rows x 3 columns]}"
      ]
     },
     "execution_count": 82,
     "metadata": {},
     "output_type": "execute_result"
    }
   ],
   "source": [
    "scores"
   ]
  },
  {
   "cell_type": "code",
   "execution_count": 89,
   "id": "5886f965",
   "metadata": {},
   "outputs": [
    {
     "data": {
      "text/plain": [
       "Text(0, 0.5, 'rmse score')"
      ]
     },
     "execution_count": 89,
     "metadata": {},
     "output_type": "execute_result"
    },
    {
     "data": {
      "image/png": "[encoded data removed]",
      "text/plain": [
       "<Figure size 640x480 with 1 Axes>"
      ]
     },
     "metadata": {},
     "output_type": "display_data"
    }
   ],
   "source": [
    "plt.plot(scores['eta=0.1'].num_iter, scores['eta=0.1'].val_rmse,label='0.1')\n",
    "#plt.plot(scores['eta=0.3'].num_iter, scores['eta=0.3'].val_rmse,label='0.3')\n",
    "plt.legend()\n",
    "\n",
    "plt.xlabel('number of iterations')\n",
    "plt.ylabel('rmse score')"
   ]
  },
  {
   "cell_type": "markdown",
   "id": "fdce0e12",
   "metadata": {},
   "source": [
    "Thus, both `eta` leads to the same mse score."
   ]
  },
  {
   "cell_type": "markdown",
   "id": "f487d2f3",
   "metadata": {},
   "source": [
    "Links for submitting homework [here](https://forms.gle/3yMSuQ4BeNuZFHTU8)"
   ]
  },
  {
   "cell_type": "markdown",
   "id": "3dc65765",
   "metadata": {},
   "source": [
    "*******"
   ]
  }
 ],
 "metadata": {
  "kernelspec": {
   "display_name": "Python 3",
   "language": "python",
   "name": "python3"
  },
  "language_info": {
   "codemirror_mode": {
    "name": "ipython",
    "version": 3
   },
   "file_extension": ".py",
   "mimetype": "text/x-python",
   "name": "python",
   "nbconvert_exporter": "python",
   "pygments_lexer": "ipython3",
   "version": "3.9.13"
  }
 },
 "nbformat": 4,
 "nbformat_minor": 5
}
