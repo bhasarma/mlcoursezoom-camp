{
 "cells": [
  {
   "cell_type": "markdown",
   "id": "1f15ba90",
   "metadata": {},
   "source": [
    "# Homework 07 | WEEK 07 (18.10-24.10.2022) | Machine Learning Zoomcamp"
   ]
  },
  {
   "cell_type": "markdown",
   "id": "42f07222",
   "metadata": {},
   "source": [
    "> Note: sometimes your answer might not match one of the options exactly. That's fine. \n",
    "Select the option that's closest to your solution."
   ]
  },
  {
   "cell_type": "markdown",
   "id": "32c286ad",
   "metadata": {},
   "source": [
    "The goal of this homework is to familiarize you with BentoML and how to build and test an ML production service."
   ]
  },
  {
   "cell_type": "markdown",
   "id": "b2430b19",
   "metadata": {},
   "source": [
    "## Background"
   ]
  },
  {
   "cell_type": "markdown",
   "id": "7fb74c1d",
   "metadata": {},
   "source": [
    "You are a new recruit at ACME corp. Your manager is emailing you about your first assignment."
   ]
  },
  {
   "cell_type": "markdown",
   "id": "22536bf5",
   "metadata": {},
   "source": [
    "## Email from your manager"
   ]
  },
  {
   "cell_type": "markdown",
   "id": "5776d83e",
   "metadata": {},
   "source": [
    "Good morning recruit! It's good to have you here! I have an assignment for you. I have a data scientist that's built\n",
    "a credit risk model in a jupyter notebook. I need you to run the notebook and save the model with BentoML and see\n",
    "how big the model is. If it's greater than a certain size, I'm going to have to request additional resources from \n",
    "our infra team. Please let me know how big it is.\n",
    "\n",
    "Thanks,\n",
    "\n",
    "Mr McManager"
   ]
  },
  {
   "cell_type": "markdown",
   "id": "9ed3e56b",
   "metadata": {},
   "source": [
    "## Question 1\n",
    "\n",
    "* Install BentoML\n",
    "* What's the version of BentoML you installed?\n",
    "* Use `--version` to find out"
   ]
  },
  {
   "cell_type": "markdown",
   "id": "af99e0cf",
   "metadata": {},
   "source": [
    "- Installed bentoml with `pip install bentoml`\n",
    "\n",
    "\n",
    "- used `bentoml --version` to find out version of BentoML"
   ]
  },
  {
   "cell_type": "markdown",
   "id": "38878028",
   "metadata": {},
   "source": [
    "**Answer to question 1**\n",
    "\n",
    "`bentoml, version 1.0.7`\n",
    "\n",
    "---"
   ]
  },
  {
   "cell_type": "markdown",
   "id": "ee82937c",
   "metadata": {},
   "source": [
    "## Question 2\n",
    "\n",
    "Run the notebook which contains random forest model from module 6 i.e previous module and save the model with BentoML. To make it easier for you we have prepared this [notebook](https://github.com/alexeygrigorev/mlbookcamp-code/blob/master/course-zoomcamp/07-bentoml-production/code/train.ipynb). \n",
    "\n",
    "How big approximately is the saved BentoML model? Size can slightly vary depending on your local development environment.\n",
    "Choose the size closest to your model.\n",
    "\n",
    "* 924kb\n",
    "* 724kb\n",
    "* 114kb\n",
    "* 8kb"
   ]
  },
  {
   "cell_type": "markdown",
   "id": "af94b59b",
   "metadata": {},
   "source": [
    "```\n",
    "(bentoml) bsarma@bsarma-Inspiron-5370:~/GitHub/mlcoursezoom-camp/WK07-BentoML-production-ready-ML$ bentoml models list\n",
    " Tag                                    Module           Size        Creation Time       \n",
    " credit_risk_rf_model:ecvaaucriwzypolj  bentoml.sklearn  5.53 MiB    2022-10-21 15:34:46 \n",
    " credit_risk_model:3j37skcrigzypolj     bentoml.xgboost  197.77 KiB  2022-10-21 15:11:19 \n",
    " credit_risk_model:zj3ykdcrigzypolj     bentoml.xgboost  197.07 KiB  2022-10-21 15:10:52 \n",
    " credit_risk_model:bubbpqsqmscgpf2d     bentoml.xgboost  197.77 KiB  2022-10-20 12:43:36 \n",
    " credit_risk_model:bryqeucqmscgpf2d     bentoml.xgboost  197.07 KiB  2022-10-20 12:43:35 \n",
    " credit_risk_model:ztgcukspx6livn6r     bentoml.xgboost  197.77 KiB  2022-10-19 17:07:51 \n",
    " credit_risk_model:waipffspxclivn6r     bentoml.xgboost  197.07 KiB  2022-10-19 16:16:56 \n",
    "\n",
    "```"
   ]
  },
  {
   "cell_type": "markdown",
   "id": "ce7af5a4",
   "metadata": {},
   "source": [
    "Thus size of the xgboost models are 197.77 KiB."
   ]
  },
  {
   "cell_type": "markdown",
   "id": "add15982",
   "metadata": {},
   "source": [
    "**Answer to question 2**\n",
    "\n",
    "`197 KiB`\n",
    "\n",
    "closest  answer: `114 kb`"
   ]
  },
  {
   "cell_type": "markdown",
   "id": "c7929a13",
   "metadata": {},
   "source": [
    "## Another email from your manager\n",
    "\n",
    "Great job recruit! Looks like I won't be having to go back to the procurement team. Thanks for the information.\n",
    "\n",
    "However, I just got word from one of the teams that's using one of our ML services and they're saying our service is \"broken\"\n",
    "and their trying to blame our model. I looked at the data their sending and it's completely bogus. I don't want them\n",
    "to send bad data to us and blame us for our models. Could you write a pydantic schema for the data that they should be sending?\n",
    "That way next time it will tell them it's their data that's bad and not our model.\n",
    "\n",
    "Thanks,\n",
    "\n",
    "Mr McManager"
   ]
  },
  {
   "cell_type": "markdown",
   "id": "497c986a",
   "metadata": {},
   "source": [
    "## Question 3\n",
    "\n",
    "Say you have the following data that you're sending to your service:\n",
    "\n",
    "```json\n",
    "{\n",
    "  \"name\": \"Tim\",\n",
    "  \"age\": 37,\n",
    "  \"country\": \"US\",\n",
    "  \"rating\": 3.14\n",
    "}\n",
    "```\n",
    "\n",
    "What would the pydantic class look like? You can name the class `UserProfile`."
   ]
  },
  {
   "cell_type": "markdown",
   "id": "d6761b0d",
   "metadata": {},
   "source": [
    "**Answer to question 3:**\n",
    "\n",
    "Pydantic class would like this:\n",
    "\n",
    "```python\n",
    "from pydantic import BaseModel\n",
    "\n",
    "class UserProfile(BaseModel):\n",
    "\tname: str\t\n",
    "\tage: int\n",
    "\tcountry: str\n",
    "\trating: float\n",
    "```"
   ]
  },
  {
   "cell_type": "markdown",
   "id": "08dc9c50",
   "metadata": {},
   "source": [
    "## Email from your CEO\n",
    "\n",
    "Good morning! I hear you're the one to go to if I need something done well! We've got a new model that a big client\n",
    "needs deployed ASAP. I need you to build a service with it and test it against the old model and make sure that it performs\n",
    "better, otherwise we're going to lose this client. All our hopes are with you!\n",
    "\n",
    "Thanks,\n",
    "\n",
    "CEO of Acme Corp"
   ]
  },
  {
   "cell_type": "markdown",
   "id": "aade3c22",
   "metadata": {},
   "source": [
    "## Question 4\n",
    "\n",
    "We've prepared a model for you that you can import using:\n",
    "\n",
    "```bash\n",
    "curl -O https://s3.us-west-2.amazonaws.com/bentoml.com/mlzoomcamp/coolmodel.bentomodel\n",
    "bentoml models import coolmodel.bentomodel\n",
    "```\n",
    "\n",
    "What version of scikit-learn was this model trained with?\n",
    "\n",
    "* 1.1.1\n",
    "* 1.1.2\n",
    "* 1.1.3\n",
    "* 1.1.4\n",
    "* 1.1.5"
   ]
  },
  {
   "cell_type": "code",
   "execution_count": 5,
   "id": "1d523d12",
   "metadata": {},
   "outputs": [
    {
     "name": "stdout",
     "output_type": "stream",
     "text": [
      "\u001b[1m \u001b[0m\u001b[1mTag                         \u001b[0m\u001b[1m \u001b[0m\u001b[1m \u001b[0m\u001b[1mModule         \u001b[0m\u001b[1m \u001b[0m\u001b[1m \u001b[0m\u001b[1mSize      \u001b[0m\u001b[1m \u001b[0m\u001b[1m \u001b[0m\u001b[1mCreation Time      \u001b[0m\u001b[1m \u001b[0m\r\n",
      " credit_risk_model:3j37skcri…  bentoml.xgboost  197.77 KiB  2022-10-21 15:11:19 \r\n",
      " credit_risk_model:zj3ykdcri…  bentoml.xgboost  197.07 KiB  2022-10-21 15:10:52 \r\n",
      " credit_risk_model:bubbpqsqm…  bentoml.xgboost  197.77 KiB  2022-10-20 12:43:36 \r\n",
      " credit_risk_model:bryqeucqm…  bentoml.xgboost  197.07 KiB  2022-10-20 12:43:35 \r\n",
      " credit_risk_model:ztgcukspx…  bentoml.xgboost  197.77 KiB  2022-10-19 17:07:51 \r\n",
      " credit_risk_model:waipffspx…  bentoml.xgboost  197.07 KiB  2022-10-19 16:16:56 \r\n",
      " mlzoomcamp_homework:qtzdz3s…  bentoml.sklearn  5.79 KiB    2022-10-13 22:42:14 \r\n"
     ]
    }
   ],
   "source": [
    "!bentoml models list"
   ]
  },
  {
   "cell_type": "code",
   "execution_count": 6,
   "id": "dc449961",
   "metadata": {},
   "outputs": [
    {
     "name": "stdout",
     "output_type": "stream",
     "text": [
      "\u001b[1m[\u001b[0m\r\n",
      "  \u001b[1m{\u001b[0m\r\n",
      "    \u001b[1;34m\"tag\"\u001b[0m: \u001b[32m\"credit_risk_model:3j37skcrigzypolj\"\u001b[0m,\r\n",
      "    \u001b[1;34m\"module\"\u001b[0m: \u001b[32m\"bentoml.xgboost\"\u001b[0m,\r\n",
      "    \u001b[1;34m\"size\"\u001b[0m: \u001b[32m\"197.77 KiB\"\u001b[0m,\r\n",
      "    \u001b[1;34m\"creation_time\"\u001b[0m: \u001b[32m\"2022-10-21 15:11:19\"\u001b[0m\r\n",
      "  \u001b[1m}\u001b[0m,\r\n",
      "  \u001b[1m{\u001b[0m\r\n",
      "    \u001b[1;34m\"tag\"\u001b[0m: \u001b[32m\"credit_risk_model:zj3ykdcrigzypolj\"\u001b[0m,\r\n",
      "    \u001b[1;34m\"module\"\u001b[0m: \u001b[32m\"bentoml.xgboost\"\u001b[0m,\r\n",
      "    \u001b[1;34m\"size\"\u001b[0m: \u001b[32m\"197.07 KiB\"\u001b[0m,\r\n",
      "    \u001b[1;34m\"creation_time\"\u001b[0m: \u001b[32m\"2022-10-21 15:10:52\"\u001b[0m\r\n",
      "  \u001b[1m}\u001b[0m,\r\n",
      "  \u001b[1m{\u001b[0m\r\n",
      "    \u001b[1;34m\"tag\"\u001b[0m: \u001b[32m\"credit_risk_model:bubbpqsqmscgpf2d\"\u001b[0m,\r\n",
      "    \u001b[1;34m\"module\"\u001b[0m: \u001b[32m\"bentoml.xgboost\"\u001b[0m,\r\n",
      "    \u001b[1;34m\"size\"\u001b[0m: \u001b[32m\"197.77 KiB\"\u001b[0m,\r\n",
      "    \u001b[1;34m\"creation_time\"\u001b[0m: \u001b[32m\"2022-10-20 12:43:36\"\u001b[0m\r\n",
      "  \u001b[1m}\u001b[0m,\r\n",
      "  \u001b[1m{\u001b[0m\r\n",
      "    \u001b[1;34m\"tag\"\u001b[0m: \u001b[32m\"credit_risk_model:bryqeucqmscgpf2d\"\u001b[0m,\r\n",
      "    \u001b[1;34m\"module\"\u001b[0m: \u001b[32m\"bentoml.xgboost\"\u001b[0m,\r\n",
      "    \u001b[1;34m\"size\"\u001b[0m: \u001b[32m\"197.07 KiB\"\u001b[0m,\r\n",
      "    \u001b[1;34m\"creation_time\"\u001b[0m: \u001b[32m\"2022-10-20 12:43:35\"\u001b[0m\r\n",
      "  \u001b[1m}\u001b[0m,\r\n",
      "  \u001b[1m{\u001b[0m\r\n",
      "    \u001b[1;34m\"tag\"\u001b[0m: \u001b[32m\"credit_risk_model:ztgcukspx6livn6r\"\u001b[0m,\r\n",
      "    \u001b[1;34m\"module\"\u001b[0m: \u001b[32m\"bentoml.xgboost\"\u001b[0m,\r\n",
      "    \u001b[1;34m\"size\"\u001b[0m: \u001b[32m\"197.77 KiB\"\u001b[0m,\r\n",
      "    \u001b[1;34m\"creation_time\"\u001b[0m: \u001b[32m\"2022-10-19 17:07:51\"\u001b[0m\r\n",
      "  \u001b[1m}\u001b[0m,\r\n",
      "  \u001b[1m{\u001b[0m\r\n",
      "    \u001b[1;34m\"tag\"\u001b[0m: \u001b[32m\"credit_risk_model:waipffspxclivn6r\"\u001b[0m,\r\n",
      "    \u001b[1;34m\"module\"\u001b[0m: \u001b[32m\"bentoml.xgboost\"\u001b[0m,\r\n",
      "    \u001b[1;34m\"size\"\u001b[0m: \u001b[32m\"197.07 KiB\"\u001b[0m,\r\n",
      "    \u001b[1;34m\"creation_time\"\u001b[0m: \u001b[32m\"2022-10-19 16:16:56\"\u001b[0m\r\n",
      "  \u001b[1m}\u001b[0m,\r\n",
      "  \u001b[1m{\u001b[0m\r\n",
      "    \u001b[1;34m\"tag\"\u001b[0m: \u001b[32m\"mlzoomcamp_homework:qtzdz3slg6mwwdu5\"\u001b[0m,\r\n",
      "    \u001b[1;34m\"module\"\u001b[0m: \u001b[32m\"bentoml.sklearn\"\u001b[0m,\r\n",
      "    \u001b[1;34m\"size\"\u001b[0m: \u001b[32m\"5.79 KiB\"\u001b[0m,\r\n",
      "    \u001b[1;34m\"creation_time\"\u001b[0m: \u001b[32m\"2022-10-13 22:42:14\"\u001b[0m\r\n",
      "  \u001b[1m}\u001b[0m\r\n",
      "\u001b[1m]\u001b[0m\r\n"
     ]
    }
   ],
   "source": [
    "!bentoml models list -o json"
   ]
  },
  {
   "cell_type": "code",
   "execution_count": 7,
   "id": "ae1c5573",
   "metadata": {},
   "outputs": [
    {
     "name": "stdout",
     "output_type": "stream",
     "text": [
      "\u001b[38;2;249;38;114;48;2;39;40;34mname\u001b[0m\u001b[38;2;248;248;242;48;2;39;40;34m:\u001b[0m\u001b[38;2;248;248;242;48;2;39;40;34m \u001b[0m\u001b[48;2;39;40;34mmlzoomcamp_homework\u001b[0m\u001b[48;2;39;40;34m                                                       \u001b[0m\r\n",
      "\u001b[38;2;249;38;114;48;2;39;40;34mversion\u001b[0m\u001b[38;2;248;248;242;48;2;39;40;34m:\u001b[0m\u001b[38;2;248;248;242;48;2;39;40;34m \u001b[0m\u001b[48;2;39;40;34mqtzdz3slg6mwwdu5\u001b[0m\u001b[48;2;39;40;34m                                                       \u001b[0m\r\n",
      "\u001b[38;2;249;38;114;48;2;39;40;34mmodule\u001b[0m\u001b[38;2;248;248;242;48;2;39;40;34m:\u001b[0m\u001b[38;2;248;248;242;48;2;39;40;34m \u001b[0m\u001b[48;2;39;40;34mbentoml.sklearn\u001b[0m\u001b[48;2;39;40;34m                                                         \u001b[0m\r\n",
      "\u001b[38;2;249;38;114;48;2;39;40;34mlabels\u001b[0m\u001b[38;2;248;248;242;48;2;39;40;34m:\u001b[0m\u001b[38;2;248;248;242;48;2;39;40;34m \u001b[0m\u001b[48;2;39;40;34m{\u001b[0m\u001b[48;2;39;40;34m}\u001b[0m\u001b[48;2;39;40;34m                                                                      \u001b[0m\r\n",
      "\u001b[38;2;249;38;114;48;2;39;40;34moptions\u001b[0m\u001b[38;2;248;248;242;48;2;39;40;34m:\u001b[0m\u001b[38;2;248;248;242;48;2;39;40;34m \u001b[0m\u001b[48;2;39;40;34m{\u001b[0m\u001b[48;2;39;40;34m}\u001b[0m\u001b[48;2;39;40;34m                                                                     \u001b[0m\r\n",
      "\u001b[38;2;249;38;114;48;2;39;40;34mmetadata\u001b[0m\u001b[38;2;248;248;242;48;2;39;40;34m:\u001b[0m\u001b[38;2;248;248;242;48;2;39;40;34m \u001b[0m\u001b[48;2;39;40;34m{\u001b[0m\u001b[48;2;39;40;34m}\u001b[0m\u001b[48;2;39;40;34m                                                                    \u001b[0m\r\n",
      "\u001b[38;2;249;38;114;48;2;39;40;34mcontext\u001b[0m\u001b[38;2;248;248;242;48;2;39;40;34m:\u001b[0m\u001b[48;2;39;40;34m                                                                        \u001b[0m\r\n",
      "\u001b[38;2;248;248;242;48;2;39;40;34m  \u001b[0m\u001b[38;2;249;38;114;48;2;39;40;34mframework_name\u001b[0m\u001b[38;2;248;248;242;48;2;39;40;34m:\u001b[0m\u001b[38;2;248;248;242;48;2;39;40;34m \u001b[0m\u001b[48;2;39;40;34msklearn\u001b[0m\u001b[48;2;39;40;34m                                                       \u001b[0m\r\n",
      "\u001b[38;2;248;248;242;48;2;39;40;34m  \u001b[0m\u001b[38;2;249;38;114;48;2;39;40;34mframework_versions\u001b[0m\u001b[38;2;248;248;242;48;2;39;40;34m:\u001b[0m\u001b[48;2;39;40;34m                                                           \u001b[0m\r\n",
      "\u001b[38;2;248;248;242;48;2;39;40;34m    \u001b[0m\u001b[38;2;249;38;114;48;2;39;40;34mscikit-learn\u001b[0m\u001b[38;2;248;248;242;48;2;39;40;34m:\u001b[0m\u001b[38;2;248;248;242;48;2;39;40;34m \u001b[0m\u001b[48;2;39;40;34m1.1.1\u001b[0m\u001b[48;2;39;40;34m                                                         \u001b[0m\r\n",
      "\u001b[38;2;248;248;242;48;2;39;40;34m  \u001b[0m\u001b[38;2;249;38;114;48;2;39;40;34mbentoml_version\u001b[0m\u001b[38;2;248;248;242;48;2;39;40;34m:\u001b[0m\u001b[38;2;248;248;242;48;2;39;40;34m \u001b[0m\u001b[48;2;39;40;34m1.0.7\u001b[0m\u001b[48;2;39;40;34m                                                        \u001b[0m\r\n",
      "\u001b[38;2;248;248;242;48;2;39;40;34m  \u001b[0m\u001b[38;2;249;38;114;48;2;39;40;34mpython_version\u001b[0m\u001b[38;2;248;248;242;48;2;39;40;34m:\u001b[0m\u001b[38;2;248;248;242;48;2;39;40;34m \u001b[0m\u001b[48;2;39;40;34m3.9.12\u001b[0m\u001b[48;2;39;40;34m                                                        \u001b[0m\r\n",
      "\u001b[38;2;249;38;114;48;2;39;40;34msignatures\u001b[0m\u001b[38;2;248;248;242;48;2;39;40;34m:\u001b[0m\u001b[48;2;39;40;34m                                                                     \u001b[0m\r\n",
      "\u001b[38;2;248;248;242;48;2;39;40;34m  \u001b[0m\u001b[38;2;249;38;114;48;2;39;40;34mpredict\u001b[0m\u001b[38;2;248;248;242;48;2;39;40;34m:\u001b[0m\u001b[48;2;39;40;34m                                                                      \u001b[0m\r\n",
      "\u001b[38;2;248;248;242;48;2;39;40;34m    \u001b[0m\u001b[38;2;249;38;114;48;2;39;40;34mbatchable\u001b[0m\u001b[38;2;248;248;242;48;2;39;40;34m:\u001b[0m\u001b[38;2;248;248;242;48;2;39;40;34m \u001b[0m\u001b[48;2;39;40;34mfalse\u001b[0m\u001b[48;2;39;40;34m                                                            \u001b[0m\r\n",
      "\u001b[38;2;249;38;114;48;2;39;40;34mapi_version\u001b[0m\u001b[38;2;248;248;242;48;2;39;40;34m:\u001b[0m\u001b[38;2;248;248;242;48;2;39;40;34m \u001b[0m\u001b[48;2;39;40;34mv1\u001b[0m\u001b[48;2;39;40;34m                                                                 \u001b[0m\r\n",
      "\u001b[38;2;249;38;114;48;2;39;40;34mcreation_time\u001b[0m\u001b[38;2;248;248;242;48;2;39;40;34m:\u001b[0m\u001b[38;2;248;248;242;48;2;39;40;34m \u001b[0m\u001b[38;2;230;219;116;48;2;39;40;34m'\u001b[0m\u001b[38;2;230;219;116;48;2;39;40;34m2022-10-13T20:42:14.411084+00:00\u001b[0m\u001b[38;2;230;219;116;48;2;39;40;34m'\u001b[0m\u001b[48;2;39;40;34m                               \u001b[0m\r\n",
      "\u001b[48;2;39;40;34m                                                                                \u001b[0m\r\n"
     ]
    }
   ],
   "source": [
    "!bentoml models get mlzoomcamp_homework:qtzdz3slg6mwwdu5"
   ]
  },
  {
   "cell_type": "markdown",
   "id": "07c029f0",
   "metadata": {},
   "source": [
    "**Answer to question 4**\n",
    "\n",
    "The version of scikit-learn, that this model was trained with is:\n",
    "\n",
    "`1.1.1`"
   ]
  },
  {
   "cell_type": "markdown",
   "id": "722304c1",
   "metadata": {},
   "source": [
    "## Question 5\n",
    "\n",
    "Create a bento out of this scikit-learn model. The output type for this endpoint should be `NumpyNdarray()`.\n",
    "\n",
    "Send this array to the Bento:\n",
    "\n",
    "```\n",
    "[[6.4,3.5,4.5,1.2]]\n",
    "```\n",
    "\n",
    "You can use curl or the Swagger UI. What value does it return?\n",
    "\n",
    "* 0\n",
    "\n",
    "* 1\n",
    "\n",
    "* 2\n",
    "\n",
    "* 3\n",
    "\n",
    "(Make sure your environment has Scikit-Learn installed)"
   ]
  },
  {
   "cell_type": "markdown",
   "id": "147baada",
   "metadata": {},
   "source": [
    "**Answer to question 5**\n",
    "\n",
    "`1`"
   ]
  },
  {
   "cell_type": "markdown",
   "id": "03b3a6ac",
   "metadata": {},
   "source": [
    "## Question 6\n",
    "\n",
    "Ensure to serve your bento with `--production` for this question\n",
    "\n",
    "Install locust using:\n",
    "\n",
    "```bash\n",
    "pip install locust\n",
    "```\n",
    "Use the following locust file: [locustfile.py](https://github.com/alexeygrigorev/mlbookcamp-code/blob/master/course-zoomcamp/cohorts/2022/07-bento-production/locustfile.py)\n",
    "\n",
    "Configure 100 users with ramp time of 10 users per second. Click \"Start Swarming\" and ensure that it is working.\n",
    "\n",
    "Now download a second model with this command:\n",
    "\n",
    "```bash\n",
    "curl -O https://s3.us-west-2.amazonaws.com/bentoml.com/mlzoomcamp/coolmodel2.bentomodel\n",
    "```\n",
    "Or you can download with this link as well: [https://s3.us-west-2.amazonaws.com/bentoml.com/mlzoomcamp/coolmodel2.bentomodel](https://s3.us-west-2.amazonaws.com/bentoml.com/mlzoomcamp/coolmodel2.bentomodel)\n",
    "\n",
    "Now import the model:\n",
    "\n",
    "```bash\n",
    "bentoml models import coolmodel2.bentomodel\n",
    "\n",
    "```\n",
    "\n",
    "Update your bento's runner tag and test with both models. Which model allows more traffic (more throughput) as you ramp up the traffic?\n",
    "\n",
    "**Hint 1**: Remember to turn off and turn on your bento service between changing the model tag. Use Ctl-C to close the service in between trials.\n",
    "\n",
    "**Hint 2**: Increase the number of concurrent users to see which one has higher throughput\n",
    "\n",
    "Which model has better performance at higher volumes?\n",
    "\n",
    "* The first model\n",
    "* The second model"
   ]
  },
  {
   "cell_type": "code",
   "execution_count": 1,
   "id": "2c6f6012",
   "metadata": {},
   "outputs": [
    {
     "name": "stdout",
     "output_type": "stream",
     "text": [
      "  % Total    % Received % Xferd  Average Speed   Time    Time     Time  Current\n",
      "                                 Dload  Upload   Total   Spent    Left  Speed\n",
      "100  1728  100  1728    0     0    300      0  0:00:05  0:00:05 --:--:--   407\n"
     ]
    }
   ],
   "source": [
    "!curl -O https://s3.us-west-2.amazonaws.com/bentoml.com/mlzoomcamp/coolmodel2.bentomodel"
   ]
  },
  {
   "cell_type": "code",
   "execution_count": 3,
   "id": "580b83b2",
   "metadata": {},
   "outputs": [
    {
     "name": "stdout",
     "output_type": "stream",
     "text": [
      "Model(tag=\"mlzoomcamp_homework:jsi67fslz6txydu5\") imported\r\n"
     ]
    }
   ],
   "source": [
    "!bentoml models import coolmodel2.bentomodel"
   ]
  },
  {
   "cell_type": "code",
   "execution_count": 5,
   "id": "e426e570",
   "metadata": {},
   "outputs": [
    {
     "name": "stdout",
     "output_type": "stream",
     "text": [
      "\u001b[1m \u001b[0m\u001b[1mTag                         \u001b[0m\u001b[1m \u001b[0m\u001b[1m \u001b[0m\u001b[1mModule         \u001b[0m\u001b[1m \u001b[0m\u001b[1m \u001b[0m\u001b[1mSize      \u001b[0m\u001b[1m \u001b[0m\u001b[1m \u001b[0m\u001b[1mCreation Time      \u001b[0m\u001b[1m \u001b[0m\r\n",
      " credit_risk_model:3j37skcri…  bentoml.xgboost  197.77 KiB  2022-10-21 15:11:19 \r\n",
      " credit_risk_model:zj3ykdcri…  bentoml.xgboost  197.07 KiB  2022-10-21 15:10:52 \r\n",
      " credit_risk_model:bubbpqsqm…  bentoml.xgboost  197.77 KiB  2022-10-20 12:43:36 \r\n",
      " credit_risk_model:bryqeucqm…  bentoml.xgboost  197.07 KiB  2022-10-20 12:43:35 \r\n",
      " credit_risk_model:ztgcukspx…  bentoml.xgboost  197.77 KiB  2022-10-19 17:07:51 \r\n",
      " credit_risk_model:waipffspx…  bentoml.xgboost  197.07 KiB  2022-10-19 16:16:56 \r\n",
      " mlzoomcamp_homework:jsi67fs…  bentoml.sklearn  5.82 KiB    2022-10-14 16:48:43 \r\n",
      " mlzoomcamp_homework:qtzdz3s…  bentoml.sklearn  5.79 KiB    2022-10-13 22:42:14 \r\n"
     ]
    }
   ],
   "source": [
    "!bentoml models list"
   ]
  },
  {
   "cell_type": "code",
   "execution_count": null,
   "id": "2941ead5",
   "metadata": {},
   "outputs": [],
   "source": []
  }
 ],
 "metadata": {
  "kernelspec": {
   "display_name": "Python 3",
   "language": "python",
   "name": "python3"
  },
  "language_info": {
   "codemirror_mode": {
    "name": "ipython",
    "version": 3
   },
   "file_extension": ".py",
   "mimetype": "text/x-python",
   "name": "python",
   "nbconvert_exporter": "python",
   "pygments_lexer": "ipython3",
   "version": "3.9.13"
  }
 },
 "nbformat": 4,
 "nbformat_minor": 5
}
