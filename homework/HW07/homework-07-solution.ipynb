{
 "cells": [
  {
   "cell_type": "markdown",
   "id": "1f15ba90",
   "metadata": {},
   "source": [
    "# Homework 07 | WEEK 07 (18.10-24.10.2022) | Machine Learning Zoomcamp"
   ]
  },
  {
   "cell_type": "markdown",
   "id": "42f07222",
   "metadata": {},
   "source": [
    "> Note: sometimes your answer might not match one of the options exactly. That's fine. \n",
    "Select the option that's closest to your solution."
   ]
  },
  {
   "cell_type": "markdown",
   "id": "32c286ad",
   "metadata": {},
   "source": [
    "The goal of this homework is to familiarize you with BentoML and how to build and test an ML production service."
   ]
  },
  {
   "cell_type": "markdown",
   "id": "b2430b19",
   "metadata": {},
   "source": [
    "## Background"
   ]
  },
  {
   "cell_type": "markdown",
   "id": "7fb74c1d",
   "metadata": {},
   "source": [
    "You are a new recruit at ACME corp. Your manager is emailing you about your first assignment."
   ]
  },
  {
   "cell_type": "markdown",
   "id": "22536bf5",
   "metadata": {},
   "source": [
    "## Email from your manager"
   ]
  },
  {
   "cell_type": "markdown",
   "id": "5776d83e",
   "metadata": {},
   "source": [
    "Good morning recruit! It's good to have you here! I have an assignment for you. I have a data scientist that's built\n",
    "a credit risk model in a jupyter notebook. I need you to run the notebook and save the model with BentoML and see\n",
    "how big the model is. If it's greater than a certain size, I'm going to have to request additional resources from \n",
    "our infra team. Please let me know how big it is.\n",
    "\n",
    "Thanks,\n",
    "\n",
    "Mr McManager"
   ]
  },
  {
   "cell_type": "markdown",
   "id": "9ed3e56b",
   "metadata": {},
   "source": [
    "## Question 1\n",
    "\n",
    "* Install BentoML\n",
    "* What's the version of BentoML you installed?\n",
    "* Use `--version` to find out"
   ]
  },
  {
   "cell_type": "markdown",
   "id": "af99e0cf",
   "metadata": {},
   "source": [
    "- Installed bentoml with `pip install bentoml`\n",
    "\n",
    "\n",
    "- used `bentoml --version` to find out version of BentoML"
   ]
  },
  {
   "cell_type": "markdown",
   "id": "38878028",
   "metadata": {},
   "source": [
    "**Answer to question 1**\n",
    "\n",
    "`bentoml, version 1.0.7`\n",
    "\n",
    "---"
   ]
  },
  {
   "cell_type": "markdown",
   "id": "ee82937c",
   "metadata": {},
   "source": [
    "## Question 2\n",
    "\n",
    "Run the notebook which contains random forest model from module 6 i.e previous module and save the model with BentoML. To make it easier for you we have prepared this [notebook](https://github.com/alexeygrigorev/mlbookcamp-code/blob/master/course-zoomcamp/07-bentoml-production/code/train.ipynb). \n",
    "\n",
    "How big approximately is the saved BentoML model? Size can slightly vary depending on your local development environment.\n",
    "Choose the size closest to your model.\n",
    "\n",
    "* 924kb\n",
    "* 724kb\n",
    "* 114kb\n",
    "* 8kb"
   ]
  },
  {
   "cell_type": "markdown",
   "id": "af94b59b",
   "metadata": {},
   "source": [
    "```\n",
    "(bentoml) bsarma@bsarma-Inspiron-5370:~/GitHub/mlcoursezoom-camp/WK07-BentoML-production-ready-ML$ bentoml models list\n",
    " Tag                                    Module           Size        Creation Time       \n",
    " credit_risk_rf_model:ecvaaucriwzypolj  bentoml.sklearn  5.53 MiB    2022-10-21 15:34:46 \n",
    " credit_risk_model:3j37skcrigzypolj     bentoml.xgboost  197.77 KiB  2022-10-21 15:11:19 \n",
    " credit_risk_model:zj3ykdcrigzypolj     bentoml.xgboost  197.07 KiB  2022-10-21 15:10:52 \n",
    " credit_risk_model:bubbpqsqmscgpf2d     bentoml.xgboost  197.77 KiB  2022-10-20 12:43:36 \n",
    " credit_risk_model:bryqeucqmscgpf2d     bentoml.xgboost  197.07 KiB  2022-10-20 12:43:35 \n",
    " credit_risk_model:ztgcukspx6livn6r     bentoml.xgboost  197.77 KiB  2022-10-19 17:07:51 \n",
    " credit_risk_model:waipffspxclivn6r     bentoml.xgboost  197.07 KiB  2022-10-19 16:16:56 \n",
    "\n",
    "```"
   ]
  },
  {
   "cell_type": "markdown",
   "id": "ce7af5a4",
   "metadata": {},
   "source": [
    "Thus size of the xgboost models are 197.77 KiB."
   ]
  },
  {
   "cell_type": "markdown",
   "id": "add15982",
   "metadata": {},
   "source": [
    "**Answer to question 2**\n",
    "\n",
    "`197 KiB`\n",
    "\n",
    "closest  answer: `114 kb`"
   ]
  },
  {
   "cell_type": "markdown",
   "id": "c7929a13",
   "metadata": {},
   "source": [
    "## Another email from your manager\n",
    "\n",
    "Great job recruit! Looks like I won't be having to go back to the procurement team. Thanks for the information.\n",
    "\n",
    "However, I just got word from one of the teams that's using one of our ML services and they're saying our service is \"broken\"\n",
    "and their trying to blame our model. I looked at the data their sending and it's completely bogus. I don't want them\n",
    "to send bad data to us and blame us for our models. Could you write a pydantic schema for the data that they should be sending?\n",
    "That way next time it will tell them it's their data that's bad and not our model.\n",
    "\n",
    "Thanks,\n",
    "\n",
    "Mr McManager"
   ]
  },
  {
   "cell_type": "markdown",
   "id": "497c986a",
   "metadata": {},
   "source": [
    "## Question 3\n",
    "\n",
    "Say you have the following data that you're sending to your service:\n",
    "\n",
    "```json\n",
    "{\n",
    "  \"name\": \"Tim\",\n",
    "  \"age\": 37,\n",
    "  \"country\": \"US\",\n",
    "  \"rating\": 3.14\n",
    "}\n",
    "```\n",
    "\n",
    "What would the pydantic class look like? You can name the class `UserProfile`."
   ]
  },
  {
   "cell_type": "code",
   "execution_count": null,
   "id": "fc6ad9c1",
   "metadata": {},
   "outputs": [],
   "source": []
  }
 ],
 "metadata": {
  "kernelspec": {
   "display_name": "Python 3",
   "language": "python",
   "name": "python3"
  },
  "language_info": {
   "codemirror_mode": {
    "name": "ipython",
    "version": 3
   },
   "file_extension": ".py",
   "mimetype": "text/x-python",
   "name": "python",
   "nbconvert_exporter": "python",
   "pygments_lexer": "ipython3",
   "version": "3.9.13"
  }
 },
 "nbformat": 4,
 "nbformat_minor": 5
}
