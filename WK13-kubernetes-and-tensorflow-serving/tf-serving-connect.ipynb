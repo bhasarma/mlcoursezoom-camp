{
 "cells": [
  {
   "cell_type": "code",
   "execution_count": 1,
   "id": "8d7298a3",
   "metadata": {
    "collapsed": true
   },
   "outputs": [
    {
     "name": "stdout",
     "output_type": "stream",
     "text": [
      "Requirement already satisfied: grpcio==1.42.0 in /home/bsarma/anaconda3/envs/ml-zoomcamp/lib/python3.9/site-packages (1.42.0)\n",
      "Requirement already satisfied: tensorflow-serving-api==2.7.0 in /home/bsarma/anaconda3/envs/ml-zoomcamp/lib/python3.9/site-packages (2.7.0)\n",
      "Requirement already satisfied: six>=1.5.2 in /home/bsarma/anaconda3/envs/ml-zoomcamp/lib/python3.9/site-packages (from grpcio==1.42.0) (1.16.0)\n",
      "Requirement already satisfied: tensorflow<3,>=2.7.0 in /home/bsarma/anaconda3/envs/ml-zoomcamp/lib/python3.9/site-packages (from tensorflow-serving-api==2.7.0) (2.11.0)\n",
      "Requirement already satisfied: protobuf>=3.6.0 in /home/bsarma/anaconda3/envs/ml-zoomcamp/lib/python3.9/site-packages (from tensorflow-serving-api==2.7.0) (3.19.6)\n",
      "Requirement already satisfied: termcolor>=1.1.0 in /home/bsarma/anaconda3/envs/ml-zoomcamp/lib/python3.9/site-packages (from tensorflow<3,>=2.7.0->tensorflow-serving-api==2.7.0) (2.1.0)\n",
      "Requirement already satisfied: libclang>=13.0.0 in /home/bsarma/anaconda3/envs/ml-zoomcamp/lib/python3.9/site-packages (from tensorflow<3,>=2.7.0->tensorflow-serving-api==2.7.0) (14.0.6)\n",
      "Requirement already satisfied: google-pasta>=0.1.1 in /home/bsarma/anaconda3/envs/ml-zoomcamp/lib/python3.9/site-packages (from tensorflow<3,>=2.7.0->tensorflow-serving-api==2.7.0) (0.2.0)\n",
      "Requirement already satisfied: packaging in /home/bsarma/anaconda3/envs/ml-zoomcamp/lib/python3.9/site-packages (from tensorflow<3,>=2.7.0->tensorflow-serving-api==2.7.0) (21.3)\n",
      "Requirement already satisfied: wrapt>=1.11.0 in /home/bsarma/anaconda3/envs/ml-zoomcamp/lib/python3.9/site-packages (from tensorflow<3,>=2.7.0->tensorflow-serving-api==2.7.0) (1.14.1)\n",
      "Requirement already satisfied: tensorflow-estimator<2.12,>=2.11.0 in /home/bsarma/anaconda3/envs/ml-zoomcamp/lib/python3.9/site-packages (from tensorflow<3,>=2.7.0->tensorflow-serving-api==2.7.0) (2.11.0)\n",
      "Requirement already satisfied: gast<=0.4.0,>=0.2.1 in /home/bsarma/anaconda3/envs/ml-zoomcamp/lib/python3.9/site-packages (from tensorflow<3,>=2.7.0->tensorflow-serving-api==2.7.0) (0.4.0)\n",
      "Requirement already satisfied: numpy>=1.20 in /home/bsarma/anaconda3/envs/ml-zoomcamp/lib/python3.9/site-packages (from tensorflow<3,>=2.7.0->tensorflow-serving-api==2.7.0) (1.21.5)\n",
      "Requirement already satisfied: setuptools in /home/bsarma/anaconda3/envs/ml-zoomcamp/lib/python3.9/site-packages (from tensorflow<3,>=2.7.0->tensorflow-serving-api==2.7.0) (63.4.1)\n",
      "Requirement already satisfied: flatbuffers>=2.0 in /home/bsarma/anaconda3/envs/ml-zoomcamp/lib/python3.9/site-packages (from tensorflow<3,>=2.7.0->tensorflow-serving-api==2.7.0) (2.0)\n",
      "Requirement already satisfied: typing-extensions>=3.6.6 in /home/bsarma/anaconda3/envs/ml-zoomcamp/lib/python3.9/site-packages (from tensorflow<3,>=2.7.0->tensorflow-serving-api==2.7.0) (4.3.0)\n",
      "Requirement already satisfied: tensorboard<2.12,>=2.11 in /home/bsarma/anaconda3/envs/ml-zoomcamp/lib/python3.9/site-packages (from tensorflow<3,>=2.7.0->tensorflow-serving-api==2.7.0) (2.11.0)\n",
      "Requirement already satisfied: astunparse>=1.6.0 in /home/bsarma/anaconda3/envs/ml-zoomcamp/lib/python3.9/site-packages (from tensorflow<3,>=2.7.0->tensorflow-serving-api==2.7.0) (1.6.3)\n",
      "Requirement already satisfied: opt-einsum>=2.3.2 in /home/bsarma/anaconda3/envs/ml-zoomcamp/lib/python3.9/site-packages (from tensorflow<3,>=2.7.0->tensorflow-serving-api==2.7.0) (3.3.0)\n",
      "Requirement already satisfied: tensorflow-io-gcs-filesystem>=0.23.1 in /home/bsarma/anaconda3/envs/ml-zoomcamp/lib/python3.9/site-packages (from tensorflow<3,>=2.7.0->tensorflow-serving-api==2.7.0) (0.28.0)\n",
      "Requirement already satisfied: keras<2.12,>=2.11.0 in /home/bsarma/anaconda3/envs/ml-zoomcamp/lib/python3.9/site-packages (from tensorflow<3,>=2.7.0->tensorflow-serving-api==2.7.0) (2.11.0)\n",
      "Requirement already satisfied: h5py>=2.9.0 in /home/bsarma/anaconda3/envs/ml-zoomcamp/lib/python3.9/site-packages (from tensorflow<3,>=2.7.0->tensorflow-serving-api==2.7.0) (2.10.0)\n",
      "Requirement already satisfied: absl-py>=1.0.0 in /home/bsarma/anaconda3/envs/ml-zoomcamp/lib/python3.9/site-packages (from tensorflow<3,>=2.7.0->tensorflow-serving-api==2.7.0) (1.3.0)\n",
      "Requirement already satisfied: wheel<1.0,>=0.23.0 in /home/bsarma/anaconda3/envs/ml-zoomcamp/lib/python3.9/site-packages (from astunparse>=1.6.0->tensorflow<3,>=2.7.0->tensorflow-serving-api==2.7.0) (0.37.1)\n",
      "Requirement already satisfied: werkzeug>=1.0.1 in /home/bsarma/anaconda3/envs/ml-zoomcamp/lib/python3.9/site-packages (from tensorboard<2.12,>=2.11->tensorflow<3,>=2.7.0->tensorflow-serving-api==2.7.0) (2.2.2)\n",
      "Requirement already satisfied: google-auth-oauthlib<0.5,>=0.4.1 in /home/bsarma/anaconda3/envs/ml-zoomcamp/lib/python3.9/site-packages (from tensorboard<2.12,>=2.11->tensorflow<3,>=2.7.0->tensorflow-serving-api==2.7.0) (0.4.4)\n",
      "Requirement already satisfied: tensorboard-plugin-wit>=1.6.0 in /home/bsarma/anaconda3/envs/ml-zoomcamp/lib/python3.9/site-packages (from tensorboard<2.12,>=2.11->tensorflow<3,>=2.7.0->tensorflow-serving-api==2.7.0) (1.8.1)\n",
      "Requirement already satisfied: markdown>=2.6.8 in /home/bsarma/anaconda3/envs/ml-zoomcamp/lib/python3.9/site-packages (from tensorboard<2.12,>=2.11->tensorflow<3,>=2.7.0->tensorflow-serving-api==2.7.0) (3.3.4)\n",
      "Requirement already satisfied: requests<3,>=2.21.0 in /home/bsarma/anaconda3/envs/ml-zoomcamp/lib/python3.9/site-packages (from tensorboard<2.12,>=2.11->tensorflow<3,>=2.7.0->tensorflow-serving-api==2.7.0) (2.28.1)\n",
      "Requirement already satisfied: google-auth<3,>=1.6.3 in /home/bsarma/anaconda3/envs/ml-zoomcamp/lib/python3.9/site-packages (from tensorboard<2.12,>=2.11->tensorflow<3,>=2.7.0->tensorflow-serving-api==2.7.0) (2.6.0)\n",
      "Requirement already satisfied: tensorboard-data-server<0.7.0,>=0.6.0 in /home/bsarma/anaconda3/envs/ml-zoomcamp/lib/python3.9/site-packages (from tensorboard<2.12,>=2.11->tensorflow<3,>=2.7.0->tensorflow-serving-api==2.7.0) (0.6.0)\n",
      "Requirement already satisfied: pyparsing!=3.0.5,>=2.0.2 in /home/bsarma/anaconda3/envs/ml-zoomcamp/lib/python3.9/site-packages (from packaging->tensorflow<3,>=2.7.0->tensorflow-serving-api==2.7.0) (3.0.9)\n",
      "Requirement already satisfied: cachetools<6.0,>=2.0.0 in /home/bsarma/anaconda3/envs/ml-zoomcamp/lib/python3.9/site-packages (from google-auth<3,>=1.6.3->tensorboard<2.12,>=2.11->tensorflow<3,>=2.7.0->tensorflow-serving-api==2.7.0) (4.2.2)\n",
      "Requirement already satisfied: rsa<5,>=3.1.4 in /home/bsarma/anaconda3/envs/ml-zoomcamp/lib/python3.9/site-packages (from google-auth<3,>=1.6.3->tensorboard<2.12,>=2.11->tensorflow<3,>=2.7.0->tensorflow-serving-api==2.7.0) (4.7.2)\n",
      "Requirement already satisfied: pyasn1-modules>=0.2.1 in /home/bsarma/anaconda3/envs/ml-zoomcamp/lib/python3.9/site-packages (from google-auth<3,>=1.6.3->tensorboard<2.12,>=2.11->tensorflow<3,>=2.7.0->tensorflow-serving-api==2.7.0) (0.2.8)\n",
      "Requirement already satisfied: requests-oauthlib>=0.7.0 in /home/bsarma/anaconda3/envs/ml-zoomcamp/lib/python3.9/site-packages (from google-auth-oauthlib<0.5,>=0.4.1->tensorboard<2.12,>=2.11->tensorflow<3,>=2.7.0->tensorflow-serving-api==2.7.0) (1.3.0)\n",
      "Requirement already satisfied: urllib3<1.27,>=1.21.1 in /home/bsarma/anaconda3/envs/ml-zoomcamp/lib/python3.9/site-packages (from requests<3,>=2.21.0->tensorboard<2.12,>=2.11->tensorflow<3,>=2.7.0->tensorflow-serving-api==2.7.0) (1.26.11)\n",
      "Requirement already satisfied: idna<4,>=2.5 in /home/bsarma/anaconda3/envs/ml-zoomcamp/lib/python3.9/site-packages (from requests<3,>=2.21.0->tensorboard<2.12,>=2.11->tensorflow<3,>=2.7.0->tensorflow-serving-api==2.7.0) (3.3)\n",
      "Requirement already satisfied: charset-normalizer<3,>=2 in /home/bsarma/anaconda3/envs/ml-zoomcamp/lib/python3.9/site-packages (from requests<3,>=2.21.0->tensorboard<2.12,>=2.11->tensorflow<3,>=2.7.0->tensorflow-serving-api==2.7.0) (2.0.4)\n",
      "Requirement already satisfied: certifi>=2017.4.17 in /home/bsarma/anaconda3/envs/ml-zoomcamp/lib/python3.9/site-packages (from requests<3,>=2.21.0->tensorboard<2.12,>=2.11->tensorflow<3,>=2.7.0->tensorflow-serving-api==2.7.0) (2022.9.24)\n",
      "Requirement already satisfied: MarkupSafe>=2.1.1 in /home/bsarma/anaconda3/envs/ml-zoomcamp/lib/python3.9/site-packages (from werkzeug>=1.0.1->tensorboard<2.12,>=2.11->tensorflow<3,>=2.7.0->tensorflow-serving-api==2.7.0) (2.1.1)\n"
     ]
    },
    {
     "name": "stdout",
     "output_type": "stream",
     "text": [
      "Requirement already satisfied: pyasn1<0.5.0,>=0.4.6 in /home/bsarma/anaconda3/envs/ml-zoomcamp/lib/python3.9/site-packages (from pyasn1-modules>=0.2.1->google-auth<3,>=1.6.3->tensorboard<2.12,>=2.11->tensorflow<3,>=2.7.0->tensorflow-serving-api==2.7.0) (0.4.8)\r\n",
      "Requirement already satisfied: oauthlib>=3.0.0 in /home/bsarma/anaconda3/envs/ml-zoomcamp/lib/python3.9/site-packages (from requests-oauthlib>=0.7.0->google-auth-oauthlib<0.5,>=0.4.1->tensorboard<2.12,>=2.11->tensorflow<3,>=2.7.0->tensorflow-serving-api==2.7.0) (3.2.1)\r\n"
     ]
    }
   ],
   "source": [
    "!pip install grpcio==1.42.0 tensorflow-serving-api==2.7.0"
   ]
  },
  {
   "cell_type": "code",
   "execution_count": 2,
   "id": "3534f57c",
   "metadata": {
    "collapsed": true
   },
   "outputs": [
    {
     "name": "stdout",
     "output_type": "stream",
     "text": [
      "Requirement already satisfied: keras-image-helper in /home/bsarma/anaconda3/envs/ml-zoomcamp/lib/python3.9/site-packages (0.0.1)\r\n",
      "Requirement already satisfied: pillow in /home/bsarma/anaconda3/envs/ml-zoomcamp/lib/python3.9/site-packages (from keras-image-helper) (9.2.0)\r\n",
      "Requirement already satisfied: numpy in /home/bsarma/anaconda3/envs/ml-zoomcamp/lib/python3.9/site-packages (from keras-image-helper) (1.21.5)\r\n"
     ]
    }
   ],
   "source": [
    "!pip install keras-image-helper"
   ]
  },
  {
   "cell_type": "code",
   "execution_count": 3,
   "id": "37458616",
   "metadata": {
    "collapsed": true
   },
   "outputs": [
    {
     "name": "stderr",
     "output_type": "stream",
     "text": [
      "2022-12-05 12:02:30.260799: I tensorflow/core/platform/cpu_feature_guard.cc:193] This TensorFlow binary is optimized with oneAPI Deep Neural Network Library (oneDNN) to use the following CPU instructions in performance-critical operations:  AVX2 FMA\n",
      "To enable them in other operations, rebuild TensorFlow with the appropriate compiler flags.\n",
      "2022-12-05 12:02:30.671578: W tensorflow/compiler/xla/stream_executor/platform/default/dso_loader.cc:64] Could not load dynamic library 'libcudart.so.11.0'; dlerror: libcudart.so.11.0: cannot open shared object file: No such file or directory\n",
      "2022-12-05 12:02:30.671686: I tensorflow/compiler/xla/stream_executor/cuda/cudart_stub.cc:29] Ignore above cudart dlerror if you do not have a GPU set up on your machine.\n",
      "2022-12-05 12:02:32.523429: W tensorflow/compiler/xla/stream_executor/platform/default/dso_loader.cc:64] Could not load dynamic library 'libnvinfer.so.7'; dlerror: libnvinfer.so.7: cannot open shared object file: No such file or directory\n",
      "2022-12-05 12:02:32.524434: W tensorflow/compiler/xla/stream_executor/platform/default/dso_loader.cc:64] Could not load dynamic library 'libnvinfer_plugin.so.7'; dlerror: libnvinfer_plugin.so.7: cannot open shared object file: No such file or directory\n",
      "2022-12-05 12:02:32.524514: W tensorflow/compiler/tf2tensorrt/utils/py_utils.cc:38] TF-TRT Warning: Cannot dlopen some TensorRT libraries. If you would like to use Nvidia GPU with TensorRT, please make sure the missing libraries mentioned above are installed properly.\n"
     ]
    }
   ],
   "source": [
    "import grpc\n",
    "\n",
    "import tensorflow as tf\n",
    "\n",
    "from tensorflow_serving.apis import predict_pb2\n",
    "from tensorflow_serving.apis import prediction_service_pb2_grpc"
   ]
  },
  {
   "cell_type": "code",
   "execution_count": 4,
   "id": "8c0f58b6",
   "metadata": {},
   "outputs": [],
   "source": [
    "host = 'localhost:8500'\n",
    "\n",
    "channel = grpc.insecure_channel(host)\n",
    "\n",
    "stub = prediction_service_pb2_grpc.PredictionServiceStub(channel)"
   ]
  },
  {
   "cell_type": "code",
   "execution_count": 5,
   "id": "03336eb8",
   "metadata": {},
   "outputs": [
    {
     "data": {
      "text/plain": [
       "<tensorflow_serving.apis.prediction_service_pb2_grpc.PredictionServiceStub at 0x7f84cc348af0>"
      ]
     },
     "execution_count": 5,
     "metadata": {},
     "output_type": "execute_result"
    }
   ],
   "source": [
    "stub"
   ]
  },
  {
   "cell_type": "code",
   "execution_count": 6,
   "id": "c011c9b2",
   "metadata": {},
   "outputs": [],
   "source": [
    "from keras_image_helper import create_preprocessor"
   ]
  },
  {
   "cell_type": "code",
   "execution_count": 7,
   "id": "7ad09827",
   "metadata": {},
   "outputs": [],
   "source": [
    "preprocessor = create_preprocessor('xception', target_size=(299,299))"
   ]
  },
  {
   "cell_type": "code",
   "execution_count": 8,
   "id": "2c62af03",
   "metadata": {
    "scrolled": true
   },
   "outputs": [],
   "source": [
    "url = \"http://bit.ly/mlbookcamp-pants\"\n",
    "X = preprocessor.from_url(url)"
   ]
  },
  {
   "cell_type": "code",
   "execution_count": 9,
   "id": "2f148c6b",
   "metadata": {},
   "outputs": [],
   "source": [
    "def np_to_protobuf(data):\n",
    "    return tf.make_tensor_proto(data, shape = data.shape)"
   ]
  },
  {
   "cell_type": "code",
   "execution_count": 10,
   "id": "74914441",
   "metadata": {},
   "outputs": [],
   "source": [
    "pb_request = predict_pb2.PredictRequest()\n",
    "\n",
    "pb_request.model_spec.name = 'clothing-model'\n",
    "pb_request.model_spec.signature_name = 'serving_default'\n",
    "pb_request.inputs['input_8'].CopyFrom(np_to_protobuf(X))"
   ]
  },
  {
   "cell_type": "code",
   "execution_count": 11,
   "id": "0c33882d",
   "metadata": {},
   "outputs": [],
   "source": [
    "pb_response = stub.Predict(pb_request, timeout=20.0)"
   ]
  },
  {
   "cell_type": "code",
   "execution_count": 12,
   "id": "8165514d",
   "metadata": {},
   "outputs": [
    {
     "data": {
      "text/plain": [
       "outputs {\n",
       "  key: \"dense_7\"\n",
       "  value {\n",
       "    dtype: DT_FLOAT\n",
       "    tensor_shape {\n",
       "      dim {\n",
       "        size: 1\n",
       "      }\n",
       "      dim {\n",
       "        size: 10\n",
       "      }\n",
       "    }\n",
       "    float_val: -1.8682903051376343\n",
       "    float_val: -4.761245250701904\n",
       "    float_val: -2.316983461380005\n",
       "    float_val: -1.0625708103179932\n",
       "    float_val: 9.887161254882812\n",
       "    float_val: -2.8124334812164307\n",
       "    float_val: -3.6662826538085938\n",
       "    float_val: 3.200361728668213\n",
       "    float_val: -2.6023378372192383\n",
       "    float_val: -4.835046291351318\n",
       "  }\n",
       "}\n",
       "model_spec {\n",
       "  name: \"clothing-model\"\n",
       "  version {\n",
       "    value: 1\n",
       "  }\n",
       "  signature_name: \"serving_default\"\n",
       "}"
      ]
     },
     "execution_count": 12,
     "metadata": {},
     "output_type": "execute_result"
    }
   ],
   "source": [
    "pb_response"
   ]
  },
  {
   "cell_type": "code",
   "execution_count": 13,
   "id": "680773c4",
   "metadata": {},
   "outputs": [],
   "source": [
    "preds = pb_response.outputs['dense_7'].float_val"
   ]
  },
  {
   "cell_type": "code",
   "execution_count": 14,
   "id": "1a771a6a",
   "metadata": {},
   "outputs": [],
   "source": [
    "classes = [\n",
    "    'dress',\n",
    "    'hat',\n",
    "    'longsleeve',\n",
    "    'outwear',\n",
    "    'pants',\n",
    "    'shirt',\n",
    "    'shoes',\n",
    "    'shorts',\n",
    "    'skirt',\n",
    "    't-shirt'\n",
    "]"
   ]
  },
  {
   "cell_type": "code",
   "execution_count": 15,
   "id": "cea1ebdb",
   "metadata": {},
   "outputs": [
    {
     "data": {
      "text/plain": [
       "{'dress': -1.8682903051376343,\n",
       " 'hat': -4.761245250701904,\n",
       " 'longsleeve': -2.316983461380005,\n",
       " 'outwear': -1.0625708103179932,\n",
       " 'pants': 9.887161254882812,\n",
       " 'shirt': -2.8124334812164307,\n",
       " 'shoes': -3.6662826538085938,\n",
       " 'shorts': 3.200361728668213,\n",
       " 'skirt': -2.6023378372192383,\n",
       " 't-shirt': -4.835046291351318}"
      ]
     },
     "execution_count": 15,
     "metadata": {},
     "output_type": "execute_result"
    }
   ],
   "source": [
    "dict(zip(classes, preds))"
   ]
  }
 ],
 "metadata": {
  "kernelspec": {
   "display_name": "Python 3",
   "language": "python",
   "name": "python3"
  },
  "language_info": {
   "codemirror_mode": {
    "name": "ipython",
    "version": 3
   },
   "file_extension": ".py",
   "mimetype": "text/x-python",
   "name": "python",
   "nbconvert_exporter": "python",
   "pygments_lexer": "ipython3",
   "version": "3.9.13"
  }
 },
 "nbformat": 4,
 "nbformat_minor": 5
}
