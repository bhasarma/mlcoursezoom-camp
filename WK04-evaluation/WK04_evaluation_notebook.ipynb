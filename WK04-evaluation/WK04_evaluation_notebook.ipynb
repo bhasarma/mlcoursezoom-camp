{
 "cells": [
  {
   "cell_type": "code",
   "execution_count": 1,
   "id": "fbb2c7ae",
   "metadata": {},
   "outputs": [],
   "source": [
    "#%autosave 0 #if I uncomment it, it means autosave disavbled. Otherwise Jupyternotebook saves every 2 mins or so."
   ]
  },
  {
   "cell_type": "markdown",
   "id": "cb4ccc2f",
   "metadata": {},
   "source": [
    "start of video: [ML Zoomcamp 4.1 - Evaluation Metrics: Session Overview](https://www.youtube.com/watch?v=gmg5jw1bM8A&list=PL3MmuxUbc_hIhxl5Ji8t4O6lPAOpHaCLR&index=40)"
   ]
  },
  {
   "cell_type": "markdown",
   "id": "f1d4b43e",
   "metadata": {},
   "source": [
    "# 4. Evaluation Metrics for Classification\n",
    "\n",
    "In the previous session we trained a model for predicting churn. We build a model with logistic regression for scoring existing customers and assigned them a probability of this customer leaving a company. We trained a model and our accuracy was 80%. In this module we'll try to find out, what does it actually mean. Is it a good score or not. Or, are there other ways of evaluating binary classification models. How do we know if it's good? We'll continue with the same dataset as previous module. "
   ]
  },
  {
   "cell_type": "markdown",
   "id": "a8883c2c",
   "metadata": {},
   "source": [
    "## 4.1 Evaluation metrics: session overview"
   ]
  },
  {
   "cell_type": "markdown",
   "id": "beafe431",
   "metadata": {},
   "source": [
    "* Dataset: [https://www.kaggle.com/blastchar/telco-customer-churn](https://www.kaggle.com/blastchar/telco-customer-churn)\n",
    "\n",
    "* [https://raw.githubusercontent.com/alexeygrigorev/mlbookcamp-code/master/chapter-03-churn-prediction/WA_Fn-UseC_-Telco-Customer-Churn.csv](https://raw.githubusercontent.com/alexeygrigorev/mlbookcamp-code/master/chapter-03-churn-prediction/WA_Fn-UseC_-Telco-Customer-Churn.csv)"
   ]
  },
  {
   "cell_type": "markdown",
   "id": "20d8ad5f",
   "metadata": {},
   "source": [
    "*Metric* - function that compares the predictions with the actual values and outputs a single number that tells how good the predictions are"
   ]
  },
  {
   "cell_type": "code",
   "execution_count": 2,
   "id": "db843419",
   "metadata": {},
   "outputs": [],
   "source": [
    "import pandas as pd\n",
    "import numpy as np\n",
    "\n",
    "import matplotlib.pyplot as plt"
   ]
  },
  {
   "cell_type": "code",
   "execution_count": 3,
   "id": "c95f424e",
   "metadata": {},
   "outputs": [],
   "source": [
    "from sklearn.model_selection import train_test_split\n",
    "from sklearn.feature_extraction import DictVectorizer\n",
    "from sklearn.linear_model import LogisticRegression"
   ]
  },
  {
   "cell_type": "code",
   "execution_count": 4,
   "id": "8c4605b0",
   "metadata": {},
   "outputs": [],
   "source": [
    "df = pd.read_csv('data-week-3.csv')\n",
    "\n",
    "df.columns = df.columns.str.lower().str.replace(' ', '_')\n",
    "\n",
    "categorical_columns = list(df.dtypes[df.dtypes == 'object'].index)\n",
    "\n",
    "for c in categorical_columns:\n",
    "    df[c] = df[c].str.lower().str.replace(' ', '_')\n",
    "\n",
    "df.totalcharges = pd.to_numeric(df.totalcharges, errors='coerce')\n",
    "df.totalcharges = df.totalcharges.fillna(0)\n",
    "\n",
    "df.churn = (df.churn == 'yes').astype(int)"
   ]
  },
  {
   "cell_type": "code",
   "execution_count": 5,
   "id": "e6c264e0",
   "metadata": {},
   "outputs": [],
   "source": [
    "df_full_train, df_test = train_test_split(df, test_size=0.2, random_state=1)\n",
    "df_train, df_val = train_test_split(df_full_train, test_size=0.25, random_state=1)\n",
    "\n",
    "df_train = df_train.reset_index(drop=True)\n",
    "df_val = df_val.reset_index(drop=True)\n",
    "df_test = df_test.reset_index(drop=True)\n",
    "\n",
    "y_train = df_train.churn.values\n",
    "y_val = df_val.churn.values\n",
    "y_test = df_test.churn.values\n",
    "\n",
    "del df_train['churn']\n",
    "del df_val['churn']\n",
    "del df_test['churn']"
   ]
  },
  {
   "cell_type": "code",
   "execution_count": 6,
   "id": "535ad709",
   "metadata": {},
   "outputs": [],
   "source": [
    "numerical = ['tenure', 'monthlycharges', 'totalcharges']\n",
    "\n",
    "categorical = [\n",
    "    'gender',\n",
    "    'seniorcitizen',\n",
    "    'partner',\n",
    "    'dependents',\n",
    "    'phoneservice',\n",
    "    'multiplelines',\n",
    "    'internetservice',\n",
    "    'onlinesecurity',\n",
    "    'onlinebackup',\n",
    "    'deviceprotection',\n",
    "    'techsupport',\n",
    "    'streamingtv',\n",
    "    'streamingmovies',\n",
    "    'contract',\n",
    "    'paperlessbilling',\n",
    "    'paymentmethod',\n",
    "]"
   ]
  },
  {
   "cell_type": "code",
   "execution_count": 7,
   "id": "34b69c6c",
   "metadata": {},
   "outputs": [
    {
     "data": {
      "text/html": [
       "<style>#sk-container-id-1 {color: black;background-color: white;}#sk-container-id-1 pre{padding: 0;}#sk-container-id-1 div.sk-toggleable {background-color: white;}#sk-container-id-1 label.sk-toggleable__label {cursor: pointer;display: block;width: 100%;margin-bottom: 0;padding: 0.3em;box-sizing: border-box;text-align: center;}#sk-container-id-1 label.sk-toggleable__label-arrow:before {content: \"▸\";float: left;margin-right: 0.25em;color: #696969;}#sk-container-id-1 label.sk-toggleable__label-arrow:hover:before {color: black;}#sk-container-id-1 div.sk-estimator:hover label.sk-toggleable__label-arrow:before {color: black;}#sk-container-id-1 div.sk-toggleable__content {max-height: 0;max-width: 0;overflow: hidden;text-align: left;background-color: #f0f8ff;}#sk-container-id-1 div.sk-toggleable__content pre {margin: 0.2em;color: black;border-radius: 0.25em;background-color: #f0f8ff;}#sk-container-id-1 input.sk-toggleable__control:checked~div.sk-toggleable__content {max-height: 200px;max-width: 100%;overflow: auto;}#sk-container-id-1 input.sk-toggleable__control:checked~label.sk-toggleable__label-arrow:before {content: \"▾\";}#sk-container-id-1 div.sk-estimator input.sk-toggleable__control:checked~label.sk-toggleable__label {background-color: #d4ebff;}#sk-container-id-1 div.sk-label input.sk-toggleable__control:checked~label.sk-toggleable__label {background-color: #d4ebff;}#sk-container-id-1 input.sk-hidden--visually {border: 0;clip: rect(1px 1px 1px 1px);clip: rect(1px, 1px, 1px, 1px);height: 1px;margin: -1px;overflow: hidden;padding: 0;position: absolute;width: 1px;}#sk-container-id-1 div.sk-estimator {font-family: monospace;background-color: #f0f8ff;border: 1px dotted black;border-radius: 0.25em;box-sizing: border-box;margin-bottom: 0.5em;}#sk-container-id-1 div.sk-estimator:hover {background-color: #d4ebff;}#sk-container-id-1 div.sk-parallel-item::after {content: \"\";width: 100%;border-bottom: 1px solid gray;flex-grow: 1;}#sk-container-id-1 div.sk-label:hover label.sk-toggleable__label {background-color: #d4ebff;}#sk-container-id-1 div.sk-serial::before {content: \"\";position: absolute;border-left: 1px solid gray;box-sizing: border-box;top: 0;bottom: 0;left: 50%;z-index: 0;}#sk-container-id-1 div.sk-serial {display: flex;flex-direction: column;align-items: center;background-color: white;padding-right: 0.2em;padding-left: 0.2em;position: relative;}#sk-container-id-1 div.sk-item {position: relative;z-index: 1;}#sk-container-id-1 div.sk-parallel {display: flex;align-items: stretch;justify-content: center;background-color: white;position: relative;}#sk-container-id-1 div.sk-item::before, #sk-container-id-1 div.sk-parallel-item::before {content: \"\";position: absolute;border-left: 1px solid gray;box-sizing: border-box;top: 0;bottom: 0;left: 50%;z-index: -1;}#sk-container-id-1 div.sk-parallel-item {display: flex;flex-direction: column;z-index: 1;position: relative;background-color: white;}#sk-container-id-1 div.sk-parallel-item:first-child::after {align-self: flex-end;width: 50%;}#sk-container-id-1 div.sk-parallel-item:last-child::after {align-self: flex-start;width: 50%;}#sk-container-id-1 div.sk-parallel-item:only-child::after {width: 0;}#sk-container-id-1 div.sk-dashed-wrapped {border: 1px dashed gray;margin: 0 0.4em 0.5em 0.4em;box-sizing: border-box;padding-bottom: 0.4em;background-color: white;}#sk-container-id-1 div.sk-label label {font-family: monospace;font-weight: bold;display: inline-block;line-height: 1.2em;}#sk-container-id-1 div.sk-label-container {text-align: center;}#sk-container-id-1 div.sk-container {/* jupyter's `normalize.less` sets `[hidden] { display: none; }` but bootstrap.min.css set `[hidden] { display: none !important; }` so we also need the `!important` here to be able to override the default hidden behavior on the sphinx rendered scikit-learn.org. See: https://github.com/scikit-learn/scikit-learn/issues/21755 */display: inline-block !important;position: relative;}#sk-container-id-1 div.sk-text-repr-fallback {display: none;}</style><div id=\"sk-container-id-1\" class=\"sk-top-container\"><div class=\"sk-text-repr-fallback\"><pre>LogisticRegression()</pre><b>In a Jupyter environment, please rerun this cell to show the HTML representation or trust the notebook. <br />On GitHub, the HTML representation is unable to render, please try loading this page with nbviewer.org.</b></div><div class=\"sk-container\" hidden><div class=\"sk-item\"><div class=\"sk-estimator sk-toggleable\"><input class=\"sk-toggleable__control sk-hidden--visually\" id=\"sk-estimator-id-1\" type=\"checkbox\" checked><label for=\"sk-estimator-id-1\" class=\"sk-toggleable__label sk-toggleable__label-arrow\">LogisticRegression</label><div class=\"sk-toggleable__content\"><pre>LogisticRegression()</pre></div></div></div></div></div>"
      ],
      "text/plain": [
       "LogisticRegression()"
      ]
     },
     "execution_count": 7,
     "metadata": {},
     "output_type": "execute_result"
    }
   ],
   "source": [
    "dv = DictVectorizer(sparse=False)\n",
    "\n",
    "train_dict = df_train[categorical + numerical].to_dict(orient='records')\n",
    "X_train = dv.fit_transform(train_dict)\n",
    "\n",
    "model = LogisticRegression()\n",
    "model.fit(X_train, y_train)"
   ]
  },
  {
   "cell_type": "code",
   "execution_count": 8,
   "id": "dc5db51c",
   "metadata": {},
   "outputs": [
    {
     "data": {
      "text/plain": [
       "0.8034066713981547"
      ]
     },
     "execution_count": 8,
     "metadata": {},
     "output_type": "execute_result"
    }
   ],
   "source": [
    "val_dict = df_val[categorical + numerical].to_dict(orient='records')\n",
    "X_val = dv.transform(val_dict)\n",
    "\n",
    "y_pred = model.predict_proba(X_val)[:, 1]\n",
    "churn_decision = (y_pred >= 0.5)\n",
    "(y_val == churn_decision).mean()"
   ]
  },
  {
   "cell_type": "markdown",
   "id": "ac775dc5",
   "metadata": {},
   "source": [
    "This week we'll look at this number (accuracy) and compare it with a baseline model and see how good this number is, 80% is good or not. Then we'll look at different types of errors e.g. we think that a customer is churning but they are not or other ways, different types of correct decisions, Then we'll see how to put these numbers in a table (called as confusion table). Then we'll look at Precision and Recall, which are good evaluation metrics for binaray classification problem. Then we'll talk about ROC (Receiver Opearing Characteristics) curves. This gives us a way to evaluate a model. With ROC curves we'll be able to evaluate the quality of soft predictions. Then we'll look at the area under the ROC curve, which is the most important metric for binary classification problems. Then we'll finish this week by talking about cross-validation, which is a way of validating our model. It is a more involved process. It has both advantages and disadvanteges. We'll look at it."
   ]
  },
  {
   "cell_type": "markdown",
   "id": "31eb41ac",
   "metadata": {},
   "source": [
    "end of video: [ML Zoomcamp 4.1 - Evaluation Metrics: Session Overview](https://www.youtube.com/watch?v=gmg5jw1bM8A&list=PL3MmuxUbc_hIhxl5Ji8t4O6lPAOpHaCLR&index=40)"
   ]
  },
  {
   "cell_type": "markdown",
   "id": "72fa2eb5",
   "metadata": {},
   "source": [
    "start of video: [ML Zoomcamp 4.2 - Accuracy and Dummy Model](https://www.youtube.com/watch?v=FW_l7lB0HUI&list=PL3MmuxUbc_hIhxl5Ji8t4O6lPAOpHaCLR&index=41&t=3s)"
   ]
  },
  {
   "cell_type": "markdown",
   "id": "bdd6de5a",
   "metadata": {},
   "source": [
    "## 4.2 Accuracy and dummy model\n",
    "\n",
    "Here we'll look at accuracy and discuss if 80% accuracy is good enough or not. **Accuracy** is fraction of customers that we predicted rightly.\n",
    "\n",
    "* Evaluate the model on different thresholds\n",
    "* Check the accuracy of dummy baselines"
   ]
  },
  {
   "cell_type": "code",
   "execution_count": 11,
   "id": "2ba07e11",
   "metadata": {},
   "outputs": [
    {
     "data": {
      "text/plain": [
       "1409"
      ]
     },
     "execution_count": 11,
     "metadata": {},
     "output_type": "execute_result"
    }
   ],
   "source": [
    "len(y_val)"
   ]
  },
  {
   "cell_type": "markdown",
   "id": "7876432d",
   "metadata": {},
   "source": [
    "Let's see how many coreect decisions we made:"
   ]
  },
  {
   "cell_type": "code",
   "execution_count": 12,
   "id": "c46bebe4",
   "metadata": {},
   "outputs": [
    {
     "data": {
      "text/plain": [
       "1132"
      ]
     },
     "execution_count": 12,
     "metadata": {},
     "output_type": "execute_result"
    }
   ],
   "source": [
    "(y_val == churn_decision).sum()"
   ]
  },
  {
   "cell_type": "code",
   "execution_count": 13,
   "id": "7db06752",
   "metadata": {},
   "outputs": [
    {
     "data": {
      "text/plain": [
       "0.8034066713981547"
      ]
     },
     "execution_count": 13,
     "metadata": {},
     "output_type": "execute_result"
    }
   ],
   "source": [
    "1132/1409"
   ]
  },
  {
   "cell_type": "markdown",
   "id": "88236195",
   "metadata": {},
   "source": [
    "We used the threshold of 0.5. But did we use it? Is it good or not? Let's find out."
   ]
  },
  {
   "cell_type": "markdown",
   "id": "de4758b0",
   "metadata": {},
   "source": [
    "*At this point I have the feeling that, we'll look at accuracy as a a function of threshold.*"
   ]
  },
  {
   "cell_type": "code",
   "execution_count": 16,
   "id": "08448ef0",
   "metadata": {},
   "outputs": [
    {
     "data": {
      "text/plain": [
       "array([0.  , 0.05, 0.1 , 0.15, 0.2 , 0.25, 0.3 , 0.35, 0.4 , 0.45, 0.5 ,\n",
       "       0.55, 0.6 , 0.65, 0.7 , 0.75, 0.8 , 0.85, 0.9 , 0.95, 1.  ])"
      ]
     },
     "execution_count": 16,
     "metadata": {},
     "output_type": "execute_result"
    }
   ],
   "source": [
    "thresholds = np.linspace(0, 1, 21)\n",
    "thresholds"
   ]
  },
  {
   "cell_type": "markdown",
   "id": "a38dc22a",
   "metadata": {},
   "source": [
    "Each of thresholds, we can use as an individual threshold."
   ]
  },
  {
   "cell_type": "code",
   "execution_count": 25,
   "id": "1600362b",
   "metadata": {},
   "outputs": [
    {
     "name": "stdout",
     "output_type": "stream",
     "text": [
      "0.00  0.274\n",
      "0.05  0.509\n",
      "0.10  0.591\n",
      "0.15  0.666\n",
      "0.20  0.710\n",
      "0.25  0.739\n",
      "0.30  0.760\n",
      "0.35  0.772\n",
      "0.40  0.785\n",
      "0.45  0.793\n",
      "0.50  0.803\n",
      "0.55  0.801\n",
      "0.60  0.795\n",
      "0.65  0.786\n",
      "0.70  0.766\n",
      "0.75  0.744\n",
      "0.80  0.735\n",
      "0.85  0.726\n",
      "0.90  0.726\n",
      "0.95  0.726\n",
      "1.00  0.726\n"
     ]
    }
   ],
   "source": [
    "scores = []\n",
    "for t in thresholds:\n",
    "    churn_decision = (y_pred >= t)\n",
    "    score = (y_val == churn_decision).mean()\n",
    "    print('%.2f  %.3f' %(t, score))\n",
    "    scores.append(score)"
   ]
  },
  {
   "cell_type": "markdown",
   "id": "42acc796",
   "metadata": {},
   "source": [
    "We see above that 0.5 is the best threshold."
   ]
  },
  {
   "cell_type": "code",
   "execution_count": 26,
   "id": "62f29b63",
   "metadata": {},
   "outputs": [
    {
     "data": {
      "text/plain": [
       "Text(0, 0.5, 'accuracy')"
      ]
     },
     "execution_count": 26,
     "metadata": {},
     "output_type": "execute_result"
    },
    {
     "data": {
      "image/png": "[encoded data removed]",
      "text/plain": [
       "<Figure size 640x480 with 1 Axes>"
      ]
     },
     "metadata": {},
     "output_type": "display_data"
    }
   ],
   "source": [
    "plt.plot(thresholds, scores)\n",
    "plt.xlabel('thresholds')\n",
    "plt.ylabel('accuracy')"
   ]
  },
  {
   "cell_type": "markdown",
   "id": "ead8688d",
   "metadata": {},
   "source": [
    "In scikit-learn there ia already a function for calculating accuracy."
   ]
  },
  {
   "cell_type": "code",
   "execution_count": 27,
   "id": "297e1124",
   "metadata": {},
   "outputs": [],
   "source": [
    "from sklearn.metrics import accuracy_score"
   ]
  },
  {
   "cell_type": "code",
   "execution_count": 30,
   "id": "8168f74b",
   "metadata": {},
   "outputs": [
    {
     "data": {
      "text/plain": [
       "0.7260468417317246"
      ]
     },
     "execution_count": 30,
     "metadata": {},
     "output_type": "execute_result"
    }
   ],
   "source": [
    "accuracy_score(y_val, churn_decision)"
   ]
  },
  {
   "cell_type": "code",
   "execution_count": 31,
   "id": "81c4edba",
   "metadata": {},
   "outputs": [
    {
     "name": "stdout",
     "output_type": "stream",
     "text": [
      "0.00  0.274\n",
      "0.05  0.509\n",
      "0.10  0.591\n",
      "0.15  0.666\n",
      "0.20  0.710\n",
      "0.25  0.739\n",
      "0.30  0.760\n",
      "0.35  0.772\n",
      "0.40  0.785\n",
      "0.45  0.793\n",
      "0.50  0.803\n",
      "0.55  0.801\n",
      "0.60  0.795\n",
      "0.65  0.786\n",
      "0.70  0.766\n",
      "0.75  0.744\n",
      "0.80  0.735\n",
      "0.85  0.726\n",
      "0.90  0.726\n",
      "0.95  0.726\n",
      "1.00  0.726\n"
     ]
    }
   ],
   "source": [
    "scores = []\n",
    "for t in thresholds:\n",
    "    score = accuracy_score(y_val, y_pred >= t)\n",
    "    print('%.2f  %.3f' %(t, score))\n",
    "    scores.append(score)"
   ]
  },
  {
   "cell_type": "code",
   "execution_count": 32,
   "id": "f93ce394",
   "metadata": {},
   "outputs": [
    {
     "data": {
      "text/plain": [
       "array([False, False, False, ..., False, False, False])"
      ]
     },
     "execution_count": 32,
     "metadata": {},
     "output_type": "execute_result"
    }
   ],
   "source": [
    "y_pred >= 1.0"
   ]
  },
  {
   "cell_type": "code",
   "execution_count": 33,
   "id": "264f85bd",
   "metadata": {},
   "outputs": [],
   "source": [
    "from collections import Counter"
   ]
  },
  {
   "cell_type": "code",
   "execution_count": 34,
   "id": "f1d9e103",
   "metadata": {},
   "outputs": [
    {
     "data": {
      "text/plain": [
       "Counter({False: 1409})"
      ]
     },
     "execution_count": 34,
     "metadata": {},
     "output_type": "execute_result"
    }
   ],
   "source": [
    "Counter(y_pred >= 1.0)"
   ]
  },
  {
   "cell_type": "markdown",
   "id": "566965de",
   "metadata": {},
   "source": [
    "Thus, we see that if we put threshold at 1, i.e. we treat a customer as churning if score is above 1, i.e. we say everyone is nonchurning, still we are 73% right. Thus we gained only 7% accuracy with our model. We were 73% right by treating everyone as nonchurning. Then why should bother about our model, if dummy model already gives us 73% accuracy."
   ]
  },
  {
   "cell_type": "code",
   "execution_count": 36,
   "id": "3e214423",
   "metadata": {},
   "outputs": [
    {
     "data": {
      "text/plain": [
       "Counter({0: 1023, 1: 386})"
      ]
     },
     "execution_count": 36,
     "metadata": {},
     "output_type": "execute_result"
    }
   ],
   "source": [
    "Counter(y_val)"
   ]
  },
  {
   "cell_type": "code",
   "execution_count": 39,
   "id": "84dcb599",
   "metadata": {},
   "outputs": [
    {
     "data": {
      "text/plain": [
       "0.2739531582682754"
      ]
     },
     "execution_count": 39,
     "metadata": {},
     "output_type": "execute_result"
    }
   ],
   "source": [
    "y_val.mean()"
   ]
  },
  {
   "cell_type": "code",
   "execution_count": 38,
   "id": "d3d0e07d",
   "metadata": {},
   "outputs": [
    {
     "data": {
      "text/plain": [
       "0.7260468417317246"
      ]
     },
     "execution_count": 38,
     "metadata": {},
     "output_type": "execute_result"
    }
   ],
   "source": [
    "1 - y_val.mean()"
   ]
  },
  {
   "cell_type": "markdown",
   "id": "0e318d7a",
   "metadata": {},
   "source": [
    "We see that 27% of users are non-churning."
   ]
  },
  {
   "cell_type": "markdown",
   "id": "7ce44aa7",
   "metadata": {},
   "source": [
    "Thus if we predict everyone as non-churning, then we are right 72% of the times. And if we predict everypne as churning, then we are right 27% of the times."
   ]
  },
  {
   "cell_type": "markdown",
   "id": "ef217704",
   "metadata": {},
   "source": [
    "There is a **CLASS IMBALANCE**. We have lot more customers who are non-churning, here we have 3:1. Thus accuracy is a score, that can be quite misleading when we have **class imbalance**. There are other ways of evaluating binary classification models, that are quite useful."
   ]
  },
  {
   "cell_type": "markdown",
   "id": "c5e3fe9f",
   "metadata": {},
   "source": [
    "Next lesson, we'll talk about confusion tables and different types of errors models can make."
   ]
  },
  {
   "cell_type": "markdown",
   "id": "1ea1eb13",
   "metadata": {},
   "source": [
    "end of video: [ML Zoomcamp 4.2 - Accuracy and Dummy Model](https://www.youtube.com/watch?v=FW_l7lB0HUI&list=PL3MmuxUbc_hIhxl5Ji8t4O6lPAOpHaCLR&index=41&t=3s)"
   ]
  },
  {
   "cell_type": "markdown",
   "id": "4bdeadbd",
   "metadata": {},
   "source": [
    "start of video: [ML Zoomcamp 4.3 - Confusion Table](https://www.youtube.com/watch?v=Jt2dDLSlBng&list=PL3MmuxUbc_hIhxl5Ji8t4O6lPAOpHaCLR&index=42)"
   ]
  },
  {
   "cell_type": "markdown",
   "id": "9cdf8a05",
   "metadata": {},
   "source": [
    "## 4.3 Confusion table\n",
    "\n",
    "* Different types of errors and correct decisions\n",
    "*  Arranging them in a table\n",
    "\n",
    "Confusion table is a way of looking at different errors and correct decisions that our binary classification model makes. In the previouse session, we looked at accuracy. We looked at accuracy across different thresholds for making decisions. We noticed that if we have a dummy model, it is quite good compared to the model we have and the reason for that is we have **Class imbalance** in our dataset. If we predict that everyone is non-churning our model is quite good. We need to have a different way to evaluate the quality of our model, so that it is not affected by **Class imbalance**. For that, we'll start with **Confusion table**."
   ]
  }
 ],
 "metadata": {
  "kernelspec": {
   "display_name": "Python 3",
   "language": "python",
   "name": "python3"
  },
  "language_info": {
   "codemirror_mode": {
    "name": "ipython",
    "version": 3
   },
   "file_extension": ".py",
   "mimetype": "text/x-python",
   "name": "python",
   "nbconvert_exporter": "python",
   "pygments_lexer": "ipython3",
   "version": "3.9.13"
  }
 },
 "nbformat": 4,
 "nbformat_minor": 5
}
