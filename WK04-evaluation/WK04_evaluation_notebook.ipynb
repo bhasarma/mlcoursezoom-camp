{
 "cells": [
  {
   "cell_type": "code",
   "execution_count": 1,
   "id": "fbb2c7ae",
   "metadata": {},
   "outputs": [],
   "source": [
    "#%autosave 0 #if I uncomment it, it means autosave disavbled. Otherwise Jupyternotebook saves every 2 mins or so."
   ]
  },
  {
   "cell_type": "markdown",
   "id": "0b327720",
   "metadata": {},
   "source": [
    "# 4. Evaluation Metrics for Classification\n",
    "\n",
    "In the previous session we trained a model for predicting churn. We build a model with logisticHow do we know if it's good?"
   ]
  },
  {
   "cell_type": "code",
   "execution_count": null,
   "id": "9f358ccd",
   "metadata": {},
   "outputs": [],
   "source": []
  }
 ],
 "metadata": {
  "kernelspec": {
   "display_name": "Python 3",
   "language": "python",
   "name": "python3"
  },
  "language_info": {
   "codemirror_mode": {
    "name": "ipython",
    "version": 3
   },
   "file_extension": ".py",
   "mimetype": "text/x-python",
   "name": "python",
   "nbconvert_exporter": "python",
   "pygments_lexer": "ipython3",
   "version": "3.9.13"
  }
 },
 "nbformat": 4,
 "nbformat_minor": 5
}
