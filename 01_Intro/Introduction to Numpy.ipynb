{
 "cells": [
  {
   "cell_type": "markdown",
   "id": "1a57427f",
   "metadata": {},
   "source": [
    "# 1. Introduction to Numpy\n",
    "\n",
    "This tutorial is meant for beginners to start or refresh with the basic methods in NumPy."
   ]
  },
  {
   "cell_type": "code",
   "execution_count": 40,
   "id": "5c16a3fb",
   "metadata": {},
   "outputs": [],
   "source": [
    "import numpy as np  #using alias here"
   ]
  },
  {
   "cell_type": "code",
   "execution_count": 41,
   "id": "4da060c1",
   "metadata": {},
   "outputs": [
    {
     "data": {
      "text/plain": [
       "<module 'numpy' from '/home/bsarma/anaconda3/envs/ml-zoomcamp/lib/python3.8/site-packages/numpy/__init__.py'>"
      ]
     },
     "execution_count": 41,
     "metadata": {},
     "output_type": "execute_result"
    }
   ],
   "source": [
    "np"
   ]
  },
  {
   "cell_type": "markdown",
   "id": "c0e3ecfc",
   "metadata": {},
   "source": [
    " # 1.1 Creating Arrays\n",
    " \n",
    " np.zeros() <br>\n",
    " np.ones()  <br>\n",
    " np.full()  <br>\n",
    " np.array()  <br>\n",
    " np.arange() <br>\n",
    " np.linspace() <br>"
   ]
  },
  {
   "cell_type": "code",
   "execution_count": 42,
   "id": "3a4f660d",
   "metadata": {},
   "outputs": [
    {
     "data": {
      "text/plain": [
       "array([0., 0., 0., 0., 0., 0., 0., 0., 0., 0.])"
      ]
     },
     "execution_count": 42,
     "metadata": {},
     "output_type": "execute_result"
    }
   ],
   "source": [
    "np.zeros(10)  #creates an array of length 10 filled with zeros"
   ]
  },
  {
   "cell_type": "code",
   "execution_count": 43,
   "id": "2fbcb1ee",
   "metadata": {},
   "outputs": [
    {
     "data": {
      "text/plain": [
       "array([1., 1., 1., 1., 1., 1., 1., 1., 1., 1.])"
      ]
     },
     "execution_count": 43,
     "metadata": {},
     "output_type": "execute_result"
    }
   ],
   "source": [
    "np.ones(10)  #creates an array of length 10, filled with one."
   ]
  },
  {
   "cell_type": "code",
   "execution_count": 44,
   "id": "3041a22a",
   "metadata": {},
   "outputs": [
    {
     "data": {
      "text/plain": [
       "array([2.5, 2.5, 2.5, 2.5, 2.5, 2.5, 2.5, 2.5, 2.5, 2.5])"
      ]
     },
     "execution_count": 44,
     "metadata": {},
     "output_type": "execute_result"
    }
   ],
   "source": [
    "np.full(10, 2.5)  #creates an array of length 10, filled with 2.5"
   ]
  },
  {
   "cell_type": "code",
   "execution_count": 45,
   "id": "12d68be8",
   "metadata": {},
   "outputs": [
    {
     "data": {
      "text/plain": [
       "[1, 2, 3, 5, 7, 12]"
      ]
     },
     "execution_count": 45,
     "metadata": {},
     "output_type": "execute_result"
    }
   ],
   "source": [
    "[1,2,3,5,7,12]  #is a list"
   ]
  },
  {
   "cell_type": "code",
   "execution_count": 46,
   "id": "168eefae",
   "metadata": {},
   "outputs": [],
   "source": [
    "a = np.array([1,2,3,5,7,12])"
   ]
  },
  {
   "cell_type": "code",
   "execution_count": 47,
   "id": "0059e606",
   "metadata": {},
   "outputs": [
    {
     "data": {
      "text/plain": [
       "3"
      ]
     },
     "execution_count": 47,
     "metadata": {},
     "output_type": "execute_result"
    }
   ],
   "source": [
    "a[2]  #index of a numpy array start with 0. In MATLAB in starts from 1"
   ]
  },
  {
   "cell_type": "code",
   "execution_count": 48,
   "id": "57f12569",
   "metadata": {},
   "outputs": [
    {
     "data": {
      "text/plain": [
       "array([ 1,  2,  3,  5,  7, 12])"
      ]
     },
     "execution_count": 48,
     "metadata": {},
     "output_type": "execute_result"
    }
   ],
   "source": [
    "a"
   ]
  },
  {
   "cell_type": "code",
   "execution_count": 49,
   "id": "40d099d0",
   "metadata": {},
   "outputs": [
    {
     "data": {
      "text/plain": [
       "array([0, 1, 2, 3, 4, 5, 6, 7, 8, 9])"
      ]
     },
     "execution_count": 49,
     "metadata": {},
     "output_type": "execute_result"
    }
   ],
   "source": [
    "np.arange(10) #gives an array whose elemensta are filled with integeers from 0 to 9"
   ]
  },
  {
   "cell_type": "code",
   "execution_count": 50,
   "id": "0077af14",
   "metadata": {},
   "outputs": [
    {
     "data": {
      "text/plain": [
       "array([3, 4, 5, 6, 7, 8, 9])"
      ]
     },
     "execution_count": 50,
     "metadata": {},
     "output_type": "execute_result"
    }
   ],
   "source": [
    "np.arange(3,10) #gives an array whose elements are integers ranging from 3 to 9"
   ]
  },
  {
   "cell_type": "code",
   "execution_count": 51,
   "id": "92a6b2d2",
   "metadata": {},
   "outputs": [
    {
     "data": {
      "text/plain": [
       "array([  0.,  10.,  20.,  30.,  40.,  50.,  60.,  70.,  80.,  90., 100.])"
      ]
     },
     "execution_count": 51,
     "metadata": {},
     "output_type": "execute_result"
    }
   ],
   "source": [
    "np.linspace(0,100,11)  #gives an array of length 11 whose elements are equally spaced between 0 and 100"
   ]
  },
  {
   "cell_type": "markdown",
   "id": "9c59b250",
   "metadata": {},
   "source": [
    "# 1.2 Multidimensional arrays"
   ]
  },
  {
   "cell_type": "code",
   "execution_count": 52,
   "id": "8e3db0a4",
   "metadata": {},
   "outputs": [
    {
     "data": {
      "text/plain": [
       "array([[0., 0.],\n",
       "       [0., 0.],\n",
       "       [0., 0.],\n",
       "       [0., 0.],\n",
       "       [0., 0.]])"
      ]
     },
     "execution_count": 52,
     "metadata": {},
     "output_type": "execute_result"
    }
   ],
   "source": [
    "np.zeros((5,2))"
   ]
  },
  {
   "cell_type": "code",
   "execution_count": 53,
   "id": "2e3f3a30",
   "metadata": {},
   "outputs": [],
   "source": [
    "n = np.array([[1,2,3],\n",
    "        [4,5,6],\n",
    "        [7,8,9]])"
   ]
  },
  {
   "cell_type": "code",
   "execution_count": 54,
   "id": "9d8074e2",
   "metadata": {},
   "outputs": [
    {
     "data": {
      "text/plain": [
       "2"
      ]
     },
     "execution_count": 54,
     "metadata": {},
     "output_type": "execute_result"
    }
   ],
   "source": [
    "n[0,1]  #gives element at first row and second coloumn"
   ]
  },
  {
   "cell_type": "code",
   "execution_count": 55,
   "id": "f597ee58",
   "metadata": {},
   "outputs": [
    {
     "data": {
      "text/plain": [
       "array([4, 5, 6])"
      ]
     },
     "execution_count": 55,
     "metadata": {},
     "output_type": "execute_result"
    }
   ],
   "source": [
    "n[1]  #gives elements of 2nd row"
   ]
  },
  {
   "cell_type": "code",
   "execution_count": 56,
   "id": "d3562cdd",
   "metadata": {},
   "outputs": [
    {
     "data": {
      "text/plain": [
       "array([2, 5, 8])"
      ]
     },
     "execution_count": 56,
     "metadata": {},
     "output_type": "execute_result"
    }
   ],
   "source": [
    "n[:,1]  #gives elements of 2nd column"
   ]
  },
  {
   "cell_type": "code",
   "execution_count": 57,
   "id": "d1b0e3c0",
   "metadata": {},
   "outputs": [],
   "source": [
    "n[:,1]=[0,1,2] #new values are assigned to the 2nd column"
   ]
  },
  {
   "cell_type": "code",
   "execution_count": 58,
   "id": "ed1bf1b3",
   "metadata": {},
   "outputs": [
    {
     "data": {
      "text/plain": [
       "array([[1, 0, 3],\n",
       "       [4, 1, 6],\n",
       "       [7, 2, 9]])"
      ]
     },
     "execution_count": 58,
     "metadata": {},
     "output_type": "execute_result"
    }
   ],
   "source": [
    "n"
   ]
  },
  {
   "cell_type": "markdown",
   "id": "682689fb",
   "metadata": {},
   "source": [
    "# 1.3 Randomly geneated Arrays\n",
    "\n",
    "np.random.seed()  <br>\n",
    "np.random.rand()  <br>\n",
    "np.random.randn() <br>\n",
    "np.random.randint()"
   ]
  },
  {
   "cell_type": "code",
   "execution_count": 59,
   "id": "7bb83281",
   "metadata": {},
   "outputs": [
    {
     "data": {
      "text/plain": [
       "array([[43.59949021,  2.59262318],\n",
       "       [54.96624779, 43.53223926],\n",
       "       [42.03678021, 33.0334821 ],\n",
       "       [20.4648634 , 61.92709664],\n",
       "       [29.96546737, 26.68272751]])"
      ]
     },
     "execution_count": 59,
     "metadata": {},
     "output_type": "execute_result"
    }
   ],
   "source": [
    "np.random.seed(2)\n",
    "100*np.random.rand(5,2) # with standard uniform distribution"
   ]
  },
  {
   "cell_type": "code",
   "execution_count": 60,
   "id": "3cdde481",
   "metadata": {},
   "outputs": [
    {
     "data": {
      "text/plain": [
       "array([[ 1.78862847,  0.43650985],\n",
       "       [ 0.09649747, -1.8634927 ],\n",
       "       [-0.2773882 , -0.35475898],\n",
       "       [-0.08274148, -0.62700068],\n",
       "       [-0.04381817, -0.47721803]])"
      ]
     },
     "execution_count": 60,
     "metadata": {},
     "output_type": "execute_result"
    }
   ],
   "source": [
    "np.random.seed(3)\n",
    "np.random.randn(5,2)  # n for normal distribution"
   ]
  },
  {
   "cell_type": "code",
   "execution_count": 61,
   "id": "0adb6d7a",
   "metadata": {},
   "outputs": [
    {
     "data": {
      "text/plain": [
       "array([[24,  3],\n",
       "       [56, 72],\n",
       "       [ 0, 21],\n",
       "       [19, 74],\n",
       "       [41, 10]])"
      ]
     },
     "execution_count": 61,
     "metadata": {},
     "output_type": "execute_result"
    }
   ],
   "source": [
    "np.random.seed(3)\n",
    "np.random.randint(low = 0, high= 100, size=(5,2)) #0 is included, 100 is excluded"
   ]
  },
  {
   "cell_type": "markdown",
   "id": "e64a74cd",
   "metadata": {},
   "source": [
    "# 1.4 Element wise operations"
   ]
  },
  {
   "cell_type": "code",
   "execution_count": 62,
   "id": "17badac8",
   "metadata": {},
   "outputs": [],
   "source": [
    "a = np.arange(5)"
   ]
  },
  {
   "cell_type": "code",
   "execution_count": 63,
   "id": "1988f0f2",
   "metadata": {},
   "outputs": [
    {
     "data": {
      "text/plain": [
       "array([0, 1, 2, 3, 4])"
      ]
     },
     "execution_count": 63,
     "metadata": {},
     "output_type": "execute_result"
    }
   ],
   "source": [
    "a"
   ]
  },
  {
   "cell_type": "code",
   "execution_count": 64,
   "id": "78b05ee5",
   "metadata": {},
   "outputs": [
    {
     "data": {
      "text/plain": [
       "array([1, 2, 3, 4, 5])"
      ]
     },
     "execution_count": 64,
     "metadata": {},
     "output_type": "execute_result"
    }
   ],
   "source": [
    "a +1  #addition like this works only with numpy array. not with list. with a list we have to use loop"
   ]
  },
  {
   "cell_type": "code",
   "execution_count": 65,
   "id": "3a7b5248",
   "metadata": {},
   "outputs": [
    {
     "data": {
      "text/plain": [
       "array([0, 2, 4, 6, 8])"
      ]
     },
     "execution_count": 65,
     "metadata": {},
     "output_type": "execute_result"
    }
   ],
   "source": [
    "a*2"
   ]
  },
  {
   "cell_type": "code",
   "execution_count": 66,
   "id": "8ebabfd3",
   "metadata": {},
   "outputs": [
    {
     "data": {
      "text/plain": [
       "array([0.  , 0.01, 0.02, 0.03, 0.04])"
      ]
     },
     "execution_count": 66,
     "metadata": {},
     "output_type": "execute_result"
    }
   ],
   "source": [
    "a/100"
   ]
  },
  {
   "cell_type": "code",
   "execution_count": 67,
   "id": "fe0290a8",
   "metadata": {},
   "outputs": [],
   "source": [
    "b = (10+(a*2))**2"
   ]
  },
  {
   "cell_type": "code",
   "execution_count": 68,
   "id": "c075e8cc",
   "metadata": {},
   "outputs": [
    {
     "data": {
      "text/plain": [
       "array([100, 144, 196, 256, 324])"
      ]
     },
     "execution_count": 68,
     "metadata": {},
     "output_type": "execute_result"
    }
   ],
   "source": [
    "b"
   ]
  },
  {
   "cell_type": "code",
   "execution_count": 69,
   "id": "6d7b9a3c",
   "metadata": {},
   "outputs": [
    {
     "data": {
      "text/plain": [
       "array([100, 145, 198, 259, 328])"
      ]
     },
     "execution_count": 69,
     "metadata": {},
     "output_type": "execute_result"
    }
   ],
   "source": [
    "a +b # minus, division, mulitiply all works here"
   ]
  },
  {
   "cell_type": "code",
   "execution_count": 70,
   "id": "8dc60a29",
   "metadata": {},
   "outputs": [
    {
     "data": {
      "text/plain": [
       "array([False, False, False, False, False])"
      ]
     },
     "execution_count": 70,
     "metadata": {},
     "output_type": "execute_result"
    }
   ],
   "source": [
    "a >=b"
   ]
  },
  {
   "cell_type": "code",
   "execution_count": 71,
   "id": "7622ba70",
   "metadata": {},
   "outputs": [
    {
     "data": {
      "text/plain": [
       "array([0, 1, 2, 3, 4])"
      ]
     },
     "execution_count": 71,
     "metadata": {},
     "output_type": "execute_result"
    }
   ],
   "source": [
    "a[a<b]"
   ]
  },
  {
   "cell_type": "markdown",
   "id": "9c96d3a5",
   "metadata": {},
   "source": [
    "# 1.5 Summarizing operations"
   ]
  },
  {
   "cell_type": "code",
   "execution_count": 72,
   "id": "f7032314",
   "metadata": {},
   "outputs": [
    {
     "data": {
      "text/plain": [
       "array([0, 1, 2, 3, 4])"
      ]
     },
     "execution_count": 72,
     "metadata": {},
     "output_type": "execute_result"
    }
   ],
   "source": [
    "a"
   ]
  },
  {
   "cell_type": "code",
   "execution_count": 73,
   "id": "0cc9278b",
   "metadata": {},
   "outputs": [
    {
     "data": {
      "text/plain": [
       "0"
      ]
     },
     "execution_count": 73,
     "metadata": {},
     "output_type": "execute_result"
    }
   ],
   "source": [
    "a.min()"
   ]
  },
  {
   "cell_type": "code",
   "execution_count": 74,
   "id": "6fa8f9b8",
   "metadata": {},
   "outputs": [
    {
     "data": {
      "text/plain": [
       "2.0"
      ]
     },
     "execution_count": 74,
     "metadata": {},
     "output_type": "execute_result"
    }
   ],
   "source": [
    "a.mean()"
   ]
  },
  {
   "cell_type": "code",
   "execution_count": 75,
   "id": "fb3708f5",
   "metadata": {},
   "outputs": [
    {
     "data": {
      "text/plain": [
       "1.4142135623730951"
      ]
     },
     "execution_count": 75,
     "metadata": {},
     "output_type": "execute_result"
    }
   ],
   "source": [
    "a.std()  #standard deviation"
   ]
  },
  {
   "cell_type": "code",
   "execution_count": 76,
   "id": "ada04443",
   "metadata": {},
   "outputs": [
    {
     "data": {
      "text/plain": [
       "array([[1, 0, 3],\n",
       "       [4, 1, 6],\n",
       "       [7, 2, 9]])"
      ]
     },
     "execution_count": 76,
     "metadata": {},
     "output_type": "execute_result"
    }
   ],
   "source": [
    "n"
   ]
  },
  {
   "cell_type": "code",
   "execution_count": 77,
   "id": "28fdb638",
   "metadata": {},
   "outputs": [
    {
     "data": {
      "text/plain": [
       "3.6666666666666665"
      ]
     },
     "execution_count": 77,
     "metadata": {},
     "output_type": "execute_result"
    }
   ],
   "source": [
    "n.mean() # works for multidimensional arrays as well"
   ]
  },
  {
   "cell_type": "markdown",
   "id": "dad8fb2f",
   "metadata": {},
   "source": [
    "# 1.6 Linear Algebra: Vector Operations"
   ]
  },
  {
   "cell_type": "code",
   "execution_count": 110,
   "id": "b6504068",
   "metadata": {},
   "outputs": [
    {
     "data": {
      "text/plain": [
       "array([0, 1, 2, 3, 4])"
      ]
     },
     "execution_count": 110,
     "metadata": {},
     "output_type": "execute_result"
    }
   ],
   "source": [
    "a"
   ]
  },
  {
   "cell_type": "code",
   "execution_count": 111,
   "id": "21157eee",
   "metadata": {},
   "outputs": [
    {
     "data": {
      "text/plain": [
       "array([100, 144, 196, 256, 324])"
      ]
     },
     "execution_count": 111,
     "metadata": {},
     "output_type": "execute_result"
    }
   ],
   "source": [
    "b"
   ]
  },
  {
   "cell_type": "code",
   "execution_count": 112,
   "id": "42a9d13b",
   "metadata": {},
   "outputs": [
    {
     "data": {
      "text/plain": [
       "array([100, 145, 198, 259, 328])"
      ]
     },
     "execution_count": 112,
     "metadata": {},
     "output_type": "execute_result"
    }
   ],
   "source": [
    "a+b"
   ]
  },
  {
   "cell_type": "code",
   "execution_count": 113,
   "id": "f9e9f410",
   "metadata": {},
   "outputs": [
    {
     "data": {
      "text/plain": [
       "array([   0,  144,  392,  768, 1296])"
      ]
     },
     "execution_count": 113,
     "metadata": {},
     "output_type": "execute_result"
    }
   ],
   "source": [
    "a * b  # elementwise multiplication"
   ]
  },
  {
   "cell_type": "markdown",
   "id": "37ad71f1",
   "metadata": {},
   "source": [
    "# 1.6.1 Vector-vector multiplication (dot product)\n",
    "\n",
    "u.dot(v)"
   ]
  },
  {
   "cell_type": "code",
   "execution_count": 114,
   "id": "39c26ccd",
   "metadata": {},
   "outputs": [],
   "source": [
    "u = np.array([2, 4, 5, 6])\n",
    "v = np.array([1, 0, 0, 2])"
   ]
  },
  {
   "cell_type": "code",
   "execution_count": 115,
   "id": "687dfbe4",
   "metadata": {},
   "outputs": [
    {
     "data": {
      "text/plain": [
       "(4,)"
      ]
     },
     "execution_count": 115,
     "metadata": {},
     "output_type": "execute_result"
    }
   ],
   "source": [
    "u.shape"
   ]
  },
  {
   "cell_type": "code",
   "execution_count": 116,
   "id": "569c4653",
   "metadata": {},
   "outputs": [
    {
     "data": {
      "text/plain": [
       "(4,)"
      ]
     },
     "execution_count": 116,
     "metadata": {},
     "output_type": "execute_result"
    }
   ],
   "source": [
    "v.shape"
   ]
  },
  {
   "cell_type": "code",
   "execution_count": 117,
   "id": "362b1c85",
   "metadata": {},
   "outputs": [
    {
     "data": {
      "text/plain": [
       "4"
      ]
     },
     "execution_count": 117,
     "metadata": {},
     "output_type": "execute_result"
    }
   ],
   "source": [
    "u.shape[0]"
   ]
  },
  {
   "cell_type": "code",
   "execution_count": 118,
   "id": "cd158d57",
   "metadata": {},
   "outputs": [
    {
     "data": {
      "text/plain": [
       "4"
      ]
     },
     "execution_count": 118,
     "metadata": {},
     "output_type": "execute_result"
    }
   ],
   "source": [
    "v.shape[0]"
   ]
  },
  {
   "cell_type": "code",
   "execution_count": 119,
   "id": "ad05119c",
   "metadata": {},
   "outputs": [],
   "source": [
    "def vector_vector_multiplication(u,v):\n",
    "    assert u.shape[0] == v.shape[0]    \n",
    "    n = u.shape[0]\n",
    "    result = 0.0\n",
    "    for i in range(n):\n",
    "        result = result + u[i] * v[i]\n",
    "    \n",
    "    return result"
   ]
  },
  {
   "cell_type": "code",
   "execution_count": 120,
   "id": "a4c12733",
   "metadata": {},
   "outputs": [
    {
     "data": {
      "text/plain": [
       "14.0"
      ]
     },
     "execution_count": 120,
     "metadata": {},
     "output_type": "execute_result"
    }
   ],
   "source": [
    "vector_vector_multiplication(u,v)"
   ]
  },
  {
   "cell_type": "code",
   "execution_count": 121,
   "id": "18991a20",
   "metadata": {},
   "outputs": [
    {
     "data": {
      "text/plain": [
       "14"
      ]
     },
     "execution_count": 121,
     "metadata": {},
     "output_type": "execute_result"
    }
   ],
   "source": [
    "u.dot(v)   #dot product between two vectors"
   ]
  },
  {
   "cell_type": "code",
   "execution_count": 122,
   "id": "90e61a08",
   "metadata": {},
   "outputs": [
    {
     "data": {
      "text/plain": [
       "14"
      ]
     },
     "execution_count": 122,
     "metadata": {},
     "output_type": "execute_result"
    }
   ],
   "source": [
    "v.dot(u)  #gives same result as u.dot(v)"
   ]
  },
  {
   "cell_type": "markdown",
   "id": "1f403e01",
   "metadata": {},
   "source": [
    "# 1.6.2 Matrix-vector multiplication"
   ]
  },
  {
   "cell_type": "code",
   "execution_count": 123,
   "id": "90a12af5",
   "metadata": {},
   "outputs": [],
   "source": [
    "U = np.array([\n",
    "    [2,4,5,6],\n",
    "    [1,2,1,2],\n",
    "    [3,1,2,1],\n",
    "])                               # a 3x4 matrix "
   ]
  },
  {
   "cell_type": "code",
   "execution_count": 124,
   "id": "4da61625",
   "metadata": {},
   "outputs": [
    {
     "data": {
      "text/plain": [
       "(3, 4)"
      ]
     },
     "execution_count": 124,
     "metadata": {},
     "output_type": "execute_result"
    }
   ],
   "source": [
    "U.shape"
   ]
  },
  {
   "cell_type": "code",
   "execution_count": 125,
   "id": "7b156718",
   "metadata": {},
   "outputs": [
    {
     "data": {
      "text/plain": [
       "4"
      ]
     },
     "execution_count": 125,
     "metadata": {},
     "output_type": "execute_result"
    }
   ],
   "source": [
    "U.shape[1]   # number of cols in U"
   ]
  },
  {
   "cell_type": "code",
   "execution_count": 126,
   "id": "94646057",
   "metadata": {},
   "outputs": [],
   "source": [
    "def matrix_vector_multiplication(U,v):   #Look into the function\n",
    "    assert U.shape[1] == v.shape[0]\n",
    "    \n",
    "    num_rows = U.shape[0]\n",
    "    result = np.zeros(num_rows)\n",
    "    for i in range(num_rows):\n",
    "        result[i]= vector_vector_multiplication(U[i],v)\n",
    "    \n",
    "    return result "
   ]
  },
  {
   "cell_type": "code",
   "execution_count": 127,
   "id": "cfc25abd",
   "metadata": {},
   "outputs": [
    {
     "data": {
      "text/plain": [
       "array([14.,  5.,  5.])"
      ]
     },
     "execution_count": 127,
     "metadata": {},
     "output_type": "execute_result"
    }
   ],
   "source": [
    "matrix_vector_multiplication(U,v)"
   ]
  },
  {
   "cell_type": "code",
   "execution_count": 128,
   "id": "ab1bf145",
   "metadata": {},
   "outputs": [
    {
     "data": {
      "text/plain": [
       "array([14,  5,  5])"
      ]
     },
     "execution_count": 128,
     "metadata": {},
     "output_type": "execute_result"
    }
   ],
   "source": [
    "U.dot(v)  #matrix-vector multiplication"
   ]
  },
  {
   "cell_type": "markdown",
   "id": "416fe091",
   "metadata": {},
   "source": [
    "# 1.6.3 Matrix-matrix multiplication"
   ]
  },
  {
   "cell_type": "code",
   "execution_count": 129,
   "id": "c5c60d31",
   "metadata": {},
   "outputs": [],
   "source": [
    "V = np.array([\n",
    "    [1,1,2],\n",
    "    [0,0.5,1],\n",
    "    [0,2,1],\n",
    "    [2,1,0],\n",
    "])                             # a 4x3 matrix"
   ]
  },
  {
   "cell_type": "code",
   "execution_count": 98,
   "id": "d44fed8d",
   "metadata": {},
   "outputs": [],
   "source": [
    "def matrix_matrix_multiplication(U,V):\n",
    "    assert U.shape[1]== V.shape[0]\n",
    "    \n",
    "    num_rows = U.shape[0]\n",
    "    num_cols = V.shape[1]\n",
    "    \n",
    "    result = np.zeros((num_rows, num_cols))\n",
    "    for i in range(num_cols):\n",
    "        vi = V[:,i]\n",
    "        Uvi= matrix_vector_multiplication(U, vi)\n",
    "        result[:,i] =  Uvi\n",
    "        \n",
    "    return result"
   ]
  },
  {
   "cell_type": "code",
   "execution_count": 99,
   "id": "8ed14679",
   "metadata": {},
   "outputs": [
    {
     "data": {
      "text/plain": [
       "array([[14. , 20. , 13. ],\n",
       "       [ 5. ,  6. ,  5. ],\n",
       "       [ 5. ,  8.5,  9. ]])"
      ]
     },
     "execution_count": 99,
     "metadata": {},
     "output_type": "execute_result"
    }
   ],
   "source": [
    "matrix_matrix_multiplication(U,V)"
   ]
  },
  {
   "cell_type": "code",
   "execution_count": 100,
   "id": "4ac990a0",
   "metadata": {},
   "outputs": [
    {
     "data": {
      "text/plain": [
       "array([[14. , 20. , 13. ],\n",
       "       [ 5. ,  6. ,  5. ],\n",
       "       [ 5. ,  8.5,  9. ]])"
      ]
     },
     "execution_count": 100,
     "metadata": {},
     "output_type": "execute_result"
    }
   ],
   "source": [
    "U.dot(V)"
   ]
  },
  {
   "cell_type": "markdown",
   "id": "5836dbe0",
   "metadata": {},
   "source": [
    "# 1.7 Linear Algebra: Identity matrix I "
   ]
  },
  {
   "cell_type": "code",
   "execution_count": 130,
   "id": "5edb39a7",
   "metadata": {},
   "outputs": [],
   "source": [
    "I = np.eye(3)"
   ]
  },
  {
   "cell_type": "code",
   "execution_count": 102,
   "id": "1df1b747",
   "metadata": {},
   "outputs": [
    {
     "data": {
      "text/plain": [
       "array([[1., 0., 0.],\n",
       "       [0., 1., 0.],\n",
       "       [0., 0., 1.]])"
      ]
     },
     "execution_count": 102,
     "metadata": {},
     "output_type": "execute_result"
    }
   ],
   "source": [
    "I"
   ]
  },
  {
   "cell_type": "code",
   "execution_count": 103,
   "id": "bbe45f43",
   "metadata": {},
   "outputs": [
    {
     "data": {
      "text/plain": [
       "array([[1. , 1. , 2. ],\n",
       "       [0. , 0.5, 1. ],\n",
       "       [0. , 2. , 1. ],\n",
       "       [2. , 1. , 0. ]])"
      ]
     },
     "execution_count": 103,
     "metadata": {},
     "output_type": "execute_result"
    }
   ],
   "source": [
    "V   # a 4x3 matrix"
   ]
  },
  {
   "cell_type": "code",
   "execution_count": 104,
   "id": "af1a73b4",
   "metadata": {},
   "outputs": [
    {
     "data": {
      "text/plain": [
       "(4, 3)"
      ]
     },
     "execution_count": 104,
     "metadata": {},
     "output_type": "execute_result"
    }
   ],
   "source": [
    "V.shape"
   ]
  },
  {
   "cell_type": "code",
   "execution_count": 105,
   "id": "7a200512",
   "metadata": {},
   "outputs": [
    {
     "data": {
      "text/plain": [
       "array([[1. , 1. , 2. ],\n",
       "       [0. , 0.5, 1. ],\n",
       "       [0. , 2. , 1. ],\n",
       "       [2. , 1. , 0. ]])"
      ]
     },
     "execution_count": 105,
     "metadata": {},
     "output_type": "execute_result"
    }
   ],
   "source": [
    "W = V.dot(I)\n",
    "W"
   ]
  },
  {
   "cell_type": "code",
   "execution_count": 106,
   "id": "a127a2e0",
   "metadata": {},
   "outputs": [
    {
     "data": {
      "text/plain": [
       "array([[ True,  True,  True],\n",
       "       [ True,  True,  True],\n",
       "       [ True,  True,  True],\n",
       "       [ True,  True,  True]])"
      ]
     },
     "execution_count": 106,
     "metadata": {},
     "output_type": "execute_result"
    }
   ],
   "source": [
    "W ==V  #multiplying a matrix with an Identity matrix doesn't change the matrix"
   ]
  },
  {
   "cell_type": "markdown",
   "id": "9e4012c3",
   "metadata": {},
   "source": [
    "# 1.8 Linear algebra: Inverse Matrix\n",
    "\n",
    "np.linalg.inv()"
   ]
  },
  {
   "cell_type": "code",
   "execution_count": 131,
   "id": "73f3abaf",
   "metadata": {},
   "outputs": [
    {
     "data": {
      "text/plain": [
       "array([[1. , 1. , 2. ],\n",
       "       [0. , 0.5, 1. ],\n",
       "       [0. , 2. , 1. ]])"
      ]
     },
     "execution_count": 131,
     "metadata": {},
     "output_type": "execute_result"
    }
   ],
   "source": [
    "Vs = V[[0,1,2]]  #we select first 3 rows of V to have a square matrix\n",
    "Vs               # For a matrix to be invertible, 1. it has to be a square matrix and 2. its determinanat!=0"
   ]
  },
  {
   "cell_type": "code",
   "execution_count": 132,
   "id": "53520e6f",
   "metadata": {},
   "outputs": [],
   "source": [
    "Vs_inv= np.linalg.inv(Vs) "
   ]
  },
  {
   "cell_type": "code",
   "execution_count": 133,
   "id": "cdc9238d",
   "metadata": {},
   "outputs": [
    {
     "data": {
      "text/plain": [
       "array([[ 1.        , -2.        ,  0.        ],\n",
       "       [ 0.        , -0.66666667,  0.66666667],\n",
       "       [ 0.        ,  1.33333333, -0.33333333]])"
      ]
     },
     "execution_count": 133,
     "metadata": {},
     "output_type": "execute_result"
    }
   ],
   "source": [
    "Vs_inv"
   ]
  },
  {
   "cell_type": "markdown",
   "id": "1c7c1247",
   "metadata": {},
   "source": [
    "### End of Introduction to NumPy"
   ]
  }
 ],
 "metadata": {
  "kernelspec": {
   "display_name": "Python 3",
   "language": "python",
   "name": "python3"
  },
  "language_info": {
   "codemirror_mode": {
    "name": "ipython",
    "version": 3
   },
   "file_extension": ".py",
   "mimetype": "text/x-python",
   "name": "python",
   "nbconvert_exporter": "python",
   "pygments_lexer": "ipython3",
   "version": "3.8.11"
  }
 },
 "nbformat": 4,
 "nbformat_minor": 5
}
