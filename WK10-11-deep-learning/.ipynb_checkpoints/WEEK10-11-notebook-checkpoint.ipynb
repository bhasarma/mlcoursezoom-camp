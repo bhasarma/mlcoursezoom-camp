{
 "cells": [
  {
   "cell_type": "markdown",
   "id": "78b4108d",
   "metadata": {},
   "source": [
    "# 8. Neural networks and deep learning\n",
    "\n",
    "This week, we'll learn about neural nets and build a model for classifying images of clothes"
   ]
  },
  {
   "cell_type": "markdown",
   "id": "d9b2529c",
   "metadata": {},
   "source": [
    "## 8.1 Fashion classification\n",
    "\n",
    "Dataset:\n",
    "\n",
    "- Full: [https://github.com/alexeygrigorev/clothing-dataset](https://github.com/alexeygrigorev/clothing-dataset)\n",
    "- Small: [https://github.com/alexeygrigorev/clothing-dataset-small](https://github.com/alexeygrigorev/clothing-dataset-small)\n",
    "\n",
    "\n",
    "Links:\n",
    "\n",
    "- [https://cs231n.github.io/](https://cs231n.github.io/)"
   ]
  },
  {
   "cell_type": "code",
   "execution_count": null,
   "id": "9e1e0d05",
   "metadata": {},
   "outputs": [],
   "source": []
  }
 ],
 "metadata": {
  "kernelspec": {
   "display_name": "Python 3",
   "language": "python",
   "name": "python3"
  },
  "language_info": {
   "codemirror_mode": {
    "name": "ipython",
    "version": 3
   },
   "file_extension": ".py",
   "mimetype": "text/x-python",
   "name": "python",
   "nbconvert_exporter": "python",
   "pygments_lexer": "ipython3",
   "version": "3.9.13"
  }
 },
 "nbformat": 4,
 "nbformat_minor": 5
}
