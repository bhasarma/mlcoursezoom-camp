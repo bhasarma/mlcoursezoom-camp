{
 "cells": [
  {
   "cell_type": "markdown",
   "id": "78b4108d",
   "metadata": {},
   "source": [
    "# 8. Neural networks and deep learning\n",
    "\n",
    "This week, we'll learn about neural nets and build a model for classifying images of clothes"
   ]
  },
  {
   "cell_type": "markdown",
   "id": "d9b2529c",
   "metadata": {},
   "source": [
    "## 8.1 Fashion classification\n",
    "\n",
    "Dataset:\n",
    "\n",
    "- Full: [https://github.com/alexeygrigorev/clothing-dataset](https://github.com/alexeygrigorev/clothing-dataset)\n",
    "- Small: [https://github.com/alexeygrigorev/clothing-dataset-small](https://github.com/alexeygrigorev/clothing-dataset-small)\n",
    "\n",
    "\n",
    "Links:\n",
    "\n",
    "- [https://cs231n.github.io/](https://cs231n.github.io/)"
   ]
  },
  {
   "cell_type": "code",
   "execution_count": 1,
   "id": "67263d8f",
   "metadata": {},
   "outputs": [],
   "source": [
    "#uncomment below if dataset is not downloaded yet.\n",
    "#!git clone https://github.com/alexeygrigorev/clothing-dataset-small.git"
   ]
  },
  {
   "cell_type": "markdown",
   "id": "1067a1e9",
   "metadata": {},
   "source": [
    "## 8.2 TensorFlow and Keras\n",
    "\n",
    "- installing TensorFlow\n",
    "- Loading images"
   ]
  },
  {
   "cell_type": "code",
   "execution_count": 2,
   "id": "38943675",
   "metadata": {},
   "outputs": [],
   "source": [
    "import numpy as np\n",
    "import matplotlib.pyplot as plt\n",
    "\n",
    "%matplotlib inline"
   ]
  },
  {
   "cell_type": "code",
   "execution_count": 3,
   "id": "314da72d",
   "metadata": {
    "collapsed": true
   },
   "outputs": [
    {
     "name": "stdout",
     "output_type": "stream",
     "text": [
      "Collecting package metadata (current_repodata.json): done\n",
      "Solving environment: failed with initial frozen solve. Retrying with flexible solve.\n",
      "Solving environment: failed with repodata from current_repodata.json, will retry with next repodata source.\n",
      "Collecting package metadata (repodata.json): done\n",
      "Solving environment: done\n",
      "\n",
      "\n",
      "==> WARNING: A newer version of conda exists. <==\n",
      "  current version: 4.14.0\n",
      "  latest version: 22.9.0\n",
      "\n",
      "Please update conda by running\n",
      "\n",
      "    $ conda update -n base -c defaults conda\n",
      "\n",
      "\n",
      "\n",
      "## Package Plan ##\n",
      "\n",
      "  environment location: /home/bsarma/anaconda3/envs/ml-zoomcamp\n",
      "\n",
      "  added / updated specs:\n",
      "    - tensorflow\n",
      "\n",
      "\n",
      "The following packages will be downloaded:\n",
      "\n",
      "    package                    |            build\n",
      "    ---------------------------|-----------------\n",
      "    _tflow_select-2.3.0        |              mkl           2 KB\n",
      "    absl-py-1.3.0              |   py39h06a4308_0         167 KB\n",
      "    aiohttp-3.8.1              |   py39h7f8727e_1         525 KB\n",
      "    aiosignal-1.2.0            |     pyhd3eb1b0_0          12 KB\n",
      "    astor-0.8.1                |   py39h06a4308_0          47 KB\n",
      "    astunparse-1.6.3           |             py_0          17 KB\n",
      "    async-timeout-4.0.2        |   py39h06a4308_0          11 KB\n",
      "    blinker-1.4                |   py39h06a4308_0          23 KB\n",
      "    c-ares-1.18.1              |       h7f8727e_0         114 KB\n",
      "    ca-certificates-2022.10.11 |       h06a4308_0         124 KB\n",
      "    cachetools-4.2.2           |     pyhd3eb1b0_0          13 KB\n",
      "    click-8.0.4                |   py39h06a4308_0         152 KB\n",
      "    dataclasses-0.8            |     pyh6d0b6a4_7           8 KB\n",
      "    frozenlist-1.2.0           |   py39h7f8727e_0          79 KB\n",
      "    gast-0.4.0                 |     pyhd3eb1b0_0          13 KB\n",
      "    google-auth-2.6.0          |     pyhd3eb1b0_0          83 KB\n",
      "    google-auth-oauthlib-0.4.4 |     pyhd3eb1b0_0          18 KB\n",
      "    google-pasta-0.2.0         |     pyhd3eb1b0_0          46 KB\n",
      "    grpcio-1.42.0              |   py39hce63b2e_0         2.1 MB\n",
      "    h5py-2.10.0                |   py39hec9cf62_0         946 KB\n",
      "    hdf5-1.10.6                |       h3ffc7dd_1         3.6 MB\n",
      "    keras-preprocessing-1.1.2  |     pyhd3eb1b0_0          35 KB\n",
      "    libprotobuf-3.20.1         |       h4ff587b_0         2.1 MB\n",
      "    markdown-3.3.4             |   py39h06a4308_0         129 KB\n",
      "    multidict-6.0.2            |   py39h5eee18b_0          49 KB\n",
      "    oauthlib-3.2.1             |   py39h06a4308_0         193 KB\n",
      "    openssl-1.1.1s             |       h7f8727e_0         3.6 MB\n",
      "    opt_einsum-3.3.0           |     pyhd3eb1b0_1          57 KB\n",
      "    protobuf-3.20.1            |   py39h295c915_0         293 KB\n",
      "    pyasn1-0.4.8               |     pyhd3eb1b0_0          54 KB\n",
      "    pyasn1-modules-0.2.8       |             py_0          72 KB\n",
      "    pyjwt-2.4.0                |   py39h06a4308_0          34 KB\n",
      "    python-flatbuffers-2.0     |     pyhd3eb1b0_0          34 KB\n",
      "    requests-oauthlib-1.3.0    |             py_0          23 KB\n",
      "    rsa-4.7.2                  |     pyhd3eb1b0_1          28 KB\n",
      "    tensorboard-2.10.0         |   py39h06a4308_0         5.6 MB\n",
      "    tensorboard-data-server-0.6.0|   py39hca6d32c_0         2.7 MB\n",
      "    tensorboard-plugin-wit-1.8.1|   py39h06a4308_0         675 KB\n",
      "    tensorflow-2.4.1           |mkl_py39h4683426_0           4 KB\n",
      "    tensorflow-base-2.4.1      |mkl_py39h43e0292_0        89.2 MB\n",
      "    tensorflow-estimator-2.6.0 |     pyh7b7c402_0         267 KB\n",
      "    termcolor-2.1.0            |   py39h06a4308_0          11 KB\n",
      "    werkzeug-2.0.3             |     pyhd3eb1b0_0         221 KB\n",
      "    wrapt-1.14.1               |   py39h5eee18b_0          51 KB\n",
      "    yarl-1.8.1                 |   py39h5eee18b_0          87 KB\n",
      "    ------------------------------------------------------------\n",
      "                                           Total:       113.5 MB\n",
      "\n",
      "The following NEW packages will be INSTALLED:\n",
      "\n",
      "  _tflow_select      pkgs/main/linux-64::_tflow_select-2.3.0-mkl\n",
      "  absl-py            pkgs/main/linux-64::absl-py-1.3.0-py39h06a4308_0\n",
      "  aiohttp            pkgs/main/linux-64::aiohttp-3.8.1-py39h7f8727e_1\n",
      "  aiosignal          pkgs/main/noarch::aiosignal-1.2.0-pyhd3eb1b0_0\n",
      "  astor              pkgs/main/linux-64::astor-0.8.1-py39h06a4308_0\n",
      "  astunparse         pkgs/main/noarch::astunparse-1.6.3-py_0\n",
      "  async-timeout      pkgs/main/linux-64::async-timeout-4.0.2-py39h06a4308_0\n",
      "  blinker            pkgs/main/linux-64::blinker-1.4-py39h06a4308_0\n",
      "  c-ares             pkgs/main/linux-64::c-ares-1.18.1-h7f8727e_0\n",
      "  cachetools         pkgs/main/noarch::cachetools-4.2.2-pyhd3eb1b0_0\n",
      "  click              pkgs/main/linux-64::click-8.0.4-py39h06a4308_0\n",
      "  dataclasses        pkgs/main/noarch::dataclasses-0.8-pyh6d0b6a4_7\n",
      "  frozenlist         pkgs/main/linux-64::frozenlist-1.2.0-py39h7f8727e_0\n",
      "  gast               pkgs/main/noarch::gast-0.4.0-pyhd3eb1b0_0\n",
      "  google-auth        pkgs/main/noarch::google-auth-2.6.0-pyhd3eb1b0_0\n",
      "  google-auth-oauth~ pkgs/main/noarch::google-auth-oauthlib-0.4.4-pyhd3eb1b0_0\n",
      "  google-pasta       pkgs/main/noarch::google-pasta-0.2.0-pyhd3eb1b0_0\n",
      "  grpcio             pkgs/main/linux-64::grpcio-1.42.0-py39hce63b2e_0\n",
      "  h5py               pkgs/main/linux-64::h5py-2.10.0-py39hec9cf62_0\n",
      "  hdf5               pkgs/main/linux-64::hdf5-1.10.6-h3ffc7dd_1\n",
      "  importlib-metadata pkgs/main/linux-64::importlib-metadata-4.11.3-py39h06a4308_0\n",
      "  keras-preprocessi~ pkgs/main/noarch::keras-preprocessing-1.1.2-pyhd3eb1b0_0\n",
      "  libprotobuf        pkgs/main/linux-64::libprotobuf-3.20.1-h4ff587b_0\n",
      "  markdown           pkgs/main/linux-64::markdown-3.3.4-py39h06a4308_0\n",
      "  multidict          pkgs/main/linux-64::multidict-6.0.2-py39h5eee18b_0\n",
      "  oauthlib           pkgs/main/linux-64::oauthlib-3.2.1-py39h06a4308_0\n",
      "  opt_einsum         pkgs/main/noarch::opt_einsum-3.3.0-pyhd3eb1b0_1\n",
      "  protobuf           pkgs/main/linux-64::protobuf-3.20.1-py39h295c915_0\n",
      "  pyasn1             pkgs/main/noarch::pyasn1-0.4.8-pyhd3eb1b0_0\n",
      "  pyasn1-modules     pkgs/main/noarch::pyasn1-modules-0.2.8-py_0\n",
      "  pyjwt              pkgs/main/linux-64::pyjwt-2.4.0-py39h06a4308_0\n",
      "  python-flatbuffers pkgs/main/noarch::python-flatbuffers-2.0-pyhd3eb1b0_0\n",
      "  requests-oauthlib  pkgs/main/noarch::requests-oauthlib-1.3.0-py_0\n",
      "  rsa                pkgs/main/noarch::rsa-4.7.2-pyhd3eb1b0_1\n",
      "  tensorboard        pkgs/main/linux-64::tensorboard-2.10.0-py39h06a4308_0\n",
      "  tensorboard-data-~ pkgs/main/linux-64::tensorboard-data-server-0.6.0-py39hca6d32c_0\n",
      "  tensorboard-plugi~ pkgs/main/linux-64::tensorboard-plugin-wit-1.8.1-py39h06a4308_0\n",
      "  tensorflow         pkgs/main/linux-64::tensorflow-2.4.1-mkl_py39h4683426_0\n",
      "  tensorflow-base    pkgs/main/linux-64::tensorflow-base-2.4.1-mkl_py39h43e0292_0\n",
      "  tensorflow-estima~ pkgs/main/noarch::tensorflow-estimator-2.6.0-pyh7b7c402_0\n",
      "  termcolor          pkgs/main/linux-64::termcolor-2.1.0-py39h06a4308_0\n",
      "  werkzeug           pkgs/main/noarch::werkzeug-2.0.3-pyhd3eb1b0_0\n",
      "  wrapt              pkgs/main/linux-64::wrapt-1.14.1-py39h5eee18b_0\n",
      "  yarl               pkgs/main/linux-64::yarl-1.8.1-py39h5eee18b_0\n",
      "  zipp               pkgs/main/linux-64::zipp-3.8.0-py39h06a4308_0\n",
      "\n",
      "The following packages will be UPDATED:\n",
      "\n",
      "  ca-certificates    anaconda::ca-certificates-2022.07.19-~ --> pkgs/main::ca-certificates-2022.10.11-h06a4308_0\n",
      "  certifi            anaconda::certifi-2022.6.15-py39h06a4~ --> pkgs/main::certifi-2022.9.24-py39h06a4308_0\n",
      "  openssl               anaconda::openssl-1.1.1q-h7f8727e_0 --> pkgs/main::openssl-1.1.1s-h7f8727e_0\n",
      "\n",
      "\n",
      "\n",
      "Downloading and Extracting Packages\n",
      "libprotobuf-3.20.1   | 2.1 MB    | ##################################### | 100% \n",
      "pyasn1-0.4.8         | 54 KB     | ##################################### | 100% \n",
      "multidict-6.0.2      | 49 KB     | ##################################### | 100% \n",
      "tensorflow-2.4.1     | 4 KB      | ##################################### | 100% \n",
      "h5py-2.10.0          | 946 KB    | ##################################### | 100% \n",
      "wrapt-1.14.1         | 51 KB     | ##################################### | 100% \n",
      "_tflow_select-2.3.0  | 2 KB      | ##################################### | 100% \n",
      "markdown-3.3.4       | 129 KB    | ##################################### | 100% \n"
     ]
    },
    {
     "name": "stdout",
     "output_type": "stream",
     "text": [
      "click-8.0.4          | 152 KB    | ##################################### | 100% \n",
      "pyjwt-2.4.0          | 34 KB     | ##################################### | 100% \n",
      "keras-preprocessing- | 35 KB     | ##################################### | 100% \n",
      "yarl-1.8.1           | 87 KB     | ##################################### | 100% \n",
      "grpcio-1.42.0        | 2.1 MB    | ##################################### | 100% \n",
      "dataclasses-0.8      | 8 KB      | ##################################### | 100% \n",
      "opt_einsum-3.3.0     | 57 KB     | ##################################### | 100% \n",
      "absl-py-1.3.0        | 167 KB    | ##################################### | 100% \n",
      "python-flatbuffers-2 | 34 KB     | ##################################### | 100% \n",
      "termcolor-2.1.0      | 11 KB     | ##################################### | 100% \n",
      "pyasn1-modules-0.2.8 | 72 KB     | ##################################### | 100% \n",
      "rsa-4.7.2            | 28 KB     | ##################################### | 100% \n",
      "async-timeout-4.0.2  | 11 KB     | ##################################### | 100% \n",
      "ca-certificates-2022 | 124 KB    | ##################################### | 100% \n",
      "oauthlib-3.2.1       | 193 KB    | ##################################### | 100% \n",
      "requests-oauthlib-1. | 23 KB     | ##################################### | 100% \n",
      "tensorboard-plugin-w | 675 KB    | ##################################### | 100% \n",
      "google-auth-oauthlib | 18 KB     | ##################################### | 100% \n",
      "google-auth-2.6.0    | 83 KB     | ##################################### | 100% \n",
      "blinker-1.4          | 23 KB     | ##################################### | 100% \n",
      "tensorboard-2.10.0   | 5.6 MB    | ##################################### | 100% \n",
      "hdf5-1.10.6          | 3.6 MB    | ##################################### | 100% \n",
      "cachetools-4.2.2     | 13 KB     | ##################################### | 100% \n",
      "aiosignal-1.2.0      | 12 KB     | ##################################### | 100% \n",
      "tensorflow-base-2.4. | 89.2 MB   | ##################################### | 100% \n",
      "openssl-1.1.1s       | 3.6 MB    | ##################################### | 100% \n",
      "protobuf-3.20.1      | 293 KB    | ##################################### | 100% \n",
      "tensorboard-data-ser | 2.7 MB    | ##################################### | 100% \n",
      "astunparse-1.6.3     | 17 KB     | ##################################### | 100% \n",
      "aiohttp-3.8.1        | 525 KB    | ##################################### | 100% \n",
      "astor-0.8.1          | 47 KB     | ##################################### | 100% \n",
      "gast-0.4.0           | 13 KB     | ##################################### | 100% \n",
      "werkzeug-2.0.3       | 221 KB    | ##################################### | 100% \n",
      "tensorflow-estimator | 267 KB    | ##################################### | 100% \n",
      "c-ares-1.18.1        | 114 KB    | ##################################### | 100% \n",
      "frozenlist-1.2.0     | 79 KB     | ##################################### | 100% \n",
      "google-pasta-0.2.0   | 46 KB     | ##################################### | 100% \n",
      "Preparing transaction: done\n",
      "Verifying transaction: done\n",
      "Executing transaction: done\n",
      "Retrieving notices: ...working... done\n"
     ]
    }
   ],
   "source": [
    "!conda install tensorflow -y"
   ]
  },
  {
   "cell_type": "code",
   "execution_count": 5,
   "id": "79c530c7",
   "metadata": {},
   "outputs": [],
   "source": [
    "import tensorflow as tf\n",
    "from tensorflow import keras"
   ]
  },
  {
   "cell_type": "code",
   "execution_count": 6,
   "id": "b43815e9",
   "metadata": {},
   "outputs": [
    {
     "name": "stdout",
     "output_type": "stream",
     "text": [
      "2.4.1\n"
     ]
    }
   ],
   "source": [
    "print(tf.__version__)"
   ]
  },
  {
   "cell_type": "markdown",
   "id": "0d032119",
   "metadata": {},
   "source": [
    "We installed the libraries, imported them and now we want to load the images. "
   ]
  }
 ],
 "metadata": {
  "kernelspec": {
   "display_name": "Python 3",
   "language": "python",
   "name": "python3"
  },
  "language_info": {
   "codemirror_mode": {
    "name": "ipython",
    "version": 3
   },
   "file_extension": ".py",
   "mimetype": "text/x-python",
   "name": "python",
   "nbconvert_exporter": "python",
   "pygments_lexer": "ipython3",
   "version": "3.9.13"
  }
 },
 "nbformat": 4,
 "nbformat_minor": 5
}
