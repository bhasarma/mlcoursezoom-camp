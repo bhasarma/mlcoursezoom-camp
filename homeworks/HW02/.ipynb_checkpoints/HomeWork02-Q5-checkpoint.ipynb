{
 "cells": [
  {
   "cell_type": "markdown",
   "id": "93255e86",
   "metadata": {},
   "source": [
    "## Question number 5: \n",
    "### Homework 02 | WEEK 02 (13.09-19.09.2022) | Machine Learning Zoomcamp\n",
    "\n",
    "* We used seed 42 for splitting the data. Let's find out how selecting the seed influences our score.\n",
    "* Try different seed values: [0, 1, 2, 3, 4, 5, 6, 7, 8, 9].\n",
    "* For each seed, do the train/validation/test split with 60%/20%/20% distribution.\n",
    "* Fill the missing values with 0 and train a model without regularization.\n",
    "* For each seed, evaluate the model on the validation dataset and collect the RMSE scores.\n",
    "* What's the standard deviation of all the scores? To compute the standard deviation, use np.std.\n",
    "* Round the result to 3 decimal digits (round(std, 3))\n",
    "\n",
    "Note: Standard deviation shows how different the values are. If it's low, then all values are approximately the same. If it's high, the values are different. If standard deviation of scores is low, then our model is stable.\n"
   ]
  },
  {
   "cell_type": "code",
   "execution_count": 1,
   "id": "f4982495",
   "metadata": {},
   "outputs": [],
   "source": [
    "import numpy as np\n",
    "import pandas as pd\n",
    "\n",
    "import matplotlib.pyplot as plt\n",
    "import seaborn as sns\n",
    "\n",
    "%matplotlib inline  \n",
    "# above line is needed so that all the plots can be displayed on notebook"
   ]
  },
  {
   "cell_type": "code",
   "execution_count": 2,
   "id": "b57708f3",
   "metadata": {},
   "outputs": [],
   "source": [
    "df = pd.read_csv('housing.csv') #housing.csv is already downloaded on my local directory"
   ]
  },
  {
   "cell_type": "code",
   "execution_count": 3,
   "id": "8eaf3edd",
   "metadata": {},
   "outputs": [],
   "source": [
    "features = ['longitude', 'latitude', 'housing_median_age', 'total_rooms', 'total_bedrooms', 'population', 'households', 'median_income', 'median_house_value']\n",
    "df=df[features]"
   ]
  },
  {
   "cell_type": "code",
   "execution_count": 4,
   "id": "ecdf9103",
   "metadata": {},
   "outputs": [],
   "source": [
    "n = len(df)\n",
    "n_val = int(n*0.2)  # n_val is length of validation data set\n",
    "n_test = int(n*0.2)\n",
    "n_train = n - n_val - n_test\n",
    "\n",
    "idx = np.arange(n)"
   ]
  },
  {
   "cell_type": "code",
   "execution_count": 5,
   "id": "de2fba84",
   "metadata": {},
   "outputs": [],
   "source": [
    "def train_linear_regression(X,y):\n",
    "    ones = np.ones(X.shape[0])\n",
    "    X = np.column_stack([ones, X])\n",
    "    XT = X.T\n",
    "    XTX = XT.dot(X)\n",
    "    XTX_inv = np.linalg.inv(XTX)\n",
    "    w_full = XTX_inv.dot(X.T).dot(y)\n",
    "    return w_full[0], w_full[1:]"
   ]
  },
  {
   "cell_type": "code",
   "execution_count": 6,
   "id": "5307859e",
   "metadata": {},
   "outputs": [],
   "source": [
    "def rmse(y, y_pred):\n",
    "    se = (y - y_pred)**2  #squared error\n",
    "    mse = se.mean()\n",
    "    return round(np.sqrt(mse),2)"
   ]
  },
  {
   "cell_type": "code",
   "execution_count": 8,
   "id": "6a3b2e1a",
   "metadata": {},
   "outputs": [
    {
     "name": "stdout",
     "output_type": "stream",
     "text": [
      "0 0.34\n",
      "1 0.33\n",
      "2 0.33\n",
      "3 0.35\n",
      "4 0.34\n",
      "5 0.34\n",
      "6 0.34\n",
      "7 0.34\n",
      "8 0.34\n",
      "9 0.34\n"
     ]
    }
   ],
   "source": [
    "rmse_scores = []\n",
    "\n",
    "for seed in [0, 1, 2, 3, 4, 5, 6, 7, 8, 9]:\n",
    "    np.random.seed(seed)\n",
    "    np.random.shuffle(idx)\n",
    "    \n",
    "    df_train = df.iloc[idx[:n_train]]\n",
    "    df_val = df.iloc[idx[n_train:n_train+n_val]]\n",
    "    df_test = df.iloc[idx[n_train+n_val:]]\n",
    "\n",
    "    \n",
    "    df_train = df_train.reset_index(drop=True)\n",
    "    df_val = df_val.reset_index(drop=True)\n",
    "    df_test = df_test.reset_index(drop=True)\n",
    "\n",
    "    y_train = np.log1p(df_train.median_house_value.values) \n",
    "    y_val = np.log1p(df_val.median_house_value.values)\n",
    "    y_test = np.log1p(df_test.median_house_value.values)\n",
    "\n",
    "    \n",
    "    del df_train['median_house_value']  \n",
    "    del df_val['median_house_value']\n",
    "    del df_test['median_house_value']\n",
    "\n",
    "    df_train.fillna(0, inplace = True)\n",
    "    df_val.fillna(0, inplace = True) \n",
    "    \n",
    "    X_train = df_train.values\n",
    "    X_val = df_val.values\n",
    "    \n",
    "    w0, w = train_linear_regression(X_train,y_train)\n",
    "    y_pred = w0 + X_val.dot(w)\n",
    "    score=rmse(y_val, y_pred)\n",
    "    rmse_scores.append(score)\n",
    "    print(seed, score)"
   ]
  },
  {
   "cell_type": "code",
   "execution_count": 9,
   "id": "7f40c005",
   "metadata": {},
   "outputs": [
    {
     "data": {
      "text/plain": [
       "array([0.34, 0.33, 0.33, 0.35, 0.34, 0.34, 0.34, 0.34, 0.34, 0.34])"
      ]
     },
     "execution_count": 9,
     "metadata": {},
     "output_type": "execute_result"
    }
   ],
   "source": [
    "rmse_scores=np.array(rmse_scores)\n",
    "rmse_scores"
   ]
  },
  {
   "cell_type": "code",
   "execution_count": 10,
   "id": "1c5114e9",
   "metadata": {},
   "outputs": [
    {
     "data": {
      "text/plain": [
       "0.005"
      ]
     },
     "execution_count": 10,
     "metadata": {},
     "output_type": "execute_result"
    }
   ],
   "source": [
    "round(np.std(rmse_scores),3)"
   ]
  },
  {
   "cell_type": "markdown",
   "id": "cec480b8",
   "metadata": {},
   "source": [
    "**Answer to question number 5:** <br>\n",
    "0.005"
   ]
  }
 ],
 "metadata": {
  "kernelspec": {
   "display_name": "Python 3",
   "language": "python",
   "name": "python3"
  },
  "language_info": {
   "codemirror_mode": {
    "name": "ipython",
    "version": 3
   },
   "file_extension": ".py",
   "mimetype": "text/x-python",
   "name": "python",
   "nbconvert_exporter": "python",
   "pygments_lexer": "ipython3",
   "version": "3.9.13"
  }
 },
 "nbformat": 4,
 "nbformat_minor": 5
}
