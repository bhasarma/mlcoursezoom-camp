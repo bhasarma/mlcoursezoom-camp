{
 "cells": [
  {
   "cell_type": "markdown",
   "id": "abccd417",
   "metadata": {},
   "source": [
    "# Midterm Project | Machine Learning Zoom Camp | predict-term deposit"
   ]
  },
  {
   "cell_type": "markdown",
   "id": "dc475ce1",
   "metadata": {},
   "source": [
    "List of contents:\n",
    "\n",
    "1. Problem description in brief\n",
    "2. Getting the dataset\n",
    "3. Reading the dataset with pandas"
   ]
  },
  {
   "cell_type": "markdown",
   "id": "fa2763fb",
   "metadata": {},
   "source": [
    "### 1. Problem Description in brief"
   ]
  },
  {
   "cell_type": "markdown",
   "id": "84148716",
   "metadata": {},
   "source": [
    "### 2. Getting the dataset"
   ]
  },
  {
   "cell_type": "markdown",
   "id": "1e6f7bfd",
   "metadata": {},
   "source": [
    "- link to dataset: [https://www.kaggle.com/datasets/aslanahmedov/predict-term-deposit](https://www.kaggle.com/datasets/aslanahmedov/predict-term-deposit)\n",
    "\n",
    "            or,\n",
    "\n",
    "- [https://raw.githubusercontent.com/bhasarma/mlcoursezoom-camp/main/WK08-09-midterm-project/predict-term-deposit-data.csv](https://raw.githubusercontent.com/bhasarma/mlcoursezoom-camp/main/WK08-09-midterm-project/predict-term-deposit-data.csv)\n",
    "\n",
    "You can download the dataset into your local directory with `wget` "
   ]
  },
  {
   "cell_type": "code",
   "execution_count": 1,
   "id": "a65101e7",
   "metadata": {},
   "outputs": [],
   "source": [
    "data = 'https://raw.githubusercontent.com/bhasarma/mlcoursezoom-camp/main/WK08-09-midterm-project/predict-term-deposit-data.csv'"
   ]
  },
  {
   "cell_type": "code",
   "execution_count": 2,
   "id": "60f66019",
   "metadata": {},
   "outputs": [
    {
     "name": "stdout",
     "output_type": "stream",
     "text": [
      "wget: missing URL\r\n",
      "Usage: wget [OPTION]... [URL]...\r\n",
      "\r\n",
      "Try `wget --help' for more options.\r\n"
     ]
    }
   ],
   "source": [
    "!wget $data  #uncomment it, if you haven't downoaded data already."
   ]
  },
  {
   "cell_type": "code",
   "execution_count": 3,
   "id": "fb13f27e",
   "metadata": {},
   "outputs": [
    {
     "name": "stdout",
     "output_type": "stream",
     "text": [
      "model.bin       predict.py                     README.md  train.py\r\n",
      "notebook.ipynb  predict-term-deposit-data.csv  report.md\r\n"
     ]
    }
   ],
   "source": [
    "ls"
   ]
  },
  {
   "cell_type": "markdown",
   "id": "0bb430be",
   "metadata": {},
   "source": [
    "### 3. Reading the dataset with pandas "
   ]
  },
  {
   "cell_type": "code",
   "execution_count": 4,
   "id": "2516caba",
   "metadata": {},
   "outputs": [],
   "source": [
    "%matplotlib inline\n",
    "\n",
    "import pandas as pd\n",
    "import numpy as np\n",
    "import matplotlib.pyplot as plt\n",
    "import seaborn as sns"
   ]
  },
  {
   "cell_type": "code",
   "execution_count": 5,
   "id": "d075e3b7",
   "metadata": {},
   "outputs": [],
   "source": [
    "df = pd.read_csv('predict-term-deposit-data.csv')"
   ]
  },
  {
   "cell_type": "code",
   "execution_count": 6,
   "id": "0df09716",
   "metadata": {},
   "outputs": [
    {
     "data": {
      "text/html": [
       "<div>\n",
       "<style scoped>\n",
       "    .dataframe tbody tr th:only-of-type {\n",
       "        vertical-align: middle;\n",
       "    }\n",
       "\n",
       "    .dataframe tbody tr th {\n",
       "        vertical-align: top;\n",
       "    }\n",
       "\n",
       "    .dataframe thead th {\n",
       "        text-align: right;\n",
       "    }\n",
       "</style>\n",
       "<table border=\"1\" class=\"dataframe\">\n",
       "  <thead>\n",
       "    <tr style=\"text-align: right;\">\n",
       "      <th></th>\n",
       "      <th>0</th>\n",
       "      <th>1</th>\n",
       "      <th>2</th>\n",
       "      <th>3</th>\n",
       "      <th>4</th>\n",
       "    </tr>\n",
       "  </thead>\n",
       "  <tbody>\n",
       "    <tr>\n",
       "      <th>Id</th>\n",
       "      <td>1001</td>\n",
       "      <td>1002</td>\n",
       "      <td>1003</td>\n",
       "      <td>1004</td>\n",
       "      <td>1005</td>\n",
       "    </tr>\n",
       "    <tr>\n",
       "      <th>age</th>\n",
       "      <td>999.0</td>\n",
       "      <td>44.0</td>\n",
       "      <td>33.0</td>\n",
       "      <td>47.0</td>\n",
       "      <td>33.0</td>\n",
       "    </tr>\n",
       "    <tr>\n",
       "      <th>job</th>\n",
       "      <td>management</td>\n",
       "      <td>technician</td>\n",
       "      <td>entrepreneur</td>\n",
       "      <td>blue-collar</td>\n",
       "      <td>unknown</td>\n",
       "    </tr>\n",
       "    <tr>\n",
       "      <th>marital</th>\n",
       "      <td>married</td>\n",
       "      <td>single</td>\n",
       "      <td>married</td>\n",
       "      <td>married</td>\n",
       "      <td>single</td>\n",
       "    </tr>\n",
       "    <tr>\n",
       "      <th>education</th>\n",
       "      <td>tertiary</td>\n",
       "      <td>secondary</td>\n",
       "      <td>secondary</td>\n",
       "      <td>unknown</td>\n",
       "      <td>unknown</td>\n",
       "    </tr>\n",
       "    <tr>\n",
       "      <th>default</th>\n",
       "      <td>no</td>\n",
       "      <td>no</td>\n",
       "      <td>no</td>\n",
       "      <td>no</td>\n",
       "      <td>no</td>\n",
       "    </tr>\n",
       "    <tr>\n",
       "      <th>balance</th>\n",
       "      <td>2143.0</td>\n",
       "      <td>29.0</td>\n",
       "      <td>2.0</td>\n",
       "      <td>1506.0</td>\n",
       "      <td>1.0</td>\n",
       "    </tr>\n",
       "    <tr>\n",
       "      <th>housing</th>\n",
       "      <td>yes</td>\n",
       "      <td>yes</td>\n",
       "      <td>yes</td>\n",
       "      <td>yes</td>\n",
       "      <td>no</td>\n",
       "    </tr>\n",
       "    <tr>\n",
       "      <th>loan</th>\n",
       "      <td>no</td>\n",
       "      <td>no</td>\n",
       "      <td>yes</td>\n",
       "      <td>no</td>\n",
       "      <td>no</td>\n",
       "    </tr>\n",
       "    <tr>\n",
       "      <th>contact</th>\n",
       "      <td>unknown</td>\n",
       "      <td>unknown</td>\n",
       "      <td>unknown</td>\n",
       "      <td>unknown</td>\n",
       "      <td>unknown</td>\n",
       "    </tr>\n",
       "    <tr>\n",
       "      <th>day</th>\n",
       "      <td>5</td>\n",
       "      <td>5</td>\n",
       "      <td>5</td>\n",
       "      <td>5</td>\n",
       "      <td>5</td>\n",
       "    </tr>\n",
       "    <tr>\n",
       "      <th>month</th>\n",
       "      <td>may</td>\n",
       "      <td>may</td>\n",
       "      <td>may</td>\n",
       "      <td>may</td>\n",
       "      <td>may</td>\n",
       "    </tr>\n",
       "    <tr>\n",
       "      <th>duration</th>\n",
       "      <td>261</td>\n",
       "      <td>151</td>\n",
       "      <td>76</td>\n",
       "      <td>92</td>\n",
       "      <td>198</td>\n",
       "    </tr>\n",
       "    <tr>\n",
       "      <th>campaign</th>\n",
       "      <td>1</td>\n",
       "      <td>1</td>\n",
       "      <td>1</td>\n",
       "      <td>1</td>\n",
       "      <td>1</td>\n",
       "    </tr>\n",
       "    <tr>\n",
       "      <th>pdays</th>\n",
       "      <td>-1</td>\n",
       "      <td>-1</td>\n",
       "      <td>-1</td>\n",
       "      <td>-1</td>\n",
       "      <td>-1</td>\n",
       "    </tr>\n",
       "    <tr>\n",
       "      <th>previous</th>\n",
       "      <td>0</td>\n",
       "      <td>0</td>\n",
       "      <td>0</td>\n",
       "      <td>0</td>\n",
       "      <td>0</td>\n",
       "    </tr>\n",
       "    <tr>\n",
       "      <th>poutcome</th>\n",
       "      <td>unknown</td>\n",
       "      <td>unknown</td>\n",
       "      <td>unknown</td>\n",
       "      <td>unknown</td>\n",
       "      <td>unknown</td>\n",
       "    </tr>\n",
       "    <tr>\n",
       "      <th>y</th>\n",
       "      <td>no</td>\n",
       "      <td>no</td>\n",
       "      <td>no</td>\n",
       "      <td>no</td>\n",
       "      <td>no</td>\n",
       "    </tr>\n",
       "  </tbody>\n",
       "</table>\n",
       "</div>"
      ],
      "text/plain": [
       "                    0           1             2            3        4\n",
       "Id               1001        1002          1003         1004     1005\n",
       "age             999.0        44.0          33.0         47.0     33.0\n",
       "job        management  technician  entrepreneur  blue-collar  unknown\n",
       "marital       married      single       married      married   single\n",
       "education    tertiary   secondary     secondary      unknown  unknown\n",
       "default            no          no            no           no       no\n",
       "balance        2143.0        29.0           2.0       1506.0      1.0\n",
       "housing           yes         yes           yes          yes       no\n",
       "loan               no          no           yes           no       no\n",
       "contact       unknown     unknown       unknown      unknown  unknown\n",
       "day                 5           5             5            5        5\n",
       "month             may         may           may          may      may\n",
       "duration          261         151            76           92      198\n",
       "campaign            1           1             1            1        1\n",
       "pdays              -1          -1            -1           -1       -1\n",
       "previous            0           0             0            0        0\n",
       "poutcome      unknown     unknown       unknown      unknown  unknown\n",
       "y                  no          no            no           no       no"
      ]
     },
     "execution_count": 6,
     "metadata": {},
     "output_type": "execute_result"
    }
   ],
   "source": [
    "df.head().T"
   ]
  },
  {
   "cell_type": "code",
   "execution_count": 7,
   "id": "db140c83",
   "metadata": {},
   "outputs": [
    {
     "data": {
      "text/plain": [
       "(45211, 18)"
      ]
     },
     "execution_count": 7,
     "metadata": {},
     "output_type": "execute_result"
    }
   ],
   "source": [
    "df.shape"
   ]
  },
  {
   "cell_type": "code",
   "execution_count": 8,
   "id": "c1637c2e",
   "metadata": {},
   "outputs": [
    {
     "name": "stdout",
     "output_type": "stream",
     "text": [
      "<class 'pandas.core.frame.DataFrame'>\n",
      "RangeIndex: 45211 entries, 0 to 45210\n",
      "Data columns (total 18 columns):\n",
      " #   Column     Non-Null Count  Dtype  \n",
      "---  ------     --------------  -----  \n",
      " 0   Id         45211 non-null  int64  \n",
      " 1   age        45202 non-null  float64\n",
      " 2   job        45211 non-null  object \n",
      " 3   marital    45211 non-null  object \n",
      " 4   education  45211 non-null  object \n",
      " 5   default    45211 non-null  object \n",
      " 6   balance    45208 non-null  float64\n",
      " 7   housing    45211 non-null  object \n",
      " 8   loan       45211 non-null  object \n",
      " 9   contact    45211 non-null  object \n",
      " 10  day        45211 non-null  int64  \n",
      " 11  month      45211 non-null  object \n",
      " 12  duration   45211 non-null  int64  \n",
      " 13  campaign   45211 non-null  int64  \n",
      " 14  pdays      45211 non-null  int64  \n",
      " 15  previous   45211 non-null  int64  \n",
      " 16  poutcome   45211 non-null  object \n",
      " 17  y          45211 non-null  object \n",
      "dtypes: float64(2), int64(6), object(10)\n",
      "memory usage: 6.2+ MB\n"
     ]
    }
   ],
   "source": [
    "df.info()"
   ]
  },
  {
   "cell_type": "markdown",
   "id": "e41f091a",
   "metadata": {},
   "source": [
    "### 4. Data Preparation \n",
    "\n",
    "1. make all features and data look consistent, i.e. all small letters and use underscore if separation between two words are there\n",
    "2. does data types of the features make sense, e.g. age should be integer and not a string\n",
    "\n",
    ">Note: any other feature engineering will be done after splitting"
   ]
  },
  {
   "cell_type": "code",
   "execution_count": 9,
   "id": "f64cbc1b",
   "metadata": {},
   "outputs": [
    {
     "data": {
      "text/html": [
       "<div>\n",
       "<style scoped>\n",
       "    .dataframe tbody tr th:only-of-type {\n",
       "        vertical-align: middle;\n",
       "    }\n",
       "\n",
       "    .dataframe tbody tr th {\n",
       "        vertical-align: top;\n",
       "    }\n",
       "\n",
       "    .dataframe thead th {\n",
       "        text-align: right;\n",
       "    }\n",
       "</style>\n",
       "<table border=\"1\" class=\"dataframe\">\n",
       "  <thead>\n",
       "    <tr style=\"text-align: right;\">\n",
       "      <th></th>\n",
       "      <th>0</th>\n",
       "      <th>1</th>\n",
       "      <th>2</th>\n",
       "      <th>3</th>\n",
       "      <th>4</th>\n",
       "    </tr>\n",
       "  </thead>\n",
       "  <tbody>\n",
       "    <tr>\n",
       "      <th>id</th>\n",
       "      <td>1001</td>\n",
       "      <td>1002</td>\n",
       "      <td>1003</td>\n",
       "      <td>1004</td>\n",
       "      <td>1005</td>\n",
       "    </tr>\n",
       "    <tr>\n",
       "      <th>age</th>\n",
       "      <td>999.0</td>\n",
       "      <td>44.0</td>\n",
       "      <td>33.0</td>\n",
       "      <td>47.0</td>\n",
       "      <td>33.0</td>\n",
       "    </tr>\n",
       "    <tr>\n",
       "      <th>job</th>\n",
       "      <td>management</td>\n",
       "      <td>technician</td>\n",
       "      <td>entrepreneur</td>\n",
       "      <td>blue-collar</td>\n",
       "      <td>unknown</td>\n",
       "    </tr>\n",
       "    <tr>\n",
       "      <th>marital</th>\n",
       "      <td>married</td>\n",
       "      <td>single</td>\n",
       "      <td>married</td>\n",
       "      <td>married</td>\n",
       "      <td>single</td>\n",
       "    </tr>\n",
       "    <tr>\n",
       "      <th>education</th>\n",
       "      <td>tertiary</td>\n",
       "      <td>secondary</td>\n",
       "      <td>secondary</td>\n",
       "      <td>unknown</td>\n",
       "      <td>unknown</td>\n",
       "    </tr>\n",
       "    <tr>\n",
       "      <th>default</th>\n",
       "      <td>no</td>\n",
       "      <td>no</td>\n",
       "      <td>no</td>\n",
       "      <td>no</td>\n",
       "      <td>no</td>\n",
       "    </tr>\n",
       "    <tr>\n",
       "      <th>balance</th>\n",
       "      <td>2143.0</td>\n",
       "      <td>29.0</td>\n",
       "      <td>2.0</td>\n",
       "      <td>1506.0</td>\n",
       "      <td>1.0</td>\n",
       "    </tr>\n",
       "    <tr>\n",
       "      <th>housing</th>\n",
       "      <td>yes</td>\n",
       "      <td>yes</td>\n",
       "      <td>yes</td>\n",
       "      <td>yes</td>\n",
       "      <td>no</td>\n",
       "    </tr>\n",
       "    <tr>\n",
       "      <th>loan</th>\n",
       "      <td>no</td>\n",
       "      <td>no</td>\n",
       "      <td>yes</td>\n",
       "      <td>no</td>\n",
       "      <td>no</td>\n",
       "    </tr>\n",
       "    <tr>\n",
       "      <th>contact</th>\n",
       "      <td>unknown</td>\n",
       "      <td>unknown</td>\n",
       "      <td>unknown</td>\n",
       "      <td>unknown</td>\n",
       "      <td>unknown</td>\n",
       "    </tr>\n",
       "    <tr>\n",
       "      <th>day</th>\n",
       "      <td>5</td>\n",
       "      <td>5</td>\n",
       "      <td>5</td>\n",
       "      <td>5</td>\n",
       "      <td>5</td>\n",
       "    </tr>\n",
       "    <tr>\n",
       "      <th>month</th>\n",
       "      <td>may</td>\n",
       "      <td>may</td>\n",
       "      <td>may</td>\n",
       "      <td>may</td>\n",
       "      <td>may</td>\n",
       "    </tr>\n",
       "    <tr>\n",
       "      <th>duration</th>\n",
       "      <td>261</td>\n",
       "      <td>151</td>\n",
       "      <td>76</td>\n",
       "      <td>92</td>\n",
       "      <td>198</td>\n",
       "    </tr>\n",
       "    <tr>\n",
       "      <th>campaign</th>\n",
       "      <td>1</td>\n",
       "      <td>1</td>\n",
       "      <td>1</td>\n",
       "      <td>1</td>\n",
       "      <td>1</td>\n",
       "    </tr>\n",
       "    <tr>\n",
       "      <th>pdays</th>\n",
       "      <td>-1</td>\n",
       "      <td>-1</td>\n",
       "      <td>-1</td>\n",
       "      <td>-1</td>\n",
       "      <td>-1</td>\n",
       "    </tr>\n",
       "    <tr>\n",
       "      <th>previous</th>\n",
       "      <td>0</td>\n",
       "      <td>0</td>\n",
       "      <td>0</td>\n",
       "      <td>0</td>\n",
       "      <td>0</td>\n",
       "    </tr>\n",
       "    <tr>\n",
       "      <th>poutcome</th>\n",
       "      <td>unknown</td>\n",
       "      <td>unknown</td>\n",
       "      <td>unknown</td>\n",
       "      <td>unknown</td>\n",
       "      <td>unknown</td>\n",
       "    </tr>\n",
       "    <tr>\n",
       "      <th>y</th>\n",
       "      <td>no</td>\n",
       "      <td>no</td>\n",
       "      <td>no</td>\n",
       "      <td>no</td>\n",
       "      <td>no</td>\n",
       "    </tr>\n",
       "  </tbody>\n",
       "</table>\n",
       "</div>"
      ],
      "text/plain": [
       "                    0           1             2            3        4\n",
       "id               1001        1002          1003         1004     1005\n",
       "age             999.0        44.0          33.0         47.0     33.0\n",
       "job        management  technician  entrepreneur  blue-collar  unknown\n",
       "marital       married      single       married      married   single\n",
       "education    tertiary   secondary     secondary      unknown  unknown\n",
       "default            no          no            no           no       no\n",
       "balance        2143.0        29.0           2.0       1506.0      1.0\n",
       "housing           yes         yes           yes          yes       no\n",
       "loan               no          no           yes           no       no\n",
       "contact       unknown     unknown       unknown      unknown  unknown\n",
       "day                 5           5             5            5        5\n",
       "month             may         may           may          may      may\n",
       "duration          261         151            76           92      198\n",
       "campaign            1           1             1            1        1\n",
       "pdays              -1          -1            -1           -1       -1\n",
       "previous            0           0             0            0        0\n",
       "poutcome      unknown     unknown       unknown      unknown  unknown\n",
       "y                  no          no            no           no       no"
      ]
     },
     "execution_count": 9,
     "metadata": {},
     "output_type": "execute_result"
    }
   ],
   "source": [
    "df.columns = df.columns.str.lower()\n",
    "df.head().T"
   ]
  },
  {
   "cell_type": "markdown",
   "id": "2eee5b68",
   "metadata": {},
   "source": [
    "Name of columns are made consistent and there is no issue of having empty space between variable names etc."
   ]
  },
  {
   "cell_type": "markdown",
   "id": "6c151d05",
   "metadata": {},
   "source": [
    "**to do:**\n",
    "\n",
    "- remove `id` feature, since a customer id given by the bank, has *logically* no influence on the outcome\n",
    "- categorical variables has to be converted with One Hot Encoding (only on train part, after splitting? check notes to be sure)\n",
    "- `yes` or `no` columns to be converted into 1 and 0s\n",
    "- find a way to take care of day and month columns in some way.\n",
    "- what to do with `-1` values in feature `pdays`\n",
    "- know the difference between `poutcome` and `y` features"
   ]
  },
  {
   "cell_type": "code",
   "execution_count": 10,
   "id": "cb8afd54",
   "metadata": {},
   "outputs": [
    {
     "data": {
      "text/plain": [
       "id           0\n",
       "age          9\n",
       "job          0\n",
       "marital      0\n",
       "education    0\n",
       "default      0\n",
       "balance      3\n",
       "housing      0\n",
       "loan         0\n",
       "contact      0\n",
       "day          0\n",
       "month        0\n",
       "duration     0\n",
       "campaign     0\n",
       "pdays        0\n",
       "previous     0\n",
       "poutcome     0\n",
       "y            0\n",
       "dtype: int64"
      ]
     },
     "execution_count": 10,
     "metadata": {},
     "output_type": "execute_result"
    }
   ],
   "source": [
    "df.isnull().sum()"
   ]
  },
  {
   "cell_type": "code",
   "execution_count": 11,
   "id": "88f939bf",
   "metadata": {},
   "outputs": [
    {
     "data": {
      "text/plain": [
       "id           45211\n",
       "age             79\n",
       "job             12\n",
       "marital          3\n",
       "education        4\n",
       "default          2\n",
       "balance       7168\n",
       "housing          2\n",
       "loan             2\n",
       "contact          3\n",
       "day             31\n",
       "month           12\n",
       "duration      1573\n",
       "campaign        48\n",
       "pdays          559\n",
       "previous        41\n",
       "poutcome         4\n",
       "y                2\n",
       "dtype: int64"
      ]
     },
     "execution_count": 11,
     "metadata": {},
     "output_type": "execute_result"
    }
   ],
   "source": [
    "df.nunique()"
   ]
  },
  {
   "cell_type": "code",
   "execution_count": 12,
   "id": "91d0f6da",
   "metadata": {},
   "outputs": [
    {
     "data": {
      "text/plain": [
       "unknown    36959\n",
       "failure     4901\n",
       "other       1840\n",
       "success     1511\n",
       "Name: poutcome, dtype: int64"
      ]
     },
     "execution_count": 12,
     "metadata": {},
     "output_type": "execute_result"
    }
   ],
   "source": [
    "df['poutcome'].value_counts()"
   ]
  },
  {
   "cell_type": "code",
   "execution_count": 13,
   "id": "76510d79",
   "metadata": {},
   "outputs": [
    {
     "data": {
      "text/plain": [
       "no     39922\n",
       "yes     5289\n",
       "Name: y, dtype: int64"
      ]
     },
     "execution_count": 13,
     "metadata": {},
     "output_type": "execute_result"
    }
   ],
   "source": [
    "df['y'].value_counts()"
   ]
  },
  {
   "cell_type": "markdown",
   "id": "1fd34f7f",
   "metadata": {},
   "source": [
    "**converting days and months into day of year**"
   ]
  },
  {
   "cell_type": "code",
   "execution_count": 14,
   "id": "e33c3c34",
   "metadata": {},
   "outputs": [
    {
     "data": {
      "text/plain": [
       "str"
      ]
     },
     "execution_count": 14,
     "metadata": {},
     "output_type": "execute_result"
    }
   ],
   "source": [
    "df['day'] = df['day'].map(str)\n",
    "\n",
    "type(df['day'][10])"
   ]
  },
  {
   "cell_type": "code",
   "execution_count": 15,
   "id": "bbfae02e",
   "metadata": {},
   "outputs": [
    {
     "data": {
      "text/plain": [
       "array(['may', 'jun', 'jul', 'aug', 'oct', 'nov', 'dec', 'jan', 'feb',\n",
       "       'mar', 'apr', 'sep'], dtype=object)"
      ]
     },
     "execution_count": 15,
     "metadata": {},
     "output_type": "execute_result"
    }
   ],
   "source": [
    "df['month'].unique()"
   ]
  },
  {
   "cell_type": "code",
   "execution_count": 16,
   "id": "9c3d6315",
   "metadata": {},
   "outputs": [
    {
     "data": {
      "text/plain": [
       "array(['5', '6', '7', '8', '10', '11', '12', '1', '2', '3', '4', '9'],\n",
       "      dtype=object)"
      ]
     },
     "execution_count": 16,
     "metadata": {},
     "output_type": "execute_result"
    }
   ],
   "source": [
    "month_mapping = {\n",
    "    'jan': '1',\n",
    "    'feb': '2',\n",
    "    'mar': '3',\n",
    "    'apr': '4',\n",
    "    'may': '5',\n",
    "    'jun': '6',\n",
    "    'jul': '7', \n",
    "    'aug': '8', \n",
    "    'sep': '9',\n",
    "    'oct': '10', \n",
    "    'nov': '11', \n",
    "    'dec': '12' \n",
    "}\n",
    "df['month'] = df['month'].map(month_mapping)\n",
    "df.month.unique()"
   ]
  },
  {
   "cell_type": "code",
   "execution_count": 17,
   "id": "115faa0c",
   "metadata": {},
   "outputs": [
    {
     "data": {
      "text/plain": [
       "str"
      ]
     },
     "execution_count": 17,
     "metadata": {},
     "output_type": "execute_result"
    }
   ],
   "source": [
    "type(df.month[100])"
   ]
  },
  {
   "cell_type": "code",
   "execution_count": 18,
   "id": "41157889",
   "metadata": {},
   "outputs": [
    {
     "data": {
      "text/html": [
       "<div>\n",
       "<style scoped>\n",
       "    .dataframe tbody tr th:only-of-type {\n",
       "        vertical-align: middle;\n",
       "    }\n",
       "\n",
       "    .dataframe tbody tr th {\n",
       "        vertical-align: top;\n",
       "    }\n",
       "\n",
       "    .dataframe thead th {\n",
       "        text-align: right;\n",
       "    }\n",
       "</style>\n",
       "<table border=\"1\" class=\"dataframe\">\n",
       "  <thead>\n",
       "    <tr style=\"text-align: right;\">\n",
       "      <th></th>\n",
       "      <th>id</th>\n",
       "      <th>age</th>\n",
       "      <th>job</th>\n",
       "      <th>marital</th>\n",
       "      <th>education</th>\n",
       "      <th>default</th>\n",
       "      <th>balance</th>\n",
       "      <th>housing</th>\n",
       "      <th>loan</th>\n",
       "      <th>contact</th>\n",
       "      <th>day</th>\n",
       "      <th>month</th>\n",
       "      <th>duration</th>\n",
       "      <th>campaign</th>\n",
       "      <th>pdays</th>\n",
       "      <th>previous</th>\n",
       "      <th>poutcome</th>\n",
       "      <th>y</th>\n",
       "      <th>date_formatted</th>\n",
       "    </tr>\n",
       "  </thead>\n",
       "  <tbody>\n",
       "    <tr>\n",
       "      <th>0</th>\n",
       "      <td>1001</td>\n",
       "      <td>999.0</td>\n",
       "      <td>management</td>\n",
       "      <td>married</td>\n",
       "      <td>tertiary</td>\n",
       "      <td>no</td>\n",
       "      <td>2143.0</td>\n",
       "      <td>yes</td>\n",
       "      <td>no</td>\n",
       "      <td>unknown</td>\n",
       "      <td>5</td>\n",
       "      <td>5</td>\n",
       "      <td>261</td>\n",
       "      <td>1</td>\n",
       "      <td>-1</td>\n",
       "      <td>0</td>\n",
       "      <td>unknown</td>\n",
       "      <td>no</td>\n",
       "      <td>2025-05-05</td>\n",
       "    </tr>\n",
       "    <tr>\n",
       "      <th>1</th>\n",
       "      <td>1002</td>\n",
       "      <td>44.0</td>\n",
       "      <td>technician</td>\n",
       "      <td>single</td>\n",
       "      <td>secondary</td>\n",
       "      <td>no</td>\n",
       "      <td>29.0</td>\n",
       "      <td>yes</td>\n",
       "      <td>no</td>\n",
       "      <td>unknown</td>\n",
       "      <td>5</td>\n",
       "      <td>5</td>\n",
       "      <td>151</td>\n",
       "      <td>1</td>\n",
       "      <td>-1</td>\n",
       "      <td>0</td>\n",
       "      <td>unknown</td>\n",
       "      <td>no</td>\n",
       "      <td>2025-05-05</td>\n",
       "    </tr>\n",
       "    <tr>\n",
       "      <th>2</th>\n",
       "      <td>1003</td>\n",
       "      <td>33.0</td>\n",
       "      <td>entrepreneur</td>\n",
       "      <td>married</td>\n",
       "      <td>secondary</td>\n",
       "      <td>no</td>\n",
       "      <td>2.0</td>\n",
       "      <td>yes</td>\n",
       "      <td>yes</td>\n",
       "      <td>unknown</td>\n",
       "      <td>5</td>\n",
       "      <td>5</td>\n",
       "      <td>76</td>\n",
       "      <td>1</td>\n",
       "      <td>-1</td>\n",
       "      <td>0</td>\n",
       "      <td>unknown</td>\n",
       "      <td>no</td>\n",
       "      <td>2025-05-05</td>\n",
       "    </tr>\n",
       "    <tr>\n",
       "      <th>3</th>\n",
       "      <td>1004</td>\n",
       "      <td>47.0</td>\n",
       "      <td>blue-collar</td>\n",
       "      <td>married</td>\n",
       "      <td>unknown</td>\n",
       "      <td>no</td>\n",
       "      <td>1506.0</td>\n",
       "      <td>yes</td>\n",
       "      <td>no</td>\n",
       "      <td>unknown</td>\n",
       "      <td>5</td>\n",
       "      <td>5</td>\n",
       "      <td>92</td>\n",
       "      <td>1</td>\n",
       "      <td>-1</td>\n",
       "      <td>0</td>\n",
       "      <td>unknown</td>\n",
       "      <td>no</td>\n",
       "      <td>2025-05-05</td>\n",
       "    </tr>\n",
       "    <tr>\n",
       "      <th>4</th>\n",
       "      <td>1005</td>\n",
       "      <td>33.0</td>\n",
       "      <td>unknown</td>\n",
       "      <td>single</td>\n",
       "      <td>unknown</td>\n",
       "      <td>no</td>\n",
       "      <td>1.0</td>\n",
       "      <td>no</td>\n",
       "      <td>no</td>\n",
       "      <td>unknown</td>\n",
       "      <td>5</td>\n",
       "      <td>5</td>\n",
       "      <td>198</td>\n",
       "      <td>1</td>\n",
       "      <td>-1</td>\n",
       "      <td>0</td>\n",
       "      <td>unknown</td>\n",
       "      <td>no</td>\n",
       "      <td>2025-05-05</td>\n",
       "    </tr>\n",
       "  </tbody>\n",
       "</table>\n",
       "</div>"
      ],
      "text/plain": [
       "     id    age           job  marital  education default  balance housing  \\\n",
       "0  1001  999.0    management  married   tertiary      no   2143.0     yes   \n",
       "1  1002   44.0    technician   single  secondary      no     29.0     yes   \n",
       "2  1003   33.0  entrepreneur  married  secondary      no      2.0     yes   \n",
       "3  1004   47.0   blue-collar  married    unknown      no   1506.0     yes   \n",
       "4  1005   33.0       unknown   single    unknown      no      1.0      no   \n",
       "\n",
       "  loan  contact day month  duration  campaign  pdays  previous poutcome   y  \\\n",
       "0   no  unknown   5     5       261         1     -1         0  unknown  no   \n",
       "1   no  unknown   5     5       151         1     -1         0  unknown  no   \n",
       "2  yes  unknown   5     5        76         1     -1         0  unknown  no   \n",
       "3   no  unknown   5     5        92         1     -1         0  unknown  no   \n",
       "4   no  unknown   5     5       198         1     -1         0  unknown  no   \n",
       "\n",
       "  date_formatted  \n",
       "0     2025-05-05  \n",
       "1     2025-05-05  \n",
       "2     2025-05-05  \n",
       "3     2025-05-05  \n",
       "4     2025-05-05  "
      ]
     },
     "execution_count": 18,
     "metadata": {},
     "output_type": "execute_result"
    }
   ],
   "source": [
    "df['date_formatted'] = pd.to_datetime(\n",
    "    dict(         \n",
    "        year='2025',\n",
    "        month=df['month'], \n",
    "        day=df['day']\n",
    "    )\n",
    ")\n",
    "df.head()"
   ]
  },
  {
   "cell_type": "code",
   "execution_count": 19,
   "id": "fceeb934",
   "metadata": {},
   "outputs": [
    {
     "data": {
      "text/html": [
       "<div>\n",
       "<style scoped>\n",
       "    .dataframe tbody tr th:only-of-type {\n",
       "        vertical-align: middle;\n",
       "    }\n",
       "\n",
       "    .dataframe tbody tr th {\n",
       "        vertical-align: top;\n",
       "    }\n",
       "\n",
       "    .dataframe thead th {\n",
       "        text-align: right;\n",
       "    }\n",
       "</style>\n",
       "<table border=\"1\" class=\"dataframe\">\n",
       "  <thead>\n",
       "    <tr style=\"text-align: right;\">\n",
       "      <th></th>\n",
       "      <th>id</th>\n",
       "      <th>age</th>\n",
       "      <th>job</th>\n",
       "      <th>marital</th>\n",
       "      <th>education</th>\n",
       "      <th>default</th>\n",
       "      <th>balance</th>\n",
       "      <th>housing</th>\n",
       "      <th>loan</th>\n",
       "      <th>contact</th>\n",
       "      <th>day</th>\n",
       "      <th>month</th>\n",
       "      <th>duration</th>\n",
       "      <th>campaign</th>\n",
       "      <th>pdays</th>\n",
       "      <th>previous</th>\n",
       "      <th>poutcome</th>\n",
       "      <th>y</th>\n",
       "      <th>date_formatted</th>\n",
       "      <th>day_of_year</th>\n",
       "    </tr>\n",
       "  </thead>\n",
       "  <tbody>\n",
       "    <tr>\n",
       "      <th>0</th>\n",
       "      <td>1001</td>\n",
       "      <td>999.0</td>\n",
       "      <td>management</td>\n",
       "      <td>married</td>\n",
       "      <td>tertiary</td>\n",
       "      <td>no</td>\n",
       "      <td>2143.0</td>\n",
       "      <td>yes</td>\n",
       "      <td>no</td>\n",
       "      <td>unknown</td>\n",
       "      <td>5</td>\n",
       "      <td>5</td>\n",
       "      <td>261</td>\n",
       "      <td>1</td>\n",
       "      <td>-1</td>\n",
       "      <td>0</td>\n",
       "      <td>unknown</td>\n",
       "      <td>no</td>\n",
       "      <td>2025-05-05</td>\n",
       "      <td>125</td>\n",
       "    </tr>\n",
       "    <tr>\n",
       "      <th>1</th>\n",
       "      <td>1002</td>\n",
       "      <td>44.0</td>\n",
       "      <td>technician</td>\n",
       "      <td>single</td>\n",
       "      <td>secondary</td>\n",
       "      <td>no</td>\n",
       "      <td>29.0</td>\n",
       "      <td>yes</td>\n",
       "      <td>no</td>\n",
       "      <td>unknown</td>\n",
       "      <td>5</td>\n",
       "      <td>5</td>\n",
       "      <td>151</td>\n",
       "      <td>1</td>\n",
       "      <td>-1</td>\n",
       "      <td>0</td>\n",
       "      <td>unknown</td>\n",
       "      <td>no</td>\n",
       "      <td>2025-05-05</td>\n",
       "      <td>125</td>\n",
       "    </tr>\n",
       "    <tr>\n",
       "      <th>2</th>\n",
       "      <td>1003</td>\n",
       "      <td>33.0</td>\n",
       "      <td>entrepreneur</td>\n",
       "      <td>married</td>\n",
       "      <td>secondary</td>\n",
       "      <td>no</td>\n",
       "      <td>2.0</td>\n",
       "      <td>yes</td>\n",
       "      <td>yes</td>\n",
       "      <td>unknown</td>\n",
       "      <td>5</td>\n",
       "      <td>5</td>\n",
       "      <td>76</td>\n",
       "      <td>1</td>\n",
       "      <td>-1</td>\n",
       "      <td>0</td>\n",
       "      <td>unknown</td>\n",
       "      <td>no</td>\n",
       "      <td>2025-05-05</td>\n",
       "      <td>125</td>\n",
       "    </tr>\n",
       "    <tr>\n",
       "      <th>3</th>\n",
       "      <td>1004</td>\n",
       "      <td>47.0</td>\n",
       "      <td>blue-collar</td>\n",
       "      <td>married</td>\n",
       "      <td>unknown</td>\n",
       "      <td>no</td>\n",
       "      <td>1506.0</td>\n",
       "      <td>yes</td>\n",
       "      <td>no</td>\n",
       "      <td>unknown</td>\n",
       "      <td>5</td>\n",
       "      <td>5</td>\n",
       "      <td>92</td>\n",
       "      <td>1</td>\n",
       "      <td>-1</td>\n",
       "      <td>0</td>\n",
       "      <td>unknown</td>\n",
       "      <td>no</td>\n",
       "      <td>2025-05-05</td>\n",
       "      <td>125</td>\n",
       "    </tr>\n",
       "    <tr>\n",
       "      <th>4</th>\n",
       "      <td>1005</td>\n",
       "      <td>33.0</td>\n",
       "      <td>unknown</td>\n",
       "      <td>single</td>\n",
       "      <td>unknown</td>\n",
       "      <td>no</td>\n",
       "      <td>1.0</td>\n",
       "      <td>no</td>\n",
       "      <td>no</td>\n",
       "      <td>unknown</td>\n",
       "      <td>5</td>\n",
       "      <td>5</td>\n",
       "      <td>198</td>\n",
       "      <td>1</td>\n",
       "      <td>-1</td>\n",
       "      <td>0</td>\n",
       "      <td>unknown</td>\n",
       "      <td>no</td>\n",
       "      <td>2025-05-05</td>\n",
       "      <td>125</td>\n",
       "    </tr>\n",
       "  </tbody>\n",
       "</table>\n",
       "</div>"
      ],
      "text/plain": [
       "     id    age           job  marital  education default  balance housing  \\\n",
       "0  1001  999.0    management  married   tertiary      no   2143.0     yes   \n",
       "1  1002   44.0    technician   single  secondary      no     29.0     yes   \n",
       "2  1003   33.0  entrepreneur  married  secondary      no      2.0     yes   \n",
       "3  1004   47.0   blue-collar  married    unknown      no   1506.0     yes   \n",
       "4  1005   33.0       unknown   single    unknown      no      1.0      no   \n",
       "\n",
       "  loan  contact day month  duration  campaign  pdays  previous poutcome   y  \\\n",
       "0   no  unknown   5     5       261         1     -1         0  unknown  no   \n",
       "1   no  unknown   5     5       151         1     -1         0  unknown  no   \n",
       "2  yes  unknown   5     5        76         1     -1         0  unknown  no   \n",
       "3   no  unknown   5     5        92         1     -1         0  unknown  no   \n",
       "4   no  unknown   5     5       198         1     -1         0  unknown  no   \n",
       "\n",
       "  date_formatted  day_of_year  \n",
       "0     2025-05-05          125  \n",
       "1     2025-05-05          125  \n",
       "2     2025-05-05          125  \n",
       "3     2025-05-05          125  \n",
       "4     2025-05-05          125  "
      ]
     },
     "execution_count": 19,
     "metadata": {},
     "output_type": "execute_result"
    }
   ],
   "source": [
    "df['day_of_year']=df['date_formatted'].dt.dayofyear\n",
    "df.head()"
   ]
  },
  {
   "cell_type": "code",
   "execution_count": 20,
   "id": "ac89a0de",
   "metadata": {},
   "outputs": [
    {
     "data": {
      "text/plain": [
       "array([125, 126, 127, 128, 129, 132, 133, 134, 135, 136, 139, 140, 141,\n",
       "       143, 146, 147, 148, 149, 150, 153, 154, 155, 156, 157, 160, 162,\n",
       "       163, 167, 168, 169, 170, 171, 174, 175, 176, 177, 178, 181, 182,\n",
       "       183, 184, 185, 188, 189, 190, 191, 192, 195, 196, 197, 198, 199,\n",
       "       202, 203, 204, 205, 206, 209, 210, 211, 212, 216, 217, 218, 219,\n",
       "       220, 223, 224, 225, 226, 230, 231, 232, 233, 234, 237, 238, 239,\n",
       "       240, 241, 290, 291, 292, 293, 294, 295, 296, 297, 298, 299, 300,\n",
       "       301, 302, 303, 304, 308, 309, 310, 312, 313, 314, 315, 316, 317,\n",
       "       318, 321, 322, 323, 324, 325, 326, 331, 338, 339, 341, 342, 343,\n",
       "       345, 346, 347, 356, 361,  28,  29,  30,  33,  34,  35,  36,  37,\n",
       "        40,  41,  42,  43,  44,  47,  48,  49,  50,  57,  58,  61,  62,\n",
       "        63,  64,  65,  68,  69,  70,  71,  72,  75,  76,  77,  78,  79,\n",
       "        82,  83,  84,  85,  86,  89,  90,  91,  92,  93,  96,  97,  98,\n",
       "        99, 103, 104, 105, 106, 107, 110, 111, 112, 113, 114, 117, 118,\n",
       "       119, 120, 124, 131, 138, 142, 145, 152, 159, 166, 173, 187, 194,\n",
       "       201, 208, 222, 229, 236, 243, 244, 245, 246, 247, 250, 251, 252,\n",
       "       253, 254, 257, 258, 259, 260, 261, 265, 266, 267, 268, 271, 272,\n",
       "       273, 274, 275, 279, 280, 281, 282, 285, 286, 287, 288, 289, 306,\n",
       "       307, 320, 328, 329, 334, 336, 337, 344, 348, 349, 350, 351, 352,\n",
       "       355, 357, 358, 362, 363, 364, 365,   6,   7,   8,  11,  12,  13,\n",
       "        14,  15,  18,  22,  25,  26,  27,  32,  39,  46,  52,  53,  54,\n",
       "        55,  56,  60,  67,  74,  81,  88,  95, 102, 109, 116, 130, 137,\n",
       "       144, 151, 158, 161, 164, 165, 172, 179, 180, 186, 193, 200, 207,\n",
       "       213, 214, 215, 221, 228, 235, 242, 248, 249, 256, 263, 264, 269,\n",
       "       270, 277, 278, 283, 284, 319])"
      ]
     },
     "execution_count": 20,
     "metadata": {},
     "output_type": "execute_result"
    }
   ],
   "source": [
    "df.day_of_year.unique()"
   ]
  },
  {
   "cell_type": "code",
   "execution_count": 21,
   "id": "e8d0d01a",
   "metadata": {},
   "outputs": [
    {
     "data": {
      "text/plain": [
       "age            float64\n",
       "job             object\n",
       "marital         object\n",
       "education       object\n",
       "default         object\n",
       "balance        float64\n",
       "housing         object\n",
       "loan            object\n",
       "contact         object\n",
       "duration         int64\n",
       "campaign         int64\n",
       "pdays            int64\n",
       "previous         int64\n",
       "poutcome        object\n",
       "y               object\n",
       "day_of_year      int64\n",
       "dtype: object"
      ]
     },
     "execution_count": 21,
     "metadata": {},
     "output_type": "execute_result"
    }
   ],
   "source": [
    "df = df.drop(columns = ['id','day','month','date_formatted'])\n",
    "df.dtypes"
   ]
  },
  {
   "cell_type": "markdown",
   "id": "fb3eb638",
   "metadata": {},
   "source": [
    "Before splitting, we still need to convert yes-no columns i.e. (`default`,`housing` and `loan`) into 1s and 0s.\n",
    "I think all yes-no cols will be converted into numerical one in OHE. I don't have to do it now. I just have to do it for the target variable. "
   ]
  },
  {
   "cell_type": "code",
   "execution_count": 22,
   "id": "42a9f47c",
   "metadata": {},
   "outputs": [
    {
     "data": {
      "text/plain": [
       "0        0\n",
       "1        0\n",
       "2        0\n",
       "3        0\n",
       "4        0\n",
       "        ..\n",
       "45206    1\n",
       "45207    1\n",
       "45208    1\n",
       "45209    0\n",
       "45210    0\n",
       "Name: y, Length: 45211, dtype: int64"
      ]
     },
     "execution_count": 22,
     "metadata": {},
     "output_type": "execute_result"
    }
   ],
   "source": [
    "df.y = (df.y == 'yes').astype(int)\n",
    "df.default = (df.default == 'yes').astype(int)\n",
    "df.housing = (df.housing == 'yes').astype(int)\n",
    "df.loan = (df.loan == 'yes').astype(int)\n",
    "df.y"
   ]
  },
  {
   "cell_type": "code",
   "execution_count": 23,
   "id": "53536d58",
   "metadata": {},
   "outputs": [
    {
     "data": {
      "text/html": [
       "<div>\n",
       "<style scoped>\n",
       "    .dataframe tbody tr th:only-of-type {\n",
       "        vertical-align: middle;\n",
       "    }\n",
       "\n",
       "    .dataframe tbody tr th {\n",
       "        vertical-align: top;\n",
       "    }\n",
       "\n",
       "    .dataframe thead th {\n",
       "        text-align: right;\n",
       "    }\n",
       "</style>\n",
       "<table border=\"1\" class=\"dataframe\">\n",
       "  <thead>\n",
       "    <tr style=\"text-align: right;\">\n",
       "      <th></th>\n",
       "      <th>age</th>\n",
       "      <th>job</th>\n",
       "      <th>marital</th>\n",
       "      <th>education</th>\n",
       "      <th>default</th>\n",
       "      <th>balance</th>\n",
       "      <th>housing</th>\n",
       "      <th>loan</th>\n",
       "      <th>contact</th>\n",
       "      <th>duration</th>\n",
       "      <th>campaign</th>\n",
       "      <th>pdays</th>\n",
       "      <th>previous</th>\n",
       "      <th>poutcome</th>\n",
       "      <th>y</th>\n",
       "      <th>day_of_year</th>\n",
       "    </tr>\n",
       "  </thead>\n",
       "  <tbody>\n",
       "    <tr>\n",
       "      <th>0</th>\n",
       "      <td>999.0</td>\n",
       "      <td>management</td>\n",
       "      <td>married</td>\n",
       "      <td>tertiary</td>\n",
       "      <td>0</td>\n",
       "      <td>2143.0</td>\n",
       "      <td>1</td>\n",
       "      <td>0</td>\n",
       "      <td>unknown</td>\n",
       "      <td>261</td>\n",
       "      <td>1</td>\n",
       "      <td>-1</td>\n",
       "      <td>0</td>\n",
       "      <td>unknown</td>\n",
       "      <td>0</td>\n",
       "      <td>125</td>\n",
       "    </tr>\n",
       "    <tr>\n",
       "      <th>1</th>\n",
       "      <td>44.0</td>\n",
       "      <td>technician</td>\n",
       "      <td>single</td>\n",
       "      <td>secondary</td>\n",
       "      <td>0</td>\n",
       "      <td>29.0</td>\n",
       "      <td>1</td>\n",
       "      <td>0</td>\n",
       "      <td>unknown</td>\n",
       "      <td>151</td>\n",
       "      <td>1</td>\n",
       "      <td>-1</td>\n",
       "      <td>0</td>\n",
       "      <td>unknown</td>\n",
       "      <td>0</td>\n",
       "      <td>125</td>\n",
       "    </tr>\n",
       "    <tr>\n",
       "      <th>2</th>\n",
       "      <td>33.0</td>\n",
       "      <td>entrepreneur</td>\n",
       "      <td>married</td>\n",
       "      <td>secondary</td>\n",
       "      <td>0</td>\n",
       "      <td>2.0</td>\n",
       "      <td>1</td>\n",
       "      <td>1</td>\n",
       "      <td>unknown</td>\n",
       "      <td>76</td>\n",
       "      <td>1</td>\n",
       "      <td>-1</td>\n",
       "      <td>0</td>\n",
       "      <td>unknown</td>\n",
       "      <td>0</td>\n",
       "      <td>125</td>\n",
       "    </tr>\n",
       "    <tr>\n",
       "      <th>3</th>\n",
       "      <td>47.0</td>\n",
       "      <td>blue-collar</td>\n",
       "      <td>married</td>\n",
       "      <td>unknown</td>\n",
       "      <td>0</td>\n",
       "      <td>1506.0</td>\n",
       "      <td>1</td>\n",
       "      <td>0</td>\n",
       "      <td>unknown</td>\n",
       "      <td>92</td>\n",
       "      <td>1</td>\n",
       "      <td>-1</td>\n",
       "      <td>0</td>\n",
       "      <td>unknown</td>\n",
       "      <td>0</td>\n",
       "      <td>125</td>\n",
       "    </tr>\n",
       "    <tr>\n",
       "      <th>4</th>\n",
       "      <td>33.0</td>\n",
       "      <td>unknown</td>\n",
       "      <td>single</td>\n",
       "      <td>unknown</td>\n",
       "      <td>0</td>\n",
       "      <td>1.0</td>\n",
       "      <td>0</td>\n",
       "      <td>0</td>\n",
       "      <td>unknown</td>\n",
       "      <td>198</td>\n",
       "      <td>1</td>\n",
       "      <td>-1</td>\n",
       "      <td>0</td>\n",
       "      <td>unknown</td>\n",
       "      <td>0</td>\n",
       "      <td>125</td>\n",
       "    </tr>\n",
       "    <tr>\n",
       "      <th>...</th>\n",
       "      <td>...</td>\n",
       "      <td>...</td>\n",
       "      <td>...</td>\n",
       "      <td>...</td>\n",
       "      <td>...</td>\n",
       "      <td>...</td>\n",
       "      <td>...</td>\n",
       "      <td>...</td>\n",
       "      <td>...</td>\n",
       "      <td>...</td>\n",
       "      <td>...</td>\n",
       "      <td>...</td>\n",
       "      <td>...</td>\n",
       "      <td>...</td>\n",
       "      <td>...</td>\n",
       "      <td>...</td>\n",
       "    </tr>\n",
       "    <tr>\n",
       "      <th>45206</th>\n",
       "      <td>51.0</td>\n",
       "      <td>technician</td>\n",
       "      <td>married</td>\n",
       "      <td>tertiary</td>\n",
       "      <td>0</td>\n",
       "      <td>825.0</td>\n",
       "      <td>0</td>\n",
       "      <td>0</td>\n",
       "      <td>cellular</td>\n",
       "      <td>977</td>\n",
       "      <td>3</td>\n",
       "      <td>-1</td>\n",
       "      <td>0</td>\n",
       "      <td>unknown</td>\n",
       "      <td>1</td>\n",
       "      <td>321</td>\n",
       "    </tr>\n",
       "    <tr>\n",
       "      <th>45207</th>\n",
       "      <td>71.0</td>\n",
       "      <td>retired</td>\n",
       "      <td>divorced</td>\n",
       "      <td>primary</td>\n",
       "      <td>0</td>\n",
       "      <td>1729.0</td>\n",
       "      <td>0</td>\n",
       "      <td>0</td>\n",
       "      <td>cellular</td>\n",
       "      <td>456</td>\n",
       "      <td>2</td>\n",
       "      <td>-1</td>\n",
       "      <td>0</td>\n",
       "      <td>unknown</td>\n",
       "      <td>1</td>\n",
       "      <td>321</td>\n",
       "    </tr>\n",
       "    <tr>\n",
       "      <th>45208</th>\n",
       "      <td>72.0</td>\n",
       "      <td>retired</td>\n",
       "      <td>married</td>\n",
       "      <td>secondary</td>\n",
       "      <td>0</td>\n",
       "      <td>5715.0</td>\n",
       "      <td>0</td>\n",
       "      <td>0</td>\n",
       "      <td>cellular</td>\n",
       "      <td>1127</td>\n",
       "      <td>5</td>\n",
       "      <td>184</td>\n",
       "      <td>3</td>\n",
       "      <td>success</td>\n",
       "      <td>1</td>\n",
       "      <td>321</td>\n",
       "    </tr>\n",
       "    <tr>\n",
       "      <th>45209</th>\n",
       "      <td>57.0</td>\n",
       "      <td>blue-collar</td>\n",
       "      <td>married</td>\n",
       "      <td>secondary</td>\n",
       "      <td>0</td>\n",
       "      <td>668.0</td>\n",
       "      <td>0</td>\n",
       "      <td>0</td>\n",
       "      <td>telephone</td>\n",
       "      <td>508</td>\n",
       "      <td>4</td>\n",
       "      <td>-1</td>\n",
       "      <td>0</td>\n",
       "      <td>unknown</td>\n",
       "      <td>0</td>\n",
       "      <td>321</td>\n",
       "    </tr>\n",
       "    <tr>\n",
       "      <th>45210</th>\n",
       "      <td>37.0</td>\n",
       "      <td>entrepreneur</td>\n",
       "      <td>married</td>\n",
       "      <td>secondary</td>\n",
       "      <td>0</td>\n",
       "      <td>2971.0</td>\n",
       "      <td>0</td>\n",
       "      <td>0</td>\n",
       "      <td>cellular</td>\n",
       "      <td>361</td>\n",
       "      <td>2</td>\n",
       "      <td>188</td>\n",
       "      <td>11</td>\n",
       "      <td>other</td>\n",
       "      <td>0</td>\n",
       "      <td>321</td>\n",
       "    </tr>\n",
       "  </tbody>\n",
       "</table>\n",
       "<p>45211 rows × 16 columns</p>\n",
       "</div>"
      ],
      "text/plain": [
       "         age           job   marital  education  default  balance  housing  \\\n",
       "0      999.0    management   married   tertiary        0   2143.0        1   \n",
       "1       44.0    technician    single  secondary        0     29.0        1   \n",
       "2       33.0  entrepreneur   married  secondary        0      2.0        1   \n",
       "3       47.0   blue-collar   married    unknown        0   1506.0        1   \n",
       "4       33.0       unknown    single    unknown        0      1.0        0   \n",
       "...      ...           ...       ...        ...      ...      ...      ...   \n",
       "45206   51.0    technician   married   tertiary        0    825.0        0   \n",
       "45207   71.0       retired  divorced    primary        0   1729.0        0   \n",
       "45208   72.0       retired   married  secondary        0   5715.0        0   \n",
       "45209   57.0   blue-collar   married  secondary        0    668.0        0   \n",
       "45210   37.0  entrepreneur   married  secondary        0   2971.0        0   \n",
       "\n",
       "       loan    contact  duration  campaign  pdays  previous poutcome  y  \\\n",
       "0         0    unknown       261         1     -1         0  unknown  0   \n",
       "1         0    unknown       151         1     -1         0  unknown  0   \n",
       "2         1    unknown        76         1     -1         0  unknown  0   \n",
       "3         0    unknown        92         1     -1         0  unknown  0   \n",
       "4         0    unknown       198         1     -1         0  unknown  0   \n",
       "...     ...        ...       ...       ...    ...       ...      ... ..   \n",
       "45206     0   cellular       977         3     -1         0  unknown  1   \n",
       "45207     0   cellular       456         2     -1         0  unknown  1   \n",
       "45208     0   cellular      1127         5    184         3  success  1   \n",
       "45209     0  telephone       508         4     -1         0  unknown  0   \n",
       "45210     0   cellular       361         2    188        11    other  0   \n",
       "\n",
       "       day_of_year  \n",
       "0              125  \n",
       "1              125  \n",
       "2              125  \n",
       "3              125  \n",
       "4              125  \n",
       "...            ...  \n",
       "45206          321  \n",
       "45207          321  \n",
       "45208          321  \n",
       "45209          321  \n",
       "45210          321  \n",
       "\n",
       "[45211 rows x 16 columns]"
      ]
     },
     "execution_count": 23,
     "metadata": {},
     "output_type": "execute_result"
    }
   ],
   "source": [
    "df"
   ]
  },
  {
   "cell_type": "markdown",
   "id": "83c752dc",
   "metadata": {},
   "source": [
    "### 5. splitting the data (creatinng the validation framework)"
   ]
  },
  {
   "cell_type": "code",
   "execution_count": 24,
   "id": "6e79493a",
   "metadata": {},
   "outputs": [],
   "source": [
    "from sklearn.model_selection import train_test_split"
   ]
  },
  {
   "cell_type": "code",
   "execution_count": 25,
   "id": "177a51a0",
   "metadata": {},
   "outputs": [],
   "source": [
    "df_full_train, df_test = train_test_split(df, test_size = 0.2, random_state = 11)\n",
    "df_train, df_val = train_test_split(df_full_train, test_size = 0.25, random_state = 11)"
   ]
  },
  {
   "cell_type": "code",
   "execution_count": 26,
   "id": "783bfc05",
   "metadata": {},
   "outputs": [],
   "source": [
    "df_train = df_train.reset_index(drop = True)\n",
    "df_val   = df_val.reset_index(drop = True)\n",
    "df_test = df_test.reset_index(drop = True)\n",
    "df_full_train = df_train.reset_index(drop = True)"
   ]
  },
  {
   "cell_type": "code",
   "execution_count": 27,
   "id": "ae805b4f",
   "metadata": {},
   "outputs": [],
   "source": [
    "y_train = df_train.y.values\n",
    "y_val = df_val.y.values\n",
    "y_test = df_test.y.values\n",
    "y_full_train = df_full_train.y.values"
   ]
  },
  {
   "cell_type": "code",
   "execution_count": 28,
   "id": "beee536a",
   "metadata": {},
   "outputs": [],
   "source": [
    "del df_train['y']\n",
    "del df_val['y']\n",
    "del df_test['y']\n",
    "#del df_full_train['y'] remember to do it later, after EDA"
   ]
  },
  {
   "cell_type": "code",
   "execution_count": 29,
   "id": "b0c07672",
   "metadata": {},
   "outputs": [
    {
     "data": {
      "text/html": [
       "<div>\n",
       "<style scoped>\n",
       "    .dataframe tbody tr th:only-of-type {\n",
       "        vertical-align: middle;\n",
       "    }\n",
       "\n",
       "    .dataframe tbody tr th {\n",
       "        vertical-align: top;\n",
       "    }\n",
       "\n",
       "    .dataframe thead th {\n",
       "        text-align: right;\n",
       "    }\n",
       "</style>\n",
       "<table border=\"1\" class=\"dataframe\">\n",
       "  <thead>\n",
       "    <tr style=\"text-align: right;\">\n",
       "      <th></th>\n",
       "      <th>age</th>\n",
       "      <th>job</th>\n",
       "      <th>marital</th>\n",
       "      <th>education</th>\n",
       "      <th>default</th>\n",
       "      <th>balance</th>\n",
       "      <th>housing</th>\n",
       "      <th>loan</th>\n",
       "      <th>contact</th>\n",
       "      <th>duration</th>\n",
       "      <th>campaign</th>\n",
       "      <th>pdays</th>\n",
       "      <th>previous</th>\n",
       "      <th>poutcome</th>\n",
       "      <th>day_of_year</th>\n",
       "    </tr>\n",
       "  </thead>\n",
       "  <tbody>\n",
       "    <tr>\n",
       "      <th>0</th>\n",
       "      <td>39.0</td>\n",
       "      <td>unemployed</td>\n",
       "      <td>married</td>\n",
       "      <td>primary</td>\n",
       "      <td>0</td>\n",
       "      <td>590.0</td>\n",
       "      <td>1</td>\n",
       "      <td>0</td>\n",
       "      <td>cellular</td>\n",
       "      <td>190</td>\n",
       "      <td>2</td>\n",
       "      <td>-1</td>\n",
       "      <td>0</td>\n",
       "      <td>unknown</td>\n",
       "      <td>35</td>\n",
       "    </tr>\n",
       "    <tr>\n",
       "      <th>1</th>\n",
       "      <td>53.0</td>\n",
       "      <td>management</td>\n",
       "      <td>divorced</td>\n",
       "      <td>secondary</td>\n",
       "      <td>0</td>\n",
       "      <td>1355.0</td>\n",
       "      <td>0</td>\n",
       "      <td>1</td>\n",
       "      <td>cellular</td>\n",
       "      <td>447</td>\n",
       "      <td>2</td>\n",
       "      <td>196</td>\n",
       "      <td>8</td>\n",
       "      <td>other</td>\n",
       "      <td>35</td>\n",
       "    </tr>\n",
       "    <tr>\n",
       "      <th>2</th>\n",
       "      <td>53.0</td>\n",
       "      <td>services</td>\n",
       "      <td>divorced</td>\n",
       "      <td>primary</td>\n",
       "      <td>0</td>\n",
       "      <td>0.0</td>\n",
       "      <td>0</td>\n",
       "      <td>1</td>\n",
       "      <td>cellular</td>\n",
       "      <td>206</td>\n",
       "      <td>1</td>\n",
       "      <td>-1</td>\n",
       "      <td>0</td>\n",
       "      <td>unknown</td>\n",
       "      <td>189</td>\n",
       "    </tr>\n",
       "    <tr>\n",
       "      <th>3</th>\n",
       "      <td>35.0</td>\n",
       "      <td>technician</td>\n",
       "      <td>married</td>\n",
       "      <td>tertiary</td>\n",
       "      <td>0</td>\n",
       "      <td>1473.0</td>\n",
       "      <td>1</td>\n",
       "      <td>0</td>\n",
       "      <td>unknown</td>\n",
       "      <td>84</td>\n",
       "      <td>3</td>\n",
       "      <td>-1</td>\n",
       "      <td>0</td>\n",
       "      <td>unknown</td>\n",
       "      <td>132</td>\n",
       "    </tr>\n",
       "    <tr>\n",
       "      <th>4</th>\n",
       "      <td>53.0</td>\n",
       "      <td>unemployed</td>\n",
       "      <td>divorced</td>\n",
       "      <td>tertiary</td>\n",
       "      <td>0</td>\n",
       "      <td>0.0</td>\n",
       "      <td>1</td>\n",
       "      <td>1</td>\n",
       "      <td>cellular</td>\n",
       "      <td>140</td>\n",
       "      <td>2</td>\n",
       "      <td>-1</td>\n",
       "      <td>0</td>\n",
       "      <td>unknown</td>\n",
       "      <td>220</td>\n",
       "    </tr>\n",
       "    <tr>\n",
       "      <th>...</th>\n",
       "      <td>...</td>\n",
       "      <td>...</td>\n",
       "      <td>...</td>\n",
       "      <td>...</td>\n",
       "      <td>...</td>\n",
       "      <td>...</td>\n",
       "      <td>...</td>\n",
       "      <td>...</td>\n",
       "      <td>...</td>\n",
       "      <td>...</td>\n",
       "      <td>...</td>\n",
       "      <td>...</td>\n",
       "      <td>...</td>\n",
       "      <td>...</td>\n",
       "      <td>...</td>\n",
       "    </tr>\n",
       "    <tr>\n",
       "      <th>27121</th>\n",
       "      <td>31.0</td>\n",
       "      <td>student</td>\n",
       "      <td>single</td>\n",
       "      <td>unknown</td>\n",
       "      <td>0</td>\n",
       "      <td>2882.0</td>\n",
       "      <td>1</td>\n",
       "      <td>0</td>\n",
       "      <td>cellular</td>\n",
       "      <td>158</td>\n",
       "      <td>2</td>\n",
       "      <td>-1</td>\n",
       "      <td>0</td>\n",
       "      <td>unknown</td>\n",
       "      <td>126</td>\n",
       "    </tr>\n",
       "    <tr>\n",
       "      <th>27122</th>\n",
       "      <td>39.0</td>\n",
       "      <td>management</td>\n",
       "      <td>married</td>\n",
       "      <td>tertiary</td>\n",
       "      <td>0</td>\n",
       "      <td>5060.0</td>\n",
       "      <td>1</td>\n",
       "      <td>0</td>\n",
       "      <td>cellular</td>\n",
       "      <td>157</td>\n",
       "      <td>4</td>\n",
       "      <td>-1</td>\n",
       "      <td>0</td>\n",
       "      <td>unknown</td>\n",
       "      <td>232</td>\n",
       "    </tr>\n",
       "    <tr>\n",
       "      <th>27123</th>\n",
       "      <td>30.0</td>\n",
       "      <td>blue-collar</td>\n",
       "      <td>married</td>\n",
       "      <td>primary</td>\n",
       "      <td>0</td>\n",
       "      <td>935.0</td>\n",
       "      <td>1</td>\n",
       "      <td>0</td>\n",
       "      <td>cellular</td>\n",
       "      <td>96</td>\n",
       "      <td>2</td>\n",
       "      <td>-1</td>\n",
       "      <td>0</td>\n",
       "      <td>unknown</td>\n",
       "      <td>36</td>\n",
       "    </tr>\n",
       "    <tr>\n",
       "      <th>27124</th>\n",
       "      <td>35.0</td>\n",
       "      <td>management</td>\n",
       "      <td>married</td>\n",
       "      <td>tertiary</td>\n",
       "      <td>0</td>\n",
       "      <td>2123.0</td>\n",
       "      <td>1</td>\n",
       "      <td>0</td>\n",
       "      <td>cellular</td>\n",
       "      <td>249</td>\n",
       "      <td>3</td>\n",
       "      <td>-1</td>\n",
       "      <td>0</td>\n",
       "      <td>unknown</td>\n",
       "      <td>202</td>\n",
       "    </tr>\n",
       "    <tr>\n",
       "      <th>27125</th>\n",
       "      <td>49.0</td>\n",
       "      <td>management</td>\n",
       "      <td>divorced</td>\n",
       "      <td>tertiary</td>\n",
       "      <td>0</td>\n",
       "      <td>351.0</td>\n",
       "      <td>1</td>\n",
       "      <td>0</td>\n",
       "      <td>cellular</td>\n",
       "      <td>356</td>\n",
       "      <td>2</td>\n",
       "      <td>-1</td>\n",
       "      <td>0</td>\n",
       "      <td>unknown</td>\n",
       "      <td>202</td>\n",
       "    </tr>\n",
       "  </tbody>\n",
       "</table>\n",
       "<p>27126 rows × 15 columns</p>\n",
       "</div>"
      ],
      "text/plain": [
       "        age          job   marital  education  default  balance  housing  \\\n",
       "0      39.0   unemployed   married    primary        0    590.0        1   \n",
       "1      53.0   management  divorced  secondary        0   1355.0        0   \n",
       "2      53.0     services  divorced    primary        0      0.0        0   \n",
       "3      35.0   technician   married   tertiary        0   1473.0        1   \n",
       "4      53.0   unemployed  divorced   tertiary        0      0.0        1   \n",
       "...     ...          ...       ...        ...      ...      ...      ...   \n",
       "27121  31.0      student    single    unknown        0   2882.0        1   \n",
       "27122  39.0   management   married   tertiary        0   5060.0        1   \n",
       "27123  30.0  blue-collar   married    primary        0    935.0        1   \n",
       "27124  35.0   management   married   tertiary        0   2123.0        1   \n",
       "27125  49.0   management  divorced   tertiary        0    351.0        1   \n",
       "\n",
       "       loan   contact  duration  campaign  pdays  previous poutcome  \\\n",
       "0         0  cellular       190         2     -1         0  unknown   \n",
       "1         1  cellular       447         2    196         8    other   \n",
       "2         1  cellular       206         1     -1         0  unknown   \n",
       "3         0   unknown        84         3     -1         0  unknown   \n",
       "4         1  cellular       140         2     -1         0  unknown   \n",
       "...     ...       ...       ...       ...    ...       ...      ...   \n",
       "27121     0  cellular       158         2     -1         0  unknown   \n",
       "27122     0  cellular       157         4     -1         0  unknown   \n",
       "27123     0  cellular        96         2     -1         0  unknown   \n",
       "27124     0  cellular       249         3     -1         0  unknown   \n",
       "27125     0  cellular       356         2     -1         0  unknown   \n",
       "\n",
       "       day_of_year  \n",
       "0               35  \n",
       "1               35  \n",
       "2              189  \n",
       "3              132  \n",
       "4              220  \n",
       "...            ...  \n",
       "27121          126  \n",
       "27122          232  \n",
       "27123           36  \n",
       "27124          202  \n",
       "27125          202  \n",
       "\n",
       "[27126 rows x 15 columns]"
      ]
     },
     "execution_count": 29,
     "metadata": {},
     "output_type": "execute_result"
    }
   ],
   "source": [
    "df_train"
   ]
  },
  {
   "cell_type": "markdown",
   "id": "376ed54e",
   "metadata": {},
   "source": [
    "### 6. EDA on training data\n",
    "\n",
    "The idea is not to do any EDA on validation or test dataset treating them as if I don't know anything about them. But if there is something such as missing values in train set replaced with zero, it will be done to test and validation set as well."
   ]
  },
  {
   "cell_type": "code",
   "execution_count": 30,
   "id": "46ed5baa",
   "metadata": {},
   "outputs": [
    {
     "data": {
      "text/html": [
       "<div>\n",
       "<style scoped>\n",
       "    .dataframe tbody tr th:only-of-type {\n",
       "        vertical-align: middle;\n",
       "    }\n",
       "\n",
       "    .dataframe tbody tr th {\n",
       "        vertical-align: top;\n",
       "    }\n",
       "\n",
       "    .dataframe thead th {\n",
       "        text-align: right;\n",
       "    }\n",
       "</style>\n",
       "<table border=\"1\" class=\"dataframe\">\n",
       "  <thead>\n",
       "    <tr style=\"text-align: right;\">\n",
       "      <th></th>\n",
       "      <th>age</th>\n",
       "      <th>default</th>\n",
       "      <th>balance</th>\n",
       "      <th>housing</th>\n",
       "      <th>loan</th>\n",
       "      <th>duration</th>\n",
       "      <th>campaign</th>\n",
       "      <th>pdays</th>\n",
       "      <th>previous</th>\n",
       "      <th>day_of_year</th>\n",
       "    </tr>\n",
       "  </thead>\n",
       "  <tbody>\n",
       "    <tr>\n",
       "      <th>count</th>\n",
       "      <td>27122.000000</td>\n",
       "      <td>27126.000000</td>\n",
       "      <td>27125.000000</td>\n",
       "      <td>27126.000000</td>\n",
       "      <td>27126.000000</td>\n",
       "      <td>27126.000000</td>\n",
       "      <td>27126.000000</td>\n",
       "      <td>27126.000000</td>\n",
       "      <td>27126.000000</td>\n",
       "      <td>27126.000000</td>\n",
       "    </tr>\n",
       "    <tr>\n",
       "      <th>mean</th>\n",
       "      <td>40.902773</td>\n",
       "      <td>0.017437</td>\n",
       "      <td>1347.000406</td>\n",
       "      <td>0.557288</td>\n",
       "      <td>0.160805</td>\n",
       "      <td>259.155497</td>\n",
       "      <td>2.762368</td>\n",
       "      <td>40.633783</td>\n",
       "      <td>0.590504</td>\n",
       "      <td>171.309334</td>\n",
       "    </tr>\n",
       "    <tr>\n",
       "      <th>std</th>\n",
       "      <td>12.102878</td>\n",
       "      <td>0.130896</td>\n",
       "      <td>3008.582709</td>\n",
       "      <td>0.496716</td>\n",
       "      <td>0.367358</td>\n",
       "      <td>258.811857</td>\n",
       "      <td>3.101016</td>\n",
       "      <td>100.351285</td>\n",
       "      <td>2.513575</td>\n",
       "      <td>74.882706</td>\n",
       "    </tr>\n",
       "    <tr>\n",
       "      <th>min</th>\n",
       "      <td>-1.000000</td>\n",
       "      <td>0.000000</td>\n",
       "      <td>-8019.000000</td>\n",
       "      <td>0.000000</td>\n",
       "      <td>0.000000</td>\n",
       "      <td>0.000000</td>\n",
       "      <td>1.000000</td>\n",
       "      <td>-1.000000</td>\n",
       "      <td>0.000000</td>\n",
       "      <td>6.000000</td>\n",
       "    </tr>\n",
       "    <tr>\n",
       "      <th>25%</th>\n",
       "      <td>33.000000</td>\n",
       "      <td>0.000000</td>\n",
       "      <td>71.000000</td>\n",
       "      <td>0.000000</td>\n",
       "      <td>0.000000</td>\n",
       "      <td>103.000000</td>\n",
       "      <td>1.000000</td>\n",
       "      <td>-1.000000</td>\n",
       "      <td>0.000000</td>\n",
       "      <td>129.000000</td>\n",
       "    </tr>\n",
       "    <tr>\n",
       "      <th>50%</th>\n",
       "      <td>39.000000</td>\n",
       "      <td>0.000000</td>\n",
       "      <td>447.000000</td>\n",
       "      <td>1.000000</td>\n",
       "      <td>0.000000</td>\n",
       "      <td>180.000000</td>\n",
       "      <td>2.000000</td>\n",
       "      <td>-1.000000</td>\n",
       "      <td>0.000000</td>\n",
       "      <td>156.000000</td>\n",
       "    </tr>\n",
       "    <tr>\n",
       "      <th>75%</th>\n",
       "      <td>48.000000</td>\n",
       "      <td>0.000000</td>\n",
       "      <td>1416.000000</td>\n",
       "      <td>1.000000</td>\n",
       "      <td>0.000000</td>\n",
       "      <td>319.000000</td>\n",
       "      <td>3.000000</td>\n",
       "      <td>-1.000000</td>\n",
       "      <td>0.000000</td>\n",
       "      <td>217.000000</td>\n",
       "    </tr>\n",
       "    <tr>\n",
       "      <th>max</th>\n",
       "      <td>999.000000</td>\n",
       "      <td>1.000000</td>\n",
       "      <td>102127.000000</td>\n",
       "      <td>1.000000</td>\n",
       "      <td>1.000000</td>\n",
       "      <td>3881.000000</td>\n",
       "      <td>63.000000</td>\n",
       "      <td>854.000000</td>\n",
       "      <td>275.000000</td>\n",
       "      <td>365.000000</td>\n",
       "    </tr>\n",
       "  </tbody>\n",
       "</table>\n",
       "</div>"
      ],
      "text/plain": [
       "                age       default        balance       housing          loan  \\\n",
       "count  27122.000000  27126.000000   27125.000000  27126.000000  27126.000000   \n",
       "mean      40.902773      0.017437    1347.000406      0.557288      0.160805   \n",
       "std       12.102878      0.130896    3008.582709      0.496716      0.367358   \n",
       "min       -1.000000      0.000000   -8019.000000      0.000000      0.000000   \n",
       "25%       33.000000      0.000000      71.000000      0.000000      0.000000   \n",
       "50%       39.000000      0.000000     447.000000      1.000000      0.000000   \n",
       "75%       48.000000      0.000000    1416.000000      1.000000      0.000000   \n",
       "max      999.000000      1.000000  102127.000000      1.000000      1.000000   \n",
       "\n",
       "           duration      campaign         pdays      previous   day_of_year  \n",
       "count  27126.000000  27126.000000  27126.000000  27126.000000  27126.000000  \n",
       "mean     259.155497      2.762368     40.633783      0.590504    171.309334  \n",
       "std      258.811857      3.101016    100.351285      2.513575     74.882706  \n",
       "min        0.000000      1.000000     -1.000000      0.000000      6.000000  \n",
       "25%      103.000000      1.000000     -1.000000      0.000000    129.000000  \n",
       "50%      180.000000      2.000000     -1.000000      0.000000    156.000000  \n",
       "75%      319.000000      3.000000     -1.000000      0.000000    217.000000  \n",
       "max     3881.000000     63.000000    854.000000    275.000000    365.000000  "
      ]
     },
     "execution_count": 30,
     "metadata": {},
     "output_type": "execute_result"
    }
   ],
   "source": [
    "df_train.describe()"
   ]
  },
  {
   "cell_type": "code",
   "execution_count": 31,
   "id": "80f930e7",
   "metadata": {},
   "outputs": [
    {
     "data": {
      "text/plain": [
       "(27126, 15)"
      ]
     },
     "execution_count": 31,
     "metadata": {},
     "output_type": "execute_result"
    }
   ],
   "source": [
    "df_train.shape"
   ]
  },
  {
   "cell_type": "markdown",
   "id": "ce8d7e29",
   "metadata": {},
   "source": [
    "**6.1 80% of datas in `pdays` are `-1`. I have to do something about it. I can't remove the rows.**\n",
    "\n",
    "Possible options:\n",
    "\n",
    "1. Replace `-1` with a very large number e.g. 999999 which will have the same effect as if they are not being contacted for a long time, which is same as not-contacting at all \n",
    "2. Remove the column entirely\n",
    "\n",
    "Here I try with first option."
   ]
  },
  {
   "cell_type": "code",
   "execution_count": 32,
   "id": "11151d83",
   "metadata": {},
   "outputs": [],
   "source": [
    "df_train['pdays'] = df_train['pdays'].replace([-1], 999999999)\n",
    "df_test['pdays'] = df_test['pdays'].replace([-1], 999999999)\n",
    "df_val['pdays'] = df_val['pdays'].replace([-1], 999999999)\n",
    "df_full_train['pdays'] = df_full_train['pdays'].replace([-1], 999999999)"
   ]
  },
  {
   "cell_type": "code",
   "execution_count": 33,
   "id": "cf6eecd1",
   "metadata": {},
   "outputs": [
    {
     "data": {
      "text/plain": [
       "0        999999999\n",
       "1              196\n",
       "2        999999999\n",
       "3        999999999\n",
       "4        999999999\n",
       "           ...    \n",
       "27121    999999999\n",
       "27122    999999999\n",
       "27123    999999999\n",
       "27124    999999999\n",
       "27125    999999999\n",
       "Name: pdays, Length: 27126, dtype: int64"
      ]
     },
     "execution_count": 33,
     "metadata": {},
     "output_type": "execute_result"
    }
   ],
   "source": [
    "df_train['pdays']"
   ]
  },
  {
   "cell_type": "markdown",
   "id": "36b49e6e",
   "metadata": {},
   "source": [
    "**6.2 Dealing with missing values or extremely large (illogical) values**\n",
    "\n",
    "options:\n",
    "1. fill with zeo, mean or median"
   ]
  },
  {
   "cell_type": "code",
   "execution_count": 34,
   "id": "bbd7ecf8",
   "metadata": {},
   "outputs": [
    {
     "data": {
      "text/plain": [
       "age            4\n",
       "job            0\n",
       "marital        0\n",
       "education      0\n",
       "default        0\n",
       "balance        1\n",
       "housing        0\n",
       "loan           0\n",
       "contact        0\n",
       "duration       0\n",
       "campaign       0\n",
       "pdays          0\n",
       "previous       0\n",
       "poutcome       0\n",
       "day_of_year    0\n",
       "dtype: int64"
      ]
     },
     "execution_count": 34,
     "metadata": {},
     "output_type": "execute_result"
    }
   ],
   "source": [
    "df_train.isnull().sum()"
   ]
  },
  {
   "cell_type": "code",
   "execution_count": 35,
   "id": "3994362d",
   "metadata": {},
   "outputs": [],
   "source": [
    "df_train['age'] = df_train['age'].fillna(df_train['age'].mode()[0])\n",
    "df_val['age'] = df_val['age'].fillna(df_val['age'].mode()[0])\n",
    "df_test['age'] = df_test['age'].fillna(df_test['age'].mode()[0])\n",
    "df_full_train['age'] = df_full_train['age'].fillna(df_full_train['age'].mode()[0])\n",
    "\n",
    "df_train['balance'] = df_train['balance'].fillna(df_train['balance'].mode()[0])\n",
    "df_val['balance'] = df_val['balance'].fillna(df_val['balance'].mode()[0])\n",
    "df_test['balance'] = df_test['balance'].fillna(df_test['balance'].mode()[0])\n",
    "df_full_train['balance'] = df_full_train['balance'].fillna(df_full_train['balance'].mode()[0])"
   ]
  },
  {
   "cell_type": "markdown",
   "id": "35598c04",
   "metadata": {},
   "source": [
    "In `df_train.describe()` above we see that there is age in 999 years and -1. Let's see how many of them are like that."
   ]
  },
  {
   "cell_type": "code",
   "execution_count": 36,
   "id": "872c3077",
   "metadata": {},
   "outputs": [
    {
     "data": {
      "text/plain": [
       "-1.0"
      ]
     },
     "execution_count": 36,
     "metadata": {},
     "output_type": "execute_result"
    }
   ],
   "source": [
    "df_train.age.min()"
   ]
  },
  {
   "cell_type": "code",
   "execution_count": 37,
   "id": "078a1111",
   "metadata": {},
   "outputs": [
    {
     "data": {
      "text/plain": [
       "999.0"
      ]
     },
     "execution_count": 37,
     "metadata": {},
     "output_type": "execute_result"
    }
   ],
   "source": [
    "df_train.age.max()"
   ]
  },
  {
   "cell_type": "code",
   "execution_count": 38,
   "id": "f6c97dcb",
   "metadata": {},
   "outputs": [
    {
     "name": "stderr",
     "output_type": "stream",
     "text": [
      "/home/bsarma/anaconda3/envs/ml-zoomcamp/lib/python3.9/site-packages/seaborn/distributions.py:2619: FutureWarning: `distplot` is a deprecated function and will be removed in a future version. Please adapt your code to use either `displot` (a figure-level function with similar flexibility) or `histplot` (an axes-level function for histograms).\n",
      "  warnings.warn(msg, FutureWarning)\n"
     ]
    },
    {
     "data": {
      "image/png": "[encoded data removed]",
      "text/plain": [
       "<Figure size 640x480 with 1 Axes>"
      ]
     },
     "metadata": {},
     "output_type": "display_data"
    }
   ],
   "source": [
    "sns.distplot(df_train['age'], kde=True, hist=True, kde_kws={\"clip\":(0,100)}, hist_kws={\"range\":(0,100)})\n",
    "plt.show()"
   ]
  },
  {
   "cell_type": "code",
   "execution_count": 39,
   "id": "05e8e86f",
   "metadata": {},
   "outputs": [
    {
     "data": {
      "text/plain": [
       "1"
      ]
     },
     "execution_count": 39,
     "metadata": {},
     "output_type": "execute_result"
    }
   ],
   "source": [
    "(df.age.values == 999).sum()"
   ]
  },
  {
   "cell_type": "code",
   "execution_count": 40,
   "id": "6fcf5fc3",
   "metadata": {},
   "outputs": [
    {
     "data": {
      "text/plain": [
       "3"
      ]
     },
     "execution_count": 40,
     "metadata": {},
     "output_type": "execute_result"
    }
   ],
   "source": [
    "(df.age.values == -1).sum()"
   ]
  },
  {
   "cell_type": "code",
   "execution_count": 41,
   "id": "e8afd547",
   "metadata": {},
   "outputs": [
    {
     "data": {
      "text/plain": [
       "1"
      ]
     },
     "execution_count": 41,
     "metadata": {},
     "output_type": "execute_result"
    }
   ],
   "source": [
    "(df.age.values > 100).sum()"
   ]
  },
  {
   "cell_type": "code",
   "execution_count": 42,
   "id": "51098e54",
   "metadata": {},
   "outputs": [
    {
     "data": {
      "text/plain": [
       "3"
      ]
     },
     "execution_count": 42,
     "metadata": {},
     "output_type": "execute_result"
    }
   ],
   "source": [
    "(df.age.values < 15).sum()"
   ]
  },
  {
   "cell_type": "markdown",
   "id": "46083163",
   "metadata": {},
   "source": [
    "Thus, we have 1 value 999 and only 3 values -1. All other values makes sense. So we'll replace them with mode of age."
   ]
  },
  {
   "cell_type": "code",
   "execution_count": 43,
   "id": "7fa6cd8e",
   "metadata": {},
   "outputs": [
    {
     "data": {
      "text/plain": [
       "32.0"
      ]
     },
     "execution_count": 43,
     "metadata": {},
     "output_type": "execute_result"
    }
   ],
   "source": [
    "df_train['age'].mode()[0]"
   ]
  },
  {
   "cell_type": "code",
   "execution_count": 44,
   "id": "acd96bb0",
   "metadata": {},
   "outputs": [],
   "source": [
    "df_train['age'] = df_train['age'].replace([-1, 999], df_train['age'].mode()[0])\n",
    "df_val['age'] = df_val['age'].replace([-1, 999], df_val['age'].mode()[0])\n",
    "df_test['age'] = df_test['age'].replace([-1, 999], df_test['age'].mode()[0])\n",
    "df_full_train['age'] = df_full_train['age'].replace([-1, 999], df_full_train['age'].mode()[0])"
   ]
  },
  {
   "cell_type": "code",
   "execution_count": 45,
   "id": "a3a6d1b0",
   "metadata": {},
   "outputs": [
    {
     "data": {
      "text/plain": [
       "0"
      ]
     },
     "execution_count": 45,
     "metadata": {},
     "output_type": "execute_result"
    }
   ],
   "source": [
    "(df_train.age.values == -1).sum()"
   ]
  },
  {
   "cell_type": "markdown",
   "id": "784f0b7d",
   "metadata": {},
   "source": [
    "### 6.3 EDA: inspecting features with histogram"
   ]
  },
  {
   "cell_type": "code",
   "execution_count": 46,
   "id": "f183fe4b",
   "metadata": {},
   "outputs": [
    {
     "data": {
      "text/plain": [
       "Index(['age', 'job', 'marital', 'education', 'default', 'balance', 'housing',\n",
       "       'loan', 'contact', 'duration', 'campaign', 'pdays', 'previous',\n",
       "       'poutcome', 'day_of_year'],\n",
       "      dtype='object')"
      ]
     },
     "execution_count": 46,
     "metadata": {},
     "output_type": "execute_result"
    }
   ],
   "source": [
    "df_train.columns"
   ]
  },
  {
   "cell_type": "code",
   "execution_count": 47,
   "id": "06384610",
   "metadata": {},
   "outputs": [
    {
     "data": {
      "text/plain": [
       "age            float64\n",
       "job             object\n",
       "marital         object\n",
       "education       object\n",
       "default          int64\n",
       "balance        float64\n",
       "housing          int64\n",
       "loan             int64\n",
       "contact         object\n",
       "duration         int64\n",
       "campaign         int64\n",
       "pdays            int64\n",
       "previous         int64\n",
       "poutcome        object\n",
       "day_of_year      int64\n",
       "dtype: object"
      ]
     },
     "execution_count": 47,
     "metadata": {},
     "output_type": "execute_result"
    }
   ],
   "source": [
    "df_train.dtypes"
   ]
  },
  {
   "cell_type": "code",
   "execution_count": 48,
   "id": "91f5e5b6",
   "metadata": {},
   "outputs": [
    {
     "data": {
      "text/plain": [
       "['age',\n",
       " 'default',\n",
       " 'balance',\n",
       " 'housing',\n",
       " 'loan',\n",
       " 'duration',\n",
       " 'campaign',\n",
       " 'pdays',\n",
       " 'previous',\n",
       " 'day_of_year']"
      ]
     },
     "execution_count": 48,
     "metadata": {},
     "output_type": "execute_result"
    }
   ],
   "source": [
    "cols_numerical = list(df_train.select_dtypes(include='number').columns)\n",
    "cols_categorical = list(df_train.select_dtypes(exclude='number').columns)\n",
    "cols_numerical"
   ]
  },
  {
   "cell_type": "code",
   "execution_count": 49,
   "id": "aa283ad0",
   "metadata": {
    "scrolled": false
   },
   "outputs": [
    {
     "name": "stderr",
     "output_type": "stream",
     "text": [
      "/tmp/ipykernel_5958/4096612376.py:3: UserWarning: To output multiple subplots, the figure containing the passed axes is being cleared.\n",
      "  df_train.hist(bins=100, ax=ax, layout=(5, 2), column=cols_numerical)\n"
     ]
    },
    {
     "data": {
      "image/png": "[encoded data removed]",
      "text/plain": [
       "<Figure size 1000x1500 with 10 Axes>"
      ]
     },
     "metadata": {},
     "output_type": "display_data"
    }
   ],
   "source": [
    "fig = plt.figure(figsize=(10,15))\n",
    "ax = plt.gca()\n",
    "df_train.hist(bins=100, ax=ax, layout=(5, 2), column=cols_numerical)\n",
    "plt.tight_layout()\n",
    "plt.show()"
   ]
  },
  {
   "cell_type": "markdown",
   "id": "1ffe883c",
   "metadata": {},
   "source": [
    "### 6.4 EDA: success rate"
   ]
  },
  {
   "cell_type": "code",
   "execution_count": 50,
   "id": "28b86832",
   "metadata": {},
   "outputs": [
    {
     "data": {
      "text/plain": [
       "0.117"
      ]
     },
     "execution_count": 50,
     "metadata": {},
     "output_type": "execute_result"
    }
   ],
   "source": [
    "global_success_rate = y_train.mean().round(3)\n",
    "global_success_rate"
   ]
  },
  {
   "cell_type": "markdown",
   "id": "daff8b95",
   "metadata": {},
   "source": [
    "**Thus, 11.7% is the global success rate.**"
   ]
  },
  {
   "cell_type": "code",
   "execution_count": 51,
   "id": "dacfecb9",
   "metadata": {},
   "outputs": [
    {
     "data": {
      "text/plain": [
       "['job', 'marital', 'education', 'contact', 'poutcome']"
      ]
     },
     "execution_count": 51,
     "metadata": {},
     "output_type": "execute_result"
    }
   ],
   "source": [
    "cols_categorical"
   ]
  },
  {
   "cell_type": "code",
   "execution_count": 52,
   "id": "12ec6be5",
   "metadata": {},
   "outputs": [
    {
     "data": {
      "text/plain": [
       "job          12\n",
       "marital       3\n",
       "education     4\n",
       "contact       3\n",
       "poutcome      4\n",
       "dtype: int64"
      ]
     },
     "execution_count": 52,
     "metadata": {},
     "output_type": "execute_result"
    }
   ],
   "source": [
    "df_train[cols_categorical].nunique()"
   ]
  },
  {
   "cell_type": "code",
   "execution_count": 53,
   "id": "2e09eb67",
   "metadata": {
    "scrolled": true
   },
   "outputs": [
    {
     "data": {
      "text/plain": [
       "job          12\n",
       "marital       3\n",
       "education     4\n",
       "contact       3\n",
       "poutcome      4\n",
       "dtype: int64"
      ]
     },
     "execution_count": 53,
     "metadata": {},
     "output_type": "execute_result"
    }
   ],
   "source": [
    "df_full_train[cols_categorical].nunique()"
   ]
  },
  {
   "cell_type": "code",
   "execution_count": 54,
   "id": "29068cbd",
   "metadata": {},
   "outputs": [
    {
     "data": {
      "text/plain": [
       "married     0.602964\n",
       "single      0.282275\n",
       "divorced    0.114761\n",
       "Name: marital, dtype: float64"
      ]
     },
     "execution_count": 54,
     "metadata": {},
     "output_type": "execute_result"
    }
   ],
   "source": [
    "df_full_train.marital.value_counts(normalize=True)"
   ]
  },
  {
   "cell_type": "markdown",
   "id": "f0bf1a3c",
   "metadata": {},
   "source": [
    "Thus 60% of customrs are married, 28.2% are single and 11.4% are divorced."
   ]
  },
  {
   "cell_type": "code",
   "execution_count": 55,
   "id": "e616e925",
   "metadata": {},
   "outputs": [
    {
     "name": "stdout",
     "output_type": "stream",
     "text": [
      "0.104 0.144 0.119\n"
     ]
    }
   ],
   "source": [
    "success_rate_married = round(df_full_train[df_full_train.marital=='married'].y.mean(),3)\n",
    "success_rate_single = round(df_full_train[df_full_train.marital=='single'].y.mean(),3)\n",
    "success_rate_divorced = round(df_full_train[df_full_train.marital=='divorced'].y.mean(),3)\n",
    "print(success_rate_married, success_rate_single, success_rate_divorced)"
   ]
  },
  {
   "cell_type": "markdown",
   "id": "75a2cdab",
   "metadata": {},
   "source": [
    "Thus, success rate for bank among singles (14.4%) are the highest and it is above global success rate of 11.7%.  "
   ]
  },
  {
   "cell_type": "code",
   "execution_count": 56,
   "id": "f8060d6e",
   "metadata": {},
   "outputs": [
    {
     "data": {
      "text/plain": [
       "secondary    0.512313\n",
       "tertiary     0.294035\n",
       "primary      0.151478\n",
       "unknown      0.042174\n",
       "Name: education, dtype: float64"
      ]
     },
     "execution_count": 56,
     "metadata": {},
     "output_type": "execute_result"
    }
   ],
   "source": [
    "df_full_train.education.value_counts(normalize=True)"
   ]
  },
  {
   "cell_type": "markdown",
   "id": "b5596d79",
   "metadata": {},
   "source": [
    "50% of the customers are with secondary education."
   ]
  },
  {
   "cell_type": "code",
   "execution_count": 57,
   "id": "019ab93e",
   "metadata": {},
   "outputs": [
    {
     "name": "stdout",
     "output_type": "stream",
     "text": [
      "0.104 0.151 0.09 0.136\n"
     ]
    }
   ],
   "source": [
    "success_rate_secondary = round(df_full_train[df_full_train.education=='secondary'].y.mean(),3)\n",
    "success_rate_tertiary = round(df_full_train[df_full_train.education=='tertiary'].y.mean(),3)\n",
    "success_rate_primary = round(df_full_train[df_full_train.education=='primary'].y.mean(),3)\n",
    "success_rate_unknown = round(df_full_train[df_full_train.education=='unknown'].y.mean(),3)\n",
    "print(success_rate_secondary, success_rate_tertiary, success_rate_primary, success_rate_unknown)"
   ]
  },
  {
   "cell_type": "markdown",
   "id": "b39a2c2c",
   "metadata": {},
   "source": [
    "Here success rate among tertiary (15.1%) and unknown group (13.6%) is higher than globla average of 11%."
   ]
  },
  {
   "cell_type": "code",
   "execution_count": 58,
   "id": "fbde4e85",
   "metadata": {},
   "outputs": [
    {
     "data": {
      "text/plain": [
       "cellular     0.650741\n",
       "unknown      0.285077\n",
       "telephone    0.064182\n",
       "Name: contact, dtype: float64"
      ]
     },
     "execution_count": 58,
     "metadata": {},
     "output_type": "execute_result"
    }
   ],
   "source": [
    "df_full_train.contact.value_counts(normalize=True)"
   ]
  },
  {
   "cell_type": "markdown",
   "id": "f5cdb7ec",
   "metadata": {},
   "source": [
    "Bank contact 65% of the customers with cellular, while only 6% are with telephone."
   ]
  },
  {
   "cell_type": "code",
   "execution_count": 59,
   "id": "6f37453a",
   "metadata": {},
   "outputs": [
    {
     "name": "stdout",
     "output_type": "stream",
     "text": [
      "0.148 0.13 0.043\n"
     ]
    }
   ],
   "source": [
    "success_rate_cellular = round(df_full_train[df_full_train.contact=='cellular'].y.mean(),3)\n",
    "success_rate_telephone = round(df_full_train[df_full_train.contact=='telephone'].y.mean(),3)\n",
    "success_rate_unknown_contact = round(df_full_train[df_full_train.contact=='unknown'].y.mean(),3)\n",
    "\n",
    "print(success_rate_cellular, success_rate_telephone, success_rate_unknown_contact)"
   ]
  },
  {
   "cell_type": "markdown",
   "id": "e67f86bf",
   "metadata": {},
   "source": [
    "Both cellular (14.8%) and telephone (13%) has higher success rate than global (11%)."
   ]
  },
  {
   "cell_type": "code",
   "execution_count": 60,
   "id": "5dae5fc1",
   "metadata": {},
   "outputs": [
    {
     "data": {
      "text/plain": [
       "unknown    0.814680\n",
       "failure    0.110300\n",
       "other      0.041436\n",
       "success    0.033584\n",
       "Name: poutcome, dtype: float64"
      ]
     },
     "execution_count": 60,
     "metadata": {},
     "output_type": "execute_result"
    }
   ],
   "source": [
    "df_full_train.poutcome.value_counts(normalize=True)"
   ]
  },
  {
   "cell_type": "code",
   "execution_count": 61,
   "id": "d49e5ab3",
   "metadata": {},
   "outputs": [
    {
     "data": {
      "text/plain": [
       "blue-collar      0.214\n",
       "management       0.211\n",
       "technician       0.168\n",
       "admin.           0.114\n",
       "services         0.093\n",
       "retired          0.049\n",
       "self-employed    0.034\n",
       "entrepreneur     0.033\n",
       "unemployed       0.030\n",
       "housemaid        0.027\n",
       "student          0.021\n",
       "unknown          0.006\n",
       "Name: job, dtype: float64"
      ]
     },
     "execution_count": 61,
     "metadata": {},
     "output_type": "execute_result"
    }
   ],
   "source": [
    "round(df_full_train.job.value_counts(normalize=True),3)"
   ]
  },
  {
   "cell_type": "markdown",
   "id": "56692a9a",
   "metadata": {},
   "source": [
    "Highest percentage of customers are blue-collar(21.4%) and management(21.1%) workers."
   ]
  },
  {
   "cell_type": "code",
   "execution_count": 62,
   "id": "e1ef5174",
   "metadata": {},
   "outputs": [
    {
     "name": "stdout",
     "output_type": "stream",
     "text": [
      "0.075 0.137 0.112 0.118\n"
     ]
    }
   ],
   "source": [
    "success_rate_blue_collar = round(df_full_train[df_full_train.job=='blue-collar'].y.mean(),3)\n",
    "success_rate_management = round(df_full_train[df_full_train.job=='management'].y.mean(),3)\n",
    "success_rate_technician = round(df_full_train[df_full_train.job=='technician'].y.mean(),3)\n",
    "success_rate_admin = round(df_full_train[df_full_train.job=='admin.'].y.mean(),3)\n",
    "print(success_rate_blue_collar,success_rate_management, success_rate_technician, success_rate_admin)"
   ]
  },
  {
   "cell_type": "markdown",
   "id": "c86220a0",
   "metadata": {},
   "source": [
    "### 6.5 EDA: Success ratio"
   ]
  },
  {
   "cell_type": "code",
   "execution_count": 63,
   "id": "3b96861d",
   "metadata": {},
   "outputs": [],
   "source": [
    "from IPython.display import display"
   ]
  },
  {
   "cell_type": "code",
   "execution_count": 64,
   "id": "6be1c9e0",
   "metadata": {},
   "outputs": [
    {
     "name": "stdout",
     "output_type": "stream",
     "text": [
      "job\n"
     ]
    },
    {
     "data": {
      "text/html": [
       "<div>\n",
       "<style scoped>\n",
       "    .dataframe tbody tr th:only-of-type {\n",
       "        vertical-align: middle;\n",
       "    }\n",
       "\n",
       "    .dataframe tbody tr th {\n",
       "        vertical-align: top;\n",
       "    }\n",
       "\n",
       "    .dataframe thead th {\n",
       "        text-align: right;\n",
       "    }\n",
       "</style>\n",
       "<table border=\"1\" class=\"dataframe\">\n",
       "  <thead>\n",
       "    <tr style=\"text-align: right;\">\n",
       "      <th></th>\n",
       "      <th>mean</th>\n",
       "      <th>count</th>\n",
       "      <th>diff</th>\n",
       "      <th>success</th>\n",
       "    </tr>\n",
       "    <tr>\n",
       "      <th>job</th>\n",
       "      <th></th>\n",
       "      <th></th>\n",
       "      <th></th>\n",
       "      <th></th>\n",
       "    </tr>\n",
       "  </thead>\n",
       "  <tbody>\n",
       "    <tr>\n",
       "      <th>admin.</th>\n",
       "      <td>0.118425</td>\n",
       "      <td>3099</td>\n",
       "      <td>0.001425</td>\n",
       "      <td>1.012182</td>\n",
       "    </tr>\n",
       "    <tr>\n",
       "      <th>blue-collar</th>\n",
       "      <td>0.074673</td>\n",
       "      <td>5812</td>\n",
       "      <td>-0.042327</td>\n",
       "      <td>0.638232</td>\n",
       "    </tr>\n",
       "    <tr>\n",
       "      <th>entrepreneur</th>\n",
       "      <td>0.090100</td>\n",
       "      <td>899</td>\n",
       "      <td>-0.026900</td>\n",
       "      <td>0.770086</td>\n",
       "    </tr>\n",
       "    <tr>\n",
       "      <th>housemaid</th>\n",
       "      <td>0.095890</td>\n",
       "      <td>730</td>\n",
       "      <td>-0.021110</td>\n",
       "      <td>0.819576</td>\n",
       "    </tr>\n",
       "    <tr>\n",
       "      <th>management</th>\n",
       "      <td>0.136888</td>\n",
       "      <td>5720</td>\n",
       "      <td>0.019888</td>\n",
       "      <td>1.169984</td>\n",
       "    </tr>\n",
       "    <tr>\n",
       "      <th>retired</th>\n",
       "      <td>0.230308</td>\n",
       "      <td>1333</td>\n",
       "      <td>0.113308</td>\n",
       "      <td>1.968441</td>\n",
       "    </tr>\n",
       "    <tr>\n",
       "      <th>self-employed</th>\n",
       "      <td>0.112069</td>\n",
       "      <td>928</td>\n",
       "      <td>-0.004931</td>\n",
       "      <td>0.957854</td>\n",
       "    </tr>\n",
       "    <tr>\n",
       "      <th>services</th>\n",
       "      <td>0.081543</td>\n",
       "      <td>2514</td>\n",
       "      <td>-0.035457</td>\n",
       "      <td>0.696952</td>\n",
       "    </tr>\n",
       "    <tr>\n",
       "      <th>student</th>\n",
       "      <td>0.288225</td>\n",
       "      <td>569</td>\n",
       "      <td>0.171225</td>\n",
       "      <td>2.463461</td>\n",
       "    </tr>\n",
       "    <tr>\n",
       "      <th>technician</th>\n",
       "      <td>0.111917</td>\n",
       "      <td>4548</td>\n",
       "      <td>-0.005083</td>\n",
       "      <td>0.956558</td>\n",
       "    </tr>\n",
       "    <tr>\n",
       "      <th>unemployed</th>\n",
       "      <td>0.152334</td>\n",
       "      <td>814</td>\n",
       "      <td>0.035334</td>\n",
       "      <td>1.302001</td>\n",
       "    </tr>\n",
       "    <tr>\n",
       "      <th>unknown</th>\n",
       "      <td>0.162500</td>\n",
       "      <td>160</td>\n",
       "      <td>0.045500</td>\n",
       "      <td>1.388889</td>\n",
       "    </tr>\n",
       "  </tbody>\n",
       "</table>\n",
       "</div>"
      ],
      "text/plain": [
       "                   mean  count      diff   success\n",
       "job                                               \n",
       "admin.         0.118425   3099  0.001425  1.012182\n",
       "blue-collar    0.074673   5812 -0.042327  0.638232\n",
       "entrepreneur   0.090100    899 -0.026900  0.770086\n",
       "housemaid      0.095890    730 -0.021110  0.819576\n",
       "management     0.136888   5720  0.019888  1.169984\n",
       "retired        0.230308   1333  0.113308  1.968441\n",
       "self-employed  0.112069    928 -0.004931  0.957854\n",
       "services       0.081543   2514 -0.035457  0.696952\n",
       "student        0.288225    569  0.171225  2.463461\n",
       "technician     0.111917   4548 -0.005083  0.956558\n",
       "unemployed     0.152334    814  0.035334  1.302001\n",
       "unknown        0.162500    160  0.045500  1.388889"
      ]
     },
     "metadata": {},
     "output_type": "display_data"
    },
    {
     "name": "stdout",
     "output_type": "stream",
     "text": [
      "\n",
      "\n",
      "marital\n"
     ]
    },
    {
     "data": {
      "text/html": [
       "<div>\n",
       "<style scoped>\n",
       "    .dataframe tbody tr th:only-of-type {\n",
       "        vertical-align: middle;\n",
       "    }\n",
       "\n",
       "    .dataframe tbody tr th {\n",
       "        vertical-align: top;\n",
       "    }\n",
       "\n",
       "    .dataframe thead th {\n",
       "        text-align: right;\n",
       "    }\n",
       "</style>\n",
       "<table border=\"1\" class=\"dataframe\">\n",
       "  <thead>\n",
       "    <tr style=\"text-align: right;\">\n",
       "      <th></th>\n",
       "      <th>mean</th>\n",
       "      <th>count</th>\n",
       "      <th>diff</th>\n",
       "      <th>success</th>\n",
       "    </tr>\n",
       "    <tr>\n",
       "      <th>marital</th>\n",
       "      <th></th>\n",
       "      <th></th>\n",
       "      <th></th>\n",
       "      <th></th>\n",
       "    </tr>\n",
       "  </thead>\n",
       "  <tbody>\n",
       "    <tr>\n",
       "      <th>divorced</th>\n",
       "      <td>0.119178</td>\n",
       "      <td>3113</td>\n",
       "      <td>0.002178</td>\n",
       "      <td>1.018612</td>\n",
       "    </tr>\n",
       "    <tr>\n",
       "      <th>married</th>\n",
       "      <td>0.103876</td>\n",
       "      <td>16356</td>\n",
       "      <td>-0.013124</td>\n",
       "      <td>0.887831</td>\n",
       "    </tr>\n",
       "    <tr>\n",
       "      <th>single</th>\n",
       "      <td>0.144182</td>\n",
       "      <td>7657</td>\n",
       "      <td>0.027182</td>\n",
       "      <td>1.232323</td>\n",
       "    </tr>\n",
       "  </tbody>\n",
       "</table>\n",
       "</div>"
      ],
      "text/plain": [
       "              mean  count      diff   success\n",
       "marital                                      \n",
       "divorced  0.119178   3113  0.002178  1.018612\n",
       "married   0.103876  16356 -0.013124  0.887831\n",
       "single    0.144182   7657  0.027182  1.232323"
      ]
     },
     "metadata": {},
     "output_type": "display_data"
    },
    {
     "name": "stdout",
     "output_type": "stream",
     "text": [
      "\n",
      "\n",
      "education\n"
     ]
    },
    {
     "data": {
      "text/html": [
       "<div>\n",
       "<style scoped>\n",
       "    .dataframe tbody tr th:only-of-type {\n",
       "        vertical-align: middle;\n",
       "    }\n",
       "\n",
       "    .dataframe tbody tr th {\n",
       "        vertical-align: top;\n",
       "    }\n",
       "\n",
       "    .dataframe thead th {\n",
       "        text-align: right;\n",
       "    }\n",
       "</style>\n",
       "<table border=\"1\" class=\"dataframe\">\n",
       "  <thead>\n",
       "    <tr style=\"text-align: right;\">\n",
       "      <th></th>\n",
       "      <th>mean</th>\n",
       "      <th>count</th>\n",
       "      <th>diff</th>\n",
       "      <th>success</th>\n",
       "    </tr>\n",
       "    <tr>\n",
       "      <th>education</th>\n",
       "      <th></th>\n",
       "      <th></th>\n",
       "      <th></th>\n",
       "      <th></th>\n",
       "    </tr>\n",
       "  </thead>\n",
       "  <tbody>\n",
       "    <tr>\n",
       "      <th>primary</th>\n",
       "      <td>0.090046</td>\n",
       "      <td>4109</td>\n",
       "      <td>-0.026954</td>\n",
       "      <td>0.769626</td>\n",
       "    </tr>\n",
       "    <tr>\n",
       "      <th>secondary</th>\n",
       "      <td>0.103835</td>\n",
       "      <td>13897</td>\n",
       "      <td>-0.013165</td>\n",
       "      <td>0.887482</td>\n",
       "    </tr>\n",
       "    <tr>\n",
       "      <th>tertiary</th>\n",
       "      <td>0.151078</td>\n",
       "      <td>7976</td>\n",
       "      <td>0.034078</td>\n",
       "      <td>1.291267</td>\n",
       "    </tr>\n",
       "    <tr>\n",
       "      <th>unknown</th>\n",
       "      <td>0.136364</td>\n",
       "      <td>1144</td>\n",
       "      <td>0.019364</td>\n",
       "      <td>1.165501</td>\n",
       "    </tr>\n",
       "  </tbody>\n",
       "</table>\n",
       "</div>"
      ],
      "text/plain": [
       "               mean  count      diff   success\n",
       "education                                     \n",
       "primary    0.090046   4109 -0.026954  0.769626\n",
       "secondary  0.103835  13897 -0.013165  0.887482\n",
       "tertiary   0.151078   7976  0.034078  1.291267\n",
       "unknown    0.136364   1144  0.019364  1.165501"
      ]
     },
     "metadata": {},
     "output_type": "display_data"
    },
    {
     "name": "stdout",
     "output_type": "stream",
     "text": [
      "\n",
      "\n",
      "contact\n"
     ]
    },
    {
     "data": {
      "text/html": [
       "<div>\n",
       "<style scoped>\n",
       "    .dataframe tbody tr th:only-of-type {\n",
       "        vertical-align: middle;\n",
       "    }\n",
       "\n",
       "    .dataframe tbody tr th {\n",
       "        vertical-align: top;\n",
       "    }\n",
       "\n",
       "    .dataframe thead th {\n",
       "        text-align: right;\n",
       "    }\n",
       "</style>\n",
       "<table border=\"1\" class=\"dataframe\">\n",
       "  <thead>\n",
       "    <tr style=\"text-align: right;\">\n",
       "      <th></th>\n",
       "      <th>mean</th>\n",
       "      <th>count</th>\n",
       "      <th>diff</th>\n",
       "      <th>success</th>\n",
       "    </tr>\n",
       "    <tr>\n",
       "      <th>contact</th>\n",
       "      <th></th>\n",
       "      <th></th>\n",
       "      <th></th>\n",
       "      <th></th>\n",
       "    </tr>\n",
       "  </thead>\n",
       "  <tbody>\n",
       "    <tr>\n",
       "      <th>cellular</th>\n",
       "      <td>0.148312</td>\n",
       "      <td>17652</td>\n",
       "      <td>0.031312</td>\n",
       "      <td>1.267622</td>\n",
       "    </tr>\n",
       "    <tr>\n",
       "      <th>telephone</th>\n",
       "      <td>0.130385</td>\n",
       "      <td>1741</td>\n",
       "      <td>0.013385</td>\n",
       "      <td>1.114400</td>\n",
       "    </tr>\n",
       "    <tr>\n",
       "      <th>unknown</th>\n",
       "      <td>0.042545</td>\n",
       "      <td>7733</td>\n",
       "      <td>-0.074455</td>\n",
       "      <td>0.363632</td>\n",
       "    </tr>\n",
       "  </tbody>\n",
       "</table>\n",
       "</div>"
      ],
      "text/plain": [
       "               mean  count      diff   success\n",
       "contact                                       \n",
       "cellular   0.148312  17652  0.031312  1.267622\n",
       "telephone  0.130385   1741  0.013385  1.114400\n",
       "unknown    0.042545   7733 -0.074455  0.363632"
      ]
     },
     "metadata": {},
     "output_type": "display_data"
    },
    {
     "name": "stdout",
     "output_type": "stream",
     "text": [
      "\n",
      "\n",
      "poutcome\n"
     ]
    },
    {
     "data": {
      "text/html": [
       "<div>\n",
       "<style scoped>\n",
       "    .dataframe tbody tr th:only-of-type {\n",
       "        vertical-align: middle;\n",
       "    }\n",
       "\n",
       "    .dataframe tbody tr th {\n",
       "        vertical-align: top;\n",
       "    }\n",
       "\n",
       "    .dataframe thead th {\n",
       "        text-align: right;\n",
       "    }\n",
       "</style>\n",
       "<table border=\"1\" class=\"dataframe\">\n",
       "  <thead>\n",
       "    <tr style=\"text-align: right;\">\n",
       "      <th></th>\n",
       "      <th>mean</th>\n",
       "      <th>count</th>\n",
       "      <th>diff</th>\n",
       "      <th>success</th>\n",
       "    </tr>\n",
       "    <tr>\n",
       "      <th>poutcome</th>\n",
       "      <th></th>\n",
       "      <th></th>\n",
       "      <th></th>\n",
       "      <th></th>\n",
       "    </tr>\n",
       "  </thead>\n",
       "  <tbody>\n",
       "    <tr>\n",
       "      <th>failure</th>\n",
       "      <td>0.127005</td>\n",
       "      <td>2992</td>\n",
       "      <td>0.010005</td>\n",
       "      <td>1.085516</td>\n",
       "    </tr>\n",
       "    <tr>\n",
       "      <th>other</th>\n",
       "      <td>0.157473</td>\n",
       "      <td>1124</td>\n",
       "      <td>0.040473</td>\n",
       "      <td>1.345926</td>\n",
       "    </tr>\n",
       "    <tr>\n",
       "      <th>success</th>\n",
       "      <td>0.636663</td>\n",
       "      <td>911</td>\n",
       "      <td>0.519663</td>\n",
       "      <td>5.441564</td>\n",
       "    </tr>\n",
       "    <tr>\n",
       "      <th>unknown</th>\n",
       "      <td>0.092176</td>\n",
       "      <td>22099</td>\n",
       "      <td>-0.024824</td>\n",
       "      <td>0.787830</td>\n",
       "    </tr>\n",
       "  </tbody>\n",
       "</table>\n",
       "</div>"
      ],
      "text/plain": [
       "              mean  count      diff   success\n",
       "poutcome                                     \n",
       "failure   0.127005   2992  0.010005  1.085516\n",
       "other     0.157473   1124  0.040473  1.345926\n",
       "success   0.636663    911  0.519663  5.441564\n",
       "unknown   0.092176  22099 -0.024824  0.787830"
      ]
     },
     "metadata": {},
     "output_type": "display_data"
    },
    {
     "name": "stdout",
     "output_type": "stream",
     "text": [
      "\n",
      "\n"
     ]
    }
   ],
   "source": [
    "for c in cols_categorical:\n",
    "    print(c)\n",
    "    df_group = df_full_train.groupby(c).y.agg(['mean', 'count'])\n",
    "    df_group['diff'] = df_group['mean'] - global_success_rate\n",
    "    df_group['success'] = df_group['mean'] / global_success_rate\n",
    "    display(df_group)\n",
    "    print()\n",
    "    print()"
   ]
  },
  {
   "cell_type": "markdown",
   "id": "6143f5fb",
   "metadata": {},
   "source": [
    "### 6.6 EDA: Feature importance -  mutual information  (for categorical variables)"
   ]
  },
  {
   "cell_type": "code",
   "execution_count": 84,
   "id": "8bcd4bb2",
   "metadata": {},
   "outputs": [],
   "source": [
    "from sklearn.metrics import mutual_info_score"
   ]
  },
  {
   "cell_type": "code",
   "execution_count": 85,
   "id": "528b0309",
   "metadata": {},
   "outputs": [],
   "source": [
    "def mutual_info_success_score(series):\n",
    "    return mutual_info_score(series, df_full_train.y)"
   ]
  },
  {
   "cell_type": "code",
   "execution_count": 86,
   "id": "5fc1eba2",
   "metadata": {},
   "outputs": [
    {
     "data": {
      "text/plain": [
       "poutcome     0.028336\n",
       "contact      0.012758\n",
       "job          0.008243\n",
       "education    0.002622\n",
       "marital      0.001471\n",
       "dtype: float64"
      ]
     },
     "execution_count": 86,
     "metadata": {},
     "output_type": "execute_result"
    }
   ],
   "source": [
    "mutual_info = df_full_train[cols_categorical].apply(mutual_info_success_score)\n",
    "mutual_info.sort_values(ascending=False)"
   ]
  },
  {
   "cell_type": "code",
   "execution_count": 88,
   "id": "392db658",
   "metadata": {},
   "outputs": [
    {
     "data": {
      "text/plain": [
       "unknown    22099\n",
       "failure     2992\n",
       "other       1124\n",
       "success      911\n",
       "Name: poutcome, dtype: int64"
      ]
     },
     "execution_count": 88,
     "metadata": {},
     "output_type": "execute_result"
    }
   ],
   "source": [
    "df_train.poutcome.value_counts()"
   ]
  },
  {
   "cell_type": "markdown",
   "id": "4103ad76",
   "metadata": {},
   "source": [
    "Thus `poutcome` i.e. outcome of previous marketing campaign and `contact` are the most important variables."
   ]
  },
  {
   "cell_type": "markdown",
   "id": "e12c36e8",
   "metadata": {},
   "source": [
    "### 6.7 EDA: Correlation (for numerical variables)"
   ]
  },
  {
   "cell_type": "code",
   "execution_count": 90,
   "id": "310b8295",
   "metadata": {},
   "outputs": [
    {
     "data": {
      "text/html": [
       "<div>\n",
       "<style scoped>\n",
       "    .dataframe tbody tr th:only-of-type {\n",
       "        vertical-align: middle;\n",
       "    }\n",
       "\n",
       "    .dataframe tbody tr th {\n",
       "        vertical-align: top;\n",
       "    }\n",
       "\n",
       "    .dataframe thead th {\n",
       "        text-align: right;\n",
       "    }\n",
       "</style>\n",
       "<table border=\"1\" class=\"dataframe\">\n",
       "  <thead>\n",
       "    <tr style=\"text-align: right;\">\n",
       "      <th></th>\n",
       "      <th>age</th>\n",
       "      <th>default</th>\n",
       "      <th>balance</th>\n",
       "      <th>housing</th>\n",
       "      <th>loan</th>\n",
       "      <th>duration</th>\n",
       "      <th>campaign</th>\n",
       "      <th>pdays</th>\n",
       "      <th>previous</th>\n",
       "      <th>day_of_year</th>\n",
       "    </tr>\n",
       "  </thead>\n",
       "  <tbody>\n",
       "    <tr>\n",
       "      <th>age</th>\n",
       "      <td>1.000000</td>\n",
       "      <td>-0.014403</td>\n",
       "      <td>0.094194</td>\n",
       "      <td>-0.189895</td>\n",
       "      <td>-0.019851</td>\n",
       "      <td>-0.000036</td>\n",
       "      <td>0.006177</td>\n",
       "      <td>0.001471</td>\n",
       "      <td>-0.001786</td>\n",
       "      <td>0.084940</td>\n",
       "    </tr>\n",
       "    <tr>\n",
       "      <th>default</th>\n",
       "      <td>-0.014403</td>\n",
       "      <td>1.000000</td>\n",
       "      <td>-0.067350</td>\n",
       "      <td>-0.007710</td>\n",
       "      <td>0.079688</td>\n",
       "      <td>-0.003535</td>\n",
       "      <td>0.018655</td>\n",
       "      <td>0.038921</td>\n",
       "      <td>-0.016058</td>\n",
       "      <td>0.012004</td>\n",
       "    </tr>\n",
       "    <tr>\n",
       "      <th>balance</th>\n",
       "      <td>0.094194</td>\n",
       "      <td>-0.067350</td>\n",
       "      <td>1.000000</td>\n",
       "      <td>-0.069993</td>\n",
       "      <td>-0.086358</td>\n",
       "      <td>0.020785</td>\n",
       "      <td>-0.011062</td>\n",
       "      <td>-0.031318</td>\n",
       "      <td>0.013763</td>\n",
       "      <td>0.098433</td>\n",
       "    </tr>\n",
       "    <tr>\n",
       "      <th>housing</th>\n",
       "      <td>-0.189895</td>\n",
       "      <td>-0.007710</td>\n",
       "      <td>-0.069993</td>\n",
       "      <td>1.000000</td>\n",
       "      <td>0.038409</td>\n",
       "      <td>0.004651</td>\n",
       "      <td>-0.037091</td>\n",
       "      <td>-0.061461</td>\n",
       "      <td>0.036507</td>\n",
       "      <td>-0.180787</td>\n",
       "    </tr>\n",
       "    <tr>\n",
       "      <th>loan</th>\n",
       "      <td>-0.019851</td>\n",
       "      <td>0.079688</td>\n",
       "      <td>-0.086358</td>\n",
       "      <td>0.038409</td>\n",
       "      <td>1.000000</td>\n",
       "      <td>-0.014656</td>\n",
       "      <td>0.009209</td>\n",
       "      <td>0.031721</td>\n",
       "      <td>-0.012488</td>\n",
       "      <td>0.027736</td>\n",
       "    </tr>\n",
       "    <tr>\n",
       "      <th>duration</th>\n",
       "      <td>-0.000036</td>\n",
       "      <td>-0.003535</td>\n",
       "      <td>0.020785</td>\n",
       "      <td>0.004651</td>\n",
       "      <td>-0.014656</td>\n",
       "      <td>1.000000</td>\n",
       "      <td>-0.083102</td>\n",
       "      <td>0.000332</td>\n",
       "      <td>0.001283</td>\n",
       "      <td>-0.016470</td>\n",
       "    </tr>\n",
       "    <tr>\n",
       "      <th>campaign</th>\n",
       "      <td>0.006177</td>\n",
       "      <td>0.018655</td>\n",
       "      <td>-0.011062</td>\n",
       "      <td>-0.037091</td>\n",
       "      <td>0.009209</td>\n",
       "      <td>-0.083102</td>\n",
       "      <td>1.000000</td>\n",
       "      <td>0.110019</td>\n",
       "      <td>-0.034076</td>\n",
       "      <td>0.071874</td>\n",
       "    </tr>\n",
       "    <tr>\n",
       "      <th>pdays</th>\n",
       "      <td>0.001471</td>\n",
       "      <td>0.038921</td>\n",
       "      <td>-0.031318</td>\n",
       "      <td>-0.061461</td>\n",
       "      <td>0.031721</td>\n",
       "      <td>0.000332</td>\n",
       "      <td>0.110019</td>\n",
       "      <td>1.000000</td>\n",
       "      <td>-0.492393</td>\n",
       "      <td>0.057448</td>\n",
       "    </tr>\n",
       "    <tr>\n",
       "      <th>previous</th>\n",
       "      <td>-0.001786</td>\n",
       "      <td>-0.016058</td>\n",
       "      <td>0.013763</td>\n",
       "      <td>0.036507</td>\n",
       "      <td>-0.012488</td>\n",
       "      <td>0.001283</td>\n",
       "      <td>-0.034076</td>\n",
       "      <td>-0.492393</td>\n",
       "      <td>1.000000</td>\n",
       "      <td>-0.034443</td>\n",
       "    </tr>\n",
       "    <tr>\n",
       "      <th>day_of_year</th>\n",
       "      <td>0.084940</td>\n",
       "      <td>0.012004</td>\n",
       "      <td>0.098433</td>\n",
       "      <td>-0.180787</td>\n",
       "      <td>0.027736</td>\n",
       "      <td>-0.016470</td>\n",
       "      <td>0.071874</td>\n",
       "      <td>0.057448</td>\n",
       "      <td>-0.034443</td>\n",
       "      <td>1.000000</td>\n",
       "    </tr>\n",
       "  </tbody>\n",
       "</table>\n",
       "</div>"
      ],
      "text/plain": [
       "                  age   default   balance   housing      loan  duration  \\\n",
       "age          1.000000 -0.014403  0.094194 -0.189895 -0.019851 -0.000036   \n",
       "default     -0.014403  1.000000 -0.067350 -0.007710  0.079688 -0.003535   \n",
       "balance      0.094194 -0.067350  1.000000 -0.069993 -0.086358  0.020785   \n",
       "housing     -0.189895 -0.007710 -0.069993  1.000000  0.038409  0.004651   \n",
       "loan        -0.019851  0.079688 -0.086358  0.038409  1.000000 -0.014656   \n",
       "duration    -0.000036 -0.003535  0.020785  0.004651 -0.014656  1.000000   \n",
       "campaign     0.006177  0.018655 -0.011062 -0.037091  0.009209 -0.083102   \n",
       "pdays        0.001471  0.038921 -0.031318 -0.061461  0.031721  0.000332   \n",
       "previous    -0.001786 -0.016058  0.013763  0.036507 -0.012488  0.001283   \n",
       "day_of_year  0.084940  0.012004  0.098433 -0.180787  0.027736 -0.016470   \n",
       "\n",
       "             campaign     pdays  previous  day_of_year  \n",
       "age          0.006177  0.001471 -0.001786     0.084940  \n",
       "default      0.018655  0.038921 -0.016058     0.012004  \n",
       "balance     -0.011062 -0.031318  0.013763     0.098433  \n",
       "housing     -0.037091 -0.061461  0.036507    -0.180787  \n",
       "loan         0.009209  0.031721 -0.012488     0.027736  \n",
       "duration    -0.083102  0.000332  0.001283    -0.016470  \n",
       "campaign     1.000000  0.110019 -0.034076     0.071874  \n",
       "pdays        0.110019  1.000000 -0.492393     0.057448  \n",
       "previous    -0.034076 -0.492393  1.000000    -0.034443  \n",
       "day_of_year  0.071874  0.057448 -0.034443     1.000000  "
      ]
     },
     "execution_count": 90,
     "metadata": {},
     "output_type": "execute_result"
    }
   ],
   "source": [
    "corrM = df_train.corr()\n",
    "corrM"
   ]
  },
  {
   "cell_type": "code",
   "execution_count": 92,
   "id": "c6763f29",
   "metadata": {},
   "outputs": [
    {
     "data": {
      "image/png": "[encoded data removed]",
      "text/plain": [
       "<Figure size 1400x700 with 2 Axes>"
      ]
     },
     "metadata": {},
     "output_type": "display_data"
    }
   ],
   "source": [
    "plt.figure(figsize=(14,7))\n",
    "mask = np.zeros_like(corrM, dtype=bool)\n",
    "mask[np.triu_indices_from(mask)] = True\n",
    "corrM[mask] = np.nan\n",
    "sns.heatmap(corrM, annot=True)\n",
    "plt.show()"
   ]
  },
  {
   "cell_type": "markdown",
   "id": "5042dfcf",
   "metadata": {},
   "source": [
    "- `previous` and `pdays` has the strongest correlation of `-0.49`. <br>\n",
    "\n",
    "- `housing` and `age` has `-0.19` <br>\n",
    "\n",
    "- `housing` and `day_of_year` has correlation coefficient of `-0.18`"
   ]
  },
  {
   "cell_type": "markdown",
   "id": "58bde770",
   "metadata": {},
   "source": [
    "## 7. Training"
   ]
  },
  {
   "cell_type": "markdown",
   "id": "0b2a08f3",
   "metadata": {},
   "source": [
    "### 7.1 One hot encoding"
   ]
  },
  {
   "cell_type": "code",
   "execution_count": 101,
   "id": "a95a7bc9",
   "metadata": {},
   "outputs": [],
   "source": [
    "from sklearn.feature_extraction import DictVectorizer\n",
    "from sklearn.linear_model import LogisticRegression"
   ]
  },
  {
   "cell_type": "code",
   "execution_count": 102,
   "id": "8acfdd84",
   "metadata": {},
   "outputs": [],
   "source": [
    "train_dicts = df_train.to_dict(orient = 'records') #let's turn it into a dict\n",
    "dv = DictVectorizer(sparse = False)\n",
    "X_train = dv.fit_transform(train_dicts) #Onehot encoding done here"
   ]
  },
  {
   "cell_type": "code",
   "execution_count": 103,
   "id": "d7b5570e",
   "metadata": {},
   "outputs": [
    {
     "data": {
      "text/plain": [
       "(27126, 36)"
      ]
     },
     "execution_count": 103,
     "metadata": {},
     "output_type": "execute_result"
    }
   ],
   "source": [
    "X_train.shape"
   ]
  },
  {
   "cell_type": "code",
   "execution_count": 104,
   "id": "8c944349",
   "metadata": {},
   "outputs": [
    {
     "data": {
      "text/plain": [
       "(27126, 15)"
      ]
     },
     "execution_count": 104,
     "metadata": {},
     "output_type": "execute_result"
    }
   ],
   "source": [
    "df_train.shape"
   ]
  },
  {
   "cell_type": "code",
   "execution_count": 105,
   "id": "f90f3255",
   "metadata": {},
   "outputs": [
    {
     "data": {
      "text/plain": [
       "numpy.ndarray"
      ]
     },
     "execution_count": 105,
     "metadata": {},
     "output_type": "execute_result"
    }
   ],
   "source": [
    "type(X_train)"
   ]
  },
  {
   "cell_type": "code",
   "execution_count": 106,
   "id": "d830e92b",
   "metadata": {},
   "outputs": [
    {
     "data": {
      "text/plain": [
       "numpy.ndarray"
      ]
     },
     "execution_count": 106,
     "metadata": {},
     "output_type": "execute_result"
    }
   ],
   "source": [
    "type(y_train)"
   ]
  },
  {
   "cell_type": "markdown",
   "id": "ac2f53bd",
   "metadata": {},
   "source": [
    "### 7.2 training first model: logistic regression"
   ]
  },
  {
   "cell_type": "code",
   "execution_count": 107,
   "id": "51ef3a1b",
   "metadata": {},
   "outputs": [
    {
     "data": {
      "text/html": [
       "<style>#sk-container-id-3 {color: black;background-color: white;}#sk-container-id-3 pre{padding: 0;}#sk-container-id-3 div.sk-toggleable {background-color: white;}#sk-container-id-3 label.sk-toggleable__label {cursor: pointer;display: block;width: 100%;margin-bottom: 0;padding: 0.3em;box-sizing: border-box;text-align: center;}#sk-container-id-3 label.sk-toggleable__label-arrow:before {content: \"▸\";float: left;margin-right: 0.25em;color: #696969;}#sk-container-id-3 label.sk-toggleable__label-arrow:hover:before {color: black;}#sk-container-id-3 div.sk-estimator:hover label.sk-toggleable__label-arrow:before {color: black;}#sk-container-id-3 div.sk-toggleable__content {max-height: 0;max-width: 0;overflow: hidden;text-align: left;background-color: #f0f8ff;}#sk-container-id-3 div.sk-toggleable__content pre {margin: 0.2em;color: black;border-radius: 0.25em;background-color: #f0f8ff;}#sk-container-id-3 input.sk-toggleable__control:checked~div.sk-toggleable__content {max-height: 200px;max-width: 100%;overflow: auto;}#sk-container-id-3 input.sk-toggleable__control:checked~label.sk-toggleable__label-arrow:before {content: \"▾\";}#sk-container-id-3 div.sk-estimator input.sk-toggleable__control:checked~label.sk-toggleable__label {background-color: #d4ebff;}#sk-container-id-3 div.sk-label input.sk-toggleable__control:checked~label.sk-toggleable__label {background-color: #d4ebff;}#sk-container-id-3 input.sk-hidden--visually {border: 0;clip: rect(1px 1px 1px 1px);clip: rect(1px, 1px, 1px, 1px);height: 1px;margin: -1px;overflow: hidden;padding: 0;position: absolute;width: 1px;}#sk-container-id-3 div.sk-estimator {font-family: monospace;background-color: #f0f8ff;border: 1px dotted black;border-radius: 0.25em;box-sizing: border-box;margin-bottom: 0.5em;}#sk-container-id-3 div.sk-estimator:hover {background-color: #d4ebff;}#sk-container-id-3 div.sk-parallel-item::after {content: \"\";width: 100%;border-bottom: 1px solid gray;flex-grow: 1;}#sk-container-id-3 div.sk-label:hover label.sk-toggleable__label {background-color: #d4ebff;}#sk-container-id-3 div.sk-serial::before {content: \"\";position: absolute;border-left: 1px solid gray;box-sizing: border-box;top: 0;bottom: 0;left: 50%;z-index: 0;}#sk-container-id-3 div.sk-serial {display: flex;flex-direction: column;align-items: center;background-color: white;padding-right: 0.2em;padding-left: 0.2em;position: relative;}#sk-container-id-3 div.sk-item {position: relative;z-index: 1;}#sk-container-id-3 div.sk-parallel {display: flex;align-items: stretch;justify-content: center;background-color: white;position: relative;}#sk-container-id-3 div.sk-item::before, #sk-container-id-3 div.sk-parallel-item::before {content: \"\";position: absolute;border-left: 1px solid gray;box-sizing: border-box;top: 0;bottom: 0;left: 50%;z-index: -1;}#sk-container-id-3 div.sk-parallel-item {display: flex;flex-direction: column;z-index: 1;position: relative;background-color: white;}#sk-container-id-3 div.sk-parallel-item:first-child::after {align-self: flex-end;width: 50%;}#sk-container-id-3 div.sk-parallel-item:last-child::after {align-self: flex-start;width: 50%;}#sk-container-id-3 div.sk-parallel-item:only-child::after {width: 0;}#sk-container-id-3 div.sk-dashed-wrapped {border: 1px dashed gray;margin: 0 0.4em 0.5em 0.4em;box-sizing: border-box;padding-bottom: 0.4em;background-color: white;}#sk-container-id-3 div.sk-label label {font-family: monospace;font-weight: bold;display: inline-block;line-height: 1.2em;}#sk-container-id-3 div.sk-label-container {text-align: center;}#sk-container-id-3 div.sk-container {/* jupyter's `normalize.less` sets `[hidden] { display: none; }` but bootstrap.min.css set `[hidden] { display: none !important; }` so we also need the `!important` here to be able to override the default hidden behavior on the sphinx rendered scikit-learn.org. See: https://github.com/scikit-learn/scikit-learn/issues/21755 */display: inline-block !important;position: relative;}#sk-container-id-3 div.sk-text-repr-fallback {display: none;}</style><div id=\"sk-container-id-3\" class=\"sk-top-container\"><div class=\"sk-text-repr-fallback\"><pre>LogisticRegression(max_iter=1000, random_state=42, solver=&#x27;liblinear&#x27;)</pre><b>In a Jupyter environment, please rerun this cell to show the HTML representation or trust the notebook. <br />On GitHub, the HTML representation is unable to render, please try loading this page with nbviewer.org.</b></div><div class=\"sk-container\" hidden><div class=\"sk-item\"><div class=\"sk-estimator sk-toggleable\"><input class=\"sk-toggleable__control sk-hidden--visually\" id=\"sk-estimator-id-3\" type=\"checkbox\" checked><label for=\"sk-estimator-id-3\" class=\"sk-toggleable__label sk-toggleable__label-arrow\">LogisticRegression</label><div class=\"sk-toggleable__content\"><pre>LogisticRegression(max_iter=1000, random_state=42, solver=&#x27;liblinear&#x27;)</pre></div></div></div></div></div>"
      ],
      "text/plain": [
       "LogisticRegression(max_iter=1000, random_state=42, solver='liblinear')"
      ]
     },
     "execution_count": 107,
     "metadata": {},
     "output_type": "execute_result"
    }
   ],
   "source": [
    "model = LogisticRegression(solver=\"liblinear\", C=1.0, max_iter=1000, random_state=42)\n",
    "model.fit(X_train, y_train)"
   ]
  },
  {
   "cell_type": "code",
   "execution_count": 110,
   "id": "d727f9e7",
   "metadata": {},
   "outputs": [],
   "source": [
    "val_dicts = df_val.to_dict(orient='records')\n",
    "X_val = dv.transform(val_dicts)"
   ]
  },
  {
   "cell_type": "code",
   "execution_count": 111,
   "id": "39bf1c9d",
   "metadata": {},
   "outputs": [
    {
     "data": {
      "text/plain": [
       "array([0.09209974, 0.09209974, 0.09209974, ..., 0.09209974, 0.09209974,\n",
       "       0.09209974])"
      ]
     },
     "execution_count": 111,
     "metadata": {},
     "output_type": "execute_result"
    }
   ],
   "source": [
    "y_pred_prob = model.predict_proba(X_val)[:,1]\n",
    "y_pred_prob"
   ]
  },
  {
   "cell_type": "code",
   "execution_count": 113,
   "id": "885b25aa",
   "metadata": {},
   "outputs": [
    {
     "data": {
      "text/plain": [
       "array([0, 0, 0, ..., 0, 0, 0])"
      ]
     },
     "execution_count": 113,
     "metadata": {},
     "output_type": "execute_result"
    }
   ],
   "source": [
    "y_predict_binary = (y_pred >= 0.5).astype(int)\n",
    "y_predict_binary"
   ]
  },
  {
   "cell_type": "code",
   "execution_count": 114,
   "id": "7649c042",
   "metadata": {},
   "outputs": [
    {
     "data": {
      "text/plain": [
       "array([0, 0, 0, ..., 0, 0, 0])"
      ]
     },
     "execution_count": 114,
     "metadata": {},
     "output_type": "execute_result"
    }
   ],
   "source": [
    "y_pred_binary"
   ]
  },
  {
   "cell_type": "code",
   "execution_count": 115,
   "id": "a6f0a5c3",
   "metadata": {},
   "outputs": [
    {
     "data": {
      "text/plain": [
       "array([0, 1, 0, ..., 0, 0, 0])"
      ]
     },
     "execution_count": 115,
     "metadata": {},
     "output_type": "execute_result"
    }
   ],
   "source": [
    "y_val"
   ]
  },
  {
   "cell_type": "code",
   "execution_count": 116,
   "id": "f8ac86c5",
   "metadata": {},
   "outputs": [
    {
     "data": {
      "text/plain": [
       "0.882"
      ]
     },
     "execution_count": 116,
     "metadata": {},
     "output_type": "execute_result"
    }
   ],
   "source": [
    "accuracy = (y_pred_binary == y_val).mean()\n",
    "round(accuracy,3)"
   ]
  },
  {
   "cell_type": "markdown",
   "id": "35309536",
   "metadata": {},
   "source": [
    "Thus our model has 88% accuracy."
   ]
  },
  {
   "cell_type": "markdown",
   "id": "d25a2a82",
   "metadata": {},
   "source": [
    "### 7.3 parameter tuning for logistic regression "
   ]
  },
  {
   "cell_type": "markdown",
   "id": "9c806678",
   "metadata": {},
   "source": [
    "#### 7.3.1 tuning threshold"
   ]
  },
  {
   "cell_type": "code",
   "execution_count": null,
   "id": "b5327082",
   "metadata": {},
   "outputs": [],
   "source": []
  },
  {
   "cell_type": "markdown",
   "id": "19b9c534",
   "metadata": {},
   "source": [
    "## 8. save the best model"
   ]
  },
  {
   "cell_type": "code",
   "execution_count": 81,
   "id": "fe40fa39",
   "metadata": {},
   "outputs": [],
   "source": [
    "import pickle"
   ]
  },
  {
   "cell_type": "code",
   "execution_count": 82,
   "id": "ca578ec9",
   "metadata": {},
   "outputs": [
    {
     "data": {
      "text/plain": [
       "'model.bin'"
      ]
     },
     "execution_count": 82,
     "metadata": {},
     "output_type": "execute_result"
    }
   ],
   "source": [
    "output_file = 'model.bin' #a nicer way of writing the previous line using f-strings\n",
    "output_file"
   ]
  },
  {
   "cell_type": "code",
   "execution_count": 83,
   "id": "474e8803",
   "metadata": {},
   "outputs": [],
   "source": [
    "with open(output_file,'wb') as f_out:\n",
    "    pickle.dump((dv, model), f_out)"
   ]
  },
  {
   "cell_type": "markdown",
   "id": "3cf58ff6",
   "metadata": {},
   "source": [
    "**to do:**\n",
    "- [ ] Missing values:\n",
    "- [ ] EDA:\n",
    "- [ ] logistic regression: vary regularization parameter C in the model \n",
    "- [ ] logistic regression: vary threshold in the model\n",
    "- [ ] logistic regression: try with k-fold cross validation\n",
    "- [ ] logistic regression: try with different models\n",
    "- [ ] logistic regression: look at auc score with auc=roc_auc_score(y_test,y_pred)\n",
    "- [ ] Decision Trees:\n",
    "- [ ] Random forest:\n",
    "- [ ] XGboost:\n",
    "- [ ] Select the best model\n",
    "- [ ] save the best model\n",
    "- [ ] load the best model"
   ]
  },
  {
   "cell_type": "code",
   "execution_count": null,
   "id": "632e8d7b",
   "metadata": {},
   "outputs": [],
   "source": []
  }
 ],
 "metadata": {
  "kernelspec": {
   "display_name": "Python 3",
   "language": "python",
   "name": "python3"
  },
  "language_info": {
   "codemirror_mode": {
    "name": "ipython",
    "version": 3
   },
   "file_extension": ".py",
   "mimetype": "text/x-python",
   "name": "python",
   "nbconvert_exporter": "python",
   "pygments_lexer": "ipython3",
   "version": "3.9.13"
  }
 },
 "nbformat": 4,
 "nbformat_minor": 5
}
