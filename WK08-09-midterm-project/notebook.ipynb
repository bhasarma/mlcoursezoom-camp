{
 "cells": [
  {
   "cell_type": "markdown",
   "id": "21fded54",
   "metadata": {},
   "source": [
    "# 1. Getting the data"
   ]
  },
  {
   "cell_type": "markdown",
   "id": "f02b3e9e",
   "metadata": {},
   "source": [
    "- link to dataset: [https://www.kaggle.com/datasets/aslanahmedov/predict-term-deposit](https://www.kaggle.com/datasets/aslanahmedov/predict-term-deposit)"
   ]
  },
  {
   "cell_type": "code",
   "execution_count": 1,
   "id": "98143350",
   "metadata": {},
   "outputs": [],
   "source": [
    "data = 'https://www.kaggle.com/datasets/aslanahmedov/predict-term-deposit/download?datasetVersionNumber=1'"
   ]
  },
  {
   "cell_type": "code",
   "execution_count": 3,
   "id": "d64d6f22",
   "metadata": {},
   "outputs": [
    {
     "name": "stdout",
     "output_type": "stream",
     "text": [
      "--2022-10-27 18:19:42--  https://www.kaggle.com/datasets/aslanahmedov/predict-term-deposit/download?datasetVersionNumber=1\n",
      "Resolving www.kaggle.com (www.kaggle.com)... 35.244.233.98\n",
      "Connecting to www.kaggle.com (www.kaggle.com)|35.244.233.98|:443... connected.\n",
      "HTTP request sent, awaiting response... 302 Found\n",
      "Location: /account/login?titleType=dataset-downloads&showDatasetDownloadSkip=False&messageId=datasetsWelcome&returnUrl=%2Fdatasets%2Faslanahmedov%2Fpredict-term-deposit%2Fversions%2F1%3Fresource%3Ddownload [following]\n",
      "--2022-10-27 18:19:42--  https://www.kaggle.com/account/login?titleType=dataset-downloads&showDatasetDownloadSkip=False&messageId=datasetsWelcome&returnUrl=%2Fdatasets%2Faslanahmedov%2Fpredict-term-deposit%2Fversions%2F1%3Fresource%3Ddownload\n",
      "Reusing existing connection to www.kaggle.com:443.\n",
      "HTTP request sent, awaiting response... 200 OK\n",
      "Length: unspecified [text/html]\n",
      "Saving to: ‘download?datasetVersionNumber=1’\n",
      "\n",
      "download?datasetVer     [ <=>                ]   6.48K  --.-KB/s    in 0s      \n",
      "\n",
      "2022-10-27 18:19:42 (14.0 MB/s) - ‘download?datasetVersionNumber=1’ saved [6637]\n",
      "\n"
     ]
    }
   ],
   "source": [
    "!wget $data"
   ]
  },
  {
   "cell_type": "code",
   "execution_count": null,
   "id": "ae3e2dea",
   "metadata": {},
   "outputs": [],
   "source": []
  }
 ],
 "metadata": {
  "kernelspec": {
   "display_name": "Python 3",
   "language": "python",
   "name": "python3"
  },
  "language_info": {
   "codemirror_mode": {
    "name": "ipython",
    "version": 3
   },
   "file_extension": ".py",
   "mimetype": "text/x-python",
   "name": "python",
   "nbconvert_exporter": "python",
   "pygments_lexer": "ipython3",
   "version": "3.9.13"
  }
 },
 "nbformat": 4,
 "nbformat_minor": 5
}
