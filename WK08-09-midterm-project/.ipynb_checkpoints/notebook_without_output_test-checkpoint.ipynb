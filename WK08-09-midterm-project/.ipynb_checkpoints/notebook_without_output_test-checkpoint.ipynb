{
 "cells": [
  {
   "cell_type": "code",
   "execution_count": 1,
   "id": "2516caba",
   "metadata": {},
   "outputs": [],
   "source": [
    "import pickle\n",
    "\n",
    "import pandas as pd\n",
    "import numpy as np\n",
    "\n",
    "import matplotlib.pyplot as plt\n",
    "import seaborn as sns\n",
    "\n",
    "from sklearn.model_selection import train_test_split\n",
    "from sklearn.feature_extraction import DictVectorizer\n",
    "import xgboost as xgb\n",
    "from sklearn.metrics import roc_auc_score"
   ]
  },
  {
   "cell_type": "code",
   "execution_count": 2,
   "id": "d075e3b7",
   "metadata": {},
   "outputs": [],
   "source": [
    "df = pd.read_csv('predict-term-deposit-data.csv')"
   ]
  },
  {
   "cell_type": "code",
   "execution_count": 3,
   "id": "ba13ae74",
   "metadata": {},
   "outputs": [
    {
     "data": {
      "text/plain": [
       "Id                  1101\n",
       "age                 44.0\n",
       "job          blue-collar\n",
       "marital          married\n",
       "education      secondary\n",
       "default               no\n",
       "balance           -674.0\n",
       "housing              yes\n",
       "loan                  no\n",
       "contact          unknown\n",
       "day                    5\n",
       "month                may\n",
       "duration             257\n",
       "campaign               1\n",
       "pdays                 -1\n",
       "previous               0\n",
       "poutcome         unknown\n",
       "y                     no\n",
       "Name: 100, dtype: object"
      ]
     },
     "execution_count": 3,
     "metadata": {},
     "output_type": "execute_result"
    }
   ],
   "source": [
    "df.iloc[100]"
   ]
  },
  {
   "cell_type": "code",
   "execution_count": 4,
   "id": "f64cbc1b",
   "metadata": {},
   "outputs": [],
   "source": [
    "df.columns = df.columns.str.lower()"
   ]
  },
  {
   "cell_type": "markdown",
   "id": "1fd34f7f",
   "metadata": {},
   "source": [
    "### converting `day` and `month` into `day_of_year`"
   ]
  },
  {
   "cell_type": "code",
   "execution_count": 5,
   "id": "e33c3c34",
   "metadata": {},
   "outputs": [],
   "source": [
    "df['day'] = df['day'].map(str)"
   ]
  },
  {
   "cell_type": "code",
   "execution_count": 6,
   "id": "9c3d6315",
   "metadata": {},
   "outputs": [],
   "source": [
    "month_mapping = {\n",
    "    'jan': '1',\n",
    "    'feb': '2',\n",
    "    'mar': '3',\n",
    "    'apr': '4',\n",
    "    'may': '5',\n",
    "    'jun': '6',\n",
    "    'jul': '7', \n",
    "    'aug': '8', \n",
    "    'sep': '9',\n",
    "    'oct': '10', \n",
    "    'nov': '11', \n",
    "    'dec': '12' \n",
    "}\n",
    "df['month'] = df['month'].map(month_mapping)"
   ]
  },
  {
   "cell_type": "code",
   "execution_count": 7,
   "id": "41157889",
   "metadata": {},
   "outputs": [],
   "source": [
    "df['date_formatted'] = pd.to_datetime(\n",
    "    dict(         \n",
    "        year='2055',\n",
    "        month=df['month'], \n",
    "        day=df['day']\n",
    "    )\n",
    ")"
   ]
  },
  {
   "cell_type": "code",
   "execution_count": 8,
   "id": "fceeb934",
   "metadata": {},
   "outputs": [],
   "source": [
    "df['day_of_year']=df['date_formatted'].dt.dayofyear"
   ]
  },
  {
   "cell_type": "code",
   "execution_count": 9,
   "id": "e8d0d01a",
   "metadata": {},
   "outputs": [],
   "source": [
    "df = df.drop(columns = ['id','day','month','date_formatted'])"
   ]
  },
  {
   "cell_type": "markdown",
   "id": "fb3eb638",
   "metadata": {},
   "source": [
    "### Converting 'yes - no' columns into 1-0 columns"
   ]
  },
  {
   "cell_type": "code",
   "execution_count": 10,
   "id": "42a9f47c",
   "metadata": {},
   "outputs": [],
   "source": [
    "df.default = (df.default == 'yes').astype(int)\n",
    "df.housing = (df.housing == 'yes').astype(int)\n",
    "df.loan = (df.loan == 'yes').astype(int)\n",
    "df.y = (df.y == 'yes').astype(int)"
   ]
  },
  {
   "cell_type": "markdown",
   "id": "83c752dc",
   "metadata": {},
   "source": [
    "## 6. Splitting full dataset into train, validation and test datasets"
   ]
  },
  {
   "cell_type": "code",
   "execution_count": 11,
   "id": "177a51a0",
   "metadata": {},
   "outputs": [],
   "source": [
    "df_full_train, df_test = train_test_split(df, test_size = 0.2, random_state = 11)"
   ]
  },
  {
   "cell_type": "code",
   "execution_count": 12,
   "id": "783bfc05",
   "metadata": {},
   "outputs": [],
   "source": [
    "df_full_train = df_full_train.reset_index(drop = True)\n",
    "df_test = df_test.reset_index(drop = True)"
   ]
  },
  {
   "cell_type": "code",
   "execution_count": 13,
   "id": "ae805b4f",
   "metadata": {},
   "outputs": [],
   "source": [
    "y_full_train = df_full_train.y.values\n",
    "y_test = df_test.y.values"
   ]
  },
  {
   "cell_type": "code",
   "execution_count": 14,
   "id": "beee536a",
   "metadata": {},
   "outputs": [],
   "source": [
    "del df_full_train['y']\n",
    "del df_test['y']"
   ]
  },
  {
   "cell_type": "markdown",
   "id": "9501c77a",
   "metadata": {},
   "source": [
    "### Dealing with -1 values in `pdays`"
   ]
  },
  {
   "cell_type": "code",
   "execution_count": 15,
   "id": "11151d83",
   "metadata": {},
   "outputs": [],
   "source": [
    "df_test['pdays'] = df_test['pdays'].replace([-1], 999999999)\n",
    "df_full_train['pdays'] = df_full_train['pdays'].replace([-1], 999999999)"
   ]
  },
  {
   "cell_type": "code",
   "execution_count": 16,
   "id": "e7874170",
   "metadata": {},
   "outputs": [],
   "source": [
    "df_full_train['age'] = df_full_train['age'].replace([-1, 999], df_full_train['age'].mode()[0])\n",
    "df_test['age'] = df_test['age'].replace([-1, 999], df_test['age'].mode()[0])"
   ]
  },
  {
   "cell_type": "markdown",
   "id": "bf6c3a70",
   "metadata": {},
   "source": [
    "### Dealing with Missing Values"
   ]
  },
  {
   "cell_type": "code",
   "execution_count": 17,
   "id": "3994362d",
   "metadata": {},
   "outputs": [],
   "source": [
    "df_full_train['age'] = df_full_train['age'].fillna(df_full_train['age'].mode()[0])\n",
    "df_test['age'] = df_test['age'].fillna(df_test['age'].mode()[0])\n",
    "\n",
    "df_full_train['balance'] = df_full_train['balance'].fillna(df_full_train['balance'].mode()[0])\n",
    "df_test['balance'] = df_test['balance'].fillna(df_test['balance'].mode()[0])"
   ]
  },
  {
   "cell_type": "code",
   "execution_count": 18,
   "id": "91f5e5b6",
   "metadata": {},
   "outputs": [],
   "source": [
    "cols_numerical = list(df_full_train.select_dtypes(include='number').columns)\n",
    "cols_categorical = list(df_full_train.select_dtypes(exclude='number').columns)"
   ]
  },
  {
   "cell_type": "markdown",
   "id": "58bde770",
   "metadata": {},
   "source": [
    "## 7. Training"
   ]
  },
  {
   "cell_type": "markdown",
   "id": "0b2a08f3",
   "metadata": {},
   "source": [
    "### 7.1 One hot encoding"
   ]
  },
  {
   "cell_type": "markdown",
   "id": "c6186d4f",
   "metadata": {},
   "source": [
    "## 10. Gradient boosting with XGBoost "
   ]
  },
  {
   "cell_type": "code",
   "execution_count": 19,
   "id": "077e75f2",
   "metadata": {},
   "outputs": [
    {
     "name": "stderr",
     "output_type": "stream",
     "text": [
      "/home/bsarma/anaconda3/envs/ml-zoomcamp/lib/python3.9/site-packages/sklearn/utils/deprecation.py:87: FutureWarning: Function get_feature_names is deprecated; get_feature_names is deprecated in 1.0 and will be removed in 1.2. Please use get_feature_names_out instead.\n",
      "  warnings.warn(msg, category=FutureWarning)\n"
     ]
    }
   ],
   "source": [
    "dv = DictVectorizer(sparse = False)\n",
    "\n",
    "full_train_dict = df_full_train.to_dict(orient='records')\n",
    "test_dict = df_test.to_dict(orient='records')\n",
    "\n",
    "\n",
    "X_full_train = dv.fit_transform(full_train_dict)\n",
    "X_test = dv.transform(test_dict)\n",
    "\n",
    "features = dv.get_feature_names()\n",
    "dfulltrain = xgb.DMatrix(X_full_train, label=y_full_train, feature_names=features)\n",
    "dtest = xgb.DMatrix(X_test, feature_names=features)"
   ]
  },
  {
   "cell_type": "code",
   "execution_count": 20,
   "id": "00dc033b",
   "metadata": {},
   "outputs": [
    {
     "name": "stdout",
     "output_type": "stream",
     "text": [
      "Result of Final Gradient Boosting Model:\n",
      "ROC AUC score: 0.941\n"
     ]
    }
   ],
   "source": [
    "xgb_params = {\n",
    "    'eta': 0.1,    \n",
    "    'max_depth': 6,\n",
    "    'min_child_weight': 10,\n",
    "    \n",
    "    'objective': 'binary:logistic',\n",
    "    'eval_metric': 'auc',\n",
    "\n",
    "    #'nthread': 8,\n",
    "    'seed': 1,\n",
    "    'verbosity': 1,\n",
    "}\n",
    "\n",
    "model = xgb.train(xgb_params, dfulltrain, num_boost_round=190)\n",
    "y_pred = model.predict(dtest)\n",
    "print('Result of Final Gradient Boosting Model:')\n",
    "print(f'ROC AUC score: {roc_auc_score(y_test, y_pred).round(3)}')"
   ]
  },
  {
   "cell_type": "code",
   "execution_count": 34,
   "id": "474e8803",
   "metadata": {},
   "outputs": [],
   "source": [
    "output_file = 'model.bin'\n",
    "with open(output_file,'wb') as f_out: \n",
    "    pickle.dump((dv, model), f_out)"
   ]
  },
  {
   "cell_type": "markdown",
   "id": "3eb1f061",
   "metadata": {},
   "source": [
    "Load the model\n",
    "\n",
    "Important:\n",
    "- go to `Kernel` and click on `Restart` to start a new kernel\n",
    "- Then run the below cells"
   ]
  },
  {
   "cell_type": "code",
   "execution_count": 1,
   "id": "6ba6fa94",
   "metadata": {},
   "outputs": [],
   "source": [
    "import pickle\n",
    "import xgboost as xgb\n",
    "from sklearn.feature_extraction import DictVectorizer\n",
    "\n",
    "\n",
    "import pandas as pd\n",
    "import numpy as np\n",
    "\n",
    "\n",
    "from sklearn.model_selection import train_test_split\n",
    "from sklearn.feature_extraction import DictVectorizer\n",
    "import xgboost as xgb\n",
    "from sklearn.metrics import roc_auc_score"
   ]
  },
  {
   "cell_type": "code",
   "execution_count": 2,
   "id": "a5e7543b",
   "metadata": {},
   "outputs": [],
   "source": [
    "model_file = 'model.bin'"
   ]
  },
  {
   "cell_type": "code",
   "execution_count": 3,
   "id": "1c3fc395",
   "metadata": {},
   "outputs": [],
   "source": [
    "with open(model_file, 'rb') as f_in:\n",
    "    dv, model = pickle.load(f_in)"
   ]
  },
  {
   "cell_type": "code",
   "execution_count": 4,
   "id": "e7a10bde",
   "metadata": {},
   "outputs": [
    {
     "data": {
      "text/plain": [
       "(DictVectorizer(sparse=False), <xgboost.core.Booster at 0x7efecb7b1ee0>)"
      ]
     },
     "execution_count": 4,
     "metadata": {},
     "output_type": "execute_result"
    }
   ],
   "source": [
    "dv, model"
   ]
  },
  {
   "cell_type": "code",
   "execution_count": 5,
   "id": "efe8c796",
   "metadata": {},
   "outputs": [],
   "source": [
    "customer = {\n",
    "\t'age': 44.0,\n",
    "\t'job': 'blue-collar',\n",
    "\t'marital': 'married',\n",
    "\t'education': 'secondary',\n",
    "\t'default': 'no',\n",
    "\t'balance': -674.0,\n",
    "\t'housing': 'yes',\n",
    "\t'loan': 'no',\n",
    "\t'contact': 'unknown',\n",
    "\t'day': 5,\n",
    "\t'month': 'may',\n",
    "\t'duration': 257,\n",
    "\t'campaign': 1,\n",
    "\t'pdays': -1,\n",
    "\t'previous': 0,\n",
    "\t'poutcome': 'unknown',\n",
    "}"
   ]
  },
  {
   "cell_type": "code",
   "execution_count": 6,
   "id": "7cff23fa",
   "metadata": {},
   "outputs": [
    {
     "data": {
      "text/plain": [
       "array([[  44., -674.,    1.,    0.,    0.,    1.,    0.,    0.,  257.,\n",
       "           0.,    1.,    0.,    0.,    0.,    0.,    1.,    0.,    0.,\n",
       "           0.,    0.,    0.,    0.,    0.,    0.,    0.,    0.,    0.,\n",
       "           0.,    1.,    0.,   -1.,    0.,    0.,    0.,    1.,    0.]])"
      ]
     },
     "execution_count": 6,
     "metadata": {},
     "output_type": "execute_result"
    }
   ],
   "source": [
    "X = dv.transform([customer])\n",
    "X"
   ]
  },
  {
   "cell_type": "code",
   "execution_count": 7,
   "id": "c0102db6",
   "metadata": {},
   "outputs": [
    {
     "name": "stderr",
     "output_type": "stream",
     "text": [
      "/home/bsarma/anaconda3/envs/ml-zoomcamp/lib/python3.9/site-packages/sklearn/utils/deprecation.py:87: FutureWarning: Function get_feature_names is deprecated; get_feature_names is deprecated in 1.0 and will be removed in 1.2. Please use get_feature_names_out instead.\n",
      "  warnings.warn(msg, category=FutureWarning)\n"
     ]
    },
    {
     "data": {
      "text/plain": [
       "array([0.01549412], dtype=float32)"
      ]
     },
     "execution_count": 7,
     "metadata": {},
     "output_type": "execute_result"
    }
   ],
   "source": [
    "dtest = xgb.DMatrix(X, feature_names=dv.get_feature_names())\n",
    "y_pred = model.predict(dtest)\n",
    "y_pred"
   ]
  },
  {
   "cell_type": "code",
   "execution_count": null,
   "id": "96ffaa94",
   "metadata": {},
   "outputs": [],
   "source": [
    "xg_reg."
   ]
  }
 ],
 "metadata": {
  "kernelspec": {
   "display_name": "Python 3",
   "language": "python",
   "name": "python3"
  },
  "language_info": {
   "codemirror_mode": {
    "name": "ipython",
    "version": 3
   },
   "file_extension": ".py",
   "mimetype": "text/x-python",
   "name": "python",
   "nbconvert_exporter": "python",
   "pygments_lexer": "ipython3",
   "version": "3.9.13"
  }
 },
 "nbformat": 4,
 "nbformat_minor": 5
}
