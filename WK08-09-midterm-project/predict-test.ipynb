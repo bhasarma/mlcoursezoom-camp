{
 "cells": [
  {
   "cell_type": "code",
   "execution_count": 1,
   "id": "cfb7dc73",
   "metadata": {},
   "outputs": [],
   "source": [
    "import requests"
   ]
  },
  {
   "cell_type": "code",
   "execution_count": 2,
   "id": "99190449",
   "metadata": {},
   "outputs": [],
   "source": [
    "url = 'http://localhost:9696/predict'"
   ]
  },
  {
   "cell_type": "code",
   "execution_count": 13,
   "id": "188ceacf",
   "metadata": {},
   "outputs": [],
   "source": [
    "customer = {\n",
    "\n",
    "\t\"Id\": 2101,\n",
    "\t\"age\": 25.0,\n",
    "\t\"job\": \"blue-collar\",\n",
    "\t\"marital\": \"married\",\n",
    "\t\"education\": \"secondary\",\n",
    "\t\"default\": \"no\",\n",
    "\t\"balance\": 674.0,\n",
    "\t\"housing\": \"yes\",\n",
    "\t\"loan\": \"no\",\n",
    "\t\"contact\": \"unknown\",\n",
    "\t\"day\": 5,\n",
    "\t\"month\": \"may\",\n",
    "\t\"duration\": 257,\n",
    "\t\"campaign\": 1,\n",
    "\t\"pdays\": -1,\n",
    "\t\"previous\": 0,\n",
    "\t\"poutcome\": \"unknown\",\n",
    "}"
   ]
  },
  {
   "cell_type": "code",
   "execution_count": 14,
   "id": "6bd9ca03",
   "metadata": {},
   "outputs": [
    {
     "data": {
      "text/plain": [
       "{'Id': 2101,\n",
       " 'age': 25.0,\n",
       " 'job': 'blue-collar',\n",
       " 'marital': 'married',\n",
       " 'education': 'secondary',\n",
       " 'default': 'no',\n",
       " 'balance': 674.0,\n",
       " 'housing': 'yes',\n",
       " 'loan': 'no',\n",
       " 'contact': 'unknown',\n",
       " 'day': 5,\n",
       " 'month': 'may',\n",
       " 'duration': 257,\n",
       " 'campaign': 1,\n",
       " 'pdays': -1,\n",
       " 'previous': 0,\n",
       " 'poutcome': 'unknown'}"
      ]
     },
     "execution_count": 14,
     "metadata": {},
     "output_type": "execute_result"
    }
   ],
   "source": [
    "customer"
   ]
  },
  {
   "cell_type": "code",
   "execution_count": 15,
   "id": "3586e655",
   "metadata": {},
   "outputs": [
    {
     "data": {
      "text/plain": [
       "<Response [200]>"
      ]
     },
     "execution_count": 15,
     "metadata": {},
     "output_type": "execute_result"
    }
   ],
   "source": [
    "requests.post(url, json = customer)"
   ]
  },
  {
   "cell_type": "code",
   "execution_count": 16,
   "id": "bd43bf53",
   "metadata": {},
   "outputs": [
    {
     "data": {
      "text/plain": [
       "{'subscription': False, 'subscription_probability': 0.02500000037252903}"
      ]
     },
     "execution_count": 16,
     "metadata": {},
     "output_type": "execute_result"
    }
   ],
   "source": [
    "response = requests.post(url, json = customer).json()\n",
    "response"
   ]
  },
  {
   "cell_type": "code",
   "execution_count": 17,
   "id": "a152d554",
   "metadata": {},
   "outputs": [
    {
     "name": "stdout",
     "output_type": "stream",
     "text": [
      "Customer 2101 will not buy subscription\n"
     ]
    }
   ],
   "source": [
    "if response['subscription'] == False:\n",
    "    print('Customer %s will not buy subscription' %(customer['Id']))\n",
    "else:\n",
    "    print('Customer %s will buy subscription' %(customer['Id']))"
   ]
  },
  {
   "cell_type": "code",
   "execution_count": null,
   "id": "e41734fd",
   "metadata": {},
   "outputs": [],
   "source": []
  }
 ],
 "metadata": {
  "kernelspec": {
   "display_name": "Python 3",
   "language": "python",
   "name": "python3"
  },
  "language_info": {
   "codemirror_mode": {
    "name": "ipython",
    "version": 3
   },
   "file_extension": ".py",
   "mimetype": "text/x-python",
   "name": "python",
   "nbconvert_exporter": "python",
   "pygments_lexer": "ipython3",
   "version": "3.9.13"
  }
 },
 "nbformat": 4,
 "nbformat_minor": 5
}
